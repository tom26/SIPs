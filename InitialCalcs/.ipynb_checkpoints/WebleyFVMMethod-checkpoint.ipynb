{
 "cells": [
  {
   "cell_type": "markdown",
   "metadata": {},
   "source": [
    "# Webley's FVM Method "
   ]
  },
  {
   "cell_type": "markdown",
   "metadata": {},
   "source": [
    "In which I implement an FVM method described in Webley and He, 2000, *Fast Solution-adaptive finite volume method for PSA/VSA cycle simulation; 1 single-step simulation*."
   ]
  },
  {
   "cell_type": "code",
   "execution_count": 217,
   "metadata": {
    "collapsed": false
   },
   "outputs": [
    {
     "name": "stderr",
     "output_type": "stream",
     "text": [
      "WARNING: Method definition dYdt(Any, Any) in module Main at In[216]:12 overwritten at In[217]:12.\n",
      "WARNING: Method definition ICs(Any) in module Main at In[216]:21 overwritten at In[217]:21.\n",
      "WARNING: Method definition DefineSystem(Any) in module Main at In[172]:21 overwritten at In[217]:34.\n",
      "WARNING: Method definition VelocityInteriorFunc(Any, Any, Any, Any, Any, Any, Any, Any) in module Main at In[172]:36 overwritten at In[217]:49.\n",
      "WARNING: Method definition WallValsInterior(Any, Any, Any, Any, Any) in module Main at In[172]:47 overwritten at In[217]:60.\n",
      "WARNING: Method definition WallValsBC(Any, Any, Any, Any, Any, Any, Any, Any, Any, Any, Any, Any, Any) in module Main at In[172]:85 overwritten at In[217]:98.\n",
      "WARNING: Method definition neqfunc(Any, Any, Any) in module Main at In[172]:111 overwritten at In[217]:124.\n",
      "WARNING: Method definition dndtfunc(Any, Any, Any, Any, Any, Any, Any) in module Main at In[172]:116 overwritten at In[217]:129.\n",
      "WARNING: Method definition maindYdt(Any, Any, Any, Any, Any, Any, Any, Any, Any, Any, Any, Any, Any, Any, Any, Any) in module Main at In[172]:121 overwritten at In[217]:134.\n",
      "WARNING: Method definition LagrangeInterpolantGenerator(Any, Any) in module Main at In[209]:4 overwritten at In[217]:146.\n"
     ]
    },
    {
     "data": {
      "text/plain": [
       "LagrangeInterpolantGenerator (generic function with 1 method)"
      ]
     },
     "execution_count": 217,
     "metadata": {},
     "output_type": "execute_result"
    }
   ],
   "source": [
    "#Call relevant libraries\n",
    "using DifferentialEquations\n",
    "using Plots\n",
    "using Roots.fzero\n",
    "\n",
    "#Define function for the ODE solver: this function will find dPdt and dy1dt, given P and y at each point. \n",
    "#Contained in this function will be all information about the discretisation of the domain, as well as\n",
    "#physical properties of the system. We consider the case in which only one component is absorbed.\n",
    "#It will itself depend on a number of external functions.\n",
    "#We start by assuming that v > 0.\n",
    "function dYdt(t,Y)\n",
    "    (L,A,ρ_b,ɛ_b,R,T,N,Δ,P,y1,n1,n2,d_p) = DefineSystem(Y)\n",
    "    vwallinterior = VelocityInteriorFunc(P,ρ_b,ɛ_b,d_p,N,Δ)\n",
    "    (Pwallinterior,y1wallinterior) = WallValsInterior(P,)\n",
    "    (Pwall,y1wall,vwall) = WallValsBC(Pwallinterior,y1wallinterior,n1wallinterior,vwallinterior)\n",
    "    dYdt = maindYdt(Pwall,y1wall,vwall,P,y,n1,n2,Δ,ρ_b,ɛ_b,R,T,k1,k2,K1,K2)\n",
    "    return dYdt\n",
    "end\n",
    "\n",
    "function ICs(N)\n",
    "    P0 = zeros(N);    y10 = zeros(N);    n10 = zeros(N);    n20 = zeros(N);    \n",
    "    for i = 1:N\n",
    "        P0[i]  = 101.3\n",
    "        y10[i] = 0.0\n",
    "        n10[i] = 0.0\n",
    "        n20[i] = 0.0\n",
    "    end\n",
    "    return [P0;y10;n10;n20]\n",
    "end\n",
    "\n",
    "#ode45(dYdt,ICs(N),(0.0,1.0))\n",
    "    \n",
    "function DefineSystem(Y)\n",
    "    (L,A,ρ_b,ɛ_b,R,T,d_p) = (10,1,1000,0.5,8.314,300,1e-2)  #Bed Length (m), Bed Area (m2), Bulk Density (kg/m3), Bed Voidage, Gas Constant (J/K.mol), Temperature (K), Particle Diameter (m)\n",
    "    N = 100                                            #Number of finite volumes\n",
    "    Δ = L/N                                            #Cell Length\n",
    "    P = Y[1:N]                                         #Pressures (Pa)\n",
    "    y1= Y[N+1:2N]                                      #Concentrations\n",
    "    n1= Y[2N+1:3N]                                     #Solid loading, mol/kg\n",
    "    n2= Y[3N+1:4N]                                     #Solid loading, mol/kg\n",
    "    μ_g1 = 1.8e-5; μ_g2 = 2.5e-5;                      #Viscosity of gases (Pa.s)\n",
    "    ρ_g1 = 0.044*P/(R*T); ρ_g2 = 0.028*P/(R*T);        #Density of gases (numbers are molecular weights) (kg/m3)\n",
    "    μ_g = y1*μ_g1 + (1-y1)*μ_g2                        #Mean viscosity of gas in each cell (Pa.s)\n",
    "    ρ_g = y1.*ρ_g1 + (1-y1).*ρ_g2                      #Mean density of gas in each cell (kg/m3)\n",
    "    return (L,A,ρ_b,ɛ_b,R,T,N,Δ,P,y1,n1,n2,d_p)\n",
    "end\n",
    "\n",
    "function VelocityInteriorFunc(P,ρ_b,ɛ_b,d_p,N,Δ,ρ_g,μ_g)\n",
    "    vwall = zeros(N+1)\n",
    "    dPdzinteriortemp = [0;[(P[i] - P[i-1])/Δ for i in 2:N];0]\n",
    "    for i = 2:N\n",
    "        ρ_gwall = (ρ_g[i]+ρ_g[i-1])/2; μ_gwall = (μ_g[i]+μ_g[i-1])/2;  #Density and viscosity at wall (kg/m3;Pa.s)\n",
    "        f(u) = dPdzinteriortemp[i] + 1.75*(1-ɛ_b)*ρ_gwall/(ɛ_b*d_p)*u^2 + 12μ_gwall*(1-ɛ_b)^2/(ɛ^2d_p^2)*u  #Ergun Equation\n",
    "        vwallinterior[i] = fzero(f,1.0)/ɛ_b        #Interstitial velocity at wall (m/s)\n",
    "    end\n",
    "    return vwallinterior\n",
    "end\n",
    "    \n",
    "function WallValsInterior(P,y1,N,Δ,vwallinterior)\n",
    "    Pwallinterior = zeros(N+1);   y1wallinterior = zeros(N+1);      \n",
    "    #Assume v>0 Calculate rj values\n",
    "    rP  = [0;[( P[j]- P[j-1])/( P[j+1]- P[j]) for j in 2:N-1];0]\n",
    "    ry1 = [0;[(y1[j]-y1[j-1])/(y1[j+1]-y1[j]) for j in 2:N-1];0]\n",
    "    Pwallquadinterior  = [0; P[1];[1/8*(3* P[j]+6* P[j-1]- P[j-2]) for j in 3:N];0]\n",
    "    y1wallquadinterior = [0;y1[1];[1/8*(3*y1[j]+6*y1[j-1]-y1[j-2]) for j in 3:N];0]\n",
    "    Pwallupinterior  = [0;[ P[j-1] for j in 2:N];0]\n",
    "    y1wallupinterior = [0;[y1[j-1] for j in 2:N];0]\n",
    "    K1 = 10; K2 = 1;\n",
    "    for i = 2:N\n",
    "        if rP[i] < 0\n",
    "            Pwallinterior[i] = Pwallupinterior[i]\n",
    "        elseif rP[i] < 5\n",
    "            Pwallinterior[i] = (Pwallquadinterior[i] - Pwallupinterior[i])*(1-exp(-K1*rP[i])) + Pwallupinterior[i]\n",
    "        elseif rP[i] < 10\n",
    "            Pwallinterior[i] = (Pwallquadinterior[i] - Pwallupinterior[i])*exp(-K2*(rP[i]-5)) + Pwallupinterior[i]\n",
    "        else\n",
    "            Pwallinterior[i] = Pwallupinterior[i]\n",
    "        end\n",
    "    end\n",
    "    for i = 2:N\n",
    "        if ry1[i] < 0\n",
    "            y1wallinterior[i] = y1wallupinterior[i]\n",
    "        elseif ry1[i] < 5\n",
    "            y1wallinterior[i] = (y1wallquadinterior[i] - y1wallupinterior[i])*(1-exp(-K1*ry1[i])) + y1wallupinterior[i]\n",
    "        elseif ry1[i] < 10\n",
    "            y1wallinterior[i] = (y1wallquadinterior[i] - y1wallupinterior[i])*exp(-K2*(ry1[i]-5)) + y1wallupinterior[i]\n",
    "        else\n",
    "            y1wallinterior[i] = y1wallupinterior[i]\n",
    "        end\n",
    "    end\n",
    "    return (Pwallinterior,y1wallinterior)\n",
    "end\n",
    "\n",
    "\n",
    "function WallValsBC(P,y1,Pwallinterior,y1wallinterior,vwallinterior,A,ɛ_b,ρ_g,μ_g,d_p,Δ,L,N)\n",
    "    #I'm going to model a simple system, with constant concentration and volumetric flow rate at the inlet,\n",
    "    #and constant pressure at the outlet.\n",
    "    y1in = 0.2;  #Inlet mole fraction\n",
    "    Qin = 1;       #Inlet volumetric flow rate, m3/s\n",
    "    Pout = 101300  #Outlet Pressure, Pa\n",
    "    y1wall = y1wallinterior; Pwall = Pwallinterior; vwall = vwallinterior;\n",
    "    \n",
    "    #Inlet Conditions - constant volume\n",
    "    y1wall[1] = y1in\n",
    "    vwall[1] = Qin/(A*ɛ_b)\n",
    "    dPdzinlet = -(1.75*(1-ɛ_b)*ρ_g[1]/(ɛ_b*d_p)*vwallinterior[1]^2*ɛ_b^2 + 12μ_g[1]*(1-ɛ_b)^2/(ɛ^2d_p^2)*vwallinterior*ɛ_b)\n",
    "    Pwall[1] = P[1] - Δ/2 * dPdzinlet\n",
    "    \n",
    "    #Outlet Conditions - constant pressure\n",
    "    Pwall[N+1] = Pout\n",
    "    dPdzoutlet = (Pout - P[N])/(Δ/2)\n",
    "    f(u) = dPdzoutlet + 1.75*(1-ɛ_b)*ρ_g[N]/(ɛ_b*d_p)*u^2 + 12μ_g[N]*(1-ɛ_b)^2/(ɛ^2d_p^2)*u  #Ergun Equation\n",
    "    vwall[N+1] = fzero(f,1.0)/ɛ_b        #Interstitial velocity at wall (m/s)\n",
    "    #Use Lagrange interpolant for y values.\n",
    "    xvalsforLagrangeInterpolant = N*[Δ-2.5,Δ-1.5,Δ-0.5]\n",
    "    yvalsforLagrangeInterpolant = [y1[N-2],y1[N-1],y1[N]]\n",
    "    y1interpolant = LagrangeInterpolantGeneratorenerator(xvalsforLagrangeInterpolant,yvalsforLagrangeInterpolant)\n",
    "    y1wall[N+1] = y1interpolant(L)\n",
    "    return (Pwall,y1wall,vwall)\n",
    "end\n",
    "\n",
    "#Isotherm Function for n1eq and n2eq\n",
    "function neqfunc(y1,K1,K2)\n",
    "    return [y1*K1,(1-y1)*K2]\n",
    "end\n",
    "\n",
    "#LDF model for dn1dt and dn2dt\n",
    "function dndtfunc(y1,n1,n2,k1,k2,K1,K2)\n",
    "    (n1eq,n2eq) = neqfunc(y1,K1,K2)\n",
    "    return [k1*(n1eq-n1),k2*(n2eq-n2)]\n",
    "end\n",
    "\n",
    "function maindYdt(Pwall,y1wall,vwall,P,y,n1,n2,Δ,ρ_b,ɛ_b,R,T,k1,k2,K1,K2)\n",
    "    dPdt = zeros(N);    dy1dt = zeros(N);    dn1dt = zeros(N);    dn2dt = zeros(N);\n",
    "    for i = 1:N\n",
    "        (dn1dt[i],dn2dt[i]) = dndtfunc(y1[i],n1,n2,k1,k2,K1,K2)\n",
    "        dPdt[i]  = 1/Δ(vwall[i-1]*Pwall[i-1]-vwall[i]*Pwall[i]) - ρ_b*R*T/ɛ_b*(dn1dt[i]+dn2dt[i])\n",
    "        dy1dt[i] = 1/(ΔP[i])*(vwall[i-1]*Pwall[i-1]*y[i-1]-vwall[i]*Pwall[i]*y[i]) - ρ_b*R*T/ɛ_b*(dn1dt[i]) - y1[i]/P[i]*dPdt[i]\n",
    "    end\n",
    "    return [dPdt;dy1dt;dn1dt;dn2dt]\n",
    "end\n",
    "\n",
    "#This function, which could be handy in other contexts, returns another function, which is the Lagrange Interpolant\n",
    "#of the values xvals and yvals.\n",
    "function LagrangeInterpolantGenerator(xvals,yvals)\n",
    "    function LagrangeInterpolant(x)\n",
    "        numvalstoevaluate = length(x)\n",
    "        numvalstoevaluate == 1 ? output = 0 : output = zeros(numvalstoevaluate)\n",
    "        for k = 1:numvalstoevaluate\n",
    "            N = length(xvals)\n",
    "            LagrangePolynomials = ones(N)\n",
    "            for i in 1:N  \n",
    "                for j in [1:i-1;i+1:N]     #Surprisingly, this works even in the i=1 and i=N cases.\n",
    "                    LagrangePolynomials[i] = LagrangePolynomials[i].*(x[k]-xvals[j])./(xvals[i]-xvals[j])\n",
    "                end\n",
    "            end\n",
    "            numvalstoevaluate == 1 ? output = sum(LagrangePolynomials.*yvals) : output[k] = sum(LagrangePolynomials.*yvals)\n",
    "        end\n",
    "        return output\n",
    "    end\n",
    "    return LagrangeInterpolant\n",
    "end"
   ]
  },
  {
   "cell_type": "code",
   "execution_count": 25,
   "metadata": {
    "collapsed": false
   },
   "outputs": [
    {
     "data": {
      "text/plain": [
       "3-element Array{Int64,1}:\n",
       "  4\n",
       " 10\n",
       " 18"
      ]
     },
     "execution_count": 25,
     "metadata": {},
     "output_type": "execute_result"
    }
   ],
   "source": [
    "[1;2,3].*[4,5,6]"
   ]
  },
  {
   "cell_type": "code",
   "execution_count": 26,
   "metadata": {
    "collapsed": false
   },
   "outputs": [
    {
     "data": {
      "text/plain": [
       "3-element Array{Int64,1}:\n",
       "  4\n",
       " 10\n",
       " 18"
      ]
     },
     "execution_count": 26,
     "metadata": {},
     "output_type": "execute_result"
    }
   ],
   "source": [
    "[1;2;3].*[4;5;6]"
   ]
  },
  {
   "cell_type": "code",
   "execution_count": 6,
   "metadata": {
    "collapsed": false
   },
   "outputs": [
    {
     "data": {
      "text/plain": [
       "5"
      ]
     },
     "execution_count": 6,
     "metadata": {},
     "output_type": "execute_result"
    }
   ],
   "source": [
    "a = 1\n",
    "b = 2\n",
    "c = 3\n",
    "\n",
    "a>0 ? (b>3 ? d = 4 : d = 5) : d = 2"
   ]
  },
  {
   "cell_type": "code",
   "execution_count": 7,
   "metadata": {
    "collapsed": false
   },
   "outputs": [
    {
     "data": {
      "text/plain": [
       "5"
      ]
     },
     "execution_count": 7,
     "metadata": {},
     "output_type": "execute_result"
    }
   ],
   "source": [
    "d"
   ]
  },
  {
   "cell_type": "code",
   "execution_count": 8,
   "metadata": {
    "collapsed": false
   },
   "outputs": [
    {
     "name": "stderr",
     "output_type": "stream",
     "text": [
      "\u001b[1m\u001b[34mINFO: Cloning cache of AxisAlgorithms from https://github.com/timholy/AxisAlgorithms.jl.git\n",
      "\u001b[0m\u001b[1m\u001b[34mINFO: Cloning cache of Interpolations from https://github.com/JuliaMath/Interpolations.jl.git\n",
      "\u001b[0m\u001b[1m\u001b[34mINFO: Cloning cache of Ratios from https://github.com/timholy/Ratios.jl.git\n",
      "\u001b[0m\u001b[1m\u001b[34mINFO: Cloning cache of ShowItLikeYouBuildIt from https://github.com/JuliaArrays/ShowItLikeYouBuildIt.jl.git\n",
      "\u001b[0m\u001b[1m\u001b[34mINFO: Cloning cache of WoodburyMatrices from https://github.com/timholy/WoodburyMatrices.jl.git\n",
      "\u001b[0m\u001b[1m\u001b[34mINFO: Installing AxisAlgorithms v0.1.6\n",
      "\u001b[0m\u001b[1m\u001b[34mINFO: Installing Interpolations v0.5.0\n",
      "\u001b[0m\u001b[1m\u001b[34mINFO: Installing Ratios v0.0.4\n",
      "\u001b[0m\u001b[1m\u001b[34mINFO: Installing ShowItLikeYouBuildIt v0.0.1\n",
      "\u001b[0m\u001b[1m\u001b[34mINFO: Installing WoodburyMatrices v0.2.2\n",
      "\u001b[0m\u001b[1m\u001b[34mINFO: Package database updated\n",
      "\u001b[0m\u001b[1m\u001b[34mINFO: METADATA is out-of-date — you may not have the latest version of Interpolations\n",
      "\u001b[0m\u001b[1m\u001b[34mINFO: Use `Pkg.update()` to get the latest versions of your packages\n",
      "\u001b[0m"
     ]
    }
   ],
   "source": [
    "Pkg.add(\"Interpolations\")"
   ]
  },
  {
   "cell_type": "code",
   "execution_count": 13,
   "metadata": {
    "collapsed": false
   },
   "outputs": [
    {
     "name": "stderr",
     "output_type": "stream",
     "text": [
      "WARNING: Method definition f(Any) in module Main at In[12]:4 overwritten at In[13]:1.\n",
      "WARNING: Method definition fold(Any) in module Main at In[13]:2 overwritten at In[13]:4.\n",
      "WARNING: Method definition f(Any) in module Main at In[13]:1 overwritten at In[13]:5.\n",
      "WARNING: Method definition fold(Any) in module Main at In[13]:4 overwritten at In[13]:4.\n",
      "WARNING: Method definition f(Any) in module Main at In[13]:5 overwritten at In[13]:5.\n",
      "WARNING: Method definition fold(Any) in module Main at In[13]:4 overwritten at In[13]:4.\n",
      "WARNING: Method definition f(Any) in module Main at In[13]:5 overwritten at In[13]:5.\n",
      "WARNING: Method definition fold(Any) in module Main at In[13]:4 overwritten at In[13]:4.\n",
      "WARNING: Method definition f(Any) in module Main at In[13]:5 overwritten at In[13]:5.\n",
      "WARNING: Method definition fold(Any) in module Main at In[13]:4 overwritten at In[13]:4.\n",
      "WARNING: Method definition f(Any) in module Main at In[13]:5 overwritten at In[13]:5.\n",
      "WARNING: Method definition fold(Any) in module Main at In[13]:4 overwritten at In[13]:4.\n",
      "WARNING: Method definition f(Any) in module Main at In[13]:5 overwritten at In[13]:5.\n",
      "WARNING: Method definition fold(Any) in module Main at In[13]:4 overwritten at In[13]:4.\n",
      "WARNING: Method definition f(Any) in module Main at In[13]:5 overwritten at In[13]:5.\n",
      "WARNING: Method definition fold(Any) in module Main at In[13]:4 overwritten at In[13]:4.\n",
      "WARNING: Method definition f(Any) in module Main at In[13]:5 overwritten at In[13]:5.\n",
      "WARNING: Method definition fold(Any) in module Main at In[13]:4 overwritten at In[13]:4.\n",
      "WARNING: Method definition f(Any) in module Main at In[13]:5 overwritten at In[13]:5.\n",
      "WARNING: Method definition fold(Any) in module Main at In[13]:4 overwritten at In[13]:4.\n",
      "WARNING: Method definition f(Any) in module Main at In[13]:5 overwritten at In[13]:5.\n"
     ]
    },
    {
     "ename": "LoadError",
     "evalue": "StackOverflowError:",
     "output_type": "error",
     "traceback": [
      "StackOverflowError:",
      "",
      " in fold(::Float64) at ./In[13]:0",
      " in fold(::Float64) at ./In[13]:4 (repeats 79999 times)"
     ]
    }
   ],
   "source": [
    "f(x) = x^2\n",
    "fold(x) = 1\n",
    "for i = 1:10\n",
    "    fold(x) = f(x)\n",
    "    f(x) = fold(x) + 1\n",
    "end\n",
    "fold(3.0)"
   ]
  },
  {
   "cell_type": "code",
   "execution_count": 4,
   "metadata": {
    "collapsed": false
   },
   "outputs": [],
   "source": [
    "using Plots"
   ]
  },
  {
   "cell_type": "code",
   "execution_count": 31,
   "metadata": {
    "collapsed": false
   },
   "outputs": [
    {
     "data": {
      "text/plain": [
       "5-element interpolate((::Array{Int64,1},), ::Array{Int64,1}, Gridded(Linear())) with element type Float64:\n",
       " 1.0    \n",
       " 2.0    \n",
       " 3.0    \n",
       " 4.0    \n",
       " 4.33333"
      ]
     },
     "execution_count": 31,
     "metadata": {},
     "output_type": "execute_result"
    }
   ],
   "source": [
    "\n",
    "itp = interpolate(([1,2,3,4,7],),[1;2;3;4;5],Gridded(Linear()))\n"
   ]
  },
  {
   "cell_type": "code",
   "execution_count": 38,
   "metadata": {
    "collapsed": false
   },
   "outputs": [
    {
     "data": {
      "text/plain": [
       "5.666666666666667"
      ]
     },
     "execution_count": 38,
     "metadata": {},
     "output_type": "execute_result"
    }
   ],
   "source": [
    "itp[9]"
   ]
  },
  {
   "cell_type": "code",
   "execution_count": 22,
   "metadata": {
    "collapsed": false
   },
   "outputs": [
    {
     "data": {
      "text/plain": [
       "([1.0,2.0,3.0,5.0,9.0],)"
      ]
     },
     "execution_count": 22,
     "metadata": {},
     "output_type": "execute_result"
    }
   ],
   "source": [
    "([1.0;2;3;5;9],)"
   ]
  },
  {
   "cell_type": "code",
   "execution_count": 24,
   "metadata": {
    "collapsed": false
   },
   "outputs": [
    {
     "data": {
      "text/plain": [
       "5-element Array{Int64,1}:\n",
       " 1\n",
       " 2\n",
       " 3\n",
       " 4\n",
       " 5"
      ]
     },
     "execution_count": 24,
     "metadata": {},
     "output_type": "execute_result"
    }
   ],
   "source": [
    "[1;2;3;4;5]"
   ]
  },
  {
   "cell_type": "code",
   "execution_count": 39,
   "metadata": {
    "collapsed": false
   },
   "outputs": [
    {
     "name": "stderr",
     "output_type": "stream",
     "text": [
      "WARNING: using ApproxFun.Line in module Main conflicts with an existing identifier.\n",
      "WARNING: using ApproxFun.extrapolate in module Main conflicts with an existing identifier.\n"
     ]
    }
   ],
   "source": [
    "using ApproxFun"
   ]
  },
  {
   "cell_type": "code",
   "execution_count": 41,
   "metadata": {
    "collapsed": false
   },
   "outputs": [
    {
     "data": {
      "text/plain": [
       "Fun(Chebyshev(【0.0,1.0】),[0.5,0.5])"
      ]
     },
     "execution_count": 41,
     "metadata": {},
     "output_type": "execute_result"
    }
   ],
   "source": [
    "f = Fun(identity,0..1)"
   ]
  },
  {
   "cell_type": "code",
   "execution_count": 14,
   "metadata": {
    "collapsed": false
   },
   "outputs": [
    {
     "data": {
      "text/plain": [
       "1"
      ]
     },
     "execution_count": 14,
     "metadata": {},
     "output_type": "execute_result"
    }
   ],
   "source": [
    "i = 1"
   ]
  },
  {
   "cell_type": "code",
   "execution_count": 18,
   "metadata": {
    "collapsed": false
   },
   "outputs": [
    {
     "data": {
      "text/plain": [
       "\"This is a 1\""
      ]
     },
     "execution_count": 18,
     "metadata": {},
     "output_type": "execute_result"
    }
   ],
   "source": [
    "\"This is a $i\""
   ]
  },
  {
   "cell_type": "code",
   "execution_count": 37,
   "metadata": {
    "collapsed": false
   },
   "outputs": [
    {
     "name": "stderr",
     "output_type": "stream",
     "text": [
      "WARNING: Method definition l1(Any) in module Main at In[35]:3 overwritten at In[37]:3.\n"
     ]
    },
    {
     "data": {
      "text/plain": [
       "l1 (generic function with 1 method)"
      ]
     },
     "execution_count": 37,
     "metadata": {},
     "output_type": "execute_result"
    }
   ],
   "source": [
    "xvals = [1,2,3]; yvals = [2,5,8]\n",
    "function l1(x)\n",
    "    temp = ones(length(x))\n",
    "    for i = [1,2]\n",
    "        temp = temp.*(x-xvals[i])./(xvals[3]-xvals[i])\n",
    "    end\n",
    "    return temp\n",
    "end\n",
    "\n"
   ]
  },
  {
   "cell_type": "code",
   "execution_count": 38,
   "metadata": {
    "collapsed": false
   },
   "outputs": [
    {
     "data": {
      "text/html": [
       "<img src=\"data:image/png;base64,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\" />"
      ]
     },
     "execution_count": 38,
     "metadata": {},
     "output_type": "execute_result"
    }
   ],
   "source": [
    "vals = linspace(0,4,100);\n",
    "plot(vals,l1(vals))"
   ]
  },
  {
   "cell_type": "code",
   "execution_count": 34,
   "metadata": {
    "collapsed": false
   },
   "outputs": [
    {
     "data": {
      "text/plain": [
       "1-element Array{Float64,1}:\n",
       " Inf"
      ]
     },
     "execution_count": 34,
     "metadata": {},
     "output_type": "execute_result"
    }
   ],
   "source": [
    "l1(2.5)"
   ]
  },
  {
   "cell_type": "code",
   "execution_count": 79,
   "metadata": {
    "collapsed": false
   },
   "outputs": [
    {
     "name": "stderr",
     "output_type": "stream",
     "text": [
      "WARNING: Method definition LagrangeInterpolant(Any, Any) in module Main at In[77]:2 overwritten at In[79]:2.\n"
     ]
    },
    {
     "data": {
      "text/plain": [
       "LagrangeInterpolant (generic function with 1 method)"
      ]
     },
     "execution_count": 79,
     "metadata": {},
     "output_type": "execute_result"
    }
   ],
   "source": [
    "function LagrangeInterpolant(xvals,yvals)\n",
    "    function tester(x)\n",
    "        N = length(xvals)\n",
    "        LagrangePolynomials = ones(N)\n",
    "        for i in 1:N  \n",
    "            for j in [1:i-1;i+1:N]     #Surprisingly, this works even in the i=1 and i=N cases.\n",
    "                LagrangePolynomials[i] = LagrangePolynomials[i].*(x-xvals[i])./(xvals[j]-xvals[i])\n",
    "            end\n",
    "        end\n",
    "        return LagrangePolynomials\n",
    "    end\n",
    "    return tester(x)\n",
    "end"
   ]
  },
  {
   "cell_type": "code",
   "execution_count": 127,
   "metadata": {
    "collapsed": false
   },
   "outputs": [
    {
     "data": {
      "text/plain": [
       "tester3 (generic function with 1 method)"
      ]
     },
     "execution_count": 127,
     "metadata": {},
     "output_type": "execute_result"
    }
   ],
   "source": [
    "xvals = [1,2,3]; yvals = [2,5,7]\n",
    "function tester3(x)\n",
    "    N = length(xvals)\n",
    "    LagrangePolynomials = ones(N)\n",
    "    for i in 1:N  \n",
    "        for j in [1:i-1;i+1:N]     #Surprisingly, this works even in the i=1 and i=N cases.\n",
    "            LagrangePolynomials[i] = LagrangePolynomials[i].*(x-xvals[j])./(xvals[j]-xvals[i])\n",
    "        end\n",
    "    end\n",
    "    return sum(LagrangePolynomials.*yvals)\n",
    "end\n"
   ]
  },
  {
   "cell_type": "code",
   "execution_count": 195,
   "metadata": {
    "collapsed": false
   },
   "outputs": [
    {
     "data": {
      "text/plain": [
       "(::LagrangeInterpolant) (generic function with 1 method)"
      ]
     },
     "execution_count": 195,
     "metadata": {},
     "output_type": "execute_result"
    }
   ],
   "source": [
    "x = linspace(0,10,3); sinx = sin(x);\n",
    "a = LagrangeInterpolantGenerator(x,sin(x))"
   ]
  },
  {
   "cell_type": "code",
   "execution_count": 196,
   "metadata": {
    "collapsed": false
   },
   "outputs": [
    {
     "data": {
      "text/html": [
       "<img src=\"data:image/png;base64,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\" />"
      ]
     },
     "execution_count": 196,
     "metadata": {},
     "output_type": "execute_result"
    }
   ],
   "source": [
    "xx = linspace(-0.7,10.7,500)\n",
    "plot(xx,a(xx))"
   ]
  },
  {
   "cell_type": "code",
   "execution_count": null,
   "metadata": {
    "collapsed": true
   },
   "outputs": [],
   "source": []
  },
  {
   "cell_type": "code",
   "execution_count": 80,
   "metadata": {
    "collapsed": false
   },
   "outputs": [
    {
     "ename": "LoadError",
     "evalue": "UndefVarError: x not defined",
     "output_type": "error",
     "traceback": [
      "UndefVarError: x not defined",
      "",
      " in LagrangeInterpolant(::Array{Int64,1}, ::Array{Int64,1}) at ./In[79]:12"
     ]
    }
   ],
   "source": [
    "a = LagrangeInterpolant([1,2,3],[2,5,8])"
   ]
  },
  {
   "cell_type": "code",
   "execution_count": 112,
   "metadata": {
    "collapsed": false
   },
   "outputs": [
    {
     "name": "stderr",
     "output_type": "stream",
     "text": [
      "WARNING: Method definition test(Any) in module Main at In[108]:2 overwritten at In[112]:2.\n"
     ]
    },
    {
     "data": {
      "text/plain": [
       "test (generic function with 1 method)"
      ]
     },
     "execution_count": 112,
     "metadata": {},
     "output_type": "execute_result"
    }
   ],
   "source": [
    "function test(x1)\n",
    "    function y(x)\n",
    "        return x1 + x\n",
    "    end\n",
    "    return y\n",
    "end"
   ]
  },
  {
   "cell_type": "code",
   "execution_count": 113,
   "metadata": {
    "collapsed": false
   },
   "outputs": [
    {
     "data": {
      "text/plain": [
       "(::y) (generic function with 1 method)"
      ]
     },
     "execution_count": 113,
     "metadata": {},
     "output_type": "execute_result"
    }
   ],
   "source": [
    "a = test(3)"
   ]
  },
  {
   "cell_type": "code",
   "execution_count": 115,
   "metadata": {
    "collapsed": false
   },
   "outputs": [
    {
     "data": {
      "text/plain": [
       "7"
      ]
     },
     "execution_count": 115,
     "metadata": {},
     "output_type": "execute_result"
    }
   ],
   "source": [
    "a(4)"
   ]
  },
  {
   "cell_type": "code",
   "execution_count": 65,
   "metadata": {
    "collapsed": false
   },
   "outputs": [
    {
     "data": {
      "text/plain": [
       "5-element Array{Int64,1}:\n",
       " 2\n",
       " 3\n",
       " 4\n",
       " 5\n",
       " 6"
      ]
     },
     "execution_count": 65,
     "metadata": {},
     "output_type": "execute_result"
    }
   ],
   "source": [
    "i = 1; N = 6\n",
    "[1:i-1;i+1:N]"
   ]
  },
  {
   "cell_type": "code",
   "execution_count": 158,
   "metadata": {
    "collapsed": false
   },
   "outputs": [
    {
     "name": "stderr",
     "output_type": "stream",
     "text": [
      "WARNING: Method definition LagrangeInterpolantGenerator(Any, Any) in module Main at In[150]:2 overwritten at In[158]:2.\n"
     ]
    },
    {
     "data": {
      "text/plain": [
       "LagrangeInterpolantGenerator (generic function with 1 method)"
      ]
     },
     "execution_count": 158,
     "metadata": {},
     "output_type": "execute_result"
    }
   ],
   "source": [
    "function LagrangeInterpolantGenerator(xvals,yvals)\n",
    "    function LagrangeInterpolant(x)\n",
    "        numvalstoevaluate = length(x)\n",
    "        numvalstoevaluate == 1 ? output = 0 : output = zeros(numvalstoevaluate)\n",
    "        for k = 1:numvalstoevaluate\n",
    "            N = length(xvals)\n",
    "            LagrangePolynomials = ones(N)\n",
    "            for i in 1:N  \n",
    "                for j in [1:i-1;i+1:N]     #Surprisingly, this works even in the i=1 and i=N cases.\n",
    "                    LagrangePolynomials[i] = LagrangePolynomials[i].*(x[k]-xvals[j])./(xvals[j]-xvals[i])\n",
    "                end\n",
    "            end\n",
    "            numvalstoevaluate == 1 ? output = sum(LagrangePolynomials.*yvals) : output[k] = sum(LagrangePolynomials.*yvals)\n",
    "        end\n",
    "        return output\n",
    "    end\n",
    "    return LagrangeInterpolant\n",
    "end\n"
   ]
  },
  {
   "cell_type": "code",
   "execution_count": 164,
   "metadata": {
    "collapsed": false
   },
   "outputs": [
    {
     "data": {
      "text/plain": [
       "(::LagrangeInterpolant) (generic function with 1 method)"
      ]
     },
     "execution_count": 164,
     "metadata": {},
     "output_type": "execute_result"
    }
   ],
   "source": [
    "a = LagrangeInterpolantGenerator([1,2,3],[2,5,11])"
   ]
  },
  {
   "cell_type": "code",
   "execution_count": 165,
   "metadata": {
    "collapsed": false
   },
   "outputs": [
    {
     "data": {
      "text/html": [
       "<img src=\"data:image/png;base64,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\" />"
      ]
     },
     "execution_count": 165,
     "metadata": {},
     "output_type": "execute_result"
    }
   ],
   "source": [
    "x = linspace(0,6,100)\n",
    "plot(x,a(x))"
   ]
  },
  {
   "cell_type": "code",
   "execution_count": 167,
   "metadata": {
    "collapsed": false
   },
   "outputs": [
    {
     "data": {
      "text/plain": [
       "test (generic function with 2 methods)"
      ]
     },
     "execution_count": 167,
     "metadata": {},
     "output_type": "execute_result"
    }
   ],
   "source": [
    "function test()\n",
    "    return 1\n",
    "end"
   ]
  },
  {
   "cell_type": "code",
   "execution_count": 170,
   "metadata": {
    "collapsed": false
   },
   "outputs": [
    {
     "data": {
      "text/html": [
       "1"
      ],
      "text/plain": [
       "1"
      ]
     },
     "execution_count": 170,
     "metadata": {},
     "output_type": "execute_result"
    }
   ],
   "source": [
    "a = test()\n",
    "a"
   ]
  },
  {
   "cell_type": "code",
   "execution_count": 171,
   "metadata": {
    "collapsed": false
   },
   "outputs": [
    {
     "data": {
      "text/html": [
       "1"
      ],
      "text/plain": [
       "1"
      ]
     },
     "execution_count": 171,
     "metadata": {},
     "output_type": "execute_result"
    }
   ],
   "source": [
    "a"
   ]
  },
  {
   "cell_type": "code",
   "execution_count": 235,
   "metadata": {
    "collapsed": false
   },
   "outputs": [
    {
     "name": "stderr",
     "output_type": "stream",
     "text": [
      "WARNING: Method definition LagrangeInterpolantGenerator(Any, Any) in module Main at In[217]:146 overwritten at In[235]:4.\n"
     ]
    },
    {
     "data": {
      "text/html": [
       "<img src=\"data:image/png;base64,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\" />"
      ]
     },
     "execution_count": 235,
     "metadata": {},
     "output_type": "execute_result"
    }
   ],
   "source": [
    "\n",
    "#This function returns another function, which is the Lagrange Interpolant of the values xvals and yvals.\n",
    "function LagrangeInterpolantGenerator(xvals,yvals)\n",
    "    function LagrangeInterpolant(x)\n",
    "        numvalstoevaluate = length(x)\n",
    "        numvalstoevaluate == 1 ? output = 0 : output = zeros(numvalstoevaluate)\n",
    "        for k = 1:numvalstoevaluate\n",
    "            N = length(xvals)\n",
    "            LagrangePolynomials = ones(N)\n",
    "            for i in 1:N  \n",
    "                for j in [1:i-1;i+1:N]     #Surprisingly, this works even in the i=1 and i=N cases.\n",
    "                    LagrangePolynomials[i] = LagrangePolynomials[i].*(x[k]-xvals[j])./(xvals[i]-xvals[j])\n",
    "                end\n",
    "            end\n",
    "            numvalstoevaluate == 1 ? output = sum(LagrangePolynomials.*yvals) : output[k] = sum(LagrangePolynomials.*yvals)\n",
    "        end\n",
    "        return output\n",
    "    end\n",
    "    return LagrangeInterpolant\n",
    "end\n",
    "\n",
    "#Examples\n",
    "interpolantfunc = LagrangeInterpolantGenerator([1.0,2.0,3.0],[4.0,2.0,8.0])\n",
    "interpolantfunc(2.0)   #returns 2.0\n",
    "interpolantfunc(3.0)   #returns 8.0\n",
    "interpolantfunc(1.5)   #returns 8.0\n",
    "plot(linspace(1,4,100),interpolantfunc(linspace(1,4,100)))"
   ]
  },
  {
   "cell_type": "code",
   "execution_count": 236,
   "metadata": {
    "collapsed": false
   },
   "outputs": [
    {
     "data": {
      "text/html": [
       "4.0"
      ],
      "text/plain": [
       "4.0"
      ]
     },
     "execution_count": 236,
     "metadata": {},
     "output_type": "execute_result"
    }
   ],
   "source": [
    "interpolantfunc(1.0)   #returns 8.0"
   ]
  },
  {
   "cell_type": "code",
   "execution_count": 252,
   "metadata": {
    "collapsed": false
   },
   "outputs": [
    {
     "data": {
      "text/plain": [
       "(::LagrangeInterpolant) (generic function with 1 method)"
      ]
     },
     "execution_count": 252,
     "metadata": {},
     "output_type": "execute_result"
    }
   ],
   "source": [
    "interpolantfunc2 = LagrangeInterpolantGenerator([0.0,1.0,2.0,3.0,5.0],[-100.0,4.0,2.0,38.0,-50000000.0])"
   ]
  },
  {
   "cell_type": "code",
   "execution_count": 253,
   "metadata": {
    "collapsed": false
   },
   "outputs": [
    {
     "data": {
      "text/html": [
       "<img src=\"data:image/png;base64,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\" />"
      ]
     },
     "execution_count": 253,
     "metadata": {},
     "output_type": "execute_result"
    }
   ],
   "source": [
    "plot(linspace(0,4,100),interpolantfunc2(linspace(0,4,100)))"
   ]
  },
  {
   "cell_type": "code",
   "execution_count": 258,
   "metadata": {
    "collapsed": false
   },
   "outputs": [
    {
     "data": {
      "text/html": [
       "5.375"
      ],
      "text/plain": [
       "5.375"
      ]
     },
     "execution_count": 258,
     "metadata": {},
     "output_type": "execute_result"
    }
   ],
   "source": [
    "interpolantfunc = LagrangeInterpolantGenerator([1.0,2.0,3.0,4.0],[4.0,2.0,8.0,0.0])\n",
    "interpolantfunc(2.0)   #returns 2.0\n",
    "interpolantfunc(3.0)   #returns 8.0\n",
    "interpolantfunc(2.5)   #returns 5.375"
   ]
  },
  {
   "cell_type": "code",
   "execution_count": null,
   "metadata": {
    "collapsed": true
   },
   "outputs": [],
   "source": []
  }
 ],
 "metadata": {
  "kernelspec": {
   "display_name": "Julia 0.5.1",
   "language": "julia",
   "name": "julia-0.5"
  },
  "language_info": {
   "file_extension": ".jl",
   "mimetype": "application/julia",
   "name": "julia",
   "version": "0.5.1"
  }
 },
 "nbformat": 4,
 "nbformat_minor": 2
}
