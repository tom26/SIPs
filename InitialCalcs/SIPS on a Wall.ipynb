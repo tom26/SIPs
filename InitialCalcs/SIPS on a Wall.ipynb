{
 "cells": [
  {
   "cell_type": "markdown",
   "metadata": {},
   "source": [
    "# We solve for the mass flux of CO2 into a SIP as a thin film on a wall "
   ]
  },
  {
   "cell_type": "markdown",
   "metadata": {},
   "source": [
    "I will use many of the same assumptions I discussed in 'Solvent Impregnated Polymers - Comparison with MECS'. In particular:\n",
    " - The dispersed solvent particles are assumed to be so small, that they do not prevent the concentration profile from being approximately one-dimensional, and absorption into these particles is treated as reaction-controlled.\n",
    " - The permeability of the polymer is assumed to be much higher than the permeability of the dispersed solvent particles, and so they do not contribute to the mass flux. \n",
    " \n",
    "Under these assumptions, the PDE describing flux into the wall is:\n",
    "\n",
    "$$\n",
    " \\frac{\\partial c}{\\partial t}  =  \\mathcal{D}_{\\text{poly}}\\frac{\\partial^2 c}{\\partial x^2} -   \\left( \\frac{(1-\\varepsilon) k\\mathcal{S}_{\\text{sol}}}{\\varepsilon\\mathcal{S}_{\\text{poly}} } \\right) c\n",
    "$$\n",
    "\n",
    "Subject to the BCs $c = mathcal{S}_{\\text{poly}}p_0$ on the boundary at $x = \\delta$, and $\\frac{\\partial c}{\\partial x} = 0$ at $x = 0$. This problem has been solvent a billion times. It has a steady-state solution which is quickly converged to. In this case, it is:\n",
    "\n",
    "$$\n",
    "c(x) = \\mathcal{S}_{\\text{poly}} p_0 \\frac{\\cosh(\\kappa x)}{\\cosh(\\kappa \\delta)}\n",
    "$$\n",
    "where\n",
    "$$\n",
    "\\kappa^2 = \\frac{1}{\\mathcal{D}_{\\text{poly}}} \\left( \\frac{(1-\\varepsilon) k\\mathcal{S}_{\\text{sol}}}{\\varepsilon\\mathcal{S}_{\\text{poly}} } \\right) =  \\left( \\frac{(1-\\varepsilon) k\\mathcal{S}_{\\text{sol}}}{\\varepsilon\\mathcal{P}_{\\text{poly}} } \\right)\n",
    "$$\n",
    "\n",
    "Now, the flux of gas into the wall is given by:\n",
    "$$\n",
    "\\text{Flux} = \\mathcal{D}_{\\text{poly}}\\frac{\\partial c}{\\partial x}\\Big|_{x=\\delta}\n",
    "$$\n",
    "And so\n",
    "$$\n",
    "\\text{Flux} = \\mathcal{P}_{\\text{poly}} p_0 \\kappa \\tanh(\\kappa \\delta)\n",
    "$$\n",
    "\n",
    "with the same $\\kappa$ as above. It is clear from the equation how we have both reaction-controlled regimes ($\\delta << x$) and diffusion controlled regimes ($\\delta >> x$)."
   ]
  },
  {
   "cell_type": "markdown",
   "metadata": {},
   "source": [
    "### A General purpose flux calculation"
   ]
  },
  {
   "cell_type": "markdown",
   "metadata": {},
   "source": [
    "As a first step, we'll create a general-purpose flux calculation. We'll then see how long the residence-time of the gas would be inside our container before 90\\% of the CO2 is removed. In a sense, this will be a calculation of the length of the MTZ. I'll need to think about this a little more. I'll then get some estimates for pressure drop. I will also want to compare the heat transfer through PDMS/solvent networks, accounting for the enthalpy of reaction that needs to be overcome. I should make these models as general as possible, so I can substitute other physical properties into them."
   ]
  },
  {
   "cell_type": "code",
   "execution_count": 52,
   "metadata": {
    "collapsed": false
   },
   "outputs": [
    {
     "name": "stderr",
     "output_type": "stream",
     "text": [
      "WARNING: Method definition FluxCartesian(Any, Any, Any, Any, Any, Any) in module Main at In[50]:2 overwritten at In[52]:2.\n",
      "WARNING: Method definition FluxSpherical(Any, Any, Any, Any, Any, Any) in module Main at In[50]:9 overwritten at In[52]:9.\n"
     ]
    },
    {
     "data": {
      "text/plain": [
       "FluxSpherical (generic function with 1 method)"
      ]
     },
     "execution_count": 52,
     "metadata": {},
     "output_type": "execute_result"
    }
   ],
   "source": [
    "function FluxCartesian(P_poly,S_sol,ɛ,k,delta,p0)\n",
    "    kappa = sqrt(((1-ɛ)*k*S_sol) / (ɛ*P_poly))\n",
    "    Flux = P_poly * p0 * kappa * tanh(kappa*delta)\n",
    "    return [Flux,kappa*delta]\n",
    "end\n",
    "\n",
    "#I'll also define a FluxSpherical Function\n",
    "function FluxSpherical(P_poly,S_sol,ɛ,k,R,p0)\n",
    "    phi = R*sqrt(((1-ɛ)*k*S_sol) / (ɛ*P_poly))\n",
    "    Flux = P_poly*p0*phi/R* (phi*coth(phi) - 1)\n",
    "    return [Flux, phi]\n",
    "end"
   ]
  },
  {
   "cell_type": "markdown",
   "metadata": {},
   "source": [
    "### Flux for Unpromoted K2CO3 "
   ]
  },
  {
   "cell_type": "code",
   "execution_count": 54,
   "metadata": {
    "collapsed": false
   },
   "outputs": [
    {
     "data": {
      "text/plain": [
       "0.0007808642397232126"
      ]
     },
     "execution_count": 54,
     "metadata": {},
     "output_type": "execute_result"
    }
   ],
   "source": [
    "p0 = 10e3\n",
    "P_poly = 3260 * 3.34e-16\n",
    "S_sol = 2.8e-4\n",
    "D_sol = 1e-9\n",
    "k = 20\n",
    "ɛ = 0.5\n",
    "delta = 100e-6\n",
    "\n",
    "FluxCartesian(P_poly,S_sol,eps,k,delta,p0)[1]"
   ]
  },
  {
   "cell_type": "markdown",
   "metadata": {},
   "source": [
    "Surprisingly, the Thiele Modulus isn't small. I need to think about this more systematically. The main reason is the diffusivity doesn't actually decrease all that much - maybe by a factor of 5 in this case. With the salting out effect, this will be more significant."
   ]
  },
  {
   "cell_type": "code",
   "execution_count": 55,
   "metadata": {
    "collapsed": true
   },
   "outputs": [],
   "source": [
    "using PyPlot"
   ]
  },
  {
   "cell_type": "code",
   "execution_count": 56,
   "metadata": {
    "collapsed": false
   },
   "outputs": [
    {
     "data": {
      "image/png": "[encoded data removed]",
      "text/plain": [
       "PyPlot.Figure(PyObject <matplotlib.figure.Figure object at 0x31c522b90>)"
      ]
     },
     "metadata": {},
     "output_type": "display_data"
    },
    {
     "data": {
      "text/plain": [
       "1-element Array{Any,1}:\n",
       " PyObject <matplotlib.lines.Line2D object at 0x327005b10>"
      ]
     },
     "execution_count": 56,
     "metadata": {},
     "output_type": "execute_result"
    }
   ],
   "source": [
    "x = linspace(0.2,5,100)\n",
    "plot(x, tanh(x))\n",
    "plot(x, x.*coth(x) - 1)"
   ]
  },
  {
   "cell_type": "code",
   "execution_count": null,
   "metadata": {
    "collapsed": true
   },
   "outputs": [],
   "source": []
  }
 ],
 "metadata": {
  "kernelspec": {
   "display_name": "Julia 0.5.1",
   "language": "julia",
   "name": "julia-0.5"
  },
  "language_info": {
   "file_extension": ".jl",
   "mimetype": "application/julia",
   "name": "julia",
   "version": "0.5.1"
  }
 },
 "nbformat": 4,
 "nbformat_minor": 2
}
