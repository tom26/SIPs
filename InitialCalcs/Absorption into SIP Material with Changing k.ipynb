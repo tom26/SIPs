{
 "cells": [
  {
   "cell_type": "markdown",
   "metadata": {},
   "source": [
    "# SIPs Absorption with Changing k\n",
    "\n",
    "## 8/3/17\n",
    "\n",
    "## Introduction \n",
    "\n",
    "We will build a rigorous model for absorption into SIPs, which accounts for changes in $k$ over time and space. However, it will still make assumptions. In particular, I'm yet to account for diffusion of gas through the solvent phase.\n",
    "\n",
    "## Differential Equations\n",
    "\n",
    "As derived previously, the differential equation governing flow into a flat surface of SIP is:\n",
    "\n",
    "$$\n",
    "\\frac{\\partial c}{\\partial t}  = \\mathcal{D}' \\frac{\\partial^2 c}{\\partial x^2} -  \\kappa(t,x)c\n",
    "$$\n",
    "\n",
    "with BC's \n",
    "$$c|_{x=\\delta} = p_0S_{poly}$$ \n",
    "and \n",
    "$$\\partial_x c|_{x=0} = 0.$$\n",
    "\n",
    "In this equation:\n",
    "\n",
    "$$\n",
    "\\mathcal{D}' = \\mathcal{D}_{poly}\\varepsilon \\Bigg/\\left( \\varepsilon +  (1-\\varepsilon) \\frac{\\mathcal{S}_{solv}}{\\mathcal{S}_{poly}} \\right)\n",
    "$$\n",
    "\n",
    "and \n",
    "\n",
    "$$\n",
    "\\kappa(t,x) = k(t,x)\\frac{\\mathcal{S}_{solv}}{\\mathcal{S}_{poly}}(1-\\varepsilon)\\Bigg/ \\left( \\varepsilon +  (1-\\varepsilon) \\frac{\\mathcal{S}_{solv}}{\\mathcal{S}_{poly}} \\right)\n",
    "$$\n",
    "\n",
    "We see that the first-order reaction rate inside the solvent droplets, $k$, changes in both time and space. Typically it decreases as more gas reacts with the solvent, with the rate of decrease a function of the rate of reaction:\n",
    "\n",
    "$$\n",
    "\\frac{\\partial k}{\\partial t} = f(kc)\n",
    "$$\n",
    "\n",
    "Note that $f(\\cdot)$ relates changes in the *loading* of the solvent to changes in the reaction rate. It's almost impossible to imagine an analytical solution to these equations, even in the simplest (and most common case), where $k_t \\propto -kc$. The two functions that change in time and space, $k$ and $c$, are coupled in a horribly non-linear way. The one plausible approach would be to say that $k$ changes slowly, and the system is always in a quasi-steady state where $c_t \\approx 0$. But even in that case, how do you solve $0 = c_{xx} - g(x)c$? Especially given that $g(\\cdot)$ is not something constant, but changes as $k$ changes according to the ODE above. That said, this simplification could allow us to solve an ODE instead of a PDE - not something to be sniffed at. My one question is: does such a PDE actually converge to a steady-state solution, as it does when $g \\equiv 1$? And if so, how quickly does this happen? I'm going to do some numerical experiments to find out.\n",
    "\n",
    "The simplest way to do this is in arb. \n",
    "\n",
    "Arb experiments are back: it looks like, provided $k$ remains positive, the steady-state solution, if it exists, will be stable. Let's consider this. Imagine that $c^*$ solves\n",
    "\n",
    "$$\n",
    "0 = c^*_{xx} - k(x)c^*\n",
    "$$\n",
    "\n",
    "Then let say we add some noise, so consider $c^*(x) + \\delta(t) = c^*(x) + \\delta e^{i\\lambda x}$. Then the pde will adjust this so that\n",
    "\n",
    "$$\n",
    "\\frac{\\partial (\\delta(x))}{\\partial t} = -(\\lambda^2  +k(x)) \\delta (x)\n",
    "$$\n",
    "\n",
    "Any deviation from the equilibrium function $c^*(x)$ can be expressed as a Fourier sum of such $\\delta(x)$'s with various values of $\\lambda$. And we see that the system acts to squash such changes, provided $k>0$. As $k>0$ is always going to hold, a numerical solution assuming $k(t,x) \\approx k(x)$ and $c_t \\approx 0$ at each time-step should be reasonable. The logic holds provided that $k$ changes at a rate much slower than $c$ takes to adjust. Now, $k$ changes because the solvent loading changes - this is a slow process. Meanwhile, $c$ takes on the order of $1/\\kappa$ to adjust - in more conventional systems, on the order of $1/k$. This is the typical time for the system to go from saturated in *gas* to only maybe half-saturated. In that time, for most solvents $k$ won't really change at all. So this seems a very reasonable assumption. We're really comparing the amount of gas dissolved phsyically to the amount of gas dissolved chemically. This assumption would only break if $\\mathcal{S}_{poly}$ was extremely high, to make it comparable with the liquid loading (a few mol/L). This is not the case. Thus, it's reasonable to treat $k$ as constant for long enough for $c$ to reach the pseudo-steady state distribution. \n",
    "\n",
    "In conclusion, we are solving two coupled pde's:\n",
    "\n",
    "$$\n",
    "\\frac{\\partial c}{\\partial t}  = \\mathcal{D}' \\frac{\\partial^2 c}{\\partial x^2} -  \\kappa(x; t)c\n",
    "$$\n",
    "with\n",
    "\n",
    "$$\n",
    "\\mathcal{D}' = \\mathcal{D}_{poly}\\varepsilon \\Bigg/\\left( \\varepsilon +  (1-\\varepsilon) \\frac{\\mathcal{S}_{solv}}{\\mathcal{S}_{poly}} \\right)\n",
    "$$\n",
    "\n",
    "and \n",
    "\n",
    "$$\n",
    "\\kappa(x; t) = k(x; t)\\frac{\\mathcal{S}_{solv}}{\\mathcal{S}_{poly}}(1-\\varepsilon)\\Bigg/ \\left( \\varepsilon +  (1-\\varepsilon) \\frac{\\mathcal{S}_{solv}}{\\mathcal{S}_{poly}} \\right)\n",
    "$$\n",
    "\n",
    "The second PDE is\n",
    "\n",
    "$$\n",
    "\\frac{\\partial k(x; t)}{\\partial t} = f(k(x; t)c)\n",
    "$$\n",
    "\n",
    "We will do this by progressively solving for \n",
    "\n",
    "$$\n",
    "0  = \\mathcal{D}' \\frac{\\partial^2 c}{\\partial x^2} -  \\kappa(x; t)c\n",
    "$$\n",
    "\n",
    "And then adjust $k$ at each time-step via\n",
    "\n",
    "$$\n",
    "\\frac{\\partial k(x; t)}{\\partial t} = f(k(x; t)c)\n",
    "$$\n",
    "\n",
    "I'm going to use ApproxFun to solve this with Chebyshev polynomials. I will want to build this as a general function. My function will require a Chebyshev approximation to $k(x;t)$, along with all of the other phyiscal constants. It will then solve for $c(x)$. I will then make a second function that adjusts $k$ for a given $\\Delta t$. I can than run these in sync to solve this system over time.\n",
    "\n",
    "To simplify matters, we will multiply the PDE through by $1/\\mathcal{D}'$. It then becomes\n",
    "\n",
    "$$\n",
    "0  = \\frac{\\partial^2 c}{\\partial x^2} -  \\kappa'(x; t)c\n",
    "$$\n",
    "\n",
    "where\n",
    "\n",
    "$$\n",
    "\\kappa' = \\frac{\\kappa}{\\mathcal{D}'} =  k(x; t)\\frac{\\mathcal{S}_{solv}}{\\mathcal{S}_{poly}}(1-\\varepsilon)\\Bigg/ \\mathcal{D}_{poly} \\varepsilon = \\frac{(1-\\varepsilon) \\mathcal{S}_{solv}}{\\varepsilon \\mathcal{P}_{poly}}k(x; t)\n",
    "$$"
   ]
  },
  {
   "cell_type": "code",
   "execution_count": 3,
   "metadata": {
    "collapsed": false
   },
   "outputs": [
    {
     "data": {
      "text/plain": [
       "SolveForConcentrationProfile (generic function with 1 method)"
      ]
     },
     "execution_count": 3,
     "metadata": {},
     "output_type": "execute_result"
    }
   ],
   "source": [
    "using ApproxFun     #use Chebychev Polynomial approximation package.\n",
    "\n",
    "function SolveForConcentrationProfile(k,P_poly,S_sol,ɛ,S_poly,p_0,δ)\n",
    "    x = Fun(0..δ)                                                   #Define Identity Function on Interval  \n",
    "    c0 = 0.0x                                                       #Define Initial Guess Function on Interval\n",
    "    κ = Fun(x -> ((1-ɛ)*S_sol*k(x)) / (ɛ*(P_poly)), 0..δ)           #Define κ function in ODE\n",
    "    N = u -> [u'(0.0); u(δ) - p_0*S_poly; u'' - κ(x)*u]             #Define the ODE BVP problem\n",
    "    c = newton(N,c0)                                                #Solve the ODE BVP Problem.\n",
    "    return c\n",
    "end\n"
   ]
  },
  {
   "cell_type": "markdown",
   "metadata": {},
   "source": [
    "### Testing this function with a known solution.\n",
    "\n",
    "We know that for $k(x) = k$, the solution is:\n",
    "\n",
    "\n",
    "$$\n",
    "c = \\mathcal{S}_{\\text{poly}} p_0 \\frac{\\cosh(\\phi x/\\delta)}{\\cosh(\\phi)}\n",
    "$$\n",
    "\n",
    "where\n",
    "\n",
    "$$\n",
    "\\phi^2 = \\delta^2\\frac{k'}{\\mathcal{D}'} = \\delta^2 k\\frac{\\mathcal{S}_{solv}}{\\mathcal{S}_{poly}}(1-\\varepsilon) \\Bigg/\\mathcal{D}_{poly}\\varepsilon = \\delta^2 \\frac{(1-\\varepsilon)k\\mathcal{S}_{solv}}{\\varepsilon\\mathcal{P}_{poly}}$$\n",
    "\n",
    "We'll now see if our function comes to the same solution. We'll pick some very simple values for this experiment."
   ]
  },
  {
   "cell_type": "code",
   "execution_count": 4,
   "metadata": {
    "collapsed": false
   },
   "outputs": [
    {
     "name": "stdout",
     "output_type": "stream",
     "text": [
      "The Maximum Difference Between the Numerical and Analytical Results was 1.3717675033203369e-16\n"
     ]
    },
    {
     "data": {
      "text/html": [
       "<img src=\"data:image/png;base64,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\" />"
      ]
     },
     "execution_count": 4,
     "metadata": {},
     "output_type": "execute_result"
    }
   ],
   "source": [
    "(kvalue, P_poly,S_sol,ɛ,S_poly,p_0,δ) = (1.0,1.0,1.0,0.5,1.0,1.0,1.0);\n",
    "k = Fun(x -> kvalue, 0..δ);\n",
    "u_numerical = SolveForConcentrationProfile(k,P_poly,S_sol,ɛ,S_poly,p_0,δ)\n",
    "\n",
    "#Now do analytical calculation\n",
    "ϕ = sqrt(δ^2 * (1-ɛ)*kvalue*S_sol / (ɛ*P_poly));\n",
    "u_analytical  = Fun( x -> S_poly * p_0 * cosh(ϕ*x/δ)/cosh(ϕ), 0..δ)\n",
    "println(\"The Maximum Difference Between the Numerical and Analytical Results was \", norm(u_numerical - u_analytical))\n",
    "plot(u_numerical)"
   ]
  },
  {
   "cell_type": "markdown",
   "metadata": {},
   "source": [
    "It is clear that the numerical model works well. We can now write the second part of the script - using this numerical calculated concentration profile to predict how quickly the solvent droplets get saturated over time at different points in space. This general function will spit out a modified $k(x; t+\\Delta t)$ from an initial input $k(x; t)$. We will require, as input, a function $g$ which tells us the *concentration of reactive species* (e.g. $OH^-$ ions) as a function of the concentration of CO2 present in the solvent. Note that, while we are using $k$ as our second unknown function, it's perhaps more sensible to use the CO2 loading in mol/m3, $\\xi$. In fact, let's do that. Our function below will take as input $\\xi(x)$, along with some physical properties (including the second order rate constant) and it will spit out the new $\\xi(x)$ and the new $k(x)$. We have, for a reaction-controlled droplet\n",
    "\n",
    "$$\n",
    "\\frac{d \\xi}{dt} = k_2 c_{sol}c_{\\text{reactivespecies}}\n",
    "$$\n",
    "and so\n",
    "$$\n",
    "\\frac{d \\xi}{dt} = k_2\\frac{\\mathcal{S}_{sol}}{\\mathcal{S}_{poly}}cg(\\xi)\n",
    "$$\n",
    "\n",
    "where $g(\\cdot)$ is as discussed above. Once we have evaluated $\\xi_{t+\\Delta t}$, we can evaluate the new $k$ as $k=k_2g(\\xi_{t+\\Delta t})$."
   ]
  },
  {
   "cell_type": "code",
   "execution_count": 5,
   "metadata": {
    "collapsed": false
   },
   "outputs": [
    {
     "name": "stderr",
     "output_type": "stream",
     "text": [
      "sys:1: MatplotlibDeprecationWarning: The set_axis_bgcolor function was deprecated in version 2.0. Use set_facecolor instead.\n"
     ]
    },
    {
     "data": {
      "text/plain": [
       "TimeStepLoadingAndReactionRateConstant (generic function with 1 method)"
      ]
     },
     "execution_count": 5,
     "metadata": {},
     "output_type": "execute_result"
    }
   ],
   "source": [
    "#This function will be solvent-dependent\n",
    "function ConcentrationOfReactiveSpecies(ξ)\n",
    "    A = 2.0                                  #Initialy 2 mols of reactive species, which...\n",
    "    return 2.0 - ξ                           #CO2 binds with on a 1-1 stoichiometric basis\n",
    "end\n",
    "\n",
    "#This function will take as input a concentration profile ξ, a time step Δt, δ, k2, S_sol, c, and the function g()\n",
    "#and will spit out updated ξ and k functions.\n",
    "\n",
    "function TimeStepLoadingAndReactionRateConstant(ξ, c, g, k2, S_sol, δ, Δt)\n",
    "    ξ = ξ + Fun(x -> k2*S_sol/S_poly*c(x)*g(ξ(x)), 0..δ)*Δt           #WRONG k2*\n",
    "    k = Fun(x -> k2*g(ξ(x)), 0..δ)\n",
    "    return [ξ, k]\n",
    "end"
   ]
  },
  {
   "cell_type": "code",
   "execution_count": 6,
   "metadata": {
    "collapsed": false
   },
   "outputs": [
    {
     "ename": "LoadError",
     "evalue": "MethodError: no method matching TimeStepLoadingAndReactionRateConstant(::ApproxFun.Fun{ApproxFun.Chebyshev{ApproxFun.Segment{Float64}},Float64}, ::#ConcentrationOfReactiveSpecies, ::Float64, ::Float64, ::Float64, ::Float64)\u001b[0m\nClosest candidates are:\n  TimeStepLoadingAndReactionRateConstant(::Any, ::Any, ::Any, ::Any, ::Any, ::Any, \u001b[1m\u001b[31m::Any\u001b[0m) at In[5]:11\u001b[0m",
     "output_type": "error",
     "traceback": [
      "MethodError: no method matching TimeStepLoadingAndReactionRateConstant(::ApproxFun.Fun{ApproxFun.Chebyshev{ApproxFun.Segment{Float64}},Float64}, ::#ConcentrationOfReactiveSpecies, ::Float64, ::Float64, ::Float64, ::Float64)\u001b[0m\nClosest candidates are:\n  TimeStepLoadingAndReactionRateConstant(::Any, ::Any, ::Any, ::Any, ::Any, ::Any, \u001b[1m\u001b[31m::Any\u001b[0m) at In[5]:11\u001b[0m",
      ""
     ]
    }
   ],
   "source": [
    "S_sol = 1.0\n",
    "Δt = 0.01\n",
    "k2 = 1.0\n",
    "δ = 1.0\n",
    "ξ_old = Fun(x -> 0.8+0.3*sin(6*x), 0..δ)\n",
    "(ξ,k) = TimeStepLoadingAndReactionRateConstant(ξ_old, ConcentrationOfReactiveSpecies, k2, S_sol, δ, Δt)"
   ]
  },
  {
   "cell_type": "code",
   "execution_count": 7,
   "metadata": {
    "collapsed": false
   },
   "outputs": [
    {
     "ename": "LoadError",
     "evalue": "UndefVarError: ξ not defined",
     "output_type": "error",
     "traceback": [
      "UndefVarError: ξ not defined",
      ""
     ]
    }
   ],
   "source": [
    "using ApproxFun\n",
    "using Plots\n",
    "plot(ξ)"
   ]
  },
  {
   "cell_type": "markdown",
   "metadata": {},
   "source": [
    "We're now in a position to integrate our equations, to predict the rate of absorption of CO2 into a solid wall of SIP over time. The function I will create do to this will take as an input $\\Delta t$, the 3 functions defined above, a function $p_0(t)$, an initial solvent loading $\\xi_0(x)$, all necessary physical constants, and $t_{\\text{max}}$."
   ]
  },
  {
   "cell_type": "code",
   "execution_count": 8,
   "metadata": {
    "collapsed": false
   },
   "outputs": [
    {
     "data": {
      "text/plain": [
       "IntegrateAbsorptionIntoSIPOverTime (generic function with 1 method)"
      ]
     },
     "execution_count": 8,
     "metadata": {},
     "output_type": "execute_result"
    }
   ],
   "source": [
    "function IntegrateAbsorptionIntoSIPOverTime(SolveForConcentrationProfile, ConcentrationOfReactiveSpecies, TimeStepLoadingAndReactionRateConstant, P_poly, S_sol, ɛ, S_poly, p_0func, ξ0, δ, k2, Δt, tmax)\n",
    "    tsteps = ceil(tmax/Δt)\n",
    "    t = 0.0\n",
    "    ξ = ξ0\n",
    "    k = Fun(x -> k2*ConcentrationOfReactiveSpecies(ξ(x)), 0..δ)\n",
    "    c_store = []\n",
    "    ξ_store = []\n",
    "    k_store = []\n",
    "    for i = 1:tsteps\n",
    "        #Calculate new constants for this timestep.\n",
    "        t += Δt                                                 #New time\n",
    "        p_0 = p_0func(t)                                        #New external reactive gas pressure at this time\n",
    "\n",
    "        #Calculate concentration profile for this timestep\n",
    "        c = SolveForConcentrationProfile(k,P_poly,S_sol,ɛ,S_poly,p_0,δ)\n",
    "        \n",
    "        #Calculate newly-updated ξ and k functions\n",
    "        (ξ_prev,k_prev) = [ξ, k]\n",
    "        (ξ, k) = TimeStepLoadingAndReactionRateConstant(ξ_prev, c, ConcentrationOfReactiveSpecies, k2, S_sol, δ, Δt)\n",
    "        c_store = push!(c_store,c)\n",
    "        ξ_store = push!(ξ_store,ξ)\n",
    "        k_store = push!(k_store,k)\n",
    "    end\n",
    "    return [c_store, ξ_store, k_store]\n",
    "end\n",
    "        \n",
    "        "
   ]
  },
  {
   "cell_type": "code",
   "execution_count": null,
   "metadata": {
    "collapsed": false
   },
   "outputs": [],
   "source": [
    "(P_poly, S_sol, ɛ, S_poly, δ, k2, Δt, tmax) = [0.1, 1.0, 0.5, 1.0, 1.0, 1.0, 1e-2, 3e0]\n",
    "p_0func = Fun(t -> 1.0, 0..tmax)\n",
    "ξ0 = Fun(x -> 0.0, 0..δ)\n",
    "(c_store, ξ_store, k_store) = IntegrateAbsorptionIntoSIPOverTime(SolveForConcentrationProfile, ConcentrationOfReactiveSpecies, TimeStepLoadingAndReactionRateConstant, P_poly, S_sol, ɛ, S_poly, p_0func, ξ0, δ, k2, Δt, tmax)\n"
   ]
  },
  {
   "cell_type": "code",
   "execution_count": null,
   "metadata": {
    "collapsed": false
   },
   "outputs": [],
   "source": [
    "using Plots\n",
    "plot(c_store[10])\n",
    "for i = 20:10:290\n",
    "    plot!(c_store[i])\n",
    "end\n",
    "plot!(c_store[300])"
   ]
  },
  {
   "cell_type": "code",
   "execution_count": null,
   "metadata": {
    "collapsed": true
   },
   "outputs": [],
   "source": []
  },
  {
   "cell_type": "code",
   "execution_count": null,
   "metadata": {
    "collapsed": true
   },
   "outputs": [],
   "source": []
  },
  {
   "cell_type": "code",
   "execution_count": null,
   "metadata": {
    "collapsed": true
   },
   "outputs": [],
   "source": []
  },
  {
   "cell_type": "code",
   "execution_count": null,
   "metadata": {
    "collapsed": true
   },
   "outputs": [],
   "source": []
  },
  {
   "cell_type": "code",
   "execution_count": null,
   "metadata": {
    "collapsed": true
   },
   "outputs": [],
   "source": []
  },
  {
   "cell_type": "code",
   "execution_count": null,
   "metadata": {
    "collapsed": true
   },
   "outputs": [],
   "source": []
  },
  {
   "cell_type": "code",
   "execution_count": null,
   "metadata": {
    "collapsed": true
   },
   "outputs": [],
   "source": []
  },
  {
   "cell_type": "code",
   "execution_count": null,
   "metadata": {
    "collapsed": true
   },
   "outputs": [],
   "source": []
  },
  {
   "cell_type": "markdown",
   "metadata": {},
   "source": [
    "## Experiments with ApproxFun\n",
    "\n",
    "The simplest and most elegant way of solving these boundary value problems in Julia is to use Chebychev polynomials as approximating functions, via the ApproxFun.jl package. Below we'll solve the simplified system:\n",
    "\n",
    "$$\n",
    "0 = \\ddot{y} - k(t)y\n",
    "$$\n",
    "\n",
    "with BCs $y(0) = 0$ and $\\dot{y}(1) = 0$, for various $k(t)$. I suspect that when we non-dimensionalise our model, this will be the type of equation we'll be solving for. "
   ]
  },
  {
   "cell_type": "code",
   "execution_count": null,
   "metadata": {
    "collapsed": false
   },
   "outputs": [],
   "source": [
    "using ApproxFun\n",
    "using Plots\n",
    "\n",
    "#Define a κ function\n",
    "κ = Fun(t->1, 0..1)\n",
    "t = Fun(identity, 0..1)\n",
    "y = [Evaluation(Chebyshev(),0); Evaluation(Chebyshev(),1)*𝒟; 𝒟^2 - t] \\ [0; 0; 0]"
   ]
  },
  {
   "cell_type": "code",
   "execution_count": null,
   "metadata": {
    "collapsed": false
   },
   "outputs": [],
   "source": [
    "b = Fun(cos,Fourier())\n",
    "c = 0.1; u = (𝒟+c*I)\\b;\n",
    "u(0.6)"
   ]
  },
  {
   "cell_type": "code",
   "execution_count": null,
   "metadata": {
    "collapsed": false
   },
   "outputs": [],
   "source": [
    "t = Fun(0..1)\n",
    "u = [Evaluation(0); 𝒟]  \\ [1;0];\n",
    "plot(u)"
   ]
  },
  {
   "cell_type": "code",
   "execution_count": null,
   "metadata": {
    "collapsed": false
   },
   "outputs": [],
   "source": [
    "x = Fun(identity,-1000..200)\n",
    "d = domain(x)\n",
    "D = Derivative(d)\n",
    "B = dirichlet(d)\n",
    "L = D^2 - x\n",
    "u = [B;L] \\ [airyai(d.a);airyai(d.b);0]\n",
    "plot(u)"
   ]
  },
  {
   "cell_type": "code",
   "execution_count": null,
   "metadata": {
    "collapsed": false
   },
   "outputs": [],
   "source": [
    "x=Fun()\n",
    "u0=0.0x\n",
    "\n",
    "N=u->[u(-1)-1,u(1)+0.5,0.001u''+6*(1-x^2)*u'+u^2-1]\n",
    "u=newton(N,u0)\n",
    "plot(u)"
   ]
  },
  {
   "cell_type": "code",
   "execution_count": null,
   "metadata": {
    "collapsed": false
   },
   "outputs": [],
   "source": [
    "b = Fun(cos,Fourier());\n",
    "c = 0.1; u = (𝒟+c*I)\\b;\n",
    "plot(u)"
   ]
  },
  {
   "cell_type": "code",
   "execution_count": null,
   "metadata": {
    "collapsed": false
   },
   "outputs": [],
   "source": [
    "b = Fun(x->0,0..π);\n",
    "c = 1; \n",
    "u = [Evaluation(Chebyshev(),0);Evaluation(Chebyshev(),π); (𝒟^2+I)]\\[1;-1;b];\n",
    "plot(u)"
   ]
  },
  {
   "cell_type": "code",
   "execution_count": null,
   "metadata": {
    "collapsed": false
   },
   "outputs": [],
   "source": [
    "u(π)"
   ]
  },
  {
   "cell_type": "code",
   "execution_count": null,
   "metadata": {
    "collapsed": false
   },
   "outputs": [],
   "source": [
    "x=Fun()\n",
    "u0=0.0x\n",
    "\n",
    "N=u->[u(-1)-1,u(1)+0.5,0.001u''+6*(1-x^2)*u'+u^2-1]\n",
    "u=newton(N,u0)\n",
    "plot(u)"
   ]
  },
  {
   "cell_type": "code",
   "execution_count": null,
   "metadata": {
    "collapsed": false
   },
   "outputs": [],
   "source": [
    "x=Fun(0..1)\n",
    "u0=0.0x\n",
    "\n",
    "N=u->[u(0)-1,u(1)+0.5,0.001u''+6*(1-x^2)*u'+u^2-1]\n",
    "u=newton(N,u0)\n",
    "plot(u)"
   ]
  },
  {
   "cell_type": "code",
   "execution_count": null,
   "metadata": {
    "collapsed": false
   },
   "outputs": [],
   "source": [
    "2+3"
   ]
  },
  {
   "cell_type": "code",
   "execution_count": null,
   "metadata": {
    "collapsed": false
   },
   "outputs": [],
   "source": [
    "using ApproxFun\n",
    "x = Fun()\n",
    "u0 = 0.0x\n",
    "c = 1\n",
    "ε = 0.01\n",
    "N = u->[u(-1.)-c;u(1.);ε*u''+6*(1-x^2)*u'+u^2-1.]\n",
    "u = newton(N,u0)"
   ]
  },
  {
   "cell_type": "code",
   "execution_count": null,
   "metadata": {
    "collapsed": false
   },
   "outputs": [],
   "source": [
    "u0"
   ]
  },
  {
   "cell_type": "code",
   "execution_count": null,
   "metadata": {
    "collapsed": false
   },
   "outputs": [],
   "source": [
    "#It looks like the Newton Interface is significantly easier to use.\n",
    "\n",
    "x = Fun(0..1)   #Our domain, expressed as an identity function.\n",
    "u0 = 0.0x       #Our initial guess, expressed as the zero function over the same domain.\n",
    "κ = Fun(x -> sin(x)+1,0..1)\n",
    "N = u -> [u(0.0) - 1.0; u'(1.0) - 0.0; u'' - κ(x)*u]\n",
    "#N = u -> [u(0.0) - 1.0; u'(1.0) - 0.0; u'' - κ(x)*u]\n",
    "u = newton(N,u0)\n",
    "plot(u)"
   ]
  },
  {
   "cell_type": "code",
   "execution_count": null,
   "metadata": {
    "collapsed": true
   },
   "outputs": [],
   "source": [
    "using Plots"
   ]
  },
  {
   "cell_type": "code",
   "execution_count": null,
   "metadata": {
    "collapsed": false
   },
   "outputs": [],
   "source": [
    "x = Fun(0..1)   #Our domain, expressed as an identity function.\n",
    "u0 = 0.0x\n",
    "κ = Fun(x -> 1.0)\n",
    "N = u -> [u(0.0) - 1; u'(1.0) - 0.0; u'' - κ(x)*u]\n",
    "tic()\n",
    "u = newton(N,u0)"
   ]
  },
  {
   "cell_type": "code",
   "execution_count": null,
   "metadata": {
    "collapsed": false
   },
   "outputs": [],
   "source": [
    "tic()\n",
    "function tester(nterms)\n",
    "    a = 0.0\n",
    "for i = 1:nterms\n",
    "    a += i\n",
    "end\n",
    "    return a\n",
    "end\n",
    "a\n",
    "u = toc()\n",
    "a"
   ]
  },
  {
   "cell_type": "code",
   "execution_count": null,
   "metadata": {
    "collapsed": false
   },
   "outputs": [],
   "source": [
    "@time tester(5e8)"
   ]
  },
  {
   "cell_type": "code",
   "execution_count": null,
   "metadata": {
    "collapsed": false
   },
   "outputs": [],
   "source": [
    "tic()\n",
    "a = 0.0\n",
    "for i = 1:5e8\n",
    "    a += i\n",
    "end\n",
    "    return a\n",
    "toc()"
   ]
  },
  {
   "cell_type": "code",
   "execution_count": null,
   "metadata": {
    "collapsed": true
   },
   "outputs": [],
   "source": []
  }
 ],
 "metadata": {
  "kernelspec": {
   "display_name": "Julia 0.5.1",
   "language": "julia",
   "name": "julia-0.5"
  },
  "language_info": {
   "file_extension": ".jl",
   "mimetype": "application/julia",
   "name": "julia",
   "version": "0.5.1"
  }
 },
 "nbformat": 4,
 "nbformat_minor": 2
}
