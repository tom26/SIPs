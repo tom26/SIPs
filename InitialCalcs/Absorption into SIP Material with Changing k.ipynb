{
 "cells": [
  {
   "cell_type": "markdown",
   "metadata": {},
   "source": [
    "# SIPs Absorption with Changing k\n",
    "\n",
    "## 8/3/17\n",
    "\n",
    "## Introduction \n",
    "\n",
    "We will build a rigorous model for absorption into SIPs, which accounts for changes in $k$ over time and space. However, it will still make assumptions. In particular, I'm yet to account for diffusion of gas through the solvent phase.\n",
    "\n",
    "## Differential Equations\n",
    "\n",
    "As derived previously, the differential equation governing flow into a flat surface of SIP is:\n",
    "\n",
    "$$\n",
    "\\frac{\\partial c}{\\partial t}  = \\mathcal{D}' \\frac{\\partial^2 c}{\\partial x^2} -  \\kappa(t,x)c\n",
    "$$\n",
    "\n",
    "with BC's \n",
    "$$c|_{x=\\delta} = p_0S_{poly}$$ \n",
    "and \n",
    "$$\\partial_x c|_{x=0} = 0.$$\n",
    "\n",
    "In this equation:\n",
    "\n",
    "$$\n",
    "\\mathcal{D}' = \\mathcal{D}_{poly}\\varepsilon \\Bigg/\\left( \\varepsilon +  (1-\\varepsilon) \\frac{\\mathcal{S}_{solv}}{\\mathcal{S}_{poly}} \\right)\n",
    "$$\n",
    "\n",
    "and \n",
    "\n",
    "$$\n",
    "\\kappa(t,x) = k(t,x)\\frac{\\mathcal{S}_{solv}}{\\mathcal{S}_{poly}}(1-\\varepsilon)\\Bigg/ \\left( \\varepsilon +  (1-\\varepsilon) \\frac{\\mathcal{S}_{solv}}{\\mathcal{S}_{poly}} \\right)\n",
    "$$\n",
    "\n",
    "We see that the first-order reaction rate inside the solvent droplets, $k$, changes in both time and space. Typically it decreases as more gas reacts with the solvent, with the rate of decrease a function of the rate of reaction:\n",
    "\n",
    "$$\n",
    "\\frac{\\partial k}{\\partial t} = f(kc)\n",
    "$$\n",
    "\n",
    "Note that $f(\\cdot)$ relates changes in the *loading* of the solvent to changes in the reaction rate. It's almost impossible to imagine an analytical solution to these equations, even in the simplest (and most common case), where $k_t \\propto -kc$. The two functions that change in time and space, $k$ and $c$, are coupled in a horribly non-linear way. The one plausible approach would be to say that $k$ changes slowly, and the system is always in a quasi-steady state where $c_t \\approx 0$. But even in that case, how do you solve $0 = c_{xx} - g(x)c$? Especially given that $g(\\cdot)$ is not something constant, but changes as $k$ changes according to the ODE above. That said, this simplification could allow us to solve an ODE instead of a PDE - not something to be sniffed at. My one question is: does such a PDE actually converge to a steady-state solution, as it does when $g \\equiv 1$? And if so, how quickly does this happen? I'm going to do some numerical experiments to find out.\n",
    "\n",
    "The simplest way to do this is in arb. \n",
    "\n",
    "Arb experiments are back: it looks like, provided $k$ remains positive, the steady-state solution, if it exists, will be stable. Let's consider this. Imagine that $c^*$ solves\n",
    "\n",
    "$$\n",
    "0 = c^*_{xx} - k(x)c^*\n",
    "$$\n",
    "\n",
    "Then let say we add some noise, so consider $c^*(x) + \\delta(t) = c^*(x) + \\delta e^{i\\lambda x}$. Then the pde will adjust this so that\n",
    "\n",
    "$$\n",
    "\\frac{\\partial (\\delta(x))}{\\partial t} = -(\\lambda^2  +k(x)) \\delta (x)\n",
    "$$\n",
    "\n",
    "Any deviation from the equilibrium function $c^*(x)$ can be expressed as a Fourier sum of such $\\delta(x)$'s with various values of $\\lambda$. And we see that the system acts to squash such changes, provided $k>0$. As $k>0$ is always going to hold, a numerical solution assuming $k(t,x) \\approx k(x)$ and $c_t \\approx 0$ at each time-step should be reasonable. The logic holds provided that $k$ changes at a rate much slower than $c$ takes to adjust. Now, $k$ changes because the solvent loading changes - this is a slow process. Meanwhile, $c$ takes on the order of $1/\\kappa$ to adjust - in more conventional systems, on the order of $1/k$. This is the typical time for the system to go from saturated in *gas* to only maybe half-saturated. In that time, for most solvents $k$ won't really change at all. So this seems a very reasonable assumption. We're really comparing the amount of gas dissolved phsyically to the amount of gas dissolved chemically. This assumption would only break if $\\mathcal{S}_{poly}$ was extremely high, to make it comparable with the liquid loading (a few mol/L). This is not the case. Thus, it's reasonable to treat $k$ as constant for long enough for $c$ to reach the pseudo-steady state distribution. \n",
    "\n",
    "In conclusion, we are solving two coupled pde's:\n",
    "\n",
    "$$\n",
    "\\frac{\\partial c}{\\partial t}  = \\mathcal{D}' \\frac{\\partial^2 c}{\\partial x^2} -  \\kappa(x; t)c\n",
    "$$\n",
    "with\n",
    "\n",
    "$$\n",
    "\\mathcal{D}' = \\mathcal{D}_{poly}\\varepsilon \\Bigg/\\left( \\varepsilon +  (1-\\varepsilon) \\frac{\\mathcal{S}_{solv}}{\\mathcal{S}_{poly}} \\right)\n",
    "$$\n",
    "\n",
    "and \n",
    "\n",
    "$$\n",
    "\\kappa(x; t) = k(x; t)\\frac{\\mathcal{S}_{solv}}{\\mathcal{S}_{poly}}(1-\\varepsilon)\\Bigg/ \\left( \\varepsilon +  (1-\\varepsilon) \\frac{\\mathcal{S}_{solv}}{\\mathcal{S}_{poly}} \\right)\n",
    "$$\n",
    "\n",
    "The second PDE is\n",
    "\n",
    "$$\n",
    "\\frac{\\partial k(x; t)}{\\partial t} = f(k(x; t)c)\n",
    "$$\n",
    "\n",
    "We will do this by progressively solving for \n",
    "\n",
    "$$\n",
    "0  = \\mathcal{D}' \\frac{\\partial^2 c}{\\partial x^2} -  \\kappa(x; t)c\n",
    "$$\n",
    "\n",
    "And then adjust $k$ at each time-step via\n",
    "\n",
    "$$\n",
    "\\frac{\\partial k(x; t)}{\\partial t} = f(k(x; t)c)\n",
    "$$\n",
    "\n",
    "I'm going to use ApproxFun to solve this with Chebyshev polynomials. I will want to build this as a general function. My function will require a Chebyshev approximation to $k(x;t)$, along with all of the other phyiscal constants. It will then solve for $c(x)$. I will then make a second function that adjusts $k$ for a given $\\Delta t$. I can than run these in sync to solve this system over time.\n",
    "\n",
    "To simplify matters, we will multiply the PDE through by $1/\\mathcal{D}'$. It then becomes\n",
    "\n",
    "$$\n",
    "0  = \\frac{\\partial^2 c}{\\partial x^2} -  \\kappa'(x; t)c\n",
    "$$\n",
    "\n",
    "where\n",
    "\n",
    "$$\n",
    "\\kappa' = \\frac{\\kappa}{\\mathcal{D}'} =  k(x; t)\\frac{\\mathcal{S}_{solv}}{\\mathcal{S}_{poly}}(1-\\varepsilon)\\Bigg/ \\mathcal{D}_{poly} \\varepsilon = \\frac{(1-\\varepsilon) \\mathcal{S}_{solv}}{\\varepsilon \\mathcal{P}_{poly}}k(x; t)\n",
    "$$"
   ]
  },
  {
   "cell_type": "code",
   "execution_count": 41,
   "metadata": {
    "collapsed": false
   },
   "outputs": [
    {
     "name": "stderr",
     "output_type": "stream",
     "text": [
      "WARNING: Method definition SolveForConcentrationProfile(Any, Any, Any, Any, Any, Any, Any) in module Main at In[38]:4 overwritten at In[41]:4.\n"
     ]
    },
    {
     "data": {
      "text/plain": [
       "SolveForConcentrationProfile (generic function with 1 method)"
      ]
     },
     "execution_count": 41,
     "metadata": {},
     "output_type": "execute_result"
    }
   ],
   "source": [
    "using ApproxFun     #use Chebychev Polynomial approximation package.\n",
    "\n",
    "function SolveForConcentrationProfile(k,P_poly,S_sol,ɛ,S_poly,p_0,δ)\n",
    "    x = Fun(0..1)                                                   #Define Identity Function on Interval  \n",
    "    u0 = 0.0x                                                       #Define Initial Guess Function on Interval\n",
    "    κ = Fun(x -> ((1-ɛ)*S_sol*k(x)) / (ɛ*(P_poly)), 0..δ)           #Define κ function in ODE\n",
    "    N = u -> [u'(0.0); u(δ) - p_0*S_poly; u'' - κ(x)*u]             #Define the ODE BVP problem\n",
    "    u = newton(N,u0)                                                #Solve the ODE BVP Problem.\n",
    "    return u\n",
    "end\n"
   ]
  },
  {
   "cell_type": "markdown",
   "metadata": {},
   "source": [
    "### Testing this function with a known solution.\n",
    "\n",
    "We know that for $k(x) = k$, the solution is:\n",
    "\n",
    "\n",
    "$$\n",
    "c = \\mathcal{S}_{\\text{poly}} p_0 \\frac{\\cosh(\\phi x/\\delta)}{\\cosh(\\phi)}\n",
    "$$\n",
    "\n",
    "where\n",
    "\n",
    "$$\n",
    "\\phi^2 = \\delta^2\\frac{k'}{\\mathcal{D}'} = \\delta^2 k\\frac{\\mathcal{S}_{solv}}{\\mathcal{S}_{poly}}(1-\\varepsilon) \\Bigg/\\mathcal{D}_{poly}\\varepsilon = \\delta^2 \\frac{(1-\\varepsilon)k\\mathcal{S}_{solv}}{\\varepsilon\\mathcal{P}_{poly}}$$\n",
    "\n",
    "We'll now see if our function comes to the same solution. We'll pick some very simple values for this experiment."
   ]
  },
  {
   "cell_type": "code",
   "execution_count": 63,
   "metadata": {
    "collapsed": false
   },
   "outputs": [
    {
     "name": "stdout",
     "output_type": "stream",
     "text": [
      "The Maximum Difference Between the Numerical and Analytical Results was 1.3717675033203369e-16\n"
     ]
    },
    {
     "data": {
      "text/html": [
       "<img src=\"data:image/png;base64,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\" />"
      ]
     },
     "execution_count": 63,
     "metadata": {},
     "output_type": "execute_result"
    }
   ],
   "source": [
    "(kvalue, P_poly,S_sol,ɛ,S_poly,p_0,δ) = (1.0,1.0,1.0,0.5,1.0,1.0,1.0);\n",
    "k = Fun(x -> kvalue, 0..δ);\n",
    "u_numerical = SolveForConcentrationProfile(k,P_poly,S_sol,ɛ,S_poly,p_0,δ)\n",
    "\n",
    "#Now do analytical calculation\n",
    "ϕ = sqrt(δ^2 * (1-ɛ)*kvalue*S_sol / (ɛ*P_poly));\n",
    "u_analytical  = Fun( x -> S_poly * p_0 * cosh(ϕ*x/δ)/cosh(ϕ), 0..δ)\n",
    "println(\"The Maximum Difference Between the Numerical and Analytical Results was \", norm(u_numerical - u_analytical))\n",
    "plot(u_numerical)"
   ]
  },
  {
   "cell_type": "markdown",
   "metadata": {},
   "source": [
    "It is clear that the numerical model works well. We can now write the second part of the script - using this numerical calculated concentration profile to predict how quickly the solvent droplets get saturated over time at different points in space. This general function will spit out a modified $k(x; t+\\Delta t)$ from an initial input $k(x; t)$. "
   ]
  },
  {
   "cell_type": "code",
   "execution_count": null,
   "metadata": {
    "collapsed": true
   },
   "outputs": [],
   "source": []
  },
  {
   "cell_type": "code",
   "execution_count": null,
   "metadata": {
    "collapsed": true
   },
   "outputs": [],
   "source": []
  },
  {
   "cell_type": "code",
   "execution_count": null,
   "metadata": {
    "collapsed": true
   },
   "outputs": [],
   "source": []
  },
  {
   "cell_type": "code",
   "execution_count": null,
   "metadata": {
    "collapsed": true
   },
   "outputs": [],
   "source": []
  },
  {
   "cell_type": "code",
   "execution_count": null,
   "metadata": {
    "collapsed": true
   },
   "outputs": [],
   "source": []
  },
  {
   "cell_type": "markdown",
   "metadata": {},
   "source": [
    "## Experiments with ApproxFun\n",
    "\n",
    "The simplest and most elegant way of solving these boundary value problems in Julia is to use Chebychev polynomials as approximating functions, via the ApproxFun.jl package. Below we'll solve the simplified system:\n",
    "\n",
    "$$\n",
    "0 = \\ddot{y} - k(t)y\n",
    "$$\n",
    "\n",
    "with BCs $y(0) = 0$ and $\\dot{y}(1) = 0$, for various $k(t)$. I suspect that when we non-dimensionalise our model, this will be the type of equation we'll be solving for. "
   ]
  },
  {
   "cell_type": "code",
   "execution_count": 65,
   "metadata": {
    "collapsed": false
   },
   "outputs": [
    {
     "ename": "LoadError",
     "evalue": "Domain mismatch: cannot multiply function on 【0.0,1.0】 to function on 【-1.0,1.0】",
     "output_type": "error",
     "traceback": [
      "Domain mismatch: cannot multiply function on 【0.0,1.0】 to function on 【-1.0,1.0】",
      "",
      " in ApproxFun.ConcreteMultiplication{D<:ApproxFun.Space,S<:ApproxFun.Space,T}(::ApproxFun.Fun{ApproxFun.Chebyshev{ApproxFun.Segment{Float64}},Float64}, ::ApproxFun.Chebyshev{ApproxFun.Segment{Float64}}) at /Users/thomasmoore/.julia/v0.5/ApproxFun/src/Operators/banded/Multiplication.jl:23",
      " in promotedomainspace(::ApproxFun.ConcreteMultiplication{ApproxFun.Chebyshev{ApproxFun.Segment{Float64}},ApproxFun.UnsetSpace,Float64}, ::ApproxFun.Chebyshev{ApproxFun.Segment{Float64}}) at /Users/thomasmoore/.julia/v0.5/ApproxFun/src/Operators/banded/Multiplication.jl:79",
      " in copy!(::Array{ApproxFun.Operator{Float64},1}, ::Base.Generator{Array{ApproxFun.Operator{Float64},1},ApproxFun.##316#317{ApproxFun.Chebyshev{ApproxFun.Segment{Float64}}}}) at ./abstractarray.jl:485",
      " in promotedomainspace(::ApproxFun.PlusOperator{Float64,Tuple{ApproxFun.Infinity{Bool},ApproxFun.Infinity{Bool}}}, ::ApproxFun.Chebyshev{ApproxFun.Segment{Float64}}, ::ApproxFun.UnsetSpace) at /Users/thomasmoore/.julia/v0.5/ApproxFun/src/Operators/general/algebra.jl:639",
      " in promotedomainspace(::ApproxFun.PlusOperator{Float64,Tuple{ApproxFun.Infinity{Bool},ApproxFun.Infinity{Bool}}}, ::ApproxFun.Chebyshev{ApproxFun.Segment{Float64}}) at /Users/thomasmoore/.julia/v0.5/ApproxFun/src/Operators/spacepromotion.jl:81",
      " in copy!(::Array{ApproxFun.Operator{Float64},1}, ::Base.Generator{Array{ApproxFun.Operator{Float64},1},ApproxFun.##293#294}) at ./abstractarray.jl:485",
      " in promotedomainspace(::Array{ApproxFun.Operator{Float64},1}) at /Users/thomasmoore/.julia/v0.5/ApproxFun/src/Operators/spacepromotion.jl:105",
      " in Type at /Users/thomasmoore/.julia/v0.5/ApproxFun/src/Operators/general/InterlaceOperator.jl:189 [inlined]",
      " in interlace(::Array{ApproxFun.Operator{Float64},1}) at /Users/thomasmoore/.julia/v0.5/ApproxFun/src/Operators/general/InterlaceOperator.jl:448",
      " in #\\#284(::Array{Any,1}, ::Function, ::Array{ApproxFun.Operator{Float64},1}, ::Array{Int64,1}) at /Users/thomasmoore/.julia/v0.5/ApproxFun/src/Operators/A_ldiv_B.jl:47",
      " in \\(::Array{ApproxFun.Operator{Float64},1}, ::Array{Int64,1}) at /Users/thomasmoore/.julia/v0.5/ApproxFun/src/Operators/A_ldiv_B.jl:47"
     ]
    }
   ],
   "source": [
    "using ApproxFun\n",
    "using Plots\n",
    "\n",
    "#Define a κ function\n",
    "κ = Fun(t->1, 0..1)\n",
    "t = Fun(identity, 0..1)\n",
    "y = [Evaluation(Chebyshev(),0); Evaluation(Chebyshev(),1)*𝒟; 𝒟^2 - t] \\ [0; 0; 0]"
   ]
  },
  {
   "cell_type": "code",
   "execution_count": 20,
   "metadata": {
    "collapsed": false
   },
   "outputs": [
    {
     "data": {
      "text/plain": [
       "0.64076835137228"
      ]
     },
     "execution_count": 20,
     "metadata": {},
     "output_type": "execute_result"
    }
   ],
   "source": [
    "b = Fun(cos,Fourier())\n",
    "c = 0.1; u = (𝒟+c*I)\\b;\n",
    "u(0.6)"
   ]
  },
  {
   "cell_type": "code",
   "execution_count": 33,
   "metadata": {
    "collapsed": false
   },
   "outputs": [
    {
     "ename": "LoadError",
     "evalue": "Cannot infer spaces",
     "output_type": "error",
     "traceback": [
      "Cannot infer spaces",
      "",
      " in #\\#279(::Array{Any,1}, ::Function, ::ApproxFun.InterlaceOperator{Float64,1,ApproxFun.UnsetSpace,ApproxFun.TupleSpace{Tuple{ApproxFun.ConstantSpace{ApproxFun.Point{Int64}},ApproxFun.UnsetSpace},ApproxFun.RealBasis,ApproxFun.Point{Int64},1},ApproxFun.CachedIterator{Tuple{Int64,Int64},ApproxFun.BlockInterlacer{Tuple{ApproxFun.Repeated{Bool}}},Tuple{Int64,Int64,Tuple{Void},Tuple{Int64}}},ApproxFun.CachedIterator{Tuple{Int64,Int64},ApproxFun.BlockInterlacer{Tuple{ApproxFun.Take{ApproxFun.Repeated{Bool},Bool},ApproxFun.Repeated{Bool}}},Tuple{Int64,Int64,Tuple{Tuple{Int64,Void},Void},Tuple{Int64,Int64}}},Tuple{ApproxFun.Infinity{Bool},ApproxFun.Infinity{Bool}}}, ::Array{Int64,1}) at /Users/thomasmoore/.julia/v0.5/ApproxFun/src/Operators/A_ldiv_B.jl:7",
      " in \\(::ApproxFun.InterlaceOperator{Float64,1,ApproxFun.UnsetSpace,ApproxFun.TupleSpace{Tuple{ApproxFun.ConstantSpace{ApproxFun.Point{Int64}},ApproxFun.UnsetSpace},ApproxFun.RealBasis,ApproxFun.Point{Int64},1},ApproxFun.CachedIterator{Tuple{Int64,Int64},ApproxFun.BlockInterlacer{Tuple{ApproxFun.Repeated{Bool}}},Tuple{Int64,Int64,Tuple{Void},Tuple{Int64}}},ApproxFun.CachedIterator{Tuple{Int64,Int64},ApproxFun.BlockInterlacer{Tuple{ApproxFun.Take{ApproxFun.Repeated{Bool},Bool},ApproxFun.Repeated{Bool}}},Tuple{Int64,Int64,Tuple{Tuple{Int64,Void},Void},Tuple{Int64,Int64}}},Tuple{ApproxFun.Infinity{Bool},ApproxFun.Infinity{Bool}}}, ::Array{Int64,1}) at /Users/thomasmoore/.julia/v0.5/ApproxFun/src/Operators/A_ldiv_B.jl:4",
      " in #\\#284(::Array{Any,1}, ::Function, ::Array{ApproxFun.Operator{Float64},1}, ::Array{Int64,1}) at /Users/thomasmoore/.julia/v0.5/ApproxFun/src/Operators/A_ldiv_B.jl:47",
      " in \\(::Array{ApproxFun.Operator{Float64},1}, ::Array{Int64,1}) at /Users/thomasmoore/.julia/v0.5/ApproxFun/src/Operators/A_ldiv_B.jl:47"
     ]
    }
   ],
   "source": [
    "t = Fun(0..1)\n",
    "u = [Evaluation(0); 𝒟]  \\ [1;0];\n",
    "plot(u)"
   ]
  },
  {
   "cell_type": "code",
   "execution_count": 38,
   "metadata": {
    "collapsed": false
   },
   "outputs": [
    {
     "data": {
      "text/html": [
       "<img src=\"data:image/png;base64,iVBORw0KGgoAAAANSUhEUgAAAlgAAAGQCAYAAAByNR6YAAAABHNCSVQICAgIfAhkiAAAAAlwSFlzAAAPYQAAD2EBqD+naQAAIABJREFUeJzt3Xt8lNW97/HvM5lcuGS4axOTeCkJSBEBTWvRIqWH1r3363jDG4VitHLZ1eNue7o3x3o2Fqpg3ZaeVluL0qZStJtaqO5WbevWtkrFKpUCQikBhQxyCRDJ5J65rPPHkAkxk3CbzLPmyef9TzIzT2ZWfk9wvv7WetY4xhgjAAAApIzP7QEAAAB4DQELAAAgxfxuvngsFtO+ffuUn58vx3HcHAoAAMBpMcaovr5ehYWF8vnivStXA9a+fftUXFzs5hAAAABSIhgMqqioSJLLASs/Pz8xoEAg4OZQ+pRQKKTi4mLqnmbU3R3U3R3UPf1ePxDTP/wmKr38iILfv4O6p1H733t7rpFcDljt04KBQIA/BBdQd3dQd3dQd3dQ9/TJa4hJ/aJSVjZ1d8nxy51Y5A4AgAdE2zddikVdHQfiXO1gAQCA1Ii1BywTc3UcH9bW1qY9e/YoGs3s4Ofz+VRQUNBpGrAnBCwAALzEov3D9+7dq89//vNqampyeygpc9111+mee+5JXC3YHQIWAABIuVgspsWLF2vw4MH63ve+p7y8PLeHdEbC4bA2btyoRx55RJJ077339ng8AQsAAKTc4cOH9fbbb+uBBx7Q+PHj3R5OSlx00UWSpO9973u6++67e5wuZJE7AABIuaNHj0pSYl8or5gwYYIkaf/+/T0eR8ACAMBLLPlklFgsvtg+KyvL5ZGkVnZ2tqSO3687BCwAANCn7d69W1OmTNGgQYNSNp1JwAIAAH1aIBDQ/fffr6effjplz0nAAgAAfcLDDz+suXPnJm4fPXpUw4cPlyRdccUVGjBgQMpei6sIAQBAWrwbMjralvrnHZwjXRA48dqzO+64Q2VlZXrooYc0ePBgVVZW6pprrtHQoUNTPiYCFgAA6HWHW4xKfx7p2HE+hbIc6cAsv4bn9RyyBg8erBtuuEE//vGP9ZWvfEWPPfaYVq9enfoBiYAFAIAn2LN/e3LD8xxV3eTvtQ7WicJVu7vvvltXX321LrzwQo0YMSKx7UKqEbAAAPCAjk/IsWObhmROZhqvt40ePVoXXHCB5s6dq4ceeqjXXodF7gAAeIDtHSybzJkzR5FIRDfccIMkqampSUVFRbrxxhu1bds2FRUV6Z577jmj16CDBQCAB/TG2iav+v3vf68vfelLiU1D+/fvr71796b0NQhYAAB4APnqxPbt26epU6dq6NCh+u1vf9urr0XAAgDAA+hgnVhhYaG2b9+eltdiDRYAAB5AvrILAQsAAA8wliUsny8eMcLhsMsjSa2WlhZJkt/f8yQgU4QAAHiAbVOEhYWFysnJ0RNPPKE5c+YkFpRnqmg0qr179+rRRx9V//79VVJS0uPxBCwAADzAsnylgQMHatmyZfrqV7+q119/3e3hpMwll1yiH/7wh8rJyenxOAIWAAAeYFsHS5Iuu+wy/e53v9O+ffsUi8XcHs4Z8fl8GjJkiIYNG5aY/uwJAQsAAA+wMF9JineyysrK3B5G2rHIHQAAD7Cxg9WXEbAAAPCAjo8idP/z/kDAAgDAE2zbpqGvI2ABAOAB5Cu7ELAAAPAApgjtQsACAMADOqYICVg2IGABAOAldLCsQMACAMADOtZgEbBsQMACAMBL6GBZgYAFAIAHJNZgEbCsQMACAMAD2KbBLgQsAACAFCNgAQDgAeyDZRcCFgAAHsA+WHYhYAEA4CV0sKxAwAIAwAOYIrQLAQsAAA9gitAuBCwAALyEDpYVCFgAAHgAH5VjFwIWAABeQgfLCgQsAAA8oGMJFm/tNuAsAADgAXwWoV26DVhVVVWaNGmSysrKVF5erq1bt/b4RBUVFXIcR0ePHk35IAEAwEmig2WFbs/CvHnzNHfuXO3YsUMLFixQRUVFt0+ydu1aZWdn98b4AADASTDtk4R0sKyQNGDV1NRow4YNmjVrliRp+vTpCgaD2rlzZ5djDx48qCVLlmjZsmW9O1IAANCtjilCOlg28Ce7MxgMqqCgQH5//GHHcVRSUqLq6mqNHDmy07Fz5szRQw89pPz8/BO+WGtrq1pbWxO3Q6FQp69ID+ruDuruDuruDuqefs0tWZJyJDnUPc2S1TtpwDpZK1asUElJiaZOnXpSxy9dulSLFi3qcn9xcfGZDAOnibq7g7q7g7q7g7qn0ZVzpZmPSj4fdbeAY0zH5vrtampqNHLkSNXW1srv98sYo4KCAq1bt65TB2vmzJl69dVXlZWVJUnas2ePiouL9dxzz2nChAldXixZB6u4uFjBYFCBQKA3fj8kQd3dQd3dQd3dQd3T74mqLH3t7RzpT08qeP9V1D2N2v/e6+rqEnVP2sE666yzNHHiRK1atUoVFRVas2aNioqKukwPPvXUU51uO46jzZs3a/DgwUkHkJubq9zc3C73BwIB/hBcQN3dQd3dQd3dQd3Tp1+/qKSY5PiouwW6nSJcvny5KioqtGTJEgUCAVVWVkqSFi5cqMLCQs2fPz9tgwQAAD1jHyy7dBuwRo0apfXr13e5f/Hixd0+WZLZRgAAkE5cRWgFzgIAAB7Q8VE5dLBsQMACAMAD2AfLLpwFAAAy3OpdMb1bf+wGHSwrnNE+WAAAwH23vBLtuEEHywqcBQAAvIQOlhUIWAAAeAkdLCtwFgAA8BQ6WDYgYAEA4CU+3tptwFkAAMBT6GDZgIAFAICXsAbLCpwFAAC8hAaWFQhYAAB4CR0sK3AWAADwEvbBsgIBCwAAL6GDZQXOAgAAXkIHywoELAAAvIQOlhU4CwAAeAodLBv43R4AAAA4PcYY/cfmWOc72cndCpwFAAAy1MYj0oI3PxSw6GBZgYAFAECGaouarneyBssKnAUAADJUknjFVYSWIGABAOAldLCswFkAAMBL6GBZgYAFAECGSj5FyFu7DTgLAAB4CR0sKxCwAADIUPVtSe6kg2UFzgIAABloV8joqt9EkzxCB8sGBCwAADLQe/VJV2Cxk7slOAsAAGQg002+ooNlBwIWAABewhosK3AWAADwEq4itAIBCwCADPTbvd3MEdLBsgJnAQCADNMUMfr2lljyB+lgWYGABQBAhol0k60k0cGyBGcBAAAvoYNlBQIWAAAZpj7cw4N0sKzAWQAAIMMUPR1xewg4AQIWAABewk7uVuAsAADgKazBsgEBCwCADPLzXT1dQijWYFmCswAAQAa5+ZVozwcwRWgFzgIAAJ7CFKENCFgAAGSI53afYHpQYh8sSxCwAADIEN/ceDIBi7d2G3AWAADIAMYY/eVwNx/wfDw6WFYgYAEAkAHeOnQS4Uqig2UJzgIAABngheBJBiwWuVuBgAUAQAZY9PZJrL+S2KbBEpwFAAAs98bBkwxXkuhg2YGABQCA5a596QSbix6PNVhW4CwAAGCx5ojRweZT+AGuIrQCAQsAAIv9cvfJLm4/hg6WFTgLAABYyhijmb8/helBiQ6WJQhYAABYasXfT7F7JdHBsgRnAQAAS8197RS7VxIdLEsQsAAAsNDDm08jXEl0sCzBWQAAwDLRmNG//vlU9r46Hh0sGxCwAACwzLItpxuuxE7uluAsAABgkXDM6N/ePIOARQfLCgQsAAAsYYxRzo8iZ/YkrMGyAmcBAABL3P36mXSujmGK0AqcBQAALNASMXp0WwoCliRzGttnIbUIWAAAuKy+zahf5RlODR6HfOU+AhYAAC4LPJm6cCVJMRKW6whYAAC46HvvnOaGoj0gX7nP7/YAAADoq67+bUS/qk59HKKD5T46WAAAuOD7W6O9Eq4kOlg2oIMFAECa3fWnqL6foisGk6GD5T46WAAApNGGQ7FeDVcSHSwb0MECACANjDEa8dOIjrT2/mvRwXJftx2sqqoqTZo0SWVlZSovL9fWrVu7HLNlyxZNnjxZo0eP1tixY3X77berubm5VwcMAECmaYsa+VakJ1xJdLBs0G3AmjdvnubOnasdO3ZowYIFqqio6HJMXl6eHn30UW3fvl2bNm1SY2OjvvWtb/XmeAEAyCgftBrl/ji1+1ydCB0s9yUNWDU1NdqwYYNmzZolSZo+fbqCwaB27tzZ6bjS0lKNGzdOkpSVlaXy8nLt3r27d0cMAECG+H9bohq6Mr3hSqKDZYOka7CCwaAKCgrk98cfdhxHJSUlqq6u1siRI5M+UWNjo1asWKGlS5d2+2Ktra1qbe3oj4ZCoU5fkR7U3R3U3R3U3R19ve6HWqQZ63L11hF3riULheoVynHlpfukZH/nKVnk3tbWpptvvlmf/exndd1113V73NKlS7Vo0aIu9xcXF6diGDhF1N0d1N0d1N0dfa7uWX6paJx07xuuDmPcxRdLDUdcHUNf5xjT9TO3a2pqNHLkSNXW1srv98sYo4KCAq1bt65LByscDuumm27S8OHD9fjjj8txnG5fLFkHq7i4WMFgUIFAIIW/FnpC3d1B3d1B3d3RF+u+pjpLt6+3o220cWqNLhiR7/Yw+oz2v/e6urrE33vSDtZZZ52liRMnatWqVaqoqNCaNWtUVFTUJVxFIhHdcsstGjp06AnDlSTl5uYqNze3y/2BQKDP/AO0CXV3B3V3B3V3R1+o+9+PGo1+Jv3rrHoyMD/f83W3XbdThMuXL1dFRYWWLFmiQCCgyspKSdLChQtVWFio+fPna/Xq1Vq7dq3GjRunCRMmSJIuv/xyff/730/P6AEAcMm6AzF96lep/6DmVOAqQvd1G7BGjRql9evXd7l/8eLFie9nzpypmTNn9s7IAACw0J56oym/jmh3g9sj6R75yn3s5A4AwEloDBsN/IldU4HdoYPlPgIWAADdiMaMvv5WTA9t7t3PDkw1o57XRKP3EbAAADiOMUZvH5YufTYzulXJdN0fAOlGwAIAQFJ9m9G6g0b/+Bs7F66fiszqt3kTAQsA0Ge1RIxWVhnNW5f5oep4dLDcR8ACAPQ5TRGjjz1j95WAZ4IOlvsIWAAAT4sZo01HpH9ZH9VrB/pGa4cOlvsIWAAAz4kZo6wVmbtI/UyRr9xHwAIAZLzaFqM1u43mvuattVSnypGRkUMHywIELABARjHG6L166T93xfT1CVlyngi7PSRr+BwpaliDZQMCFgDAageajJ6vNrojSXfq3g1EieO1Byw6WO4jYAEArHG01eiRrTFdc65PHw0oYz6axha+Y1/5qBz3EbAAAGnXHDE60CT9qjqmV/YZPbencyJY+Bc6U6fDd+wTcshX7iNgAQB6jTHSpiNG/bKkUc/Qjept7QGLDpb7CFgAgDPWEjH66xGjsUMdLf9bTF/7cz/p8TYN/rkkEazSpX2KkHzlPgIWAOCEwjGjaEzK88dbJENXhvVBq8uDQhd0sOxBwAIASIpfrfd+o9QSNfrDfqOfvxvT5trOx9TM8uu/9hjClaVYg2UPAhYA9BEtEaNtR6VX98f0+kGjTbVGO+pO7TnOWsV0n83oYNmDgAUAHrC/yejdUDwwbTwS3+pg5ZQszf5D397ZvK/xnfgQpAkBCwAsZIxRxMTfMF89EN/SYO3umKrqjKpCUtNJNJIIV30PHSx7ELAAwCXGGA1ZGdGD5T7985/Y9wlnrmMNluPuQEDAAoAzUdtilO2T3jpkNCzP0cqqmP52ND5d9/du1jeZOdmSJN+KeBuKcIVU8clIcuhgWYCABaDPixmjmJHeDUl/O2rk90lZjvT6QaNQWHrm3Zju/phP/+et1ASh3++L6dOFrJZB6mW1TxG6OwyIgAXAg+rbjJZvj2n+hT7N/3O29E/36o712dpWH9bWD07vOVMVriRp6vNRvf95pnCQeqzBsgcBC4AVojGjmpb49+GYtP2o0b4mqSFsVFUnHWg22ng4vsA72xc/ZtxQaXOtNCxXOjw7O/FcgSfjU2//+ueYJL90zX16ptqFX6oH5zzNdgdIvfYOVpSA5ToCFoAzEo0ZBRulkoHSXw7Hp9rqw1J1g/ROrVFjJD7t9s4HRvnZ8fvPVPhYM6l9E8wjx216+fpBJkfQd2XRwbIGAQvow+rbjH6z12hEnnS0TQo2GG2uNTrQLB1qkTYcMin9P+He3P37ut9F9MvP+nX5f7E1AfouOlj2IGABFooZo0PN8YWq0Zi0q96oJSLlZsW7Qe83Sv380pr34t2a4oGOfr/PqD7s7rjd9Owe3lGALD4qxxoELOAUGRO/sqwhLLVFpbqw1BwxOtwSn6pqjRoFG+JBKNgo1TTHP7ctHMuTHm/ToNWSlNoktPEI/zmVJOeJPpwwAXUscqeD5T4CFjJec8QoEpP8vvg0V8xI79UbNYbjtxvC0t/rjGqa44uoDzYbZfscbak1J7Ubdupw1RiA3uU/tvsHAct9BCycEWOMmqPxj+0Y6I9PYW2pjS9C/qAtvpfwoRbpgY1RlQx0NP9Cn5ZtiSmQE1/vc6Q1NYueT2PkbrwoAPQqFrnbg4CVQWImHlgaI/F/PE0RaWfI6MLBjoblOTrcYvTkjphGDXK0tzHerdkVMioZ6OjNGqNATny36T0N/TpNVd1e5uinO03iyqze8s4HRi8EWYAMAL0ly4knKzpY7iNgHccYo/1N0oBsqSUitcWkvY1GowY5+lW1UUF/KdQWn2KqaZHePhy/wirUJrVE4/v0NEek2lbp7H7Sweb485YM7P0ujZmTrRE/7W6+q+d/aT/ewb9EAPCCjg4WSxLcZkXAGvSTsNTPW4tT28OVlJ4pMBb3AgDYyd0efBgWAAAewRosexCwAADwCDYatQcBCwAAj/ATsKxBwAIAwCMSU4TuDgMiYAEA4BmOIykWo4NlAQIWAABeYqIscrcAAQsAAI9wJCkWI2BZgIAFAICX0MGyAgELAAAvYQ2WFQhYAAB4iYkqykfluI6ABQCAR7RfRcg2De4jYAEA4BGOdKyD5fZIQMACAMBLYixytwEBCwAAj4h3sNimwQYELAAAvIQOlhUIWAAAeITjGMmwTYMNCFgAAHiEI0nRiCIELNcRsAAA8JJoRGH2aXAdAQsAAI+Id7DCisTYaNRtBCwAALwkGlaYKULXEbAAAPAIx1E8YDFF6DoCFgAAHuFIUizCVYQWIGABAOAldLCsQMACAMAj2he5E7DcR8ACAMBLomGFDVcRuo2ABQCAR8QXuUcUoYPlOgIWAABewhShFQhYAAB4RPtH5bAPlvsIWAAAeETHTu5ujwQELAAAvCTcotYoi9zdRsACAMAjHEdSW5Oao26PBAQsAAC8pK1ZTQQs1xGwAADwCEeSws1qYYrQdQQsAAA8wpGktiY1RdweCQhYAAB4CWuwrEDAAgDAIxxHUnNIbTFHzRE2w3JTtwGrqqpKkyZNUllZmcrLy7V169akx/3617/W6NGjVVpaquuvv16hUKjXBgsAAE6g4bAk6XCLy+Po47oNWPPmzdPcuXO1Y8cOLViwQBUVFV2OaWho0Be/+EU9++yzqqqqUmFhob75zW/25ngBAEBP6g9Jkg4208FyU9KAVVNTow0bNmjWrFmSpOnTpysYDGrnzp2djnvxxRc1YcIEjR49WpL0pS99ST/72c96ecgAAKBbh96VJP3tqMvj6OP8ye4MBoMqKCiQ3x9/2HEclZSUqLq6WiNHjkwcV11drXPPPTdx+7zzztP+/fsViUQSP3u81tZWtba2Jm4znQgAQOpEwmGpuU4XBcKa/QfpX17vuJzwwxs3OMfdcfxjJ3tcl5/r8TiT9LgeX/tkj+vhtXvnd+l6XLSpVR+WNGD1lqVLl2rRokXpfEkAAPqM//zZ05KkLXeOkSZerw987RNVH04r3cSQLumnh7iS0c+hHh47jXFETjJgFRcXd+pEGWNUXV2tkpKSTseVlJTopZdeStzevXt3p87Xh91zzz366le/mrgdCoVUXFyc9FgAAHBqZsyYoZ/99J8V/Os6BQIBt4fTZ4RCIRWvvbfTfUmT0FlnnaWJEydq1apVqqio0Jo1a1RUVNRpelCSrrrqKt15553avn27Ro8erR/84Ae65ZZbuh1Abm6ucnNzU/CrAACAD8vJyZEkBQIBApbLup0iXL58uSoqKrRkyRIFAgFVVlZKkhYuXKjCwkLNnz9f+fn5WrFiha699lpFIhGNHTtWTz75ZNoGDwAAYCPHGOPadZyhUEiDBg2SvntY6kfSBgDgTFRcENFP/kd/1dXV0cFKo/Y8c3zd2ckdAACP6GkdN9KLgAUAAJBiBCwAADyCBpY9CFgAAAApRsACAMAj6GDZg4AFAIBHsMjdHgQsAACAFCNgAQDgETSw7EHAAgAASDECFgAAHkEHyx4ELAAAgBQjYAEA4BFcRWgPAhYAAB5BvrIHAQsAACDFCFgAAHgEHSx7ELAAAABSjIAFAIBHsMjdHgQsAAA8gnxlDwIWAABAihGwAADwCEfG7SHgGAIWAABAihGwAADwChZhWYOABQCAR5Cv7EHAAgAASDECFgAAHsE+WPYgYAEAAKQYAQsAAI+ggWUPAhYAAECKEbAAAPAIOlj2IGABAOARLHK3BwELAAAgxQhYAAB4BA0sexCwAAAAUoyABQCAR9DBsgcBCwAAj2CRuz38bg9Akg59wa9Gv1+tUSnbJ239wKghIh1qNvrDfqOjbdLE4Y6eeTemIbnSraU+/WBbTBOHO1q72ygc6/x8Fw6W/nbUnd8FAADAioCVk+VoeH5H7D4/0PH9/xrbcdx/fCIr8f2XL+r43g0xYxQ1UktEaotJH7RKfp90pEVqiBhFj4W+7XVG5/R39PpBo/fqjerD0tE26Y0a0+n57r/Up/9+Px4oAQA4HTSw7GFFwMpEPseRz5Gyc+K3h+XFv56XLx3/Jz71nPjXa8478XPeOyF14wvHjFoi8dDXEpWaIlIkJoXC0uBYvUqmztCKp36uA5E8fXmsT9uOGn3tjZh8jnSw2agxIlU3dH7OQ1/wa3ieo+kvRbR2N0EQAIDuELA8KtvnJMJfP780JLfjsVBI0pYXdOO5UQUC8U5g+QhHf/yfJ7ckb820k/+zicSMHElZPkfhmNGmI0bnDHBU0yzVh+MdvQ9apZpmo4PN0pQCR389YvSjv8c0ONdRdYNRU0SqD5/0SwJAn0UHyx4ELPQqv6/jn3u2z9GlI+K3C/pL3f2n4HPF0oLxZz4FbIxRW0zKcqRDLVKoLd7Ja4sZhdqkurZ4R++DVqN9TVKwwShipL2N0u56o0MtZzwEAEgrFrnbg4AFz3IcR7nHclpB//ZQJ/XW/+PFjFFzRPI58XV2R1riXbrGiNQckXYcbtbX7vl3/fPXH1CjsvX2YSOj+GPv1vfKkAAALiFgASnicxwNyI5/38/ftUsXGhLV1176jh78xTcUCPQ75eePGaOYkaImHsqqG6SiAdJfjxi9dSge1j5xlqPHtsWUmxW/kva9eqPa1pT8egAyAA0sexCwgAzRfmGFX1JuljT42Lq6qec4iYspJOnThae2vZ0x8anRaEwykrbUGn3QGp9Czc+RNhwyqmuTqkJGJQMcPbotpkcm+TRmsKPPvBDV54oclY9wdP/G2AlfCwD6CgIW0Mc5jqNsJ74HnSR9/KzO/w/8D8Wdj3/k8o71cWZOR5j75qUd94djRvVt8SB4uCW+9u1PB41GBqQ7XotqVyh+3MiAtDOU2t8H6MvoYNmDgAUg5bJ9joYe27qkfdr0wiHx//TvvPnkO2xNkfhGwgea4vvN1bYaHW6RfloV0/TzfZr9h6hid/jlWxHp8rNXnO1o3UG2EwHgDgIWAGv198dD2aCc9nvit6efHw9pXyiNfzVzspP+fFPEqC5Ur8LSsfrtm9tUq/56v9Goqk7aUWe04bBxbQuQ5tv86lfZNRgCZ4KrCO1BwALgWf39jiJ+SbVBXTYipkDg1Nan1bUZ7W2QjrYZLf1rTI9dkaXJv4pod8OJf7Ynh7/gV56fd0KkHn9V9iBgAUA3BuU4GjRUkhz9+qp4OHtvRvJumSQ1ho1ao/GrSF/ZZ7TtA6P1NUZ7GuJbeLR/RuqwvPjb4G1ljip3MI0JeBEBCwBSZEB2x1Yd/1Ti6J9Kej7+x1f6dcfomMoGOVq9K6btR6Vgo9ELwa4fYg+cDDpY9iBgAYCLJp0d74zd+bHuP70gGjP6oC3+5rn9qNHv3jcq7C8tejum/U0nfo3wF/3K/hHrvYB0ImABgOWyfI6GH7sq8/KPOLr8I/Hv513YOZTFTPyzO6sb4pvRfuK5iP50dZb8PkeDc+KfMACPo4VlDQIWAHiEz3E0MFsaMyR+O3JHx3qxD26Nfx+JxT++6d2QtPGI0UC/9MTfY/rv91kL5gXkK3sQsACgD/H7HA3KkSYMlyYMj78d3/TRzldXNkWMNhwyeu1AfHH+d96JqenYDGPki35tOyqNW8OUI9ATAhYAoJP+fkeTCxxNLojfvr+881TkRUOl1VOzVBeWvrWpY2d+uI8Olj0IWACAU9be9ZozuqP71RY1+uN+o7cPGx1qaNW3/9Z5S4tHJ/l01+tcHom+gYAFAEiJnCxH04ocTSuSQqGIvv2pAaqrq1N+fr5aolI/v6P+fke3vxp1e6iexU7u9iBgAQB6leM46nfs3ea2UT7dNqpz1+vhzTG9dsDoN3s7L7T//EcdPb2LxffITAQsAIBrcrIcfX1C5zVeh5qNBudKfkd6eheL6U8FDSx7ELAAAFYZ0a8jJrR/kHdTxKimWfrl7pi++gbruLpDwLLHqX3yKQAALujvd3RevqOvXJQlMydbZk62/n4jPQLYi79OAEBGKhvsJDpckvR+o1FjWBr1TN+dVmSRuz0IWAAATzhnQDxdtIeuVVUxfeEPXLEIdxCwAACeNKvUp1ml8ZUwTRGjN2uMbv1jVNUNLg+sF9HAsgcBCwDgef39jqYUOtozIx64apqNip6OKOyx9fIELHsQsAAAfc5Z/Ry1fTE+lVjdYLRwQ1RPVrHnFlKHqwgBAH1ayUBHP5nil5mTrdgdfl0yPHP7QCxytwcdLAAAjnEyeKXWAAAOCklEQVQcRxuu8ytmjN6pla76TUT7m9weFTIRHSwAAD7E5zgaN8zRvpnZCs7wa8xgt0d0chwxzWkLAhYAAD0oGuho643x6cM5o+2eg7N7dH0LAQsAgJPgOI4e/5Rf4S/69f3LfbowQ7pacEfSgFVVVaVJkyaprKxM5eXl2rp1a9If3rJliyZPnqzRo0dr7Nixuv3229Xc3NyrAwYAwE1+n6MvjcnSthuztfF6u5Yys8jdHkkD1rx58zR37lzt2LFDCxYsUEVFRdIfzsvL06OPPqrt27dr06ZNamxs1Le+9a3eHC8AANYYPyz+cT0F/d0eCWzTJWDV1NRow4YNmjVrliRp+vTpCgaD2rlzZ5cfLi0t1bhx4yRJWVlZKi8v1+7du3t3xAAAWGbfzGyFbvXrc0XutpBoYNmjS28zGAyqoKBAfn/8IcdxVFJSourqao0cObLbJ2psbNSKFSu0dOnSbo9pbW1Va2tr4nYoFOr0FelB3d1B3d1B3d3RV+v+88ul3+3z6cbXcl15/ZaWFkl9r+5uS1bvlEwet7W16eabb9ZnP/tZXXfddd0et3TpUi1atKjL/cXFxakYBk4RdXcHdXcHdXdHn627P1c6v1z611fS+rL3LVwoqQ/X3SKOMcasXLlSy5YtkyTNmDFDDzzwgGpra+X3+2WMUUFBgdatW5e0gxUOh3XTTTdp+PDhevzxx+X0sMIuWQeruLhYwWBQgUAg9b8dkqLu7qDu7qDu7qDucbvqHU18IS9tr/fNMSH9+xXD+3zd0639772uri5Rd78kzZ49W7Nnz04c+OKLL2rVqlWqqKjQmjVrVFRUlDRcRSIR3XLLLRo6dOgJw5Uk5ebmKje3a9s0EAjwh+AC6u4O6u4O6u6Ovl73CQGp8TajAZWRtLxeXl48zPX1utsg6VWEy5cv1/Lly1VWVqYHH3xQlZWViccWLlyoH/7wh5Kk1atXa+3atdqwYYMmTJig8ePH684770zPyAEAyAD9/fErDSed3ftL0Fnkbo+ka7BGjRql9evXJ/2BxYsXJ76fOXOmZs6c2TsjAwDAQ/50tV+rd8V0yytRt4eCNGAndwAA0uTmj/r00ylZbg8DaUDAAgAgjWaV+vTmtb0TstjJ3R4ELAAA0qx8hE9vX2fXx+wgtQhYAAC4YMJwR9tvTG3IooFlDwIWAAAuGTXY0TvT6WR5EQELAAAXfWyoo2c+k5o1WXSw7EHAAgDAZTdc4NOIFGz4ziJ3exCwAACwwIFZTBV6CQELAAAL+BxHf73+zEIWDSx7ELAAALDExcMczb+Qt2Yv4CwCAGCRRyed/lszHSx7ELAAALBIls/R/53A23Om4wwCAGCZxZec3tszVxHag4AFAIBlHMfR61ef+t5Y5Ct7ELAAALDQJ8/mLTqTcfYAALDUuzezN1amImABAGCp8wNM+mUqAhYAABb78eTUfE4h0ouABQCAxW4bxVt1JuKsAQBgubmjebvONJwxAAAsd+cY3q4zDWcMAADLjRvGYvdMQ8ACACADXH/eiUMWMcweBCwAADLAU5/masJMQsACACAD5PnpT2USAhYAABni5X+ki5UpCFgAAGSIicPpYmUKAhYAABliQHbPj5v0DAMngYAFAECGyPY5+rdxvHVnAs4SAAAZxOlhlpAJRHsQsAAAyCDTziFGZQICFgAAGeQz5/g0PM/tUeBECFgAAAApRsACACDDMEloPwIWAAAZ5qFPsOGo7QhYAABkmIoy3r5txxkCAABIMQIWAABAihGwAAAAUoyABQBABnr4E13fwnva5R3pRcACACAD/e9xXa8kNHzaszUIWAAAAClGwAIAAEgxAhYAAECKEbAAAABSjIAFAACQYgQsAAAy1F+u83e6zTYN9iBgAQCQoSYOJ1HZioAFAACQYgQsAACAFCNgAQAApBgBCwAAIMUIWAAAAClGwAIAAEgxAhYAAECKEbAAAABSjIAFAEAGy8tyewRIhoAFAEAG23aDXzddwI7utiFgAQCQwc4POJpaSMCyDQELAAAgxQhYAAAAKUbAAgAASDECFgAAQIoRsAAAAFKMgAUAQIZzxFWEtiFgAQCQ4Zxj+coYd8eBDgQsAAAyXHv/inxlDwIWAAAZjoBlHwIWAAAewRShPZIGrKqqKk2aNEllZWUqLy/X1q1bT/hEFRUVchxHR48eTfkgAQBA9xJrsNwdBo6TNGDNmzdPc+fO1Y4dO7RgwQJVVFT0+CRr165VdnZ2b4wPAACcANcQ2qdLwKqpqdGGDRs0a9YsSdL06dMVDAa1c+fOpE9w8OBBLVmyRMuWLevdkQIAgKToYNnH/+E7gsGgCgoK5PfHH3IcRyUlJaqurtbIkSO7PMGcOXP00EMPKT8//4Qv1traqtbW1sTtUCjU6SvSg7q7g7q7g7q7g7qnV0tzlqQcNTe3SKLu6Zas3l0C1qlYsWKFSkpKNHXq1JM6funSpVq0aFGX+4uLi89kGDhN1N0d1N0d1N0d1D1NPvkF6bYf6Z577pFE3W3gGGPMypUrE1N8M2bM0AMPPKDa2lr5/X4ZY1RQUKB169Z16WDNnDlTr776qrKysiRJe/bsUXFxsZ577jlNmDChy4sl62AVFxcrGAwqEAj04q+J41F3d1B3d1B3d1D39PrZe1ma/2aOHhgT0r1XDKfuadb+915XV5eou1+SZs+erdmzZycOfPHFF7Vq1SpVVFRozZo1KioqSjo9+NRTT3W67TiONm/erMGDBycdQG5urnJzc7vcHwgE+ENwAXV3B3V3B3V3B3VPj/79Y5Kiys3Lk0TdbZB0inD58uWqqKjQkiVLFAgEVFlZmXhs4cKFKiws1Pz589M2SAAA0D2uIrRP0oA1atQorV+/PukPLF68uNsnM+xwBgBA2nEVoX3YyR0AgAyX+KgcEpY1CFgAAGQ4pgjtc0bbNJyp9ilF9utIL/ancQd1dwd1dwd1T6+slpjUHFWsuU0SdU+39nofv1TKMS4unNq7dy97dQAAAE8IBoMqKiqS5HLAisVi2rdvn/Lz8+U4NDjThf1p3EHd3UHd3UHd3UHd3WGMUX19vQoLC+XzxVdfuTpF6PP5EkkP6cc+Ke6g7u6g7u6g7u6g7uk3aNCgTrdZ5A4AAJBiBCwAAIAUy/rGN77xDbcHgfTLysrSlClT5Pe7Okvc51B3d1B3d1B3d1B3O7i6yB0AAMCLmCIEAABIMQIWAABAihGwAAAAUoyA5VEvvPCCJk6cqPHjx2vs2LF68sknE4/V1NToqquuUmlpqcaOHatXX3018VhTU5NmzJihkSNHqqysTL/4xS/cGH7Gam1t1V133aXS0lJddNFFmjVrVuIx6t77Kisr5TiOnn322cR91L13tLS06Nprr1VZWZkuvvhiTZs2TTt37kw8Tt3Tr6qqSpMmTVJZWZnKy8u1detWt4fUtxl4TiwWM0OGDDGbNm0yxhjz3nvvmdzcXBMKhYwxxtx2223mvvvuM8YY8+abb5pzzjnHtLW1GWOMWbRokbn11luNMca8++67ZsSIEebw4cNp/x0y1Ze//GVz1113mVgsZowxZv/+/YnHqHvveu+998wnP/lJc9lll5lf/vKXifupe+9obm42zz//fOJv/ZFHHjFXXnll4nHqnn6f/vSnTWVlpTHGmGeeecZceuml7g6ojyNgeVAsFjNDhw41f/zjH40xxmzatMkUFhaa1tZWY4wxAwYM6PTGX15ebl566SVjjDFjxowx69evTzx24403mieeeCKNo89cDQ0NJj8/39TV1SV9nLr3nmg0aj7zmc+YDRs2mCuvvLJTwKLu6fHWW2+Zc889N3GbuqfXwYMHTX5+vgmHw8aY+PvA2WefbaqqqlweWd/FFKEHOY6j1atX6/rrr9e5556rK664Qk8++aRycnJ05MgRhcNhfeQjH0kcf95556m6ulqSVF1drXPPPTfpY+jZrl27NHToUC1ZskSXXnqpPvWpT+nll1+WJOrey5YtW6bLL79cl1xySaf7qXv6fPe739U111wjibq7IRgMqqCgILH3leM4Kikpoa4uYhcyD4pEIrr//vu1du1aTZ48WW+99ZauvvpqbdmyhQ/V7kWRSER79uzRmDFj9OCDD2rjxo2aNm2atm7dyoZ/veidd97RmjVrOq3xQXotWbJEO3fuTPwPBQAWuXvGypUrNX78eI0fP17f+c53tG/fPk2ePFmSVF5erqKiIm3cuFHDhg2T3+/XgQMHEj+7e/dulZSUSJJKSkq0Z8+epI+hq+Pr/vLLL8vn82nmzJmSpAkTJuj888/Xli1bqHuKHV/31157Tbt371ZpaanOO+88vfHGG5o7d64ee+wx6p5ix9e9srJSkvTwww9r7dq1evHFF9W/f39Jou4uKC4u1v79+xWJRCRJxhhVV1dTVze5PUeJ1Dtw4IAZOHCg2bZtmzHGmKqqKjNkyBCzZ88eY4wxt956a6fFp4WFhYnFp/fdd1+XxaeHDh1K+++QqaZNm2aef/55Y0y8fsOGDTN79+41xlD3dPnwGizq3nu+/e1vm4kTJ5ra2touj1H39Lvyyis7LXK/5JJL3B1QH0fA8qinn37ajB071owbN86MHTvWPPXUU4nHDhw4YKZNm2ZGjhxpxowZY1555ZXEYw0NDeamm24yF1xwgSktLTWrV692Y/gZa9euXWbKlCmJ2v/iF79IPEbd0+PDAYu6945gMGgkmQsuuMBcfPHF5uKLLzYf//jHE49T9/Tbvn27ueyyy0xpaam55JJLzObNm90eUp/GZxECAACkGGuwAAAAUuz/Az43zo6AIq/MAAAAAElFTkSuQmCC\" />"
      ]
     },
     "execution_count": 38,
     "metadata": {},
     "output_type": "execute_result"
    }
   ],
   "source": [
    "x = Fun(identity,-1000..200)\n",
    "d = domain(x)\n",
    "D = Derivative(d)\n",
    "B = dirichlet(d)\n",
    "L = D^2 - x\n",
    "u = [B;L] \\ [airyai(d.a);airyai(d.b);0]\n",
    "plot(u)"
   ]
  },
  {
   "cell_type": "code",
   "execution_count": 39,
   "metadata": {
    "collapsed": false
   },
   "outputs": [
    {
     "data": {
      "text/html": [
       "<img src=\"data:image/png;base64,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\" />"
      ]
     },
     "execution_count": 39,
     "metadata": {},
     "output_type": "execute_result"
    }
   ],
   "source": [
    "x=Fun()\n",
    "u0=0.0x\n",
    "\n",
    "N=u->[u(-1)-1,u(1)+0.5,0.001u''+6*(1-x^2)*u'+u^2-1]\n",
    "u=newton(N,u0)\n",
    "plot(u)"
   ]
  },
  {
   "cell_type": "code",
   "execution_count": 68,
   "metadata": {
    "collapsed": false
   },
   "outputs": [
    {
     "data": {
      "text/html": [
       "<img src=\"data:image/png;base64,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\" />"
      ]
     },
     "execution_count": 68,
     "metadata": {},
     "output_type": "execute_result"
    }
   ],
   "source": [
    "b = Fun(cos,Fourier());\n",
    "c = 0.1; u = (𝒟+c*I)\\b;\n",
    "plot(u)"
   ]
  },
  {
   "cell_type": "code",
   "execution_count": 74,
   "metadata": {
    "collapsed": false
   },
   "outputs": [
    {
     "data": {
      "text/html": [
       "<img src=\"data:image/png;base64,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\" />"
      ]
     },
     "execution_count": 74,
     "metadata": {},
     "output_type": "execute_result"
    }
   ],
   "source": [
    "b = Fun(x->0,0..π);\n",
    "c = 1; \n",
    "u = [Evaluation(Chebyshev(),0);Evaluation(Chebyshev(),π); (𝒟^2+I)]\\[1;-1;b];\n",
    "plot(u)"
   ]
  },
  {
   "cell_type": "code",
   "execution_count": 77,
   "metadata": {
    "collapsed": false
   },
   "outputs": [
    {
     "data": {
      "text/plain": [
       "0.0"
      ]
     },
     "execution_count": 77,
     "metadata": {},
     "output_type": "execute_result"
    }
   ],
   "source": [
    "u(π)"
   ]
  },
  {
   "cell_type": "code",
   "execution_count": 78,
   "metadata": {
    "collapsed": false
   },
   "outputs": [
    {
     "data": {
      "text/html": [
       "<img src=\"data:image/png;base64,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\" />"
      ]
     },
     "execution_count": 78,
     "metadata": {},
     "output_type": "execute_result"
    }
   ],
   "source": [
    "x=Fun()\n",
    "u0=0.0x\n",
    "\n",
    "N=u->[u(-1)-1,u(1)+0.5,0.001u''+6*(1-x^2)*u'+u^2-1]\n",
    "u=newton(N,u0)\n",
    "plot(u)"
   ]
  },
  {
   "cell_type": "code",
   "execution_count": 79,
   "metadata": {
    "collapsed": false
   },
   "outputs": [
    {
     "name": "stderr",
     "output_type": "stream",
     "text": [
      "\u001b[1m\u001b[31mWARNING: Maximum number of iterations 15 reached, with approximate accuracy of 4.664940270444763e-14.\u001b[0m\n"
     ]
    },
    {
     "data": {
      "text/html": [
       "<img src=\"data:image/png;base64,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\" />"
      ]
     },
     "execution_count": 79,
     "metadata": {},
     "output_type": "execute_result"
    }
   ],
   "source": [
    "x=Fun(0..1)\n",
    "u0=0.0x\n",
    "\n",
    "N=u->[u(0)-1,u(1)+0.5,0.001u''+6*(1-x^2)*u'+u^2-1]\n",
    "u=newton(N,u0)\n",
    "plot(u)"
   ]
  },
  {
   "cell_type": "code",
   "execution_count": 1,
   "metadata": {
    "collapsed": false
   },
   "outputs": [
    {
     "data": {
      "text/plain": [
       "5"
      ]
     },
     "execution_count": 1,
     "metadata": {},
     "output_type": "execute_result"
    }
   ],
   "source": [
    "2+3"
   ]
  },
  {
   "cell_type": "code",
   "execution_count": 7,
   "metadata": {
    "collapsed": false
   },
   "outputs": [
    {
     "data": {
      "text/plain": [
       "Fun(Chebyshev(【-1.0,1.0】),[-0.267222,0.0363803,0.217463,-0.134498,0.184769,-0.139881,0.147985,-0.115815,0.108359,-0.0829588  …  -4.41585e-34,1.52537e-34,2.33049e-35,-9.35795e-35,9.71181e-35,-6.68653e-35,3.03121e-35,-1.6621e-35,-7.10843e-36,-1.77636e-35])"
      ]
     },
     "execution_count": 7,
     "metadata": {},
     "output_type": "execute_result"
    }
   ],
   "source": [
    "using ApproxFun\n",
    "x = Fun()\n",
    "u0 = 0.0x\n",
    "c = 1\n",
    "ε = 0.01\n",
    "N = u->[u(-1.)-c;u(1.);ε*u''+6*(1-x^2)*u'+u^2-1.]\n",
    "u = newton(N,u0)"
   ]
  },
  {
   "cell_type": "code",
   "execution_count": 8,
   "metadata": {
    "collapsed": false
   },
   "outputs": [
    {
     "data": {
      "text/plain": [
       "Fun(Chebyshev(【-1.0,1.0】),[0.0,0.0])"
      ]
     },
     "execution_count": 8,
     "metadata": {},
     "output_type": "execute_result"
    }
   ],
   "source": [
    "u0"
   ]
  },
  {
   "cell_type": "code",
   "execution_count": 39,
   "metadata": {
    "collapsed": false
   },
   "outputs": [
    {
     "data": {
      "text/html": [
       "<img src=\"data:image/png;base64,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\" />"
      ]
     },
     "execution_count": 39,
     "metadata": {},
     "output_type": "execute_result"
    }
   ],
   "source": [
    "#It looks like the Newton Interface is significantly easier to use.\n",
    "\n",
    "x = Fun(0..1)   #Our domain, expressed as an identity function.\n",
    "u0 = 0.0x       #Our initial guess, expressed as the zero function over the same domain.\n",
    "κ = Fun(x -> sin(x)+1,0..1)\n",
    "N = u -> [u(0.0) - 1.0; u'(1.0) - 0.0; u'' - κ(x)*u]\n",
    "#N = u -> [u(0.0) - 1.0; u'(1.0) - 0.0; u'' - κ(x)*u]\n",
    "u = newton(N,u0)\n",
    "plot(u)"
   ]
  },
  {
   "cell_type": "code",
   "execution_count": 12,
   "metadata": {
    "collapsed": true
   },
   "outputs": [],
   "source": [
    "using Plots"
   ]
  },
  {
   "cell_type": "code",
   "execution_count": 88,
   "metadata": {
    "collapsed": false
   },
   "outputs": [
    {
     "data": {
      "text/plain": [
       "Fun(Chebyshev(【0.0,1.0】),[0.777154,-0.174181,0.0466317,-0.0017865,0.000240868,-5.5539e-6,5.00022e-7,-8.24327e-9,5.56956e-10,-7.14446e-12,3.86287e-13,-4.05513e-15,1.82741e-16,-1.62344e-18,6.27144e-20,-4.82898e-22,1.63239e-23,1.10912e-25])"
      ]
     },
     "execution_count": 88,
     "metadata": {},
     "output_type": "execute_result"
    }
   ],
   "source": [
    "x = Fun(0..1)   #Our domain, expressed as an identity function.\n",
    "u0 = 0.0x\n",
    "κ = Fun(x -> 1.0)\n",
    "N = u -> [u(0.0) - 1; u'(1.0) - 0.0; u'' - κ(x)*u]\n",
    "tic()\n",
    "u = newton(N,u0)"
   ]
  },
  {
   "cell_type": "code",
   "execution_count": 2,
   "metadata": {
    "collapsed": false
   },
   "outputs": [
    {
     "ename": "LoadError",
     "evalue": "UndefVarError: a not defined",
     "output_type": "error",
     "traceback": [
      "UndefVarError: a not defined",
      ""
     ]
    }
   ],
   "source": [
    "tic()\n",
    "function tester(nterms)\n",
    "    a = 0.0\n",
    "for i = 1:nterms\n",
    "    a += i\n",
    "end\n",
    "    return a\n",
    "end\n",
    "a\n",
    "u = toc()\n",
    "a"
   ]
  },
  {
   "cell_type": "code",
   "execution_count": 24,
   "metadata": {
    "collapsed": false
   },
   "outputs": [
    {
     "name": "stdout",
     "output_type": "stream",
     "text": [
      "  3.411629 seconds (5 allocations: 176 bytes)\n"
     ]
    },
    {
     "data": {
      "text/plain": [
       "1.250000000671089e17"
      ]
     },
     "execution_count": 24,
     "metadata": {},
     "output_type": "execute_result"
    }
   ],
   "source": [
    "@time tester(5e8)"
   ]
  },
  {
   "cell_type": "code",
   "execution_count": 25,
   "metadata": {
    "collapsed": false
   },
   "outputs": [
    {
     "name": "stdout",
     "output_type": "stream",
     "text": [
      "elapsed time: 17.347951235 seconds\n"
     ]
    },
    {
     "data": {
      "text/plain": [
       "17.347951235"
      ]
     },
     "execution_count": 25,
     "metadata": {},
     "output_type": "execute_result"
    }
   ],
   "source": [
    "tic()\n",
    "a = 0.0\n",
    "for i = 1:5e8\n",
    "    a += i\n",
    "end\n",
    "    return a\n",
    "toc()"
   ]
  },
  {
   "cell_type": "code",
   "execution_count": null,
   "metadata": {
    "collapsed": true
   },
   "outputs": [],
   "source": []
  }
 ],
 "metadata": {
  "kernelspec": {
   "display_name": "Julia 0.5.1",
   "language": "julia",
   "name": "julia-0.5"
  },
  "language_info": {
   "file_extension": ".jl",
   "mimetype": "application/julia",
   "name": "julia",
   "version": "0.5.1"
  }
 },
 "nbformat": 4,
 "nbformat_minor": 2
}
