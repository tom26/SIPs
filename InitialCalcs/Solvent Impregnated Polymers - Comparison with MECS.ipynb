{
 "cells": [
  {
   "cell_type": "markdown",
   "metadata": {},
   "source": [
    "# Modelling of MECS and SIPs (Solvent Impregnated Polymers). "
   ]
  },
  {
   "cell_type": "markdown",
   "metadata": {},
   "source": [
    "## Model for SIP (initial steady state, strong buffer, ignore permeance through liquid, and other assumptions) "
   ]
  },
  {
   "cell_type": "markdown",
   "metadata": {},
   "source": [
    "I'm going to compare two extremes:\n",
    " - A particle made of a PDMS shell and a solvent core.\n",
    " - A particle in which miniscule solvent droplets are uniformly dispersed inside a polymer matrix.\n",
    " \n",
    "The second kind of particle is much easier to make, and if the permeability of the gas inside the polymer is high, it could have much higher mass transfer. We that the gas dissolves in the solvent and reacts via a first-order reaction.\n",
    "\n",
    "Modelling of the second kind of particle is difficult. One obvious simplification is to assume that the small solvent droplets are *very* small. Thus, we assume that inside each small solvent droplet, the diffusion-reaction dynamics are entirely reaction controlled. Of course, the very notion of 'reaction controlled' is based on spherical particles for which the concentration at the boundary is constant. In our case, the concentration at the boundary varies (during absorption, the concentration is lower on the point of the surface closer to the centre of the whole polymer-solvent matrix.) A second simplification is to ignore this. We effectively are assuming that solvents act as 'gas-sinks', absorning gas at a rate given by the mean local concentration but, crucially, not contributing to the bulk movement of gas in any direction. Thus, if a control volume is chosen, and we are considering net flux of gas through the boundary, we will only consider flux through the polymer fraction ($\\approx \\varepsilon$). Later, I will consider the interesting perturbation problem of a small sphere (one small number) in the reaction controlled regime (another small number) with a boundary concentration profile which is linear along one axes, and consider the net flux of CO2 in one direction (flow in one side vs flow in the other.) Because we'll be slicing our control volume with a slice perpendicular to the flux of gas, we might be able to get meaningful results numerically or analytically. Nonetheless, for now we assume diffusion only occurs through the polymer network. This is a very reasonable assumption if the polymer has very high permeability compared to the liquid - something I also need to check!\n",
    "\n",
    "There's a lot going on here. It's one thing to say a reaction is 'first order', but in general with buffer systems like CO2/HCO3, the reaction constant depends on the loading, and it's reasonable to think this would vary spatially. Thus the reaction constant would vary spatially as well. Thus your reaction rate constant in the solvent, $k$, need not be a constant at all. In general it will depend on the history of $c$ in each region of space. \n",
    "\n",
    "The dynamic term is also hard. A reasonable simplication would be that the polymer couldn't hold much CO2, so any 'build up' must be in the liquid phase. But this again wouldn't give scope for the concentration to change in the polymer, as it must if we are to actually handle dynamic behaviour. I want to just make some sort of assumption that we fall into a quasi-steady state, but it's not at all clear that that is happening.\n",
    "\n",
    "But maybe it is. How does this differ from spherical first-order-reaction and diffusion problems? We have , in our control volume, a flux which is diffusive, and depends on the concentration of CO2 in the polymer network (there's an $\\varepsilon$ term, but you could lump that in with the diffusivity) we have a rate at which CO2 is reacting away (read: being absorbed by the solvent liquid), and this rate is, at least initially, proportional to the concentation of CO2 in the membrane. Over time, as the outer liquid becomes more saturated, this assumption of first-order-reaction with constant $k$ through the particle will be invalid, but initially .. it works. And this is fine provided the buffer is very strong. \n",
    "\n",
    "This is truly an interesting problem.\n",
    "\n",
    "Perhaps the best way to logically think about this is as a mass balance with the control volume being *just the polymer network*. Then we have flow in through an area of size only $\\varepsilon$ (because we're making the possibly *bad* assumption that diffusive flux through the small solvent particles is much less than through the polymer) and then the rate at which CO2 is being removed from polymer and reacted away in the solvent is just given by the $-k(1-\\varepsilon) Sp$ term (because we're working on reaction-controlled solvent droplets, so whatever is flowing out of the polymer network and into these droplets is equal to what is reacting away the bulk.) This allows us to formulate a consistent dynamic term, which only contains the polymer volume. It also makes clear that we still have problems when the buffer is weak, but if it is strong (and I can make estimates on the timescale for buffer change vs the timescale for steady-state absorption to occur: I must do this) then at least until the buffer starts to change we can make this assumption that our spheres diffusive according to:\n",
    "\n",
    "$$\n",
    "4\\pi r^2 \\Delta r \\varepsilon \\mathcal{S}_{\\text{poly}} \\frac{\\partial p}{\\partial t} = 4\\pi \\varepsilon \\mathcal{P}_{\\text{poly}} \\left(-\\frac{\\partial p}{\\partial r}\\Big|_{r}r^2 - -  \\frac{\\partial p}{\\partial r}\\Big|_{r+\\Delta r}(r+\\Delta r)^2 \\right) - 4\\pi r^2 \\Delta r (1-\\varepsilon) kS_{\\text{sol}}p\n",
    "$$\n",
    "\n",
    "Note that, even for the strong buffer, we will eventually get $k = k(r)$, because the consistently higher concentrations nearer the boundary will more quickly change the buffer concentration there. Nevertheless, we will use this expression to estimate *initial* fluxes for the two cases, which we'd expect should give us a feel for the relative difference in flux.\n",
    "\n",
    "Now, if we rearrange and take $\\Delta r\\rightarrow 0$, we get\n",
    "$$\n",
    " \\frac{\\partial p}{\\partial t}  =  \\frac{\\mathcal{P}_{\\text{poly}}}{\\mathcal{S}_{\\text{poly}}} \\frac{1}{r^2}\\frac{\\partial }{\\partial r}\\left(r^2\\frac{\\partial p}{\\partial r}\\right) -   \\left( \\frac{(1-\\varepsilon) k\\mathcal{S}_{\\text{sol}}}{\\varepsilon\\mathcal{S}_{\\text{poly}} } \\right) p\n",
    "$$\n",
    "\n",
    "Now, multiplying through by $\\mathcal{S}_{poly},$ we could write this as:\n",
    "\n",
    "$$\n",
    " \\frac{\\partial c}{\\partial t}  =  \\mathcal{D}_{\\text{poly}}\\frac{1}{r^2}\\frac{\\partial }{\\partial r}\\left(r^2\\frac{\\partial c}{\\partial r}\\right) -   \\left( \\frac{(1-\\varepsilon) k\\mathcal{S}_{\\text{sol}}}{\\varepsilon\\mathcal{S}_{\\text{poly}} } \\right) c\n",
    "$$\n",
    "\n",
    "And we see that we have a modified $k$ term to account for the strange nature of the reaction. Some readers may be concerned that the solubility $S_{\\text{poly}}$ is appearing explicitly: surely only the permeability of the polymer should matter. We'll see if it stays through all the analysis.\n",
    "\n",
    "For the BCs, suppose we are applying an external pressure $p_0$ at $r=R$, so $c|_{r=R} = S_{\\text{poly}}p_0$ (this might where that pesky solubility disappears!) Now, we know that for PDE's of this form the steady-state flow into a single particle is given by:\n",
    "\n",
    "$$\n",
    "\\text{Flow} = 4\\pi R \\mathcal{D}_{\\text{poly}}c_{r=R} (\\phi \\coth\\phi - 1) = 4\\pi R \\mathcal{D}_{\\text{poly}}\\mathcal{S}_{\\text{poly}} p_0 (\\phi \\coth\\phi - 1) = 4\\pi R \\mathcal{P}_{\\text{poly}} p_0 (\\phi \\coth\\phi - 1) \n",
    "$$\n",
    "\n",
    "where $\\phi$ is the Thiele modulus, given by (with $k_{\\text{orig}}$ referring to the standard first-order-reaction constant.\n",
    "\n",
    "$$\n",
    "\\phi = R \\sqrt{\\frac{k_{\\text{orig}}}{\\mathcal{D}_{\\text{poly}}}} = R \\sqrt{\\left(\\frac{1}{\\mathcal{D}_{\\text{poly}}} \\frac{(1-\\varepsilon) k\\mathcal{S}_{\\text{sol}}}{\\varepsilon\\mathcal{S}_{\\text{poly}} } \\right)} =  R \\sqrt{\\left(\\frac{(1-\\varepsilon) k\\mathcal{S}_{\\text{sol}}}{\\varepsilon\\mathcal{P}_{\\text{poly}} } \\right)}\n",
    "$$\n",
    "\n",
    "Overall, the flow into a particle is given by:\n",
    "\n",
    "$$\n",
    "\\text{Flow} = 4\\pi R \\mathcal{P}_{\\text{poly}} (\\phi \\coth\\phi - 1) p_0\n",
    "$$\n",
    "\n",
    "with\n",
    "\n",
    "$$\n",
    "\\phi = R \\sqrt{\\left(\\frac{(1-\\varepsilon) k\\mathcal{S}_{\\text{sol}}}{\\varepsilon\\mathcal{P}_{\\text{poly}} } \\right)}\n",
    "$$\n",
    "\n",
    "We now do..."
   ]
  },
  {
   "cell_type": "markdown",
   "metadata": {},
   "source": [
    "## Model for MECS "
   ]
  },
  {
   "cell_type": "markdown",
   "metadata": {
    "collapsed": true
   },
   "source": [
    "We consider an MECS with the same quantity of shell and liquid. So the inner core radius is given by:\n",
    "\n",
    "$$R_c^3 = R^3(1-\\varepsilon)$$\n",
    "\n",
    "If the equilibrium pressure at surface of the inner core is $p_1$, then we have a flow going into the core of\n",
    "\n",
    "$$\n",
    "\\text{Flow} = 4\\pi R_c \\mathcal{D}_{\\text{sol}} \\mathcal{S}_{\\text{sol}} p_1 (\\phi' \\coth\\phi' - 1) \n",
    "$$\n",
    "where\n",
    "\n",
    "$$\n",
    "\\phi' = R_c \\sqrt{\\frac{k}{\\mathcal{D}_{\\text{sol}}}}\n",
    "$$\n",
    "\n",
    "Now, as we're working on the assumption that at steady state the concentration in the polymer doesn't change (so no build up in the polymer layer) this flow will equal the total flow into the particle. However, we don't know $p_1$, and need to consider the shell to calculate it. The steady-state diffusion through the shell is given by\n",
    "\n",
    "$$4\\pi \\mathcal{D}_{\\text{poly}}r^2\\frac{\\partial c}{\\partial r} = \\text{Flow} = A$$\n",
    "\n",
    "Integrating this,\n",
    "\n",
    "$$c = B- A/4\\pi \\mathcal{D}_{\\text{poly}}r$$\n",
    "\n",
    "or\n",
    "\n",
    "$$p = b - a/r$$\n",
    "Now, at $r = R$, $p = p_0$, and at $r = R_C$, $p = p_1$. So\n",
    "\n",
    "$$p_0 = b - a/R$$\n",
    "\n",
    "$$p_1 = b - a/R_c$$\n",
    "\n",
    "$$p_1 - p_0 = a(1/R - 1/R_c)$$\n",
    "\n",
    "$$a = \\frac{p_1 - p_0}{1/R - 1/R_c}$$\n",
    "\n",
    "and\n",
    "\n",
    "$$ b=p_0 + a/R = p_0 + \\frac{p_1 - p_0}{1 - R/R_c} = \\frac{ p_0 R/R_c - p_1}{R/R_c -1 }$$\n",
    "\n",
    "This is all interesting, but looking back up, we see that \n",
    "\n",
    "$$\\text{Flow} = A = 4\\pi \\mathcal{P}_{\\text{poly}} a = 4\\pi\\mathcal{P}_{\\text{poly}}R\\frac{p_0 - p_1}{R/R_c - 1}$$\n",
    "\n",
    "Now,\n",
    "\n",
    "$$\n",
    "\\text{Flow} = 4\\pi R_c \\mathcal{D}_{\\text{sol}} \\mathcal{S}_{\\text{sol}} p_1 (\\phi' \\coth\\phi' - 1) = 4\\pi\\mathcal{P}_{\\text{poly}}R\\frac{p_0 - p_1}{R/R_c - 1}\n",
    "$$\n",
    "\n",
    "$$\n",
    "C p_1 = D (p_0 - p_1)\n",
    "$$\n",
    "\n",
    "$$ p_1 = \\frac{D}{C+D}p_0$$\n",
    "\n",
    "$$Flow = \\frac{CD}{C+D}p_0 = \\left[\\frac{4\\pi R_c \\mathcal{D}_{\\text{sol}} \\mathcal{S}_{\\text{sol}}(\\phi' \\coth\\phi' - 1) \\frac{\\mathcal{P}_{\\text{poly}}R}{R/R_c - 1}}{R_c \\mathcal{D}_{\\text{sol}} \\mathcal{S}_{\\text{sol}}(\\phi' \\coth\\phi' - 1) + \\frac{\\mathcal{P}_{\\text{poly}}R}{R/R_c - 1}}\\right] p_0$$\n",
    "\n",
    "with \n",
    "\n",
    "$$\n",
    "\\phi' = R_c \\sqrt{\\frac{k}{\\mathcal{D}_{\\text{sol}}}}\n",
    "$$\n",
    "\n",
    "This should be compared with the other case:\n",
    "\n",
    "$$\n",
    "\\text{Flow} = 4\\pi R \\mathcal{P}_{\\text{poly}} (\\phi \\coth\\phi - 1) p_0\n",
    "$$\n",
    "\n",
    "with\n",
    "\n",
    "$$\n",
    "\\phi = R \\sqrt{\\left(\\frac{(1-\\varepsilon) k\\mathcal{S}_{\\text{sol}}}{\\varepsilon\\mathcal{P}_{\\text{poly}} } \\right)}\n",
    "$$"
   ]
  },
  {
   "cell_type": "markdown",
   "metadata": {
    "collapsed": true
   },
   "source": [
    "## Simplified case: MECS have super-polymer.  "
   ]
  },
  {
   "cell_type": "markdown",
   "metadata": {},
   "source": [
    "The algebra is very confusing above, and it's unclear we can derive any useful algebraic expressions. Because we're interested in seeing if SIPs are any good, lets give MECSs a boost - lets say they have a super-polymer on the outside with infinite permeability. Then the rate of flow into an MECS will be given by \n",
    "\n",
    "$$\n",
    "\\text{Flow} = 4\\pi R_c \\mathcal{D}_{\\text{sol}}\\mathcal{S}_{\\text{sol}} (\\phi' \\coth\\phi' - 1) p_0\n",
    "$$\n",
    "with\n",
    "\n",
    "$$\n",
    "\\phi' = R_c \\sqrt{\\frac{k}{\\mathcal{D}_{\\text{sol}}}}\n",
    "$$\n",
    "\n",
    "We then roughly have\n",
    "\n",
    "$$\\frac{\\text{Flow}_{SIP}}{\\text{Flow}_{MECS}} = \\frac{ R\\mathcal{P}_{\\text{poly}}(\\phi \\coth\\phi - 1)}{ R_c \\mathcal{D}_{\\text{sol}}\\mathcal{S}_{\\text{sol}} (\\phi' \\coth\\phi' - 1) }$$"
   ]
  },
  {
   "cell_type": "code",
   "execution_count": 21,
   "metadata": {
    "collapsed": false
   },
   "outputs": [
    {
     "data": {
      "text/plain": [
       "3-element Array{Float64,1}:\n",
       "  4.56142\n",
       "  7.17153\n",
       " 11.2246 "
      ]
     },
     "execution_count": 21,
     "metadata": {},
     "output_type": "execute_result"
    }
   ],
   "source": [
    "R = 100e-6\n",
    "P_poly = 3260 * 3.34e-16\n",
    "D_sol = 1e-9\n",
    "k = 20\n",
    "eps = 0.5\n",
    "S_sol = 2.8e-4\n",
    "\n",
    "Rc = R*(1-eps)^(1/3)\n",
    "phidash = Rc * sqrt(k/D_sol)\n",
    "phi = R * sqrt((1-eps)*k*S_sol/(eps*P_poly))\n",
    "FlowratioRough = R*P_poly*(phi*coth(phi)-1) / (Rc*D_sol*S_sol * (phidash*coth(phidash)-1))\n",
    "\n",
    "#Proper\n",
    "Flow_SIP_on_p0 = 4*pi*R*P_poly*(phi*coth(phi)-1)\n",
    "C = 4*pi*(Rc*D_sol*S_sol * (phidash*coth(phidash)-1))\n",
    "D = 4*pi*P_poly*R/(R/Rc-1)\n",
    "Flow_MECS_on_p0 = 1/(1/C + 1/D)\n",
    "FlowratioAccurate = Flow_SIP_on_p0/Flow_MECS_on_p0\n",
    "[FlowratioAccurate, phi, phidash]"
   ]
  },
  {
   "cell_type": "code",
   "execution_count": null,
   "metadata": {
    "collapsed": true
   },
   "outputs": [],
   "source": []
  }
 ],
 "metadata": {
  "kernelspec": {
   "display_name": "Julia 0.5.1",
   "language": "julia",
   "name": "julia-0.5"
  },
  "language_info": {
   "file_extension": ".jl",
   "mimetype": "application/julia",
   "name": "julia",
   "version": "0.5.1"
  }
 },
 "nbformat": 4,
 "nbformat_minor": 2
}
