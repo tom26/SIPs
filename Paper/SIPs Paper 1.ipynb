{
 "cells": [
  {
   "cell_type": "markdown",
   "metadata": {},
   "source": [
    "Calculating the permeability of CO2 inside the ILs investigated by:\n",
    "\n",
    "Diffusivity of Carbon Dioxide in Room-Temperature Ionic Liquids\n",
    "\n",
    "Regular Solution Theory for Low Pressure Carbon Dioxide Solubility in Room\n",
    "Temperature Ionic Liquids: Ionic Liquid Solubility Parameter from Activation\n",
    "Energy of Viscosity"
   ]
  },
  {
   "cell_type": "code",
   "execution_count": 3,
   "metadata": {
    "collapsed": false
   },
   "outputs": [
    {
     "name": "stdout",
     "output_type": "stream",
     "text": [
      "[2.136e-13,2.139e-13,2.16e-13,3.85e-13,7.28e-13,2.574e-13,4.9e-13,3.63e-13]3.5836250000000003e-13\n"
     ]
    }
   ],
   "source": [
    "S_weird_units = [.089,.093,.080,.11,.13,.099,.14,.11]           #mol/L.bar\n",
    "D_weird_units = [2.4,2.3,2.7,3.5,5.6,2.6,3.5,3.3]*1e-6          #cm2/s\n",
    "S = S_weird_units * 1e3 * 1e-5                                  #mol/m3.Pa\n",
    "D = D_weird_units * 1e-4                                        #m2/s\n",
    "\n",
    "P = S.*D                                                      #mol/s.m.Pa\n",
    "println(P,mean(P))"
   ]
  },
  {
   "cell_type": "code",
   "execution_count": null,
   "metadata": {
    "collapsed": true
   },
   "outputs": [],
   "source": []
  }
 ],
 "metadata": {
  "kernelspec": {
   "display_name": "Julia 0.5.1",
   "language": "julia",
   "name": "julia-0.5"
  },
  "language_info": {
   "file_extension": ".jl",
   "mimetype": "application/julia",
   "name": "julia",
   "version": "0.5.1"
  }
 },
 "nbformat": 4,
 "nbformat_minor": 2
}
