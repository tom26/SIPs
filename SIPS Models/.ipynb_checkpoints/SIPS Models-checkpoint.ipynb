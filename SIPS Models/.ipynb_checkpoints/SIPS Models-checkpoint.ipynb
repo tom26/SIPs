{
 "cells": [
  {
   "cell_type": "markdown",
   "metadata": {},
   "source": [
    "# Model for SIPs"
   ]
  },
  {
   "cell_type": "markdown",
   "metadata": {},
   "source": [
    "In which we implement the MOL model described on p. 8 of my workbook."
   ]
  },
  {
   "cell_type": "code",
   "execution_count": 1,
   "metadata": {
    "collapsed": false
   },
   "outputs": [
    {
     "data": {
      "text/plain": [
       "SphericalMECSNoShell (generic function with 1 method)"
      ]
     },
     "execution_count": 1,
     "metadata": {},
     "output_type": "execute_result"
    }
   ],
   "source": [
    "#Packages we are using\n",
    "using DifferentialEquations\n",
    "using Plots\n",
    "\n",
    "#Function to model the absorption of gas into SIP material in linear coordinates via MOL approach.\n",
    "#Discussed on p. 8 of workbook.\n",
    "#Inputs: f - function for rate of change in reactive species concentration. \n",
    "#L - length of domain, m\n",
    "#tf - end time of simulation, s. \n",
    "#p - partial pressure of gas above SIP (this must be a function of time.), Pa.\n",
    "#c0 and w0 - initial CO2 and reactant concentration\n",
    "#k2 - second order rate constant, m3/mol.s\n",
    "#Ss and Sl - solubility of gas in solid and liquid phases, respectively, mol/m3.Pa\n",
    "#Ds and Dl - diffusivity of gas in solid and liquid phases, respectively, m2/s\n",
    "#ɛ - The solid fraction inside the particle.\n",
    "#m - The number of mesh points.\n",
    "function LinearSIP(f,L,tf,p,c0,w0,k2,Ss,Sl,Ds,Dl,ɛ,m)\n",
    "    \n",
    "    #Pertinent Mesh Values\n",
    "    h = L/m         #Distance between neighbouring grid points\n",
    "    \n",
    "    #Generic Ddash and kdash parameters\n",
    "    Ddash = (Ds*ɛ+Dl*(1-ɛ)*Sl/Ss) / (ɛ+(1-ɛ)*Sl/Ss)\n",
    "    kdash = (k2*Sl/Ss*(1-ɛ))      / (ɛ+(1-ɛ)*Sl/Ss)\n",
    "    \n",
    "    #Define DE Problem\n",
    "    function main(t,u,dudt)\n",
    "        #Extract values from u\n",
    "        c = u[1:m]\n",
    "        w = u[m+1:2m]\n",
    "        \n",
    "        #Calculate change of concentration due to diffusion and reaction\n",
    "        for i = 1:2m+1\n",
    "            if i == 1\n",
    "                dudt[i] = Ddash/h^2*(2c[2]-2c[1]) - kdash*c[1]*w[1]\n",
    "            elseif 2 <= i <= m-1\n",
    "                dudt[i] = Ddash/h^2*(c[i-1]-2c[i]+c[i+1]) - kdash*c[i]*w[i]\n",
    "            elseif i == m\n",
    "                dudt[i] = Ddash/h^2*(c[m-1]-2c[m] + Ss*p(t)) - kdash*c[m]*w[m] \n",
    "            elseif m+1 <= i <= 2m\n",
    "                dudt[i] = f(c[i-m],w[i-m])\n",
    "            elseif i == 2m+1\n",
    "                dudt[i] = ((3/2*Ss*p(t)-2*c[m]+1/2*c[m-1])/h)*(Ds*ɛ+Dl*(1-ɛ)*Sl/Ss)\n",
    "            end\n",
    "        end\n",
    "    end\n",
    "\n",
    "    #Initial Conditions and timespan\n",
    "    u0 = [c0*ones(m);w0*ones(m);0.0]\n",
    "    tspan = (0.0,tf)\n",
    "\n",
    "    #Define and solve problem\n",
    "    prob = ODEProblem(main,u0,tspan)\n",
    "    sol = solve(prob, Rosenbrock23());\n",
    "    return sol\n",
    "end\n",
    "\n",
    "#Function to model the absorption of gas into SIP material in spherical coordinates via MOL approach.\n",
    "#Discussed on p. 8 of workbook.\n",
    "#Inputs: f - function for rate of change in reactive species concentration. \n",
    "#R - length of domain, m\n",
    "#tf - end time of simulation, s. \n",
    "#p - partial pressure of gas above SIP (this must be a function of time.), Pa.\n",
    "#c0 and w0 - initial CO2 and reactant concentration\n",
    "#k2 - second order rate constant, m3/mol.s\n",
    "#Ss and Sl - solubility of gas in solid and liquid phases, respectively, mol/m3.Pa\n",
    "#Ds and Dl - diffusivity of gas in solid and liquid phases, respectively, m2/s\n",
    "#ɛ - The solid fraction inside the particle.\n",
    "#m - The number of mesh points.\n",
    "function SphericalSIP(f,R,tf,p,c0,w0,k2,Ss,Sl,Ds,Dl,ɛ,m)\n",
    "    \n",
    "    #Pertinent Mesh Values\n",
    "    h = R/(m+1/2)         #Distance between neighbouring grid points\n",
    "    r(j) = h*(j-1/2)      #Radial distance of point j\n",
    "    \n",
    "    #Generic Ddash and kdash parameters\n",
    "    Ddash = (Ds*ɛ+Dl*(1-ɛ)*Sl/Ss) / (ɛ+(1-ɛ)*Sl/Ss)\n",
    "    kdash = (k2*Sl/Ss*(1-ɛ))      / (ɛ+(1-ɛ)*Sl/Ss)\n",
    "    \n",
    "    #Define DE Problem\n",
    "    function main(t,u,dudt)\n",
    "        #Extract values from u\n",
    "        c = u[1:m]\n",
    "        w = u[m+1:2m]\n",
    "        \n",
    "        #Calculate change of concentration due to diffusion and reaction\n",
    "        for i = 1:2m+1\n",
    "            if i == 1\n",
    "                dudt[1] = Ddash/(r(1)^2*h^2)*r(1+1/2)^2*(c[2] - c[1]) - kdash*c[1]*w[1]\n",
    "            elseif 2 <= i <= m-1\n",
    "                dudt[i] = Ddash/(r(i)^2*h^2)*(r(i+1/2)^2*c[i+1]  - (r(i+1/2)^2+r(i-1/2)^2)*c[i] + r(i-1/2)^2*c[i-1]) - kdash*c[i]*w[i]\n",
    "            elseif i == m\n",
    "                dudt[i] = Ddash/(r(m)^2*h^2)*(r(m+1/2)^2*Ss*p(t) - (r(m+1/2)^2+r(m-1/2)^2)*c[m] + r(m-1/2)^2*c[m-1]) - kdash*c[m]*w[m]\n",
    "            elseif m+1 <= i <= 2m\n",
    "                dudt[i] = f(c[i-m],w[i-m])  #Change in reactive species\n",
    "            elseif i == 2m+1\n",
    "                dudt[i] = 4π*R^2*((3/2*Ss*p(t)-2*c[m]+1/2*c[m-1])/h)*(Ds*ɛ+Dl*(1-ɛ)*Sl/Ss)\n",
    "            end\n",
    "        end\n",
    "    end\n",
    "\n",
    "    #Initial Conditions and timespan\n",
    "    u0 = [c0*ones(m);w0*ones(m);0.0]\n",
    "    tspan = (0.0,tf)\n",
    "\n",
    "    #Define and solve problem\n",
    "    prob = ODEProblem(main,u0,tspan)\n",
    "    sol = solve(prob, Rosenbrock23());\n",
    "    return sol\n",
    "end\n",
    "\n",
    "\n",
    "\n",
    "#THIS IS DODGY\n",
    "function SphericalMECSNoShell(f,R,tf,p,c0,w0,k2,Ss,Sl,Ds,Dl,ɛ,m)\n",
    "    \n",
    "    #Pertinent Mesh Values\n",
    "    h = R/(m+1/2)         #Distance between neighbouring grid points\n",
    "    r(j) = h*(j-1/2)      #Radial distance of point j\n",
    "    \n",
    "    #Generic Ddash and kdash parameters\n",
    "    #Ddash = (Ds*ɛ+Dl*(1-ɛ)*Sl/Ss) / (ɛ+(1-ɛ)*Sl/Ss)\n",
    "    #kdash = (k2*Sl/Ss*(1-ɛ))      / (ɛ+(1-ɛ)*Sl/Ss)\n",
    "    \n",
    "    Ddash = Dl\n",
    "    kdash = k2\n",
    "    \n",
    "    #Define DE Problem\n",
    "    function main(t,u,dudt)\n",
    "        #Extract values from u\n",
    "        c = u[1:m]\n",
    "        w = u[m+1:2m]\n",
    "        dwdt = (sum([f(c[i],w[i])*4/3*pi*((h*i)^3-(h*(i-1))^3) for i in 1:m-1]) + f(c[m],w[m])*4/3*pi*(R^3-(h*(m-1))^3))/(4/3*pi*R^3)\n",
    "#        dwdt = (sum([f(c[i],w[i])*4/3*pi*((h*i)^3-(h*(i-1))^3) for i in 1:m]))/(4/3*pi*R^3)\n",
    "        \n",
    "        #Calculate change of concentration due to diffusion and reaction\n",
    "        for i = 1:2m+1\n",
    "            if i == 1\n",
    "                dudt[1] = Ddash/(r(1)^2*h^2)*r(1+1/2)^2*(c[2] - c[1]) - kdash*c[1]*w[1]\n",
    "            elseif 2 <= i <= m-1\n",
    "                dudt[i] = Ddash/(r(i)^2*h^2)*(r(i+1/2)^2*c[i+1]  - (r(i+1/2)^2+r(i-1/2)^2)*c[i] + r(i-1/2)^2*c[i-1]) - kdash*c[i]*w[i]\n",
    "            elseif i == m\n",
    "                dudt[i] = Ddash/(r(m)^2*h^2)*(r(m+1/2)^2*Sl*p(t) - (r(m+1/2)^2+r(m-1/2)^2)*c[m] + r(m-1/2)^2*c[m-1]) - kdash*c[m]*w[m]\n",
    "            elseif m+1 <= i <= 2m\n",
    "                dudt[i] = dwdt  #Change in reactive species\n",
    "            elseif i == 2m+1\n",
    "                dudt[i] = 4π*R^2*((3/2*Sl*p(t)-2*c[m]+1/2*c[m-1])/h)*Dl\n",
    "            end\n",
    "        end\n",
    "    end\n",
    "\n",
    "    #Initial Conditions and timespan\n",
    "    u0 = [c0*ones(m);w0*ones(m);0.0]\n",
    "    tspan = (0.0,tf)\n",
    "\n",
    "    #Define and solve problem\n",
    "    prob = ODEProblem(main,u0,tspan)\n",
    "    sol = solve(prob, Rosenbrock23());\n",
    "    return sol\n",
    "end"
   ]
  },
  {
   "cell_type": "markdown",
   "metadata": {},
   "source": [
    "# Examples and Mass Conservation Tests"
   ]
  },
  {
   "cell_type": "code",
   "execution_count": 434,
   "metadata": {
    "collapsed": false
   },
   "outputs": [
    {
     "name": "stdout",
     "output_type": "stream",
     "text": [
      "  0.205133 seconds (743.68 k allocations: 47.970 MB, 7.23% gc time)\n",
      " "
     ]
    },
    {
     "name": "stderr",
     "output_type": "stream",
     "text": [
      "WARNING: Method definition p(Any) in module Main at In[433]:9 overwritten at In[434]:9.\n",
      "WARNING: Method definition f(Any, Any) in module Main at In[433]:15 overwritten at In[434]:15.\n"
     ]
    },
    {
     "name": "stdout",
     "output_type": "stream",
     "text": [
      " 0.225460 seconds (775.94 k allocations: 50.044 MB, 13.22% gc time)\n"
     ]
    },
    {
     "data": {
      "text/plain": [
       "2-element Array{Float64,1}:\n",
       " 1.05  \n",
       " 1.0499"
      ]
     },
     "execution_count": 434,
     "metadata": {},
     "output_type": "execute_result"
    }
   ],
   "source": [
    "#Example usage\n",
    "\n",
    "L = 1.0; R = 1.0\n",
    "k2 = 10.0\n",
    "Ss = 1.0\n",
    "Sl = 0.1\n",
    "Ds = 1.0\n",
    "Dl = 0.0\n",
    "p(t) = 1.0\n",
    "tf = 3000.0\n",
    "ɛ = 0.5\n",
    "c0 = 0.0;\n",
    "w0 = 1.0;\n",
    "m = 50\n",
    "f(c,w) = -k2*Sl/Ss*c*w\n",
    "@time sollin =    LinearSIP(f,L,tf,p,c0,w0,k2,Ss,Sl,Ds,Dl,ɛ,m);\n",
    "@time solrad = SphericalSIP(f,R,tf,p,c0,w0,k2,Ss,Sl,Ds,Dl,ɛ,m);\n",
    "plot(solrad(.3)[1:2m])\n",
    "[sollin(tf)[2m+1], solrad(tf)[2m+1] / (4/3*pi*R^3)]\n"
   ]
  },
  {
   "cell_type": "code",
   "execution_count": 403,
   "metadata": {
    "collapsed": false
   },
   "outputs": [
    {
     "name": "stdout",
     "output_type": "stream",
     "text": [
      "  4.597951 seconds (5.35 M allocations: 330.284 MB, 3.67% gc time)\n"
     ]
    },
    {
     "name": "stderr",
     "output_type": "stream",
     "text": [
      "WARNING: Method definition p(Any) in module Main at In[402]:9 overwritten at In[403]:9.\n"
     ]
    },
    {
     "name": "stdout",
     "output_type": "stream",
     "text": [
      "  4.610885 seconds (5.42 M allocations: 331.228 MB, 3.39% gc time)\n"
     ]
    },
    {
     "data": {
      "text/plain": [
       "3-element Array{Float64,1}:\n",
       " 1.0499 \n",
       " 1.04987\n",
       " 1.05   "
      ]
     },
     "execution_count": 403,
     "metadata": {},
     "output_type": "execute_result"
    }
   ],
   "source": [
    "#Example usage\n",
    "\n",
    "L = 1.0; R = 1.0\n",
    "k2 = 10.0\n",
    "Ss = 1.0\n",
    "Sl = 0.1\n",
    "Ds = 1.0\n",
    "Dl = 0.0\n",
    "p(t) = 1.0\n",
    "tf = 3000.0\n",
    "ɛ = 0.5\n",
    "c0 = 0.0;\n",
    "w0 = 1.0e4;\n",
    "m = 50\n",
    "\n",
    "cKion = 2.0\n",
    "f2 = function (c,w)\n",
    "   #Data for Function\n",
    "    Keq = 1/(1.78e-4)*1e-3                    #m3/mol   Calculate in more detail later. Sourced from http://clas.sa.ucsb.edu/staff/Resource%20Folder/Chem109ABC/Acid,%20Base%20Strength/Table%20of%20Acids%20w%20Kas%20and%20pKas.pdf\n",
    "    #cKion = 1.0                  #mol/m3. Based on 0.3mol/L solution of K2CO3\n",
    "    nco2dot = k2*c*Sl/Ss*w             #mol/m3.s    Rate of reaction of CO2\n",
    "    ξdot = 2*nco2dot/cKion       #1/s. Rate of change of loading\n",
    "    ξ = 1/(1+2Keq*w)             #loading\n",
    "    wdot = -ξdot/(2*Keq*ξ^2)     #mol/m3.s Rate of change of OH- concentration\n",
    "    return wdot\n",
    "end\n",
    "\n",
    "\n",
    "#f(c,w) = -k2*Sl/Ss*c*w\n",
    "@time sollin =    LinearSIP(f2,L,tf,p,c0,w0,k2,Ss,Sl,Ds,Dl,ɛ,m);\n",
    "@time solrad = SphericalSIP(f2,R,tf,p,c0,w0,k2,Ss,Sl,Ds,Dl,ɛ,m);\n",
    "plot(solrad(.3)[1:2m])\n",
    "[sollin(tf)[2m+1], solrad(tf)[2m+1] / (4/3*pi*R^3), (Sl+cKion*0.5)*(1-ɛ)+Ss*ɛ]\n"
   ]
  },
  {
   "cell_type": "code",
   "execution_count": 444,
   "metadata": {
    "collapsed": false
   },
   "outputs": [
    {
     "name": "stdout",
     "output_type": "stream",
     "text": [
      "  4.741702 seconds (10.06 M allocations: 713.461 MB, 6.04% gc time)\n"
     ]
    },
    {
     "name": "stderr",
     "output_type": "stream",
     "text": [
      "WARNING: Method definition p(Any) in module Main at In[443]:9 overwritten at In[444]:9.\n"
     ]
    },
    {
     "name": "stdout",
     "output_type": "stream",
     "text": [
      "  6.198718 seconds (10.16 M allocations: 715.906 MB, 4.85% gc time)\n"
     ]
    },
    {
     "data": {
      "text/plain": [
       "3-element Array{Float64,1}:\n",
       " 5.2223 \n",
       " 5.22183\n",
       " 5.2225 "
      ]
     },
     "execution_count": 444,
     "metadata": {},
     "output_type": "execute_result"
    }
   ],
   "source": [
    "#Example usage\n",
    "\n",
    "R = 0.005\n",
    "k2 = 8.67\n",
    "Ss = 5.67e-4\n",
    "Sl = 2.88e-4\n",
    "Ds = 2.2e-9\n",
    "Dl = 1.78e-9\n",
    "p(t) = 10000.0\n",
    "tf = 300000.0\n",
    "ɛ = 0.75\n",
    "c0 = 0.0;\n",
    "w0 = 1.0e4;\n",
    "m = 50\n",
    "\n",
    "cKion = 2.0\n",
    "f2 = function (c,w)\n",
    "   #Data for Function\n",
    "    Keq = 1/(1.78e-4)*1e-3                    #m3/mol   Calculate in more detail later. Sourced from http://clas.sa.ucsb.edu/staff/Resource%20Folder/Chem109ABC/Acid,%20Base%20Strength/Table%20of%20Acids%20w%20Kas%20and%20pKas.pdf\n",
    "    #cKion = 1.0                  #mol/m3. Based on 0.3mol/L solution of K2CO3\n",
    "    nco2dot = k2*c*Sl/Ss*w             #mol/m3.s    Rate of reaction of CO2\n",
    "    ξdot = 2*nco2dot/cKion       #1/s. Rate of change of loading\n",
    "    ξ = 1/(1+2Keq*w)             #loading\n",
    "    wdot = -ξdot/(2*Keq*ξ^2)     #mol/m3.s Rate of change of OH- concentration\n",
    "    return wdot\n",
    "end\n",
    "\n",
    "\n",
    "#f(c,w) = -k2*Sl/Ss*c*w\n",
    "@time sollin = LinearSIP(f2,R,tf,p,c0,w0,k2,Ss,Sl,Ds,Dl,ɛ,m);\n",
    "@time solrad = SphericalSIP(f2,R,tf,p,c0,w0,k2,Ss,Sl,Ds,Dl,ɛ,m);\n",
    "plot(solrad(.3)[1:2m])\n",
    "[sollin(tf)[2m+1]/R, solrad(tf)[2m+1] / (4/3*pi*R^3), (Sl*p(0.0)+cKion*0.5)*(1-ɛ)+Ss*ɛ*p(0.0)]"
   ]
  },
  {
   "cell_type": "code",
   "execution_count": 445,
   "metadata": {
    "collapsed": false
   },
   "outputs": [
    {
     "name": "stdout",
     "output_type": "stream",
     "text": [
      "  5.883570 seconds (18.20 M allocations: 1.337 GB, 7.60% gc time)\n"
     ]
    },
    {
     "name": "stderr",
     "output_type": "stream",
     "text": [
      "WARNING: Method definition p(Any) in module Main at In[444]:9 overwritten at In[445]:10.\n"
     ]
    },
    {
     "data": {
      "text/plain": [
       "2-element Array{Float64,1}:\n",
       " 129.675\n",
       " 129.697"
      ]
     },
     "execution_count": 445,
     "metadata": {},
     "output_type": "execute_result"
    }
   ],
   "source": [
    "#Example usage\n",
    "\n",
    "\n",
    "R = 0.005       #Radius, m\n",
    "k2 = 8.67       #m3/mol.s      Taken at from Supp Matt of Vericella\n",
    "Ss = 5.67e-4    #mol/Pa.m3     From http://onlinelibrary.wiley.com/doi/10.1002/(SICI)1099-0488(20000201)38:3%3C415::AID-POLB8%3E3.0.CO;2-Z/full Good references at \"Gas permeability, diffusivity and solubility of nitrogen, helium, methane, carbon dioxide and formaldehyde in dense polymeric membranes using a new on-line permeation apparatus\"\n",
    "Sl = 2.88e-4    #mol/Pa.m3     From Vericella (2015) See also confirmation report\n",
    "Ds = 2.2e-9     #m2/s          From http://onlinelibrary.wiley.com/doi/10.1002/(SICI)1099-0488(20000201)38:3%3C415::AID-POLB8%3E3.0.CO;2-Z/full Good references at \"Gas permeability, diffusivity and solubility of nitrogen, helium, methane, carbon dioxide and formaldehyde in dense polymeric membranes using a new on-line permeation apparatus\"\n",
    "Dl = 1.78e-9    #m2/s          From Vericella (2015) See also confirmation report\n",
    "p(t) = 110000   #Pa            #Consider pure CO2 environment.\n",
    "tf = 1500000.0       #s \n",
    "ɛ  = 0.75\n",
    "c0 = 0.0;\n",
    "\n",
    "w0 = 1.0e4;\n",
    "m = 50\n",
    "cKion = 600.0\n",
    "\n",
    "f2 = function (c,w)\n",
    "   #Data for Function\n",
    "    Keq = 1/(1.78e-4)*1e-3                    #m3/mol   Calculate in more detail later. Sourced from http://clas.sa.ucsb.edu/staff/Resource%20Folder/Chem109ABC/Acid,%20Base%20Strength/Table%20of%20Acids%20w%20Kas%20and%20pKas.pdf\n",
    "    #cKion = 1.0                  #mol/m3. Based on 0.3mol/L solution of K2CO3\n",
    "    nco2dot = k2*c*Sl/Ss*w             #mol/m3.s    Rate of reaction of CO2\n",
    "    ξdot = 2*nco2dot/cKion       #1/s. Rate of change of loading\n",
    "    ξ = 1/(1+2Keq*w)             #loading\n",
    "    wdot = -ξdot/(2*Keq*ξ^2)     #mol/m3.s Rate of change of OH- concentration\n",
    "    return wdot\n",
    "end\n",
    "\n",
    "\n",
    "#f(c,w) = -k2*Sl/Ss*c*w\n",
    "#@time sollin =    LinearSIP(f2,L,tf,p,c0,w0,k2,Ss,Sl,Ds,Dl,ɛ,m);\n",
    "@time solrad = SphericalSIP(f2,R,tf,p,c0,w0,k2,Ss,Sl,Ds,Dl,ɛ,m);\n",
    "plot(solrad(.3)[1:2m])\n",
    "[solrad(tf)[2m+1] / (4/3*pi*R^3), (Sl*p(0.0)+cKion*0.5)*(1-ɛ)+Ss*ɛ*p(0.0)]"
   ]
  },
  {
   "cell_type": "code",
   "execution_count": null,
   "metadata": {
    "collapsed": true
   },
   "outputs": [],
   "source": []
  },
  {
   "cell_type": "code",
   "execution_count": null,
   "metadata": {
    "collapsed": true
   },
   "outputs": [],
   "source": []
  },
  {
   "cell_type": "code",
   "execution_count": null,
   "metadata": {
    "collapsed": true
   },
   "outputs": [],
   "source": []
  },
  {
   "cell_type": "code",
   "execution_count": null,
   "metadata": {
    "collapsed": true
   },
   "outputs": [],
   "source": []
  },
  {
   "cell_type": "code",
   "execution_count": null,
   "metadata": {
    "collapsed": true
   },
   "outputs": [],
   "source": []
  },
  {
   "cell_type": "code",
   "execution_count": null,
   "metadata": {
    "collapsed": true
   },
   "outputs": [],
   "source": []
  },
  {
   "cell_type": "code",
   "execution_count": null,
   "metadata": {
    "collapsed": true
   },
   "outputs": [],
   "source": []
  },
  {
   "cell_type": "code",
   "execution_count": null,
   "metadata": {
    "collapsed": true
   },
   "outputs": [],
   "source": []
  },
  {
   "cell_type": "markdown",
   "metadata": {},
   "source": [
    "# Compare with Experimental Parameters - Linear Run "
   ]
  },
  {
   "cell_type": "markdown",
   "metadata": {
    "collapsed": true
   },
   "source": [
    "We will not put in some realistic parameters to model flow into small SIPS particles."
   ]
  },
  {
   "cell_type": "code",
   "execution_count": 4,
   "metadata": {
    "collapsed": false
   },
   "outputs": [
    {
     "name": "stdout",
     "output_type": "stream",
     "text": [
      "  9.653540 seconds (52.09 M allocations: 4.229 GB, 7.95% gc time)\n"
     ]
    },
    {
     "name": "stderr",
     "output_type": "stream",
     "text": [
      "WARNING: Method definition p(Any) in module Main at In[2]:9 overwritten at In[4]:9.\n"
     ]
    }
   ],
   "source": [
    "V = 5.5e-6     #Volume of emulsion, m3\n",
    "A = pi*.03^2   #Area of petri dish, m2\n",
    "L = V/A        #m\n",
    "k2 = 8.67       #m3/mol.s      Taken at from Supp Matt of Vericella\n",
    "Ss = 5.67e-4    #mol/Pa.m3     From http://onlinelibrary.wiley.com/doi/10.1002/(SICI)1099-0488(20000201)38:3%3C415::AID-POLB8%3E3.0.CO;2-Z/full Good references at \"Gas permeability, diffusivity and solubility of nitrogen, helium, methane, carbon dioxide and formaldehyde in dense polymeric membranes using a new on-line permeation apparatus\"\n",
    "Sl = 2.88e-4    #mol/Pa.m3     From Vericella (2015) See also confirmation report\n",
    "Ds = 2.2e-9     #m2/s          From http://onlinelibrary.wiley.com/doi/10.1002/(SICI)1099-0488(20000201)38:3%3C415::AID-POLB8%3E3.0.CO;2-Z/full Good references at \"Gas permeability, diffusivity and solubility of nitrogen, helium, methane, carbon dioxide and formaldehyde in dense polymeric membranes using a new on-line permeation apparatus\"\n",
    "Dl = 1.78e-9    #m2/s          From Vericella (2015) See also confirmation report\n",
    "p(t) = 140000   #Pa            #Consider pure CO2 environment.\n",
    "tf = 6000.0       #s \n",
    "ɛ  = 0.75\n",
    "c0 = 0.0;\n",
    "\n",
    "#This function is a little subtle. See my workbook, after p. 8\n",
    "f2 = function (c,w)\n",
    "   #Data for Function\n",
    "    Keq = 1/(1.78e-4)*1e-3                    #m3/mol   Calculate in more detail later. Sourced from http://clas.sa.ucsb.edu/staff/Resource%20Folder/Chem109ABC/Acid,%20Base%20Strength/Table%20of%20Acids%20w%20Kas%20and%20pKas.pdf\n",
    "    cKion = 600                  #mol/m3. Based on 0.3mol/L solution of K2CO3\n",
    "    nco2dot = k2*c*Sl/Ss*w             #mol/m3.s    Rate of reaction of CO2\n",
    "    ξdot = 2*nco2dot/cKion       #1/s. Rate of change of loading\n",
    "    ξ = 1/(1+2Keq*w)             #loading\n",
    "    wdot = -ξdot/(2*Keq*ξ^2)     #mol/m3.s Rate of change of OH- concentration\n",
    "    return wdot\n",
    "end\n",
    "\n",
    "ftemp = function (c,w)\n",
    "    wdot = -k2*c*Sl/Ss*w/60\n",
    "    return wdot\n",
    "end\n",
    "w0 = 1e3;     #Initial OH- concentration, mol/m3\n",
    "m = 100\n",
    "\n",
    "\n",
    "@time sol2 = LinearSIP(f2,L,tf,p,c0,w0,k2,Ss,Sl,Ds,Dl,ɛ,m);\n",
    "#@time sol = SphericalSIP(f2,R,tf,p,c0,w0,k2,Ss,Sl,Ds,Dl,ɛ,m);\n",
    "#plot(linspace(0,tf,100),[sol2(i)[2m+1] for i in linspace(0,tf,100)])\n",
    "#plot(sol(30)[m+1:2m])\n",
    "\n",
    "#Compare with Experiment\n",
    "tdata = [0, 0.25, 0.5, 1,1.5,2,2.5,3,3.5,4,4.5,5,5.5,6,6.5,7,7.5,8,8.5,9,9.5,10,10.5,11,11.5,12,12.5,13,13.5,14,14.5,15,15.5,16,16.5,17,17.5,18,18.5,19,19.5,20,21,22,23,25,30,35,40,45,50,55,60,70,80]  #Time in minutes\n",
    "pdata = [1.55,1.4430,1.4370,1.4317,1.4284,1.4257,1.4235,1.4213,1.4195,1.4179,1.4161,1.4145,1.4130,1.4117,1.4103,1.4092,1.4080,1.4070,1.4061,1.4051,1.4039,1.4031,1.4020,1.4010,1.4005,1.3996,1.3987,1.3980,1.3974,1.3968,1.3959,1.3953,1.3947,1.3940,1.3934,1.3928,1.3923,1.3917,1.3912,1.3906,1.3902,1.3896,1.3887,1.3877,1.3868,1.3853,1.3819,1.3792,1.3771,1.3755,1.3741,1.3727,1.3718,1.3700,1.3682]            #Pressure Data in bar\n",
    "#pleak = [.00018*tdata[i] for i in 1:length(tdata)]\n",
    "#pdata = pdata + pleak\n",
    "plot(tdata,pdata)\n",
    "V_container = 330e-6      #Volume of container, m3 \n",
    "T = 298                   #Temperature, K\n",
    "R = 8.314                 #J/K.mol\n",
    "DeltaN = [(pdata[2] - pdata[i])*1e5*V_container/(R*T) for i in 2:length(pdata)]\n",
    "\n",
    "#plot(tdata[2:end],DeltaN)\n",
    "\n",
    "#Compare this with Model - remember to adjust for small surface area:\n",
    "A = pi*.03^2\n",
    "#plot(tdata[2:end],DeltaN, line=:scatter, title=\"CO2 Absorbed\", ylabel=\"CO2 Absorbed (mol)\", xlabel=\"Time (min)\",lab=\"Experiment\")\n",
    "#plot!(linspace(0,tf,100)/60,[sol2(i)[2m+1] for i in linspace(0,tf,100)]*A, lab = \"Model\")"
   ]
  },
  {
   "cell_type": "code",
   "execution_count": 5,
   "metadata": {
    "collapsed": false
   },
   "outputs": [
    {
     "data": {
      "text/html": [
       "<img src=\"data:image/png;base64,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\" />"
      ]
     },
     "execution_count": 5,
     "metadata": {},
     "output_type": "execute_result"
    }
   ],
   "source": [
    "plot(tdata[2:end],DeltaN, line=:scatter, title=\"CO2 Absorbed\", ylabel=\"CO2 Absorbed (mol)\", xlabel=\"Time (min)\",lab=\"Experiment\")\n",
    "plot!(linspace(0,tf,100)/60,[sol2(i)[2m+1] for i in linspace(0,tf,100)]*A, lab = \"Model\")"
   ]
  },
  {
   "cell_type": "code",
   "execution_count": 2,
   "metadata": {
    "collapsed": false
   },
   "outputs": [
    {
     "name": "stdout",
     "output_type": "stream",
     "text": [
      " 12.813810 seconds (57.51 M allocations: 4.452 GB, 4.78% gc time)\n"
     ]
    },
    {
     "name": "stderr",
     "output_type": "stream",
     "text": [
      "/Users/thomasmoore/.julia/v0.5/Conda/deps/usr/lib/python2.7/site-packages/matplotlib/__init__.py:1401: UserWarning:  This call to matplotlib.use() has no effect\n",
      "because the backend has already been chosen;\n",
      "matplotlib.use() must be called *before* pylab, matplotlib.pyplot,\n",
      "or matplotlib.backends is imported for the first time.\n",
      "\n",
      "  warnings.warn(_use_error_msg)\n"
     ]
    }
   ],
   "source": [
    "V = 5.5e-6     #Volume of emulsion, m3\n",
    "A = pi*.03^2   #Area of petri dish, m2\n",
    "L = V/A        #m\n",
    "k2 = 8.67       #m3/mol.s      Taken at from Supp Matt of Vericella\n",
    "Ss = 5.67e-4    #mol/Pa.m3     From http://onlinelibrary.wiley.com/doi/10.1002/(SICI)1099-0488(20000201)38:3%3C415::AID-POLB8%3E3.0.CO;2-Z/full Good references at \"Gas permeability, diffusivity and solubility of nitrogen, helium, methane, carbon dioxide and formaldehyde in dense polymeric membranes using a new on-line permeation apparatus\"\n",
    "Sl = 2.88e-4    #mol/Pa.m3     From Vericella (2015) See also confirmation report\n",
    "Ds = 2.2e-9     #m2/s          From http://onlinelibrary.wiley.com/doi/10.1002/(SICI)1099-0488(20000201)38:3%3C415::AID-POLB8%3E3.0.CO;2-Z/full Good references at \"Gas permeability, diffusivity and solubility of nitrogen, helium, methane, carbon dioxide and formaldehyde in dense polymeric membranes using a new on-line permeation apparatus\"\n",
    "Dl = 1.78e-9    #m2/s          From Vericella (2015) See also confirmation report\n",
    "p(t) = 140000   #Pa            #Consider pure CO2 environment.\n",
    "tf = 6000.0       #s \n",
    "ɛ  = 0.75\n",
    "c0 = 0.0;\n",
    "\n",
    "#This function is a little subtle. See my workbook, after p. 8\n",
    "f2 = function (c,w)\n",
    "   #Data for Function\n",
    "    Keq = 1/(1.78e-4)*1e-3                    #m3/mol   Calculate in more detail later. Sourced from http://clas.sa.ucsb.edu/staff/Resource%20Folder/Chem109ABC/Acid,%20Base%20Strength/Table%20of%20Acids%20w%20Kas%20and%20pKas.pdf\n",
    "    cKion = 600                  #mol/m3. Based on 0.3mol/L solution of K2CO3\n",
    "    nco2dot = k2*c*Sl/Ss*w             #mol/m3.s    Rate of reaction of CO2\n",
    "    ξdot = 2*nco2dot/cKion       #1/s. Rate of change of loading\n",
    "    ξ = 1/(1+2Keq*w)             #loading\n",
    "    wdot = -ξdot/(2*Keq*ξ^2)     #mol/m3.s Rate of change of OH- concentration\n",
    "    return wdot\n",
    "end\n",
    "\n",
    "ftemp = function (c,w)\n",
    "    wdot = -k2*c*Sl/Ss*w/60\n",
    "    return wdot\n",
    "end\n",
    "w0 = 1e3;     #Initial OH- concentration, mol/m3\n",
    "m = 100\n",
    "\n",
    "\n",
    "@time sol2 = LinearSIP(f2,L,tf,p,c0,w0,k2,Ss,Sl,Ds,Dl,ɛ,m);\n",
    "#@time sol = SphericalSIP(f2,R,tf,p,c0,w0,k2,Ss,Sl,Ds,Dl,ɛ,m);\n",
    "#plot(linspace(0,tf,100),[sol2(i)[2m+1] for i in linspace(0,tf,100)])\n",
    "#plot(sol(30)[m+1:2m])\n",
    "\n",
    "#Compare with Experiment\n",
    "tdata = [0, 0.25, 0.5, 1,1.5,2,2.5,3,3.5,4,4.5,5,5.5,6,6.5,7,7.5,8,8.5,9,9.5,10,10.5,11,11.5,12,12.5,13,13.5,14,14.5,15,15.5,16,16.5,17,17.5,18,18.5,19,19.5,20,21,22,23,25,30,35,40,45,50,55,60,70,80]  #Time in minutes\n",
    "pdata = [1.55,1.4430,1.4370,1.4317,1.4284,1.4257,1.4235,1.4213,1.4195,1.4179,1.4161,1.4145,1.4130,1.4117,1.4103,1.4092,1.4080,1.4070,1.4061,1.4051,1.4039,1.4031,1.4020,1.4010,1.4005,1.3996,1.3987,1.3980,1.3974,1.3968,1.3959,1.3953,1.3947,1.3940,1.3934,1.3928,1.3923,1.3917,1.3912,1.3906,1.3902,1.3896,1.3887,1.3877,1.3868,1.3853,1.3819,1.3792,1.3771,1.3755,1.3741,1.3727,1.3718,1.3700,1.3682]            #Pressure Data in bar\n",
    "pleak = [.00018*tdata[i] for i in 1:length(tdata)]\n",
    "pdata = pdata + pleak\n",
    "plot(tdata,pdata)\n",
    "V_container = 330e-6      #Volume of container, m3 \n",
    "T = 298                   #Temperature, K\n",
    "R = 8.314                 #J/K.mol\n",
    "DeltaN = [(pdata[2] - pdata[i])*1e5*V_container/(R*T) for i in 2:length(pdata)]\n",
    "\n",
    "#plot(tdata[2:end],DeltaN)\n",
    "\n",
    "#Compare this with Model - remember to adjust for small surface area:\n",
    "A = pi*.03^2\n",
    "#plot(tdata[2:end],DeltaN, line=:scatter, title=\"CO2 Absorbed\", ylabel=\"CO2 Absorbed (mol)\", xlabel=\"Time (min)\",lab=\"Experiment\")\n",
    "#plot!(linspace(0,tf,100)/60,[sol2(i)[2m+1] for i in linspace(0,tf,100)]*A, lab = \"Model\")"
   ]
  },
  {
   "cell_type": "code",
   "execution_count": 3,
   "metadata": {
    "collapsed": false
   },
   "outputs": [
    {
     "data": {
      "text/html": [
       "<img src=\"data:image/png;base64,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\" />"
      ]
     },
     "execution_count": 3,
     "metadata": {},
     "output_type": "execute_result"
    },
    {
     "name": "stderr",
     "output_type": "stream",
     "text": [
      "sys:1: MatplotlibDeprecationWarning: The set_axis_bgcolor function was deprecated in version 2.0. Use set_facecolor instead.\n"
     ]
    }
   ],
   "source": [
    "plot(tdata[2:end],DeltaN, line=:scatter, title=\"CO2 Absorbed\", ylabel=\"CO2 Absorbed (mol)\", xlabel=\"Time (min)\",lab=\"Experiment\")\n",
    "plot!(linspace(0,tf,100)/60,[sol2(i)[2m+1] for i in linspace(0,tf,100)]*A, lab = \"Model\")"
   ]
  },
  {
   "cell_type": "markdown",
   "metadata": {},
   "source": [
    "# More Experimental Data - Spherical Run "
   ]
  },
  {
   "cell_type": "code",
   "execution_count": 564,
   "metadata": {
    "collapsed": false
   },
   "outputs": [
    {
     "name": "stdout",
     "output_type": "stream",
     "text": [
      " 10.099791 seconds (40.20 M allocations: 3.233 GB, 12.94% gc time)\n"
     ]
    },
    {
     "name": "stderr",
     "output_type": "stream",
     "text": [
      "WARNING: Method definition p(Any) in module Main at In[559]:7 overwritten at In[564]:7.\n"
     ]
    }
   ],
   "source": [
    "R = 0.001       #Radius, m\n",
    "k2 = 8.67       #m3/mol.s      Taken at from Supp Matt of Vericella\n",
    "Ss = 5.67e-4    #mol/Pa.m3     From http://onlinelibrary.wiley.com/doi/10.1002/(SICI)1099-0488(20000201)38:3%3C415::AID-POLB8%3E3.0.CO;2-Z/full Good references at \"Gas permeability, diffusivity and solubility of nitrogen, helium, methane, carbon dioxide and formaldehyde in dense polymeric membranes using a new on-line permeation apparatus\"\n",
    "Sl = 2.88e-4    #mol/Pa.m3     From Vericella (2015) See also confirmation report\n",
    "Ds = 2.2e-9     #m2/s          From http://onlinelibrary.wiley.com/doi/10.1002/(SICI)1099-0488(20000201)38:3%3C415::AID-POLB8%3E3.0.CO;2-Z/full Good references at \"Gas permeability, diffusivity and solubility of nitrogen, helium, methane, carbon dioxide and formaldehyde in dense polymeric membranes using a new on-line permeation apparatus\"\n",
    "Dl = 1.78e-9    #m2/s          From Vericella (2015) See also confirmation report\n",
    "p(t) = 110000   #Pa            #Consider pure CO2 environment.\n",
    "tf = 6000.0       #s \n",
    "ɛ  = 0.75\n",
    "c0 = 0.0;\n",
    "\n",
    "#This function is a little subtle. See my workbook, after p. 8\n",
    "f2 = function (c,w)\n",
    "   #Data for Function\n",
    "    Keq = 1/(1.78e-4)*1e-3                    #m3/mol   Calculate in more detail later. Sourced from http://clas.sa.ucsb.edu/staff/Resource%20Folder/Chem109ABC/Acid,%20Base%20Strength/Table%20of%20Acids%20w%20Kas%20and%20pKas.pdf\n",
    "    cKion = 600                  #mol/m3. Based on 0.3mol/L solution of K2CO3\n",
    "    nco2dot = k2*c*Sl/Ss*w             #mol/m3.s    Rate of reaction of CO2\n",
    "    ξdot = 2*nco2dot/cKion       #1/s. Rate of change of loading\n",
    "    ξ = 1/(1+2Keq*w)             #loading\n",
    "    wdot = -ξdot/(2*Keq*ξ^2)     #mol/m3.s Rate of change of OH- concentration\n",
    "    return wdot\n",
    "end\n",
    "\n",
    "ftemp = function (c,w)\n",
    "    wdot = -k2*c*Sl/Ss*w/60\n",
    "    return wdot\n",
    "end\n",
    "w0 = 1e3;     #Initial OH- concentration, mol/m3\n",
    "m = 100\n",
    "\n",
    "\n",
    "@time sol2 = SphericalSIP(f2,R,tf,p,c0,w0,k2,Ss,Sl,Ds,Dl,ɛ,m);\n",
    "#@time sol = SphericalSIP(f2,R,tf,p,c0,w0,k2,Ss,Sl,Ds,Dl,ɛ,m);\n",
    "#plot(linspace(0,tf,100),[sol2(i)[2m+1] for i in linspace(0,tf,100)])\n",
    "#plot(sol(30)[m+1:2m])\n",
    "\n",
    "\n",
    "tdata = [0.5, 1,1.5, 2 ,2.5,3,3.5,4,4.5,5,5.5,6,6.5,7,7.5,8,8.5,9,9.5,10,15,20,25,30]\n",
    "pdata = [1.1047,1.1011,1.0993,1.0985,1.0979,1.0975,1.097,1.0969,1.0968,1.0966,1.0964,1.0963,1.0963,1.0963,1.096,1.096,1.0959,1.0959,1.0957,1.0957,1.0952,1.095,1.0949,1.095]\n",
    "\n",
    "#Compare with Experiment\n",
    "plot(tdata,pdata)\n",
    "V_container = 330e-6      #Volume of container, m3 \n",
    "T = 298                   #Temperature, K\n",
    "R_gas = 8.314                 #J/K.mol\n",
    "DeltaN = [(pdata[2] - pdata[i])*1e5*V_container/(R_gas*T) for i in 2:length(pdata)]\n",
    "\n",
    "#plot(tdata[2:end],DeltaN)\n",
    "\n",
    "#Compare this with Model - remember to adjust for small surface area:\n",
    "A = pi*.03^2\n",
    "#plot(tdata[2:end],DeltaN, line=:scatter, title=\"CO2 Absorbed\", ylabel=\"CO2 Absorbed (mol)\", xlabel=\"Time (min)\",lab=\"Experiment\")\n",
    "#plot!(linspace(0,tf,100)/60,[sol2(i)[2m+1] for i in linspace(0,tf,100)]*A, lab = \"Model\")"
   ]
  },
  {
   "cell_type": "code",
   "execution_count": 262,
   "metadata": {
    "collapsed": false
   },
   "outputs": [
    {
     "data": {
      "text/html": [
       "<img src=\"data:image/png;base64,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\" />"
      ]
     },
     "execution_count": 262,
     "metadata": {},
     "output_type": "execute_result"
    }
   ],
   "source": [
    "plot(tdata[2:end],DeltaN, line=:scatter, title=\"CO2 Absorbed\", ylabel=\"CO2 Absorbed (mol)\", xlabel=\"Time (min)\",lab=\"Experiment\")\n",
    "plot!(linspace(0,tf,100)/60,[sol2(i)[2m+1]*(1.18/(1e6*4/3*pi*R^3)) for i in linspace(0,tf,100)], lab = \"Model\")"
   ]
  },
  {
   "cell_type": "markdown",
   "metadata": {},
   "source": [
    "# Use 'Verified model' to compare MECS and SIPs Material "
   ]
  },
  {
   "cell_type": "code",
   "execution_count": 4,
   "metadata": {
    "collapsed": false
   },
   "outputs": [
    {
     "name": "stdout",
     "output_type": "stream",
     "text": [
      "  4."
     ]
    },
    {
     "name": "stderr",
     "output_type": "stream",
     "text": [
      "WARNING: Method definition p(Any) in module Main at In[2]:9 overwritten at In[4]:7.\n"
     ]
    },
    {
     "name": "stdout",
     "output_type": "stream",
     "text": [
      "222615 seconds (7.26 M allocations: 509.602 MB, 3.19% gc time)\n",
      "  6.055614 seconds (6.11 M allocations: 392.667 MB, 2.16% gc time)\n"
     ]
    }
   ],
   "source": [
    "RSIP = 0.00005       #Radius, m\n",
    "k2 = 8.67       #m3/mol.s      Taken at from Supp Matt of Vericella\n",
    "Ss = 5.67e-4    #mol/Pa.m3     From http://onlinelibrary.wiley.com/doi/10.1002/(SICI)1099-0488(20000201)38:3%3C415::AID-POLB8%3E3.0.CO;2-Z/full Good references at \"Gas permeability, diffusivity and solubility of nitrogen, helium, methane, carbon dioxide and formaldehyde in dense polymeric membranes using a new on-line permeation apparatus\"\n",
    "Sl = 2.88e-4    #mol/Pa.m3     From Vericella (2015) See also confirmation report\n",
    "Ds = 2.2e-9     #m2/s          From http://onlinelibrary.wiley.com/doi/10.1002/(SICI)1099-0488(20000201)38:3%3C415::AID-POLB8%3E3.0.CO;2-Z/full Good references at \"Gas permeability, diffusivity and solubility of nitrogen, helium, methane, carbon dioxide and formaldehyde in dense polymeric membranes using a new on-line permeation apparatus\"\n",
    "Dl = 1.78e-9    #m2/s          From Vericella (2015) See also confirmation report\n",
    "p(t) = 110000   #Pa            #Consider pure CO2 environment.\n",
    "tf = 45.0       #s \n",
    "ɛ  = 0.5\n",
    "c0 = 0.0;\n",
    "RLiq = RSIP*(1-ɛ)^(1/3)\n",
    "\n",
    "#This function is a little subtle. See my workbook, after p. 8\n",
    "cKion = 600\n",
    "function fsolidSIPS(c,w)\n",
    "   #Data for Function\n",
    "    Keq = 1/(1.78e-4)*1e-3                    #m3/mol   Calculate in more detail later. Sourced from http://clas.sa.ucsb.edu/staff/Resource%20Folder/Chem109ABC/Acid,%20Base%20Strength/Table%20of%20Acids%20w%20Kas%20and%20pKas.pdf\n",
    "    #cKion = 600                 #mol/m3. Based on 0.3mol/L solution of K2CO3\n",
    "    nco2dot = k2*c*Sl/Ss*w             #mol/m3.s    Rate of reaction of CO2\n",
    "    ξdot = 2*nco2dot/cKion       #1/s. Rate of change of loading\n",
    "    ξ = 1/(1+2Keq*w)             #loading\n",
    "    wdot = -ξdot/(2*Keq*ξ^2)     #mol/m3.s Rate of change of OH- concentration\n",
    "    return wdot\n",
    "end\n",
    "function fsolidMECS(c,w)\n",
    "   #Data for Function\n",
    "    Keq = 1/(1.78e-4)*1e-3                    #m3/mol   Calculate in more detail later. Sourced from http://clas.sa.ucsb.edu/staff/Resource%20Folder/Chem109ABC/Acid,%20Base%20Strength/Table%20of%20Acids%20w%20Kas%20and%20pKas.pdf\n",
    "    #cKion = 600                  #mol/m3. Based on 0.3mol/L solution of K2CO3\n",
    "    nco2dot = k2*c*w             #mol/m3.s    Rate of reaction of CO2\n",
    "    ξdot = 2*nco2dot/cKion       #1/s. Rate of change of loading\n",
    "    ξ = 1/(1+2Keq*w)             #loading\n",
    "    wdot = -ξdot/(2*Keq*ξ^2)     #mol/m3.s Rate of change of OH- concentration\n",
    "    return wdot\n",
    "end\n",
    "\n",
    "w0 = 1e3;     #Initial OH- concentration, mol/m3\n",
    "m = 75\n",
    "\n",
    "\n",
    "@time solSIPS = SphericalSIP(fsolidSIPS,RSIP,tf,p,c0,w0,k2,Ss,Sl,Ds,Dl,ɛ,m);\n",
    "#println([((Sl+cKion*0.5)*(1-ɛ)+Ss*ɛ)*4/3*pi*RSIP^3, solSIPS(tf)[2m+1]])\n",
    "@time solMECS = SphericalMECSNoShell(fsolidMECS,RLiq,tf,p,c0,w0,k2,Ss,Sl,Ds,Dl,ɛ,m);\n",
    "#@time sol = SphericalSIP(f2,R,tf,p,c0,w0,k2,Ss,Sl,Ds,Dl,ɛ,m);\n",
    "#plot(linspace(0,tf,100),[sol2(i)[2m+1] for i in linspace(0,tf,100)])\n",
    "#plot(sol(30)[m+1:2m])"
   ]
  },
  {
   "cell_type": "code",
   "execution_count": 5,
   "metadata": {
    "collapsed": false
   },
   "outputs": [
    {
     "name": "stdout",
     "output_type": "stream",
     "text": [
      "Assympototes\n",
      "[1.02382e-10,1.03162e-10,8.60422e-11,8.68336e-11]\n"
     ]
    },
    {
     "data": {
      "text/html": [
       "<img src=\"data:image/png;base64,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\" />"
      ]
     },
     "execution_count": 5,
     "metadata": {},
     "output_type": "execute_result"
    }
   ],
   "source": [
    "plot(linspace(0,tf,100),[solSIPS(i)[2m+1] for i in linspace(0,tf,100)])\n",
    "println(\"Assympototes\")\n",
    "println([solSIPS(tf)[2m+1] , (4/3*pi*RSIP^3)*((Sl*p(0.0)+cKion*0.5)*(1-ɛ)+Ss*ɛ*p(0.0)), solMECS(tf)[2m+1], (4/3*pi*RLiq^3)*(Sl*p(0.0)+cKion*0.5) ])\n",
    "plot!(linspace(0,tf,100),[solMECS(i)[2m+1] for i in linspace(0,tf,100)])"
   ]
  },
  {
   "cell_type": "code",
   "execution_count": 12,
   "metadata": {
    "collapsed": false
   },
   "outputs": [
    {
     "name": "stdout",
     "output_type": "stream",
     "text": [
      "  2.710433 seconds (15.97 M allocations: 1.417 GB, 11.44% gc time)\n",
      "  0.778302 seconds (6.06 M allocations: 542.777 MB, 13.56% gc time)\n"
     ]
    }
   ],
   "source": [
    "#Bigger Particle\n",
    "tf = 350\n",
    "RSIP = 0.00025\n",
    "RLiq = RSIP*(1-ɛ)^(1/3)\n",
    "@time solSIPS = SphericalSIP(fsolidSIPS,RSIP,tf,p,c0,w0,k2,Ss,Sl,Ds,Dl,ɛ,m);\n",
    "#println([((Sl+cKion*0.5)*(1-ɛ)+Ss*ɛ)*4/3*pi*RSIP^3, solSIPS(tf)[2m+1]])\n",
    "@time solMECS = SphericalMECSNoShell(fsolidMECS,RLiq,tf,p,c0,w0,k2,Ss,Sl,Ds,Dl,ɛ,m);\n",
    "#@time sol = SphericalSIP(f2,R,tf,p,c0,w0,k2,Ss,Sl,Ds,Dl,ɛ,m);\n",
    "#plot(linspace(0,tf,100),[sol2(i)[2m+1] for i in linspace(0,tf,100)])\n",
    "#plot(sol(30)[m+1:2m])"
   ]
  },
  {
   "cell_type": "code",
   "execution_count": 13,
   "metadata": {
    "collapsed": false
   },
   "outputs": [
    {
     "name": "stdout",
     "output_type": "stream",
     "text": [
      "Assympototes\n",
      "[8.48808e-9,9.46503e-9,5.42781e-9,5.56847e-9]\n"
     ]
    },
    {
     "data": {
      "text/html": [
       "<img src=\"data:image/png;base64,iVBORw0KGgoAAAANSUhEUgAAAlgAAAGQCAYAAAByNR6YAAAABHNCSVQICAgIfAhkiAAAAAlwSFlzAAAPYQAAD2EBqD+naQAAIABJREFUeJzt3Xt8lOWd///3HHKAkHA+BRIkB6AREEWsZwRXZa2KVdS11lK1gj+0rbVq9cu6Lq0tXXW7tp5araVWH0U8tX7Vdlt2ddFvPeFpURBFQkgM4ZAQMknITGbm/vz+CJkSwg2BJNwzk9fz8fAxzFwzV675MDTvXtc11+0zMxMAAAB6jN/rAQAAAKQbAhYAAEAPC3o9gL7EcRxt2bJFubm58vl8Xg8HAAB0kZmpsbFR+fn58vsPPj9FwDqCtmzZooKCAq+HAQAADlNVVZXGjh170OcRsI6g3NxcSdK6des0ZswYj0eTPBwzrdvapFMu+Jp++uunVBPNVkWjqbJJqtlt2h6WnH2+itEvKA3JlIZkS4OzfBqYIeVmSrkZPuVlSAMypJwMqX/Qp/4BqX+w7TX9AlJW0Kdsv5QVaPsv0y9l7rnN8CvpZhdDoZAKCgpUVVWlvLw8r4eTVKiNO2rjjtq4ozbuqqurVVZWlvhdfjAErCOo/Rd3bm5un/3gNkdN79aa1tSZ1uw0rdkpfVxv2h3rL938X/o/n5oKc3wqyvPpuAJpTI5P+f2l0f3bbkf182lYtpQdTK4QdCTk5eX12c/NwVAbd9TGHbVxR206C4VCkrr+f8IJWOhVO8Omv20zvbbV9PpW03s7TDFrmy06erA0ZYhPlxb5NT6rRRefdoy2f/aBhg7iHzUAILURsNDjKptMz21y9Nwm0xvbTCZpTI50+iifvlnq1ymj/Jo0SMrw//3/BYRCjrSjXBl8rxUAUk5ra6s2b96seDzu9VC6JRAIaNy4ccrMzOx2XwQs9Iia3abffebouQrT6h2mTL909lifHj0toNn5Ph2Vm3x7mwAA3ffFF1/oa1/7mnbv3u31UHpE//79tXz58m7vlSZgoVverzX9x0dxrSg3BX3SuYU+fW9yQF8p9Ckvk0AFAOnMcRz98Ic/1KBBg/SLX/xC2dnZXg+pW8LhsO644w4tWbJEv/zlL7t0HIMbAhYOWdwxvbDZdN/Hjl7faho3QPrpDL+umeTXQEIVAPQZtbW1ev/99/XjH/9Y06ZN83o4PeKGG27Q4sWLVVdXp+HDhx92PwQsHJK3tzu64W+O3q01nTbKp+f+IaALxvkU9BOsAKCv2bVrlyR16VyoVNH+Xurr6wlY6H07Wky3r47rsU9N04ZKr58f0Kmj2JEOAH2Z4ziS2jaHp4v299L+3g4XvyFxQHHH9NC6uCY8HdNzm0wPnuLXuxcGCVcAgJRRUVGhM844QwMHDjxiS5n8loSr+ojpK3+J6/q/Obp4vE+fXRrUorKAAiwHAgBSSF5enu666y79/ve/P2I/k4CF/Vq/y/TlP8b0zg7TX/8xoF+fHtTwfgQrAEDyuvfee7VgwYLE/V27dmnYsGGSpFNPPVU5OTlHbCzswUInf6p0dPkrcY3Nkd6ZG1TJQIIVAKBrykOmXa093++gTKko78C/j771rW9pwoQJuvvuuzVo0CAtW7ZMc+fO1ZAhQ3p+QAdBwEKCmenu/3V0+2pH5xX69OSsAGdZAQC6rDZsKn06Jsd6vu+AT9r69aCGZbv/Xho0aJDmzZun3/zmN/re976nhx9+WCtWrOj5wXQBAQsJt77j6N41jhZP8+uHx/vl5+R1AMAhGJbt04ZLg702g3WgcNXuO9/5ji644AJ96Utf0vDhw3Xsscf2/GC6gIAFSdLPP47r3jWO7jvJr+9OTp+v2wIAjqyDLeP1tkmTJqmoqEgLFizQ3Xff7dk42OQOPVPu6HtvOrplKuEKAJD6rr32WsViMc2bN0+StHv3bo0dO1aXXHKJ1q1bp7Fjx+r222/v1TEwg9XHvVbj6OuvxnV5sU8/PYG8DQBIfa+++qoWLVqkjIwMSW0XcP7iiy+O6BgIWH3Y2p2muX+N67RRPi2bGWDPFQAgpW3ZskWzZ8/WkCFD9Je//MXTsRCw+qgtzaZ//M+YCgdIz50VUGaAcAUASG35+flav36918OQxB6sPsnM9K3X44qb9Oc5QQ3kKAYAAHoUM1h90FMbTX+uMr1wdkD5OYQrAAB6GjNYfUxd2PTdN+OaN96nC8bx1w8AQG/gN2wfc/PbcbU60i9O5jgGAAB6CwGrD/nvake//cx0z5cDGt2fpUEAQN/wyiuv6IQTTlBZWZmOPvpo3XrrrXIcp1d/JgGrj2iJmRb+v7hOH+XTNRMJVwCAvmPw4MF66qmntG7dOr333nt644039Lvf/a5XfyYBq49Y8r6jL5qlR07jvCsAQHq69957tWDBgsT9Xbt2adiwYRo3bpyKiookSdnZ2Zo2bZoqKip6dSwErD5gTZ3p3jWO/nmaXxMHEa4AAOnpW9/6lv74xz9q165dkqRly5Zp7ty5GjJkSOI5W7du1bPPPqvzzjuvV8fCMQ19wI8+iGt8rnTrMeRpAEDvitXWyGlp6vF+/f0GKDhs9AGfM2jQIM2bN0+/+c1v9L3vfU8PP/ywVqxYkWgPhUI6//zzdeutt+r444/v8THujYCV5jaFTM9XmB482c9p7QCAXhVvatDWH18jWS9sIPf7NfqHyxUYMPCAT/vOd76jCy64QF/60pc0fPhwHXvssZKkxsZGzZkzR3PnztVNN93U8+PbBwErzd33saPBmdI3JjB7BQDoXYEBAzVq8WO9NoN1sHAlSZMmTVJRUZEWLFigu+++W5LU1NSkOXPmaM6cOfrnf/7nHh/b/hCw0tiuiOmxTx19b4pf/YPMXgEAet/BlvGOhGuvvVY33HCD5s2bJ0n6+c9/rnfeeUfNzc16/vnnJUmXXHKJFi9e3GtjIGClsUfWO4o60vVlzF4BAPqOV199VYsWLVJGRoYkafHixb0apvaHgJWmWuOmX6x1dEWJT6M4VBQA0Ads2bJFs2fP1pAhQ/SXv/zF07EQsNLU0+Wm6mbppilcEgcA0Dfk5+dr/fr1Xg9DEudgpSUz088+iuucsT5NHsLsFQAARxozWGnof2pMH9RJf/1H8jMAAF7gN3Aa+vc1jqYMkf5hDLNXAIDe4/e3xYhoNOrxSHpO+3tpf2+HixmsNLN+l+nlKtOymQH5uOYgAKAX5efnKzMzU48++qiuvfbaxLf2UlU0GtWjjz6qzMxM5efnd6uvRMDasGGD5s+fr9raWg0cOFC//e1vdfTRR3d6wUsvvaSbb75Z8XhcU6ZM0W9/+1vl5eVJkt5++20tWLBALS0tGjt2rJ544gmNGTPmoP1v375d3/jGN7Rx40ZlZWXpoYce0umnny5J2r17t6655hqtXr1afr9fP/nJTxLnWjiOo+9+97v605/+JJ/PpxtvvFE33HBDYqx33XWXli1bJkn6p3/6J/34xz9OtD322GP66U9/KsdxNHv2bD300EPKyMjQX/7yF/3gBz9IPG/79u0aNWqU3n//fUmSz+fT5MmTFQi0bR6///77ddppp3XrL6En/eZTR8OypcuLCVcAgN41YMAA/exnP9NNN92kN954w+vh9IjMzEz97Gc/04ABA7rVTyJgLVy4UAsWLNA3v/lNPfvss/rmN7+p1atXd3hyU1OTrrnmGq1atUqTJk3SDTfcoB/96Ee655575DiOrrjiCj366KOaNWuW7r33Xt1444165plnDtr/bbfdphNPPFH/+Z//qdWrV+urX/2qNm3apIyMDN17773KysrS559/rk2bNunLX/6yZs2apaFDh+rJJ5/UunXr9Nlnn6mhoUHHHnusZs2apaOPPlqvvfaali9frjVr1igYDOqUU07RySefrK985SvatGmT7rjjDr3//vsaOXKk5s6dq0ceeUTXX3+9zjnnHJ1zzjmJ93zeeedp1qxZHerw+uuva9CgQd0qfG95YbOjueN8yuKyOACAI+DEE0/UX//6V23ZskWO0wuXyDmC/H6/8vPzux2uJElmZtu2bbPc3FyLRqNmZuY4jo0cOdI2bNhge3v66aftnHPOSdxfu3atjRkzxszM3nnnHZs4cWKiLRQKWVZWlrW0tBy0/5ycHKupqUm8dsaMGbZy5UozMysrK7M333wz0XbJJZfYo48+amZm5557ri1fvjzRdsstt9jixYvNzGzRokW2dOnSRNuDDz5oV1xxhZmZ3X333bZw4cJE28svv2ynnHKK7au6utqys7Nt27ZticckWX19fafndkVDQ4NJsqqqqsN6/cF8Uu+YHmm1/1sR75X+e1N7bRoaGrweStKhNu6ojTtq447auKM27qqqqg6pNkFJqqqq0ujRoxUMtk1o+Xw+FRYWqrKyUiUlJYkwVllZqXHjxiXuH3XUUaqpqVEsFuvUlpubq7y8PG3ZskX19fWu/Q8ePFjRaFSjRo3q0G9lZaXrzzxQ21tvvZVoO/XUUzu0PfXUUwftc2+//e1vde6552rEiBEdHp81a5Ycx9GZZ56pH/3oR8rJydlPdJUikYgikUjifigUktR2wcn2P/ekFZ8G1T8Q1Am5TeqF7ntVez16oy6pjtq4ozbuqI07auOO2rhrbGw8pOezyd2Fmek3v/mNfvGLX3R4fPPmzSosLFRzc7Ouu+463XLLLXrooYf228fSpUu1ZMmSTo+XlZX1ypj1g1VSaLtGXXNJ7/R/BBQUFHg9hKRFbdxRG3fUxh21cUdtui8otRWyfSYqGAzKzFRZWanCwsIOTy4sLNTKlSsT9ysqKhIzU4WFhdq8eXOirbGxUQ0NDYm1TLf+hw4dqmAwqK1btyZmsSoqKhI/u73f0aNHJ9rOPvvsDm0nnXSS6+v2HuvebRs3btxvW7tVq1YpHA532I/V/lpJysnJ0aJFi7RgwQLX4t5+++266aabEvdDoZAKCgq0bt26xOb/nrI9LE14IVsPnhDVFT9t6NG+j4T22lRVVSW+NIE21MYdtXFHbdxRG3fUxl11dfWhTZC0rxXOnDnTli1bZmZmzzzzjE2fPr3TemIoFLLhw4fbJ598YmZm119/vX3/+983M7N4PG5FRUX2yiuvmJnZPffcYxdffHHitQfqf/78+XbnnXeaWdtervz8fGttbTUzszvvvNPmz59vZmbl5eU2fPhw27Fjh5mZLVu2zGbPnm2xWMzq6uqssLDQ1qxZY2Zmr776qpWVlVlTU5OFw2GbPn26vfjii2ZmtnHjRhs9erTV1NSY4zh2/vnn2/3339/hvX79619P7Odqt3PnTmtubk683+9+97t25ZVXHngRdi+9uQfr0U/i5n+01bbvdnq87yOBdX931MYdtXFHbdxRG3fUxt2h7sFKBKz169fbiSeeaKWlpTZ9+vREULnjjjvs4YcfTrzghRdesIkTJ1pxcbHNnTvXdu3alWh74403bMqUKVZaWmozZ860yspKO1j/ZmZbt261s846y0pKSqysrCwR0szMmpqa7NJLL7WioiIrLS21FStWJNpisZgtWrTIxo8fb0VFRXbfffd1eHNLliyx8ePH2/jx4+22227r0PbII49YUVGRFRUV2dVXX50IdGZmu3btsv79+9vGjRs7vKb9/U2dOtXKysrs61//utXV1XWp0Ga9G7DO+8+onfpCtMf7PVL4R+2O2rijNu6ojTtq447auDvUgOUzM+u5CTQcSCgU0sCBA1VVVaWxY8f2WL/NUdOwJ2L60fF+3Tw1NS/u3F6bhoYGpqX3QW3cURt31MYdtXFHbdx98cUXKigo6HJtuFROGlhZbQrHpbnj+OsEACAZ8Bs5Dbyw2dGXBkmlAzlcFACAZEDASnFxx/RSpTF7BQBAEuG3cop7Y5upNizNHcfsFQAAyYKAleJe2Gwa1U86YQQBCwCAZEHASmFmphc2Ozp/nE9+HwELAIBkQcBKYZ/skj4P8e1BAACSDb+ZU9ifqhz1D0pn5jN7BQBAMiFgpbC3tptmDPcpO0jAAgAgmRCwUti7O0zHDyNcAQCQbAhYKWpHi2lzkzRjOAELAIBkQ8BKUat3tF1CkoAFAEDyIWClqHdrTUOypPG5Xo8EAADsi4CVolbv2X/l4/wrAACSDgErBZlZ2wZ3lgcBAEhKBKwUVN0sbW1h/xUAAMmKgJWC3q1t2+DOEQ0AACQnAlYKWr2j7QLPY3K8HgkAANgfAlYKendH2wnubHAHACA5EbBSjJnp3Vo2uAMAkMwIWCmmvFHaGWGDOwAAyYyAlWLe3cEGdwAAkh0BK8Ws3mEaN0Aa3o+ABQBAsiJgpZh3a43lQQAAkhwBK4XEHdN7tcbyIAAASY6AlUI+a5CaomxwBwAg2RGwUsjqPRvcj2MGCwCApEbASiGrd5gmDJQGZRGwAABIZgSsFPIu+68AAEgJBKwUEXVMH9bxDUIAAFIBAStFrK2XwnE2uAMAkAoIWCli9Q6T3ydNG0rAAgAg2RGwUsQn9abiXCkng4AFAECyI2CliE2NpqI8whUAAKmAgJUiyhtNRbkELAAAUgEBKwWYmcobpfG5Xo8EAAB0BQErBdRF2i6RwxIhAACpgYCVAspDbZfIGc8SIQAAKYGAlQI2NbbdFrFECABASiBgpYDyRtOgTK5BCABAqiBgpYC2Ixq8HgUAAOgqAlYKKA+JIxoAAEghBKwUsKnR2OAOAEAKIWAluZhj2tzEBncAAFIJASvJfdEsxY0jGgAASCUErCTXfgYWh4wCAJA6CFhJblOj5JNUOMDrkQAAgK4iYCW58kbT2BwpK8AMFgAAqYKAleTK+QYhAAAph4CV5DY1ikNGAQBIMQSsJFceYgYLAIBUQ8BKYk1R044wp7gDAJBqCFhJbFNj2+14DhkFACClELCS2KZGzsACACAVEbCSWHnIlB2QRvXzeiQAAOBQELCS2KbGtuVBn48ZLAAAUgkBK4mVNxob3AEASEEErCS2iUNGAQBISQSsJGVmKg9xyCgAAKmIgJWktrVILXExgwUAQAoiYCWpxBENBCwAAFIOAStJlXPIKAAAKYuAlaQ2hUzDsqXcTGawAABINQSsJFXONwgBAEhZBKwktalRKmJ5EACAlETASlLljcY1CAEASFEErCTUGjd90cwRDQAApCoCVhKqbJIcY4kQAIBURcBKQu1nYDGDBQBAaiJgJaHyRlPAJxUM8HokAADgcBCwklBlk5TfX8rwM4MFAEAqImAlodqwNKIf4QoAgFRFwEpCdRHT0CyvRwEAAA4XASsJ1YalYdlejwIAABwuAlYSqg2bhmWzRAgAQKoiYCUhZrAAAEhtBKwkY2YELAAAUhwBK8k0tEpxE0uEAACkMAJWkqmLtN3yLUIAAFIXASvJ1IbbLpPDDBYAAKmLgJVkasNtt+zBAgAgdRGwkkx7wBpKwAIAIGURsJJMbdiUmyFlBVgiBAAgVRGwkkxdhOVBAABSHQErydSGTUOzmL0CACCVBb0eADrikNHkZ2aS40hOXGZO25/3PGa25897bhP3HWfPix3J9PfH2zpse7z9z5JMJlnb/Xhzs44enqv4lnK1NuTsO5j2P+z12F7j7Dz6/b2hwynDoemlnxFrbtbxowcptnm9Ijk5B39BH0Jt3FEbd9TGXWz79kN6vs/2/7/C6AWhUEgDBw5UVVWVxo4du9/nnP5iTOMGSE/M6lvZt702DQ0NysvL6/LrLB6Xs7tRTrhZ1tIsJ7xbFt5zG2mRtUbktIZlrWFZJCyLtcqirbJYVBaNyKKtUjzWdj8ek9pv4/G2Wycui8fbbp34njDl9GIlAADJqDESU9kv/7vLv6f61m/xFFAbNk0fxsqts7tJsZ1bFW+oS/znNNQpHtoppzkkpzmkeHNI1tLk3kkgKF9mtvyZ2fJlZsnXfhvMlC8jQ/6sflJOnnyBDPmCGfIFg22vCbTfBiR/+22g7dbnT9zK75fPv9effb7En7Xnz22P+RL35fP9/TH5JJ/23O5ZFm5/XNrzPKm5ebdmnnGGVq1apZycnA7P+ftrOj6UaNrf87qqy8/3bkm7qblJJ8w4Qe+sfkcDcgZ4No5kRG3cURt31MZdfOs26ZcndPn5BKwk05eWCM2JK7Zji6JbNim8+TP94pwpavrV/1HTru1ymkN/f6LPL3/uIAUGDlUgb4iCIwvlH5CnQM5A+XPy5O+fK1+/HPn75cif3V++7D23wQzv3lwPCodC+mh7SIH8ImUewuxeXxAIhfR5fbMCw8cqg9p0QG3cURt31MZdIHZokx8ErCTimGlnGn+LMFa3VZGNH6u1Yp2i1eWK1myStbZdG8g3YJDyc7MVGDFW/Y45WcFh+QoOHa3AoGHyDxjUNmsEAECKIGAlkfYLPafLtwjjoZ0Kr1utyMaPFPl8jeL1bRsEg6PGKXNsifpNO00Z+eOVMaZIzY5f8wYOVMNj/3VIe7AAAEhGBKwkkg6XyYk31Kllzd+0+8PX1Vr+sSQpY0yR+k09RVnFU5RZPFmBnP0EqFCo82MAAKQoAlYSSdULPVssqt3vr1LzW39W66Z1ks+vrAnHavBlNyp7ykn7D1QAAKQxAlYSSbUZrHhTg5rfeFlN/+9FOaF6ZU08ToMvv0n9Jp8of/9cr4cHAIBnCFhJJFUu9BzbuU2Nf12u5vdekU8+9Z9xpgacfqEyRhV6PTQAAJICASuJ1EVMAzOlDH9yLhFaa0SNrzyr0H+vkD87R3lnf005J5/LEiAAAPsgYCWR2rA0NMvrUXRmZgp/9KZ2/fFXijfUKfeMi5R79uVtB3UCAIBOCFhJpDZsSbfBPVa3VfXP3K/I+veUNel4Dbvux8oYsf/L/AAAgDYErCSSbKe4hz99XzsfXypfVj8N/dadyj76xLbLtwAAgAMiYCWR2rBUnATbmcxMTa88q4aXlilrwjQN/cbt8ufwrUAAALqKgJVE6iKmL2d7e6FnJ9Ki+uX/oZYPX1PumZcq7yvz2y5oDAAAuizx23zDhg06+eSTNWHCBM2YMUNr167d7wteeuklTZo0SaWlpbrooosU2usE7rffflvHHHOMJkyYoNmzZ6u6ujrRdqD+t2/frjlz5qi0tFSTJ0/Wa6+9lmjbvXu3Lr/8cpWUlGjChAl69tlnE22O4+jb3/62iouLVVJSogceeKDDWO+66y4VFxeruLhYixcv7tD22GOPqbS0VMXFxbr22msVjUYlSRUVFQoEApo2bVriv40bN3bpPXaX10uEsbqt2n7f9xRe946GXPXPGnj+1YQrAAAOh+0xa9YsW7ZsmZmZPfPMM3b88cfbvhobG23EiBH2ySefmJnZ9ddfbzfffLOZmcXjcSsuLrZXXnnFzMzuuecemzdvXuK1B+r/qquusjvvvNPMzN555x0bM2aMtba2mpnZkiVLbP78+WZmVl5ebsOHD7fa2lozM3v88cdt9uzZFovFrK6uzgoLC+3jjz82M7NVq1ZZWVmZNTU1WTgctunTp9tLL72U6Gf06NFWU1NjjuPY+eefbw888ICZmW3atMkGDhzY6b135T0eTENDg0myqqqqTm2xuGP+R1vtV+viXe6vJ8V21dqWH37TtvxwvrVu2XTEf357bRoaGo74z0521MYdtXFHbdxRG3fUxl1VVdUh1UZmZtu2bbPc3FyLRqNmZuY4jo0cOdI2bNjQ4clPP/20nXPOOYn7a9eutTFjxphZWzCaOHFioi0UCllWVpa1tLQctP+cnByrqalJvHbGjBm2cuVKMzMrKyuzN998M9F2ySWX2KOPPmpmZueee64tX7480XbLLbfY4sWLzcxs0aJFtnTp0kTbgw8+aFdccYWZmd199922cOHCRNvLL79sp5xyipkdOGAd6D12xYECVm2LY3qk1Z4rP/IBK94UspqfLrQt/3KFRWtrDv6CXsA/anfUxh21cUdt3FEbd9TG3aEGrKAkVVVVafTo0QoG27Zk+Xw+FRYWqrKyUiUlJYnZrsrKSo0bNy5x/6ijjlJNTY1isVinttzcXOXl5WnLli2qr6937X/w4MGKRqMaNWpUh34rKytdf+aB2t56661E26mnntqh7amnnjpon5LU3Nys6dOny8x04YUXavHixQoEAgd8j0VFRZ1mByORiCKRSOJ++3JqY2Njh6VVSaoI+SRlq198t0Ihp1NfvcUiYe1+/EdyGurU/5ol2p3R35MLL7fXY9+6gNocCLVxR23cURt31MZdY2PjIT2fTe77GD16tKqrqzVixAjt3LlTl112mf793/9dt9566yH3tXTpUi1ZsqTT42VlZZ2fXHyS9INVOvf0E6SaTw5n6IcsK+DXsguO07SRA/VPz6/WmqXPHvxFvaygoMDrISQtauOO2rijNu6ojTtq031Bqa2Q7TNRwWBQZqbKykoVFna8tlxhYaFWrlyZuF9RUZGYmSosLNTmzZsTbY2NjWpoaFB+fr4GDBjg2v/QoUMVDAa1devWxCxWRUVF4me39zt69OhE29lnn92h7aSTTnJ93d5j3btt743re7dlZWVpxIgRkqQhQ4bo6quv1u9//3vdeuutB3yP+3P77bfrpptuStwPhUIqKCjQunXrNGbMmA7P/VO1X5f/P+nzD9/S8COw0d3icbU8/TPFNnyo/lcu1uv/tp/QdwS116aqqkp5eUlwVkUSoTbuqI07auOO2rijNu6qq6v3P0Hipn2tcObMmR02oU+fPr3TemIoFLLhw4d32OT+/e9/38zaNoAXFRV12AB+8cUXJ157oP7nz5/fYZN7fn5+YpP7nXfe2WmT+44dO8zMbNmyZZ02ua9Zs8bMzF599dVOm9xffPFFMzPbuHFjp03u999/v5m17Udr/9nhcNjmzZtnd9xxR5fe48EcaA/WY+vjpkdaLRp3utxfd+z6v49Z1ffOtd0fv3VEft7BsO7vjtq4ozbuqI07auOO2rg7rE3uZmbr16+3E0880UpLS2369OmJoHLHHXfYww8/nHjBCy+8YBMnTrTi4mKbO3eu7dq1K9H2xhtv2JQpU6y0tNRmzpxplZWVdrD+zcy2bt1qZ511lpWUlFhZWVkiwJiZNTU12aWXXmpFRUVWWlqzIb5tAAAgAElEQVRqK1asSLTFYjFbtGiRjR8/3oqKiuy+++7r8OaWLFli48ePt/Hjx9ttt93Woe2RRx6xoqIiKyoqsquvvjoRqp577jk7+uijberUqVZWVmY33HCDhcPhLr3HgzlQwPq3D2M26LetXe6rO8Kff2RVN86xhpUrDv7kI4R/1O6ojTtq447auKM27qiNu0MNWD4zs56bQMOBhEIhDRw4UFVVVRo7tuP1/G59O64/VDjacFlGr47BCTdr292LFBg0TMNvuDtpzrlqr01DQwPT0vugNu6ojTtq447auKM27r744gsVFBR0uTbeHhuOhCN1oeddf/iVnOaQhnzt5qQJVwAApBsCVpI4Eqe4t3z0pna//VcN+upCBYeN7t0fBgBAH0bAShJ1kd4NWPHGetWvuE/Zk09U/y+f03s/CAAAELCSRW3YNDSrd5YIzUz1T90nSRp82Y3y+Xp/KRIAgL6MgJUkenOJsOW9VxVe+7YGX3ajArmDeueHAACABAJWEog5pvqIemWTu8VjavjzE8qeerL6TTmpx/sHAACdEbCSQH1EMvXODNbud1YqvnOrBs65suc7BwAA+0XASgK14bbbng5YFmtV6K/L1W/a6crIH9+znQMAAFcErCRQF2k767Wnlwib3/qr4rt2KO+cK3q0XwAAcGAErCTQPoM1NKvn+rRoqxpXPqX+x52hjFGFB38BAADoMQSsJFAblnySBvdgwGp640+KN+5U7pyv91ynAACgSwhYSaA2bBqcJQX9PbNE6LSG1fjfK9T/+DOVMXxMj/QJAAC6joCVBHr6DKzmv70spymkvLO/1nOdAgCALiNgJYG6SM9d6NmJtKjxv59WzpfP5nqDAAB4hICVBHpyBqv5zT/LaWlW7tmX90yHAADgkBGwkkBtuGe+QWhman77r+o35SQFB4/ofocAAOCwELCSQG24Z5YIo198rlhNhfqfcFb3BwUAAA4bASsJ9NQS4e7V/yV/3mBlT5ze/c4AAMBhI2B5LOaYdrV2/xR3i0W1+71X1X/6bPkCgR4aHQAAOBwELI/tjLTddncGK7xutZzmkHJm/EP3BwUAALqFgOWxnrrQc/Pq/1LG2BIu6gwAQBIgYHmsNtx2oeehWYe/RBhvalB43Tvqz+wVAABJgYDlsZ6YwWp5/38kM/WffkZPDAkAAHQTActjtWHJ75MGZR5+H83vrFT20V9WYMCgnhsYAAA4bAQsj9WGTUOypMBhXug5WlOh6Befs7kdAIAkQsDyWCgq5WUc/uub31kpf06esstm9NygAABAtxCwPBaJS1mHeWyVxePa/d4r6n/cGfIFu5HSAABAjyJgeazVOfyAFf70fTmhei6NAwBAkiFgeSwSN2UFDm//VfjjNxUcPkYZY0t6eFQAAKA7CFgei8SlzMP8Wwh/+oGyJk2Xz9f9C0UDAICeQ8Dy2OEuEcZqaxSvq1H2hGN7flAAAKBbCFgei8SlrMP4Wwh/9oHk9yurZGrPDwoAAHQLActjh/stwshnHyizcKL8/XJ6flAAAKBbCFgea3WkzEMMWObEFfnsQ2WxPAgAQFIiYHnscJYIo9XlcnY3Knvicb0zKAAA0C0ELI+1LREe2rcAw59+IF9mtjLHTeylUQEAgO4gYHks4tghH9MQ+ex9ZZVM4fR2AACSFAHLY62HuMndWiOKlK9V1gSWBwEASFYELI8d6rcII5vWSrGosieywR0AgGRFwPJYxDm0k9zDn34gf95gBUeN671BAQCAbiFgeexQlwgjn32g7AnHcnkcAACSGAHLY5FDuFROvKlB0eqNnH8FAECSI2B57FD2YEU2/K9kxvUHAQBIcgQsD5mZoo6U6e/acl/k0/cVHFmowKBhvTwyAADQHQQsD7U6bbddmcEyM4U/fZ9vDwIAkAIIWB6KxNtuu3KpnHhtjeL129l/BQBACiBgeag9YHXlYs/hzz6Q/H5llUzp3UEBAIBuI2B56FCWCFurPlNG/nj5s3N6d1AAAKDbCFgeOpQlwmh1uTLyi3t3QAAAoEcQsDzU1SVCi8cVralQxpiiXh8TAADoPgKWh7q6RBjbXiXFosocywwWAACpgIDloUjcJElZBzkHK1pdLknKGD2+18cEAAC6j4DlocQerIPMYLVWb1RgyEj5+w/o/UEBAIBuI2B5qH2JMPMgfwvR6nJljGF5EACAVEHA8lBXZrDMTNEt5crIZ3kQAIBUQcDyUFcClhPaKaepQZnMYAEAkDIIWB6KdGGJsLV6oyRxRAMAACmEgOWh1i7MYEWry+XLzlFgyMgjMygAANBtBCwPtc9gZRzgb6Ftg3uRfL4DH+UAAACSBwHLQ5G4KSugA4anaPVGZbI8CABASiFgeag1fuD9V04krFjtFo5oAAAgxRCwPBRxDrL/qmaTZMYGdwAAUgwBy0OR+ME3uMsfUMaowiM3KAAA0G0ELA+1OgdeIoxWb1TGyAL5gplHblAAAKDbCFge6soMFvuvAABIPQQsD0XiUpbL34A5cUVrNrH/CgCAFETA8lAkbsoM7P+IhtiOLbLWCAELAIAURMDyUKvjPoMVrS6XJGXkE7AAAEg1BCwPHWgPVnRLuQKDhikwYOCRHRQAAOg2ApaHDhiwqsuZvQIAIEURsDx0oGMaWqs3sv8KAIAURcDykNsMVrxxl5zQTo5oAAAgRRGwPOQWsKJb2ja4ZxKwAABISQQsD7ktEUary+XLzFZg6KgjPygAANBtBCwPReKmrP2cgxWr3aLg8DHy+fnrAQAgFfEb3EMRZ/9LhLGd2xUYPOLIDwgAAPQIApaHIvH9LxHG67crOISABQBAqiJgeah1PzNYZqZ4PTNYAACkMgKWh/b3LUJnd6OsNazAkJHeDAoAAHQbActDkXjnaxHGd26TJAWZwQIAIGURsDzU6kiZ+8xgxeu3S5IC7MECACBlEbA8YmZ7lgg7HtMQ27ldvows+XO4yDMAAKmKgOWRqNN222mJcM8Gd5+v8/lYAAAgNRCwPNK6J2Dtu0QYq9/G8iAAACmOgOWRSLzttvMm9+1scAcAIMURsDySCFj72eTOEQ0AAKQ2ApZH2gPW3kuETiQspznEDBYAACmOgOWR1v1sco/Xt52BxR4sAABSGwHLI/tbIozt3HMG1mCWCAEASGUELI9EHJPU8RyseP12yR9QYOAQr4YFAAB6AAHLI63te7D2XiLcuU2BQcPk8wf2/yIAAJASCFge2e8S4Z5DRgEAQGojYHkk0r7Jfa+AFa/friBHNAAAkPIIWB7Z/xIhM1gAAKQDApZH9l0itFhU8VCdghzRAABAyiNgeWTfJcL4rlrJjBksAADSAAHLI+0zWBl7/gZi9XvOwGIPFgAAKY+A5ZFWx5Thl/y+tnOw4jvbTnEPDhru5bAAAEAPIGB5JBLv/A1Cf+5g+TIyvRsUAADoEQQsj0TiHa9DGOMbhAAApA0ClkdaHSmz0xlYBCwAANIBAcsjnWaw6rcxgwUAQJpI/IrfsGGDTj75ZE2YMEEzZszQ2rVr9/uCl156SZMmTVJpaakuuugihUKhRNvbb7+tY445RhMmTNDs2bNVXV2daDtQ/9u3b9ecOXNUWlqqyZMn67XXXku07d69W5dffrlKSko0YcIEPfvss4k2x3H07W9/W8XFxSopKdEDDzzQYax33XWXiouLVVxcrMWLF3doe+yxx1RaWqri4mJde+21ikajkqSPPvpIp59+uiZNmqTJkyfr6quvVktLS+J1Pp9PU6ZM0bRp0zRt2jS9/vrrXav0Pvbeg2WOo3h9Lae4AwCQLmyPWbNm2bJly8zM7JlnnrHjjz/e9tXY2GgjRoywTz75xMzMrr/+erv55pvNzCwej1txcbG98sorZmZ2zz332Lx58xKvPVD/V111ld15551mZvbOO+/YmDFjrLW11czMlixZYvPnzzczs/Lychs+fLjV1taamdnjjz9us2fPtlgsZnV1dVZYWGgff/yxmZmtWrXKysrKrKmpycLhsE2fPt1eeumlRD+jR4+2mpoacxzHzj//fHvggQfMzOyzzz6z//3f/zUzs1gsZpdeemlibGZmkqy+vr5TbbqioaHBJFlVVZV9+28xm/Js23uM7aq1qu+eY7s/evOw+k0H7bVpaGjweihJh9q4ozbuqI07auOO2rirqqo6pNr4pbYZpHfffVdf//rXJUkXX3yxqqqq9Pnnn3cIY3/+85917LHHatKkSZKkRYsWafny5ZKk9957T8FgULNmzZIkLVy4UC+++KLC4fBB+3/66ad13XXXSZJmzJih/Px8rVq1SpK0YsWKRNv48eN1xhln6A9/+EOi7dprr1UgENCQIUN02WWXJcazYsUKXXnllcrJyVFWVpauvvrqRNuzzz6rCy64QKNGjZLP59N1112XaCstLdXUqVMlSYFAQDNmzFBFRUW3g+y+2pYI245oiO05oiHAHiwAANJCUJKqqqo0evRoBYNBSW3LYIWFhaqsrFRJSUniyZWVlRo3blzi/lFHHaWamhrFYrFObbm5ucrLy9OWLVtUX1/v2v/gwYMVjUY1atSoDv1WVla6/swDtb311luJtlNPPbVD21NPPXXQPvfW3NysX//611q6dGmHx2fNmiXHcXTmmWfqRz/6kXJycvZb3Egkokgkkrjfvpza2NiopvBQBeVTKLRb0S2bJUktwf4K77Xk2pe01ybUR9//gVAbd9TGHbVxR23cURt3jY2Nh/T8YC+NI+W1trbqsssu09lnn62vfvWricc3b96swsJCNTc367rrrtMtt9yihx56aL99LF26VEuWLOn0eFlZmfStJ6Tc4Rp40Rz9f9PH6/oZ41UwcnSvvZ9UUVBQ4PUQkha1cUdt3FEbd9TGHbXpvqDUVsj2mahgMCgzU2VlpQoLCzs8ubCwUCtXrkzcr6ioSMxMFRYWavPmzYm2xsZGNTQ0KD8/XwMGDHDtf+jQoQoGg9q6dWtiFquioiLxs9v7HT16dKLt7LPP7tB20kknub5u77Hu3bZx48b9tklSNBrVZZddptGjR+vnP/95pxpIUk5OjhYtWqQFCxa4Fvf222/XTTfdlLgfCoVUUFCgdevW6QcV49USk5771wa1vPhrxSs/VUPDH1z7SnfttamqqlJeXp7Xw0kq1MYdtXFHbdxRG3fUxl11dXXbBElXtW/GmjlzZodN6NOnT++0YSsUCtnw4cM7bHL//ve/b2Ztm9yLioo6bHK/+OKLE689UP/z58/vsMk9Pz8/scn9zjvv7LTJfceOHWZmtmzZsk6b3NesWWNmZq+++mqnTe4vvviimZlt3Lix0yb3+++/38zMotGoXXTRRXb11Veb4zgd3v/OnTutubk58X6/+93v2pVXXtmlzW5mHTe5f+XPUZv7l6iZme341T/bjkf+pcv9pCM2VrqjNu6ojTtq447auKM27g51k3tiifBXv/qVvvnNb+onP/mJ8vLytGzZMknSv/zLvyg/P1/XXXedcnNz9etf/1oXXnihYrGYJk+erMcff1yS5Pf79eSTT2rhwoUKh8PKz8/XE088oYP1L0n/9m//piuvvFKlpaXKzMzUk08+qYyMDEnSLbfcoquvvlrFxcUKBAJ64IEHNGzYMEnSlVdeqdWrV6u0tFQ+n0833XSTpkyZIkk644wzdNlllyXuX3bZZTrvvPMkSUVFRVqyZIlOOeWUxHMXLlwoqW1z/PPPP6+pU6fq2GOPlSSdcsopevDBB7V+/XotXLhQPp9PsVhMxx13XKcZrq6KOFJO21tUbOd2ZZUec1j9AACA5OMzM/N6EH1FKBTSwIEDVVVVpSs+GKXCAdLvzghoy20XKe+cK5Q7e57XQ/RMe20aGhqYlt4HtXFHbdxRG3fUxh21cffFF1+ooKCgy7XhJHePRJy2g0Ztd5Ms0sIRDQAApBEClkcicVNWwKdYfdsZWMHBnOIOAEC6IGB5pDUuZfql+M7tkjhkFACAdELA8kj7EmGsfruUkSn/gEFeDwkAAPQQApZH2i/27IR2KpA3VD6fz+shAQCAHkLA8kjbtQglJ7Jb/uz+Xg8HAAD0IAKWR1odKTMgWbhFvqx+Xg8HAAD0IAKWRxIzWK0t8hOwAABIKwQsD5i178HyMYMFAEAaImB5IG6Sac8SYaRFvqxsr4cEAAB6EAHLA61O223bJvcW+bPY5A4AQDohYHkg0h6w2mewslkiBAAgnRCwPBDbE7Ay9xzT4MskYAEAkE4IWB6IOG2HirbNYIXlZwYLAIC0QsDyQGIPlkWleIxvEQIAkGYIWB5ojbfd9ovvliTOwQIAIM0QsDzQPoOVGYtIEjNYAACkGQKWB1rb92DF2mawfBzTAABAWiFgeeDvM1hhSZKfg0YBAEgrBCwPtAesjOieGaxsZrAAAEgnBCwPJAJWrEUSm9wBAEg3BCwPtAesYLQtYLHJHQCA9ELA8kBrvG2Tu7+1RQpmyBcIejwiAADQkwhYHmifwQpEudAzAADpiIDlgVZHCvoktYbl4xuEAACkHQKWB1rje65DGN7NBncAANIQAcsDreZTZkByIi1scAcAIA0RsDwQdaQsv2QELAAA0hIBywMRp22J0Im0yM8howAApB0ClgdaHSmzfQYrk03uAACkGwKWB6JxX9sm90gLl8kBACANEbA80LZE6GtbImQPFgAAaYeA5YFofM8SYZhN7gAApCMClgda2ze5tzKDBQBAOiJgeSBiPvXzxaVoKzNYAACkIQKWB6KOlKcWSSJgAQCQhghYHmh1pFynLWCxRAgAQPohYHmgNf73gMUxDQAApB8ClgdaHZ8GtAesLA4aBQAg3RCwPNDqSDlOWJLkz2IGCwCAdEPA8kBrXMphBgsAgLRFwPJAqyP1j7dvcmcGCwCAdEPA8kCrI/VzWiR/QApmeD0cAADQwwhYHmg1n/rF2i6T4/P5vB4OAADoYQQsD7TGpew4l8kBACBdEbA80OpIWfEW+bIJWAAApCMClgdaHSkr2iJfJgELAIB0RMDygGM+ZcbD8jODBQBAWiJgeSQj2iIfRzQAAJCWCFgeyYjulp9DRgEASEsELI8EY2FmsAAASFMELI8EWtvOwQIAAOmHgOWRQLSFJUIAANIUAcsj/lY2uQMAkK4IWF4wR/4oxzQAAJCuCFge6O+EJYmDRgEASFMELA/ktAcsZrAAAEhLBCwP5DgtksTFngEASFMELA/0t4gkcUwDAABpioDlgf6JGSy+RQgAQDoiYHlgQPseLM7BAgAgLRGwPNA+g8U5WAAApCcClgcGOC2SzydfZpbXQwEAAL2AgOWBgdYiX2Y/+Xw+r4cCAAB6AQHLAwMswhlYAACkMQKWB3KthTOwAABIYwQsDwxwwpyBBQBAGiNgeSDHYQYLAIB0RsDyQA4zWAAApDUClgf6GwELAIB0RsDyQP94mCVCAADSGAHLA/3iLcxgAQCQxghYHsh2IgQsAADSGAHLA9nxFvmzuQ4hAADpioDlgaxYWL7MbK+HAQAAegkBywN+GTNYAACkMQKWR9iDBQBA+iJgeYSABQBA+iJgeYRzsAAASF8ELI8wgwUAQPoiYHmEGSwAANIXAcsjvmwCFgAA6YqA5RHOwQIAIH0RsDwQC2TK5w94PQwAANBLCFgeiGWwPAgAQDojYHkgnpHl9RAAAEAvImB5wAkygwUAQDojYHkgnskMFgAA6YyA5QHL4BuEAACkMwKWBwhYAACkNwKWFzLZgwUAQDojYHnAl8UeLAAA0hkBywssEQIAkNYIWB7gQs8AAKQ3ApYHAiwRAgCQ1ghYHvBzoWcAANIaAcsDgWxmsAAASGcELA8EmcECACCtEbA8kJFNwAIAIJ0RsDyQmc23CAEASGcELA/4udgzAABpjYDlAT9LhAAApLVEwNqwYYNOPvlkTZgwQTNmzNDatWv3+4KXXnpJkyZNUmlpqS666CKFQqFE29tvv61jjjlGEyZM0OzZs1VdXZ1oO1D/27dv15w5c1RaWqrJkyfrtddeS7Tt3r1bl19+uUpKSjRhwgQ9++yziTbHcfTtb39bxcXFKikp0QMPPNBhrHfddZeKi4tVXFysxYsXd2h77LHHVFpaquLiYl177bWKRqPdfo9dlsEMFgAAac32mDVrli1btszMzJ555hk7/vjjbV+NjY02YsQI++STT8zM7Prrr7ebb77ZzMzi8bgVFxfbK6+8YmZm99xzj82bNy/x2gP1f9VVV9mdd95pZmbvvPOOjRkzxlpbW83MbMmSJTZ//nwzMysvL7fhw4dbbW2tmZk9/vjjNnv2bIvFYlZXV2eFhYX28ccfm5nZqlWrrKyszJqamiwcDtv06dPtpZdeSvQzevRoq6mpMcdx7Pzzz7cHHnig2+/xYBoaGkySVVVVdfk1fUV7bRoaGrweStKhNu6ojTtq447auKM27qqqqg6pNjIz27Ztm+Xm5lo0GjUzM8dxbOTIkbZhw4YOT3766aftnHPOSdxfu3atjRkzxszagtHEiRMTbaFQyLKysqylpeWg/efk5FhNTU3itTNmzLCVK1eamVlZWZm9+eabibZLLrnEHn30UTMzO/fcc2358uWJtltuucUWL15sZmaLFi2ypUuXJtoefPBBu+KKK8zM7O6777aFCxcm2l5++WU75ZRTuvUeu4KA5Y5/1O6ojTtq447auKM27qiNu0MNWEFJqqqq0ujRoxUMBiVJPp9PhYWFqqysVElJSWK2q7KyUuPGjUvcP+qoo1RTU6NYLNapLTc3V3l5edqyZYvq6+td+x88eLCi0ahGjRrVod/KykrXn3mgtrfeeivRduqpp3Zoe+qppw6rz668x6Kiok6zg5FIRJFIJHG/oaFBklRTU9PpuX1dY2OjJKm6urrDkiyozYFQG3fUxh21cUdt3LX/7jazLj0/2JuD6euWLl2qJUuWdHr8hBNO8GA0qaGsrMzrISQtauOO2rijNu6ojTtq466urk4DBw486POCklRQUJCYpQkGgzIzVVZWqrCwsMOTCwsLtXLlysT9ioqKxMxUYWGhNm/enGhrbGxUQ0OD8vPzNWDAANf+hw4dqmAwqK1btyZmsSoqKhI/u73f0aNHJ9rOPvvsDm0nnXSS6+v2HuvebRs3bnRtO5z3uD+33367brrppsT9Xbt2ady4caqsrOzSX05fEgqFVFBQoKqqKuXl5Xk9nKRCbdxRG3fUxh21cUdt3DU0NKiwsFBDhgzp2gva1wpnzpzZYRP69OnTO60nhkIhGz58eIcN4N///vfNrG0DeFFRUYcN4BdffHHitQfqf/78+R02uefn5yc2ud95552dNrnv2LHDzMyWLVvWaZP7mjVrzMzs1Vdf7bTJ/cUXXzQzs40bN3ba5H7//fd3+z0eDGvb7qiNO2rjjtq4ozbuqI07auPuUGuTCFjr16+3E0880UpLS2369OmJoHLHHXfYww8/nHjBCy+8YBMnTrTi4mKbO3eu7dq1K9H2xhtv2JQpU6y0tNRmzpxplZWVdrD+zcy2bt1qZ511lpWUlFhZWVkiwJiZNTU12aWXXmpFRUVWWlpqK1asSLTFYjFbtGiRjR8/3oqKiuy+++7r8OaWLFli48ePt/Hjx9ttt93Woe2RRx6xoqIiKyoqsquvvjoR6LrzHg+GD647auOO2rijNu6ojTtq447auDvU2vjMurhbC90WCoU0cOBANTQ0MPW6D2rjjtq4ozbuqI07auOO2rg71NoE/vVf//Vfe39YaBcIBHTGGWckvlGJv6M27qiNO2rjjtq4ozbuqI27Q6kNM1gAAAA9jGsRAgAA9DACFgAAQA8jYAEAAPQwAtYRsmHDBp188smaMGGCZsyYobVr13o9JE8dddRRmjhxoqZNm6Zp06ZpxYoVkqTt27drzpw5Ki0t1eTJk/Xaa695PNLe953vfEdHHXWUfD6fPvzww8TjB6rF7t27dfnll6ukpEQTJkzQs88+68XQe51bbc444wyNHz8+8fn5j//4j0RbX6hNOBzWhRdeqAkTJuiYY47RWWedpc8//1wSn5sD1aavf24k6eyzz9bUqVM1bdo0nXbaafrggw8k8bmR3Gtz2J+bXjwyAnuZNWtWh4NWjz/+eG8H5LFx48bZBx980Onxq666qsOhs2PGjOlwRlk6WrVqlVVVVXWqyYFqsWTJkk4H8NbW1h7pofc6t9rMnDnT/vCHP+z3NX2hNi0tLfbyyy+b4zhmZnb//ffbzJkzzYzPzYFq09c/N2Zm9fX1iT8///zzNnXqVDPjc2PmXpvD/dwQsI6Abdu2WW5urkWjUTMzcxzHRo4caRs2bPB4ZN5xC1g5OTlWU1OTuD9jxgxbuXLlkRyaZ/atyYFqUVZWZm+++Wai7ZJLLrFHH330yA32CDuUgNXXamNmtnr1ahs3bpyZ8bnZ19614XPT0bJly+yYY44xMz43+9q7Nof7uWGJ8AioqqpKXM9Qknw+nwoLC1VZWenxyLx15ZVXasqUKbrmmmu0Y8cO1dXVKRqNJq5JKbUtJfbFOh2sFpWVlRo3btx+2/qKW2+9VVOmTNFll12m8vLyxON9sTY///nPNXfuXD43+9Fem3Z8bqRvfOMbKigo0B133KEnnniCz81e9q1Nu8P53BCw4InXXntNH330kd5//30NGzZM8+fP93pISCFPPPGEPvvsM61Zs0annXaazjvvPK+H5Jmf/OQn+vzzz7V06VKvh5J09q0Nn5s2v/vd71RVVaW77rpLP/jBD7weTlLZX20O93NDwDoCCgoKVFNTo1gsJkkyM1VWVqqwsNDjkXmn/b1nZGToxhtv1Ouvv66hQ4cqGAxq69atiedVVFT0yTodrBaFhYXavHnzftv6goKCAklts8E33HCDysvLVVdXJ6lv1ebee+/V888/rz//+c/q378/n5u97Fsbic/NvubPn69XX31Vkvjc7KO9NnV1dYf9uSFgHQEjRtzpEd4AAAGSSURBVIzQcccdpyeffFKS9Nxzz2ns2LEqKSnxeGTeaG5u1q5duxL3ly9frmOPPVaSdMkll+iXv/ylJGn16tWqrq7WzJkzPRmn1w5Ui73bNm3apP/5n//RhRde6NlYj6RYLKZt27Yl7j/33HMaOXKkhg4dKqnv1OZnP/uZli9frpUrV2rQoEGJx/nc7L82fG6kXbt2acuWLYn7f/zjHzV06FANGTKkz39u3GqTl5d3+J+bXt8pBjMzW79+vZ144olWWlpq06dPtzVr1ng9JM9s3LjRpk2bZlOmTLHJkyfbBRdcYJs2bTIzs61bt9pZZ51lJSUlVlZWZq+88oq3gz0CFixYYGPGjLFAIGAjRoyw4uJiMztwLZqamuzSSy+1oqIiKy0ttRUrVng1/F61v9o0NTXZ9OnTbfLkyTZ16lSbPXu2ffjhh4nX9IXaVFVVmSQrKiqyY445xo455hg74YQTzIzPjVtt+NyYVVRU2IwZMxI1OPPMMxNfHunrnxu32nTnc8O1CAEAAHoYS4QAAAA97P8Hoxsh31uNaPMAAAAASUVORK5CYII=\" />"
      ]
     },
     "execution_count": 13,
     "metadata": {},
     "output_type": "execute_result"
    }
   ],
   "source": [
    "plot(linspace(0,tf,100),[solSIPS(i)[2m+1] for i in linspace(0,tf,100)])\n",
    "println(\"Assympototes\")\n",
    "println([solSIPS(tf)[2m+1] , (4/3*pi*RSIP^3)*((Sl*p(0.0)+cKion*0.5)*(1-ɛ)+Ss*ɛ*p(0.0)), solMECS(tf)[2m+1], (4/3*pi*RLiq^3)*(Sl*p(0.0)+cKion*0.5) ])\n",
    "plot!(linspace(0,tf,100),[solMECS(i)[2m+1] for i in linspace(0,tf,100)])"
   ]
  },
  {
   "cell_type": "code",
   "execution_count": null,
   "metadata": {
    "collapsed": true
   },
   "outputs": [],
   "source": []
  },
  {
   "cell_type": "code",
   "execution_count": null,
   "metadata": {
    "collapsed": true
   },
   "outputs": [],
   "source": []
  },
  {
   "cell_type": "code",
   "execution_count": null,
   "metadata": {
    "collapsed": true
   },
   "outputs": [],
   "source": []
  },
  {
   "cell_type": "code",
   "execution_count": null,
   "metadata": {
    "collapsed": true
   },
   "outputs": [],
   "source": []
  },
  {
   "cell_type": "code",
   "execution_count": null,
   "metadata": {
    "collapsed": true
   },
   "outputs": [],
   "source": []
  },
  {
   "cell_type": "code",
   "execution_count": null,
   "metadata": {
    "collapsed": true
   },
   "outputs": [],
   "source": []
  },
  {
   "cell_type": "code",
   "execution_count": null,
   "metadata": {
    "collapsed": true
   },
   "outputs": [],
   "source": []
  },
  {
   "cell_type": "code",
   "execution_count": null,
   "metadata": {
    "collapsed": true
   },
   "outputs": [],
   "source": []
  },
  {
   "cell_type": "code",
   "execution_count": null,
   "metadata": {
    "collapsed": true
   },
   "outputs": [],
   "source": []
  },
  {
   "cell_type": "code",
   "execution_count": null,
   "metadata": {
    "collapsed": true
   },
   "outputs": [],
   "source": []
  },
  {
   "cell_type": "code",
   "execution_count": null,
   "metadata": {
    "collapsed": true
   },
   "outputs": [],
   "source": []
  },
  {
   "cell_type": "code",
   "execution_count": null,
   "metadata": {
    "collapsed": true
   },
   "outputs": [],
   "source": []
  },
  {
   "cell_type": "code",
   "execution_count": 483,
   "metadata": {
    "collapsed": false
   },
   "outputs": [
    {
     "data": {
      "text/html": [
       "6.790945219816038e-5"
      ],
      "text/plain": [
       "6.790945219816038e-5"
      ]
     },
     "execution_count": 483,
     "metadata": {},
     "output_type": "execute_result"
    }
   ],
   "source": [
    "4/3*π*RSIP^3*((300+Sl*p(0))*(1-ɛ) + Ss*p(0)*ɛ)"
   ]
  },
  {
   "cell_type": "code",
   "execution_count": 308,
   "metadata": {
    "collapsed": false
   },
   "outputs": [
    {
     "data": {
      "text/html": [
       "3.462717169000237"
      ],
      "text/plain": [
       "3.462717169000237"
      ]
     },
     "execution_count": 308,
     "metadata": {},
     "output_type": "execute_result"
    }
   ],
   "source": [
    "4/3*π*RSIP^3*(1e3+Sl*p(0)*(1-ɛ) + Ss*p(0)*ɛ) / solSIPS(tf)[2m+1] "
   ]
  },
  {
   "cell_type": "code",
   "execution_count": 567,
   "metadata": {
    "collapsed": false
   },
   "outputs": [
    {
     "data": {
      "text/html": [
       "4.352087642270917e-5"
      ],
      "text/plain": [
       "4.352087642270917e-5"
      ]
     },
     "execution_count": 567,
     "metadata": {},
     "output_type": "execute_result"
    }
   ],
   "source": [
    "solMECS(tf)[2m+1]"
   ]
  },
  {
   "cell_type": "code",
   "execution_count": 569,
   "metadata": {
    "collapsed": false
   },
   "outputs": [
    {
     "data": {
      "text/html": [
       "4.347167134314068e-5"
      ],
      "text/plain": [
       "4.347167134314068e-5"
      ]
     },
     "execution_count": 569,
     "metadata": {},
     "output_type": "execute_result"
    }
   ],
   "source": [
    "solMECS(tf)[2m+1]"
   ]
  },
  {
   "cell_type": "code",
   "execution_count": null,
   "metadata": {
    "collapsed": true
   },
   "outputs": [],
   "source": []
  },
  {
   "cell_type": "code",
   "execution_count": null,
   "metadata": {
    "collapsed": true
   },
   "outputs": [],
   "source": []
  },
  {
   "cell_type": "code",
   "execution_count": null,
   "metadata": {
    "collapsed": true
   },
   "outputs": [],
   "source": []
  },
  {
   "cell_type": "code",
   "execution_count": null,
   "metadata": {
    "collapsed": true
   },
   "outputs": [],
   "source": []
  },
  {
   "cell_type": "code",
   "execution_count": null,
   "metadata": {
    "collapsed": true
   },
   "outputs": [],
   "source": []
  },
  {
   "cell_type": "code",
   "execution_count": 499,
   "metadata": {
    "collapsed": false
   },
   "outputs": [
    {
     "name": "stderr",
     "output_type": "stream",
     "text": [
      "WARNING: Method definition SphericalMECSTake2(Any, Any, Any, Any, Any, Any, Any, Any, Any, Any, Any, Any, Any, Any) in module Main at In[222]:4 overwritten at In[499]:4.\n"
     ]
    },
    {
     "data": {
      "text/plain": [
       "SphericalMECSTake2 (generic function with 1 method)"
      ]
     },
     "execution_count": 499,
     "metadata": {},
     "output_type": "execute_result"
    }
   ],
   "source": [
    "function SphericalMECSTake2(f,R,tf,p,c0,w0,k2,Ss,Sl,Ds,Dl,ɛ,m,Dactive)\n",
    "    \n",
    "    #Pertinent Mesh Values\n",
    "    h = R/(m+1/2)         #Distance between neighbouring grid points\n",
    "    r(j) = h*(j-1/2)      #Radial distance of point j\n",
    "    \n",
    "    #Generic Ddash and kdash parameters\n",
    "    #Ddash = (Ds*ɛ+Dl*(1-ɛ)*Sl/Ss) / (ɛ+(1-ɛ)*Sl/Ss)\n",
    "    #kdash = (k2*Sl/Ss*(1-ɛ))      / (ɛ+(1-ɛ)*Sl/Ss)\n",
    "    \n",
    "    #Define DE Problem\n",
    "    function main(t,u,dudt)\n",
    "        #Extract values from u\n",
    "        c = u[1:m]\n",
    "        w = u[m+1:2m]\n",
    "        \n",
    "        #Calculate change of concentration due to diffusion and reaction\n",
    "        for i = 1:2m+1\n",
    "            if i == 1\n",
    "                dudt[1] = Dl/(r(1)^2*h^2)*r(1+1/2)^2*(c[2] - c[1]) - k2*c[1]*w[1]\n",
    "            elseif 2 <= i <= m-1\n",
    "                dudt[i] = Dl/(r(i)^2*h^2)*(r(i+1/2)^2*c[i+1]  - (r(i+1/2)^2+r(i-1/2)^2)*c[i] + r(i-1/2)^2*c[i-1]) - k2*c[i]*w[i]\n",
    "            elseif i == m\n",
    "                dudt[m] = Dl/(r(m)^2*h^2)*(r(m+1/2)^2*Sl*p(t) - (r(m+1/2)^2+r(m-1/2)^2)*c[m] + r(m-1/2)^2*c[m-1]) - k2*c[m]*w[m]\n",
    "            elseif i == m+1\n",
    "                dudt[i] = Dactive/(r(1)^2*h^2)*r(1+1/2)^2*(w[2] - w[1]) + f(c[i-m],w[i-m])\n",
    "            elseif m+2 <= i <= 2m-1\n",
    "                dudt[i] = Dactive/(r(i)^2*h^2)*(r(i+1/2)^2*w[i+1-m]  - (r(i+1/2)^2+r(i-1/2)^2)*w[i-m] + r(i-1/2)^2*w[i-1-m]) + f(c[i-m],w[i-m])\n",
    "            elseif i == 2m\n",
    "                dudt[i] = Dactive/(r(m)^2*h^2)*(r(m+1/2)^2*w[m-1] - (r(m+1/2)^2+r(m-1/2)^2)*w[m] + r(m-1/2)^2*w[m-1]) + f(c[i-m],w[i-m])\n",
    "            elseif i == 2m+1\n",
    "                dudt[i] = 4π*R^2*((3/2*Sl*p(t)-2*c[m]+1/2*c[m-1])/h)*Dl\n",
    "            end\n",
    "        end\n",
    "    end\n",
    "\n",
    "    #Initial Conditions and timespan\n",
    "    u0 = [c0*ones(m);w0*ones(m);0.0]\n",
    "    tspan = (0.0,tf)\n",
    "\n",
    "    #Define and solve problem\n",
    "    prob = ODEProblem(main,u0,tspan)\n",
    "    sol = solve(prob, Rosenbrock23());\n",
    "    return sol\n",
    "end"
   ]
  },
  {
   "cell_type": "code",
   "execution_count": 217,
   "metadata": {
    "collapsed": false
   },
   "outputs": [
    {
     "name": "stderr",
     "output_type": "stream",
     "text": [
      "WARNING: Method definition SphericalMECSTake2(Any, Any, Any, Any, Any, Any, Any, Any, Any, Any, Any, Any, Any, Any) in module Main at In[202]:4 overwritten at In[217]:4.\n"
     ]
    },
    {
     "data": {
      "text/plain": [
       "SphericalMECSTake2 (generic function with 1 method)"
      ]
     },
     "execution_count": 217,
     "metadata": {},
     "output_type": "execute_result"
    }
   ],
   "source": [
    "function SphericalMECSTake3(f,R,tf,p,c0,w0,k2,Ss,Sl,Ds,Dl,ɛ,m,Dactive)\n",
    "    \n",
    "    #Pertinent Mesh Values\n",
    "    h = R/(m+1/2)         #Distance between neighbouring grid points\n",
    "    r(j) = h*(j-1/2)      #Radial distance of point j\n",
    "    \n",
    "    #Generic Ddash and kdash parameters\n",
    "    #Ddash = (Ds*ɛ+Dl*(1-ɛ)*Sl/Ss) / (ɛ+(1-ɛ)*Sl/Ss)\n",
    "    #kdash = (k2*Sl/Ss*(1-ɛ))      / (ɛ+(1-ɛ)*Sl/Ss)\n",
    "    \n",
    "    #Define DE Problem\n",
    "    function main(t,u,dudt)\n",
    "        #Extract values from u\n",
    "        c = u[1:m]\n",
    "        w = u[m+1:2m]\n",
    "        \n",
    "        #Calculate change of concentration due to diffusion and reaction\n",
    "        for i = 1:2m+1\n",
    "            if i == 1\n",
    "                dudt[1] = Dl/(r(1)^2*h^2)*r(1+1/2)^2*(c[2] - c[1]) - k2*c[1]*w[1]\n",
    "            elseif 2 <= i <= m-1\n",
    "                dudt[i] = Dl/(r(i)^2*h^2)*(r(i+1/2)^2*c[i+1]  - (r(i+1/2)^2+r(i-1/2)^2)*c[i] + r(i-1/2)^2*c[i-1]) - k2*c[i]*w[i]\n",
    "            elseif i == m\n",
    "                dudt[m] = Dl/(r(m)^2*h^2)*(r(m+1/2)^2*Sl*p(t) - (r(m+1/2)^2+r(m-1/2)^2)*c[m] + r(m-1/2)^2*c[m-1]) - k2*c[m]*w[m]\n",
    "            elseif i == m+1\n",
    "                dudt[i] = f(c[i-m],w[i-m])\n",
    "            elseif m+2 <= i <= 2m-1\n",
    "                dudt[i] = f(c[i-m],w[i-m])\n",
    "            elseif i == 2m\n",
    "                dudt[i] =  f(c[i-m],w[i-m])\n",
    "            elseif i == 2m+1\n",
    "                dudt[i] = 4π*R^2*((3/2*Sl*p(t)-2*c[m]+1/2*c[m-1])/h)*Dl\n",
    "            end\n",
    "        end\n",
    "    end\n",
    "\n",
    "    #Initial Conditions and timespan\n",
    "    u0 = [c0*ones(m);w0*ones(m);0.0]\n",
    "    tspan = (0.0,tf)\n",
    "\n",
    "    #Define and solve problem\n",
    "    prob = ODEProblem(main,u0,tspan)\n",
    "    sol = solve(prob, Rosenbrock23());\n",
    "    return sol\n",
    "end"
   ]
  },
  {
   "cell_type": "code",
   "execution_count": null,
   "metadata": {
    "collapsed": true
   },
   "outputs": [],
   "source": []
  },
  {
   "cell_type": "code",
   "execution_count": null,
   "metadata": {
    "collapsed": true
   },
   "outputs": [],
   "source": []
  },
  {
   "cell_type": "code",
   "execution_count": null,
   "metadata": {
    "collapsed": true
   },
   "outputs": [],
   "source": []
  },
  {
   "cell_type": "code",
   "execution_count": null,
   "metadata": {
    "collapsed": true
   },
   "outputs": [],
   "source": []
  },
  {
   "cell_type": "code",
   "execution_count": null,
   "metadata": {
    "collapsed": true
   },
   "outputs": [],
   "source": []
  },
  {
   "cell_type": "code",
   "execution_count": 78,
   "metadata": {
    "collapsed": false
   },
   "outputs": [
    {
     "data": {
      "text/plain": [
       "8-element Array{Float64,1}:\n",
       "  4.0\n",
       "  5.0\n",
       "  6.0\n",
       "  7.0\n",
       "  8.0\n",
       "  9.0\n",
       " 10.0\n",
       " 11.0"
      ]
     },
     "execution_count": 78,
     "metadata": {},
     "output_type": "execute_result"
    }
   ],
   "source": []
  },
  {
   "cell_type": "code",
   "execution_count": null,
   "metadata": {
    "collapsed": true
   },
   "outputs": [],
   "source": []
  },
  {
   "cell_type": "code",
   "execution_count": null,
   "metadata": {
    "collapsed": true
   },
   "outputs": [],
   "source": []
  },
  {
   "cell_type": "code",
   "execution_count": null,
   "metadata": {
    "collapsed": true
   },
   "outputs": [],
   "source": []
  },
  {
   "cell_type": "code",
   "execution_count": null,
   "metadata": {
    "collapsed": true
   },
   "outputs": [],
   "source": []
  },
  {
   "cell_type": "code",
   "execution_count": null,
   "metadata": {
    "collapsed": true
   },
   "outputs": [],
   "source": []
  },
  {
   "cell_type": "code",
   "execution_count": null,
   "metadata": {
    "collapsed": true
   },
   "outputs": [],
   "source": []
  },
  {
   "cell_type": "code",
   "execution_count": 32,
   "metadata": {
    "collapsed": false
   },
   "outputs": [
    {
     "data": {
      "text/plain": [
       "54-element Array{Float64,1}:\n",
       " 0.0        \n",
       " 7.93176e-5 \n",
       " 0.000148712\n",
       " 0.000191468\n",
       " 0.000226232\n",
       " 0.000254336\n",
       " 0.00028244 \n",
       " 0.000305216\n",
       " 0.000325329\n",
       " 0.000348105\n",
       " 0.000368217\n",
       " 0.000386998\n",
       " 0.000403114\n",
       " ⋮          \n",
       " 0.000684422\n",
       " 0.000694012\n",
       " 0.000709196\n",
       " 0.000742495\n",
       " 0.00076647 \n",
       " 0.000782454\n",
       " 0.000791777\n",
       " 0.000798437\n",
       " 0.000805097\n",
       " 0.000805097\n",
       " 0.000805097\n",
       " 0.000805097"
      ]
     },
     "execution_count": 32,
     "metadata": {},
     "output_type": "execute_result"
    }
   ],
   "source": [
    "DeltaN"
   ]
  },
  {
   "cell_type": "code",
   "execution_count": 33,
   "metadata": {
    "collapsed": false
   },
   "outputs": [
    {
     "data": {
      "text/plain": [
       "23-element Array{Float64,1}:\n",
       " 0.0     \n",
       " 0.199329\n",
       " 0.287919\n",
       " 0.354362\n",
       " 0.398658\n",
       " 0.454027\n",
       " 0.465101\n",
       " 0.476174\n",
       " 0.498322\n",
       " 0.52047 \n",
       " 0.531544\n",
       " 0.531544\n",
       " 0.531544\n",
       " 0.564765\n",
       " 0.564765\n",
       " 0.575839\n",
       " 0.575839\n",
       " 0.597987\n",
       " 0.597987\n",
       " 0.653356\n",
       " 0.675503\n",
       " 0.686577\n",
       " 0.675503"
      ]
     },
     "execution_count": 33,
     "metadata": {},
     "output_type": "execute_result"
    }
   ],
   "source": [
    "DeltaN_new"
   ]
  },
  {
   "cell_type": "code",
   "execution_count": 72,
   "metadata": {
    "collapsed": false
   },
   "outputs": [
    {
     "data": {
      "text/html": [
       "<img src=\"data:image/png;base64,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\" />"
      ]
     },
     "execution_count": 72,
     "metadata": {},
     "output_type": "execute_result"
    }
   ],
   "source": [
    "plot(linspace(0,L,m),sol2(1000)[m+1:2m])"
   ]
  },
  {
   "cell_type": "code",
   "execution_count": 73,
   "metadata": {
    "collapsed": false
   },
   "outputs": [
    {
     "data": {
      "text/html": [
       "0.0019452270822342764"
      ],
      "text/plain": [
       "0.0019452270822342764"
      ]
     },
     "execution_count": 73,
     "metadata": {},
     "output_type": "execute_result"
    }
   ],
   "source": [
    "L"
   ]
  },
  {
   "cell_type": "code",
   "execution_count": 43,
   "metadata": {
    "collapsed": false
   },
   "outputs": [
    {
     "data": {
      "text/html": [
       "<img src=\"data:image/png;base64,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\" />"
      ]
     },
     "execution_count": 43,
     "metadata": {},
     "output_type": "execute_result"
    }
   ],
   "source": [
    "plot(linspace(0,100,100),[sol2(i)[2m+1] for i in linspace(0,100,100)])"
   ]
  },
  {
   "cell_type": "code",
   "execution_count": 7,
   "metadata": {
    "collapsed": false
   },
   "outputs": [
    {
     "data": {
      "text/html": [
       "0.19642857142857142"
      ],
      "text/plain": [
       "0.19642857142857142"
      ]
     },
     "execution_count": 7,
     "metadata": {},
     "output_type": "execute_result"
    }
   ],
   "source": [
    "5.5/28"
   ]
  },
  {
   "cell_type": "code",
   "execution_count": 29,
   "metadata": {
    "collapsed": false
   },
   "outputs": [
    {
     "data": {
      "text/html": [
       "<img src=\"data:image/png;base64,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\" />"
      ]
     },
     "execution_count": 29,
     "metadata": {},
     "output_type": "execute_result"
    }
   ],
   "source": [
    "tdata = [0, 0.25, 0.5, 1,1.5,2,2.5,3,3.5,4,4.5,5,5.5,6,6.5,7,7.5,8,8.5,9,9.5,10,10.5,11,11.5,12,12.5,13,13.5,14,14.5,15,15.5,16,16.5,17,17.5,18,18.5,19,19.5,20,21,22,23,25,30,35,40,45,50,55,60,70,80]  #Time in minutes\n",
    "pdata = [1.55,1.4430,1.4370,1.4317,1.4284,1.4257,1.4235,1.4213,1.4195,1.4179,1.4161,1.4145,1.4130,1.4117,1.4103,1.4092,1.4080,1.4070,1.4061,1.4051,1.4039,1.4031,1.4020,1.4010,1.4005,1.3996,1.3987,1.3980,1.3974,1.3968,1.3959,1.3953,1.3947,1.3940,1.3934,1.3928,1.3923,1.3917,1.3912,1.3906,1.3902,1.3896,1.3887,1.3877,1.3868,1.3853,1.3819,1.3792,1.3771,1.3755,1.3741,1.3727,1.3718,1.3700,1.3682]            #Pressure Data in bar\n",
    "pleak = [.00018*tdata[i] for i in 1:length(tdata)]\n",
    "pdata = pdata + pleak\n",
    "plot(tdata,pdata)\n",
    "V_container = 330e-6      #Volume of container, m3 \n",
    "T = 298                   #Temperature, K\n",
    "R = 8.314                 #J/K.mol\n",
    "DeltaN = [(pdata[2] - pdata[i])*1e5*V_container/(R*T) for i in 2:length(pdata)]\n",
    "\n",
    "#plot(tdata[2:end],DeltaN)\n",
    "\n",
    "#Compare this with Model - remember to adjust for small surface area:\n",
    "A = pi*.03^2\n",
    "plot(tdata[2:end],DeltaN, line=:scatter, title=\"CO2 Absorbed\", ylabel=\"CO2 Absorbed (mol)\", xlabel=\"Time (min)\",lab=\"Experiment\")\n",
    "plot!(linspace(0,tf,100)/60,[sol2(i)[2m+1] for i in linspace(0,tf,100)]*A, lab = \"Model\")"
   ]
  },
  {
   "cell_type": "code",
   "execution_count": 90,
   "metadata": {
    "collapsed": false
   },
   "outputs": [
    {
     "data": {
      "text/plain": [
       "54-element Array{Float64,1}:\n",
       " 0.0    \n",
       " 4.5e-5 \n",
       " 9.0e-5 \n",
       " 0.00018\n",
       " 0.00027\n",
       " 0.00036\n",
       " 0.00045\n",
       " 0.00054\n",
       " 0.00063\n",
       " 0.00072\n",
       " 0.00081\n",
       " 0.0009 \n",
       " 0.00099\n",
       " ⋮      \n",
       " 0.00378\n",
       " 0.00396\n",
       " 0.00414\n",
       " 0.0045 \n",
       " 0.0054 \n",
       " 0.0063 \n",
       " 0.0072 \n",
       " 0.0081 \n",
       " 0.009  \n",
       " 0.0099 \n",
       " 0.0108 \n",
       " 0.0126 "
      ]
     },
     "execution_count": 90,
     "metadata": {},
     "output_type": "execute_result"
    }
   ],
   "source": [
    "pleak = [.00018*tdata[i] for i in 1:length(tdata)]"
   ]
  },
  {
   "cell_type": "code",
   "execution_count": 4,
   "metadata": {
    "collapsed": false
   },
   "outputs": [
    {
     "name": "stdout",
     "output_type": "stream",
     "text": [
      "  0.140675 seconds (74.64 k allocations: 10.318 MB, 6.46% gc time)\n",
      "  0.087372 seconds (69.52 k allocations: 9.624 MB)\n"
     ]
    },
    {
     "name": "stderr",
     "output_type": "stream",
     "text": [
      "WARNING: Method definition p(Any) in module Main at In[3]:35 overwritten at In[4]:9.\n",
      "WARNING: Method definition f(Any, Any) in module Main at In[3]:41 overwritten at In[4]:15.\n",
      "WARNING: Method definition p(Any) in module Main at In[4]:9 overwritten at In[4]:35.\n",
      "WARNING: Method definition f(Any, Any) in module Main at In[4]:15 overwritten at In[4]:41.\n"
     ]
    }
   ],
   "source": [
    "#Analytic Test - Linear Case\n",
    "\n",
    "L = 0.3;\n",
    "k2 = 10.0\n",
    "Ss = 1.0\n",
    "Sl = 1.0\n",
    "Ds = 1.0\n",
    "Dl = 10.0\n",
    "p(t) = 1.0\n",
    "tf = 30.0\n",
    "ɛ=0.0\n",
    "c0 = 0.0;\n",
    "w0 = 1.0;\n",
    "m = 50\n",
    "f(c,w) = 0.0\n",
    "@time sol = LinearSIP(f,L,tf,p,c0,w0,k2,Ss,Sl,Ds,Dl,ɛ,m);\n",
    "#@time sol = SphericalSIP(f,R,tf,p,c0,w0,k2,Ss,Sl,Ds,Dl,ɛ,m);\n",
    "\n",
    "#Assymptotic Analytical Solution\n",
    "x = linspace(0,L,m+1)[1:m]\n",
    "solassymptote = cosh(x*sqrt(k2/Dl))/cosh(L*sqrt(k2/Dl))\n",
    "\n",
    "plot(sol(2.0)[1:m])\n",
    "plot!(sol(3.0)[1:m])\n",
    "plot!(x,solassymptote)\n",
    "\n",
    "#Analytic Test - Spherical Case\n",
    "\n",
    "R = 0.3; \n",
    "k2 = 10.0\n",
    "Ss = 1.0\n",
    "Sl = 1.0\n",
    "Ds = 1.0\n",
    "Dl = 0.1\n",
    "p(t) = 1.0\n",
    "tf = 30.0\n",
    "ɛ=0.0\n",
    "c0 = 0.0;\n",
    "w0 = 1.0;\n",
    "m = 50\n",
    "f(c,w) = 0.0\n",
    "#@time sol = LinearSIP(f,L,tf,p,c0,w0,k2,Ss,Sl,Ds,Dl,ɛ,m);\n",
    "@time sol = SphericalSIP(f,R,tf,p,c0,w0,k2,Ss,Sl,Ds,Dl,ɛ,m);\n",
    "\n",
    "#Assymptotic Analytical Solution\n",
    "r = linspace(0.5*(R/(m+0.5)),R,m+1)[1:m]\n",
    "solassymptoteradial = sinh(r*sqrt(k2/Dl))./(r/R*sinh(R*sqrt(k2/Dl)))\n",
    "\n",
    "plot(sol(3.5)[1:m])\n",
    "plot!(sol(.1)[1:m])\n",
    "plot!(solassymptoteradial)"
   ]
  },
  {
   "cell_type": "code",
   "execution_count": 5,
   "metadata": {
    "collapsed": false
   },
   "outputs": [
    {
     "data": {
      "text/html": [
       "<img src=\"data:image/png;base64,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\" />"
      ]
     },
     "execution_count": 5,
     "metadata": {},
     "output_type": "execute_result"
    },
    {
     "name": "stderr",
     "output_type": "stream",
     "text": [
      "sys:1: MatplotlibDeprecationWarning: The set_axis_bgcolor function was deprecated in version 2.0. Use set_facecolor instead.\n"
     ]
    }
   ],
   "source": [
    "plot(sol(3.5)[1:m])\n",
    "plot!(sol(.1)[1:m])\n",
    "plot!(solassymptoteradial)"
   ]
  },
  {
   "cell_type": "code",
   "execution_count": null,
   "metadata": {
    "collapsed": true
   },
   "outputs": [],
   "source": []
  },
  {
   "cell_type": "code",
   "execution_count": null,
   "metadata": {
    "collapsed": true
   },
   "outputs": [],
   "source": []
  },
  {
   "cell_type": "code",
   "execution_count": null,
   "metadata": {
    "collapsed": true
   },
   "outputs": [],
   "source": []
  },
  {
   "cell_type": "code",
   "execution_count": null,
   "metadata": {
    "collapsed": true
   },
   "outputs": [],
   "source": []
  },
  {
   "cell_type": "code",
   "execution_count": null,
   "metadata": {
    "collapsed": true
   },
   "outputs": [],
   "source": []
  },
  {
   "cell_type": "code",
   "execution_count": null,
   "metadata": {
    "collapsed": true
   },
   "outputs": [],
   "source": []
  },
  {
   "cell_type": "code",
   "execution_count": null,
   "metadata": {
    "collapsed": true
   },
   "outputs": [],
   "source": []
  },
  {
   "cell_type": "code",
   "execution_count": null,
   "metadata": {
    "collapsed": true
   },
   "outputs": [],
   "source": []
  },
  {
   "cell_type": "code",
   "execution_count": null,
   "metadata": {
    "collapsed": true
   },
   "outputs": [],
   "source": []
  },
  {
   "cell_type": "code",
   "execution_count": null,
   "metadata": {
    "collapsed": true
   },
   "outputs": [],
   "source": []
  },
  {
   "cell_type": "code",
   "execution_count": null,
   "metadata": {
    "collapsed": true
   },
   "outputs": [],
   "source": []
  },
  {
   "cell_type": "code",
   "execution_count": null,
   "metadata": {
    "collapsed": true
   },
   "outputs": [],
   "source": []
  },
  {
   "cell_type": "code",
   "execution_count": null,
   "metadata": {
    "collapsed": true
   },
   "outputs": [],
   "source": []
  },
  {
   "cell_type": "code",
   "execution_count": null,
   "metadata": {
    "collapsed": true
   },
   "outputs": [],
   "source": []
  },
  {
   "cell_type": "code",
   "execution_count": null,
   "metadata": {
    "collapsed": true
   },
   "outputs": [],
   "source": []
  },
  {
   "cell_type": "code",
   "execution_count": null,
   "metadata": {
    "collapsed": true
   },
   "outputs": [],
   "source": []
  },
  {
   "cell_type": "code",
   "execution_count": null,
   "metadata": {
    "collapsed": true
   },
   "outputs": [],
   "source": []
  },
  {
   "cell_type": "code",
   "execution_count": null,
   "metadata": {
    "collapsed": true
   },
   "outputs": [],
   "source": []
  },
  {
   "cell_type": "code",
   "execution_count": null,
   "metadata": {
    "collapsed": true
   },
   "outputs": [],
   "source": []
  },
  {
   "cell_type": "code",
   "execution_count": null,
   "metadata": {
    "collapsed": true
   },
   "outputs": [],
   "source": []
  },
  {
   "cell_type": "code",
   "execution_count": null,
   "metadata": {
    "collapsed": true
   },
   "outputs": [],
   "source": []
  },
  {
   "cell_type": "markdown",
   "metadata": {},
   "source": [
    "## Junk"
   ]
  },
  {
   "cell_type": "code",
   "execution_count": 193,
   "metadata": {
    "collapsed": false
   },
   "outputs": [
    {
     "name": "stderr",
     "output_type": "stream",
     "text": [
      "WARNING: Method definition p(Any) in module Main at In[187]:5 overwritten at In[193]:5.\n",
      "WARNING: Method definition f(Any, Any) in module Main at In[187]:6 overwritten at In[193]:6.\n"
     ]
    }
   ],
   "source": [
    "#Calculate Mesh Parameters\n",
    "L = 1.0\n",
    "kdash = 10.0\n",
    "Ss = 1.0\n",
    "p(t) = 1.0\n",
    "f(c,w) = -.01*kdash*c*w\n",
    "tf = 10000.0\n",
    "Ddash = 0.01\n",
    "\n",
    "m = 50          #Number of mesh points\n",
    "h = L/m         #Distance between neighbouring grid points\n",
    "\n",
    "#Define Matrix A\n",
    "DDash = 1.0\n",
    "A = Ddash/h^2*(-2*diagm(ones(m))+diagm([2;ones(m-2)],1)+diagm(ones(m-1),-1))\n",
    "\n",
    "#Define DE Problem\n",
    "maintemp = function (t,u,dudt)\n",
    "    #Extract values\n",
    "    c = u[1:m]\n",
    "    w = u[m+1:2m]\n",
    "    #Diffusion term\n",
    "    cdotDiff = A*c \n",
    "    #Reaction Terms\n",
    "    for i = 1:m-1\n",
    "        dudt[i] = cdotDiff[i] - kdash*c[i]*w[i]\n",
    "    end\n",
    "    dudt[m] = cdotDiff[m] - kdash*c[m]*w[m] + Ddash/h^2*Ss*p(t)\n",
    "    for i = m+1:2m\n",
    "        dudt[i] = f(c[i-m],w[i-m])\n",
    "    end\n",
    "end\n",
    "\n",
    "c0 = zeros(m)\n",
    "w0 = ones(m)\n",
    "u0 = [c0;w0]\n",
    "tspan = (0.0,tf)\n",
    "prob = ODEProblem(maintemp,u0,tspan)\n",
    "sol = solve(prob, Rosenbrock23());"
   ]
  },
  {
   "cell_type": "code",
   "execution_count": 200,
   "metadata": {
    "collapsed": false
   },
   "outputs": [
    {
     "data": {
      "text/html": [
       "<img src=\"data:image/png;base64,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\" />"
      ]
     },
     "execution_count": 200,
     "metadata": {},
     "output_type": "execute_result"
    }
   ],
   "source": [
    "plot!(sol(0.0)[1:2m])\n",
    "for i = 1:9\n",
    "    plot!(sol(1000*i)[1:2m])\n",
    "end\n",
    "plot!(sol(10000)[1:2m])"
   ]
  },
  {
   "cell_type": "code",
   "execution_count": 77,
   "metadata": {
    "collapsed": false
   },
   "outputs": [
    {
     "ename": "LoadError",
     "evalue": "DimensionMismatch(\"dimensions must match\")",
     "output_type": "error",
     "traceback": [
      "DimensionMismatch(\"dimensions must match\")",
      "",
      " in promote_shape(::Tuple{Base.OneTo{Int64},Base.OneTo{Int64}}, ::Tuple{Base.OneTo{Int64},Base.OneTo{Int64}}) at ./operators.jl:406",
      " in promote_shape(::Array{Float64,2}, ::Array{Float64,2}) at ./operators.jl:397",
      " in _elementwise(::Base.#+, ::Type{Float64}, ::Array{Float64,2}, ::Array{Float64,2}) at ./arraymath.jl:71",
      " in +(::Array{Float64,2}, ::Array{Float64,2}, ::Array{Float64,2}) at ./operators.jl:138"
     ]
    }
   ],
   "source": [
    "Ddash/h^2*(-2*diagm(ones(m))+diagm([2;ones(m-1)],1)+diagm(ones(m-1),-1))"
   ]
  },
  {
   "cell_type": "code",
   "execution_count": 78,
   "metadata": {
    "collapsed": false
   },
   "outputs": [
    {
     "data": {
      "text/plain": [
       "50-element Array{Float64,1}:\n",
       " 2.0\n",
       " 1.0\n",
       " 1.0\n",
       " 1.0\n",
       " 1.0\n",
       " 1.0\n",
       " 1.0\n",
       " 1.0\n",
       " 1.0\n",
       " 1.0\n",
       " 1.0\n",
       " 1.0\n",
       " 1.0\n",
       " ⋮  \n",
       " 1.0\n",
       " 1.0\n",
       " 1.0\n",
       " 1.0\n",
       " 1.0\n",
       " 1.0\n",
       " 1.0\n",
       " 1.0\n",
       " 1.0\n",
       " 1.0\n",
       " 1.0\n",
       " 1.0"
      ]
     },
     "execution_count": 78,
     "metadata": {},
     "output_type": "execute_result"
    }
   ],
   "source": [
    "[2;ones(m-1)]"
   ]
  },
  {
   "cell_type": "code",
   "execution_count": null,
   "metadata": {
    "collapsed": true
   },
   "outputs": [],
   "source": [
    "#Packages we are using\n",
    "using DifferentialEquations\n",
    "using Plots\n",
    "\n",
    "#Function to model the absorption of gas into SIP material in linear coordinates via MOL approach.\n",
    "#Discussed on p. 8 of workbook.\n",
    "#Inputs: f - function for rate of change in reactive species concentration. \n",
    "#L - length of domain, m\n",
    "#tf - end time of simulation, s. \n",
    "#p - partial pressure of gas above SIP (this must be a function of time.), Pa.\n",
    "#c0 and w0 - initial CO2 and reactant concentration\n",
    "#k2 - second order rate constant, m3/mol.s\n",
    "#Ss and Sl - solubility of gas in solid and liquid phases, respectively, mol/m3.Pa\n",
    "#Ds and Dl - diffusivity of gas in solid and liquid phases, respectively, m2/s\n",
    "#ɛ - The solid fraction inside the particle.\n",
    "\n",
    "function LinearSIPOLD(f,L,tf,p,c0,w0,k2,Ss,Sl,Ds,Dl,ɛ)\n",
    "    \n",
    "    #Pertinent Mesh Values\n",
    "    m = 50          #Number of mesh points\n",
    "    h = L/m         #Distance between neighbouring grid points\n",
    "    \n",
    "    #Generic Ddash and kdash parameters\n",
    "    DDash = (Ds*ɛ+Dl*(1-ɛ)*Sl/Ss) / (ɛ+(1-ɛ)*Ss/Sl)\n",
    "    kdash = (k2*Sl/Ss*(1-ɛ))      / (ɛ+(1-ɛ)*Ss/Sl)\n",
    "    \n",
    "    #Define Matrix A\n",
    "    A = Ddash/h^2*(-2*diagm(ones(m))+diagm([2;ones(m-2)],1)+diagm(ones(m-1),-1))\n",
    "\n",
    "    #Define DE Problem\n",
    "    maintemp = function (t,u,dudt)\n",
    "        #Extract values from u\n",
    "        c = u[1:m]\n",
    "        w = u[m+1:2m]\n",
    "        \n",
    "        #Calculate change of concentration due to diffusion\n",
    "        cdotDiff = A*c \n",
    "        \n",
    "        #Add in reaction terms\n",
    "        for i = 1:m-1\n",
    "            dudt[i] = cdotDiff[i] - kdash*c[i]*w[i]\n",
    "        end\n",
    "        dudt[m] = cdotDiff[m] - kdash*c[m]*w[m] + Ddash/h^2*Ss*p(t)\n",
    "        for i = m+1:2m\n",
    "            dudt[i] = f(c[i-m],w[i-m])\n",
    "        end\n",
    "    end\n",
    "\n",
    "    #Initial Conditions and timespan\n",
    "    u0 = [c0*ones(m);w0*ones(m)]\n",
    "    tspan = (0.0,tf)\n",
    "\n",
    "    #Define and solve problem\n",
    "    prob = ODEProblem(maintemp,u0,tspan)\n",
    "    sol = solve(prob, ImplicitEuler(),dt=1/2^4);\n",
    "    return sol\n",
    "end"
   ]
  },
  {
   "cell_type": "code",
   "execution_count": null,
   "metadata": {
    "collapsed": true
   },
   "outputs": [],
   "source": [
    "#Example with reasonably realistic values.\n",
    "\n",
    "L = 6e-2        #m\n",
    "k2 = 20.0       #m3/mol.s      Taken at infinite dilution from confirmation report.\n",
    "Ss = 5.67e-4    #mol/Pa.m3     From http://onlinelibrary.wiley.com/doi/10.1002/(SICI)1099-0488(20000201)38:3%3C415::AID-POLB8%3E3.0.CO;2-Z/full Good references at \"Gas permeability, diffusivity and solubility of nitrogen, helium, methane, carbon dioxide and formaldehyde in dense polymeric membranes using a new on-line permeation apparatus\"\n",
    "Sl = 2.88e-4    #mol/Pa.m3     From Vericella (2015) See also confirmation report\n",
    "Ds = 2.2e-9     #m2/s          From http://onlinelibrary.wiley.com/doi/10.1002/(SICI)1099-0488(20000201)38:3%3C415::AID-POLB8%3E3.0.CO;2-Z/full Good references at \"Gas permeability, diffusivity and solubility of nitrogen, helium, methane, carbon dioxide and formaldehyde in dense polymeric membranes using a new on-line permeation apparatus\"\n",
    "Dl = 1.78e-9    #m2/s          From Vericella (2015) See also confirmation report\n",
    "p(t) = 101300     #Pa            Consider 10% CO2 environment.\n",
    "tf = 9000.0      #s \n",
    "ɛ_p = 0.5       #              Voidage of SIPS material.\n",
    "\n",
    "#This function is a little subtle. See my workbook, after p. 8\n",
    "ftemp = function (c,w)\n",
    "   #Data for Function\n",
    "    Keq = 5.0                    #m3/mol   Calculate in more detail later. Sourced from http://clas.sa.ucsb.edu/staff/Resource%20Folder/Chem109ABC/Acid,%20Base%20Strength/Table%20of%20Acids%20w%20Kas%20and%20pKas.pdf\n",
    "    cKion = 6000                 #mol/m3. Based on 0.3mol/L solution of K2CO3\n",
    "    nco2dot = k2*c*Sl/Ss*w       #mol/m3.s    Rate of reaction of CO2\n",
    "    ξdot = 2*nco2dot/cKion       #1/s. Rate of change of loading\n",
    "    ξ = 1/(1+2Keq*w)             #loading\n",
    "    wdot = -ξdot/(2*Keq*ξ^2)     #mol/m3.s Rate of change of OH- concentration\n",
    "    return wdot\n",
    "end\n",
    "w_initial = 1e-1;     #Initial OH- concentration, mol/m3\n",
    "m = 50\n",
    "\n",
    "@time (sol, qbar_0) = MonolithMTZintime(ftemp,δ,tf,w_initial,k2,Ss,Sl,Ds,Dl,ɛ_p,m,p_0)\n",
    "@time sol                   = LinearSIP(ftemp,L,tf,p,c0,w0,k2,Ss,Sl,Ds,Dl,ɛ,m)\n",
    "#Convert to length-scale\n",
    "w = 5*δ         #m             Width of monolith cell\n",
    "v = 1         #m/s           Superficial Gas Velocity\n",
    "T = 300         #K             Temperature of flue gas\n",
    "R = 8.314       #J/mol.K       Universal gas constant\n",
    "ɛ = (w-2δ)/(w+2δ)             #Bulk Voidage inside bed\n",
    "β = ɛ*v/(ɛ+(1-ɛ)*qbar_0/(p_0/(R*T)))    #Velocity of MTZ\n",
    "MTZinspace(z) = sol(z/β)[2m+1]/(δ*qbar_0)      #Function for q/qbar_0 in space (constant pattern)"
   ]
  }
 ],
 "metadata": {
  "kernelspec": {
   "display_name": "Julia 0.5.1",
   "language": "julia",
   "name": "julia-0.5"
  },
  "language_info": {
   "file_extension": ".jl",
   "mimetype": "application/julia",
   "name": "julia",
   "version": "0.5.1"
  }
 },
 "nbformat": 4,
 "nbformat_minor": 2
}
