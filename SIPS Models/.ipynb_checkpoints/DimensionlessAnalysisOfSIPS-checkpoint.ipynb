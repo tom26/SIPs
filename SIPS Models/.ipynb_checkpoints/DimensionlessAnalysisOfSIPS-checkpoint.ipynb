{
 "cells": [
  {
   "cell_type": "markdown",
   "metadata": {},
   "source": [
    "# Dimensionless Analysis of SIPS "
   ]
  },
  {
   "cell_type": "code",
   "execution_count": 130,
   "metadata": {
    "collapsed": false
   },
   "outputs": [
    {
     "name": "stderr",
     "output_type": "stream",
     "text": [
      "WARNING: Method definition DimensionlessLinearSIP(Any, Any, Any, Any) in module Main at In[129]:15 overwritten at In[130]:15.\n",
      "WARNING: Method definition DimensionlessLinearSIP(Any, Any, Any, Any, Any) in module Main at In[129]:15 overwritten at In[130]:15.\n"
     ]
    },
    {
     "data": {
      "text/plain": [
       "DimensionlessLinearLiq (generic function with 2 methods)"
      ]
     },
     "execution_count": 130,
     "metadata": {},
     "output_type": "execute_result"
    }
   ],
   "source": [
    "using DifferentialEquations\n",
    "using Plots\n",
    "\n",
    "#Function to model the dimensionless absorption of gas into SIP material in linear coordinates via MOL approach.\n",
    "#Discussed in blue workbook.\n",
    "#Inputs: \n",
    "#α - dimensionless time-scaling parameter\n",
    "#ϕ̄ - dimensionless Theile Modulus\n",
    "#γ - dimensionless ratio of gas to active species concentration\n",
    "#tf - final time\n",
    "#m - The number of mesh points.\n",
    "function DimensionlessLinearSIP(ϕ̄,γ,α,tf,m=50)\n",
    "    \n",
    "    #Pertinent Mesh Values\n",
    "    h = 1/m         #Distance between neighbouring grid points\n",
    "    \n",
    "    #Define DE Problem\n",
    "    function main(t,u,dudt)\n",
    "        #Extract values from u\n",
    "        c = u[1:m]\n",
    "        w = u[m+1:2m]\n",
    "        \n",
    "        #Calculate change of concentration due to diffusion and reaction\n",
    "        for i = 1:2m+1\n",
    "            if i == 1\n",
    "                dudt[i] = 1/α*(1/(ϕ̄^2*h^2)*(2c[2]-2c[1]) - c[1]*w[1])\n",
    "            elseif 2 <= i <= m-1\n",
    "                dudt[i] = 1/α*(1/(ϕ̄^2*h^2)*(c[i-1]-2c[i]+c[i+1]) - c[i]*w[i])\n",
    "            elseif i == m\n",
    "                dudt[i] = 1/α*(1/(ϕ̄^2*h^2)*(c[m-1]-2c[m]+1.0) - c[m]*w[m])\n",
    "            elseif m+1 <= i <= 2m\n",
    "                dudt[i] = -γ*c[i-m]*w[i-m]\n",
    "            elseif i == 2m+1\n",
    "                dudt[i] = ((3/2*1.0-2*c[m]+1/2*c[m-1])/h)*(1/(α*ϕ̄^2))\n",
    "            end\n",
    "        end\n",
    "    end\n",
    "\n",
    "    #Initial Conditions and timespan\n",
    "    u0 = [zeros(m);ones(m);0.0]\n",
    "    tspan = (0.0,tf)\n",
    "\n",
    "    #Define and solve problem\n",
    "    prob = ODEProblem(main,u0,tspan)\n",
    "    sol = solve(prob, Rosenbrock23());\n",
    "    return sol\n",
    "end\n",
    "\n",
    "\n",
    "#Function to model the dimensionless absorption of gas into Static Liquid in linear coordinates via MOL approach.\n",
    "#Discussed in blue workbook.\n",
    "#Inputs: \n",
    "#α - dimensionless time-scaling parameter\n",
    "#ϕ̄ - dimensionless Theile Modulus\n",
    "#γ - dimensionless ratio of gas to active species concentration\n",
    "#tf - final time\n",
    "#m - The number of mesh points.\n",
    "function DimensionlessLinearLiq(ϕ,γ,tf,m=50)\n",
    "    \n",
    "    #Pertinent Mesh Values\n",
    "    h = 1/m         #Distance between neighbouring grid points\n",
    "    \n",
    "    #Define DE Problem\n",
    "    function main(t,u,dudt)\n",
    "        #Extract values from u\n",
    "        c = u[1:m]\n",
    "        w = u[m+1]\n",
    "        \n",
    "        #Calculate change of concentration due to diffusion and reaction\n",
    "        for i = 1:2m+1\n",
    "            if i == 1\n",
    "                dudt[i] = (1/(ϕ^2*h^2)*(2c[2]-2c[1]) - c[1]*w)\n",
    "            elseif 2 <= i <= m-1\n",
    "                dudt[i] = (1/(ϕ^2*h^2)*(c[i-1]-2c[i]+c[i+1]) - c[i]*w)\n",
    "            elseif i == m\n",
    "                dudt[i] = (1/(ϕ^2*h^2)*(c[m-1]-2c[m]+1.0) - c[m]*w)\n",
    "            elseif i == m+1\n",
    "                dudt[i] = -γ*w*1/m*(0.5*(c[1]+1)+sum([c[i] for i in 2:m]))\n",
    "            elseif i == m+2\n",
    "                dudt[i] = ((3/2*1.0-2*c[m]+1/2*c[m-1])/h)*(1/(ϕ^2))\n",
    "            end\n",
    "        end\n",
    "    end\n",
    "\n",
    "    #Initial Conditions and timespan\n",
    "    u0 = [zeros(m);1.0;0.0]\n",
    "    tspan = (0.0,tf)\n",
    "\n",
    "    #Define and solve problem\n",
    "    prob = ODEProblem(main,u0,tspan)\n",
    "    sol = solve(prob, Rosenbrock23());\n",
    "    return sol\n",
    "end"
   ]
  },
  {
   "cell_type": "markdown",
   "metadata": {},
   "source": [
    "## Analysing These Dimensionless Equations and Creating Plots"
   ]
  },
  {
   "cell_type": "markdown",
   "metadata": {},
   "source": [
    "The two variables we are interested in are $\\rho \\equiv \\mathcal{P}_s/\\mathcal{P}_l$ and $\\phi = L^2k_2/\\mathcal{D}_l$. We will vary these and measure $t_{0.95}$ for each equation, and track how this ratio changes as they are varied."
   ]
  },
  {
   "cell_type": "code",
   "execution_count": 604,
   "metadata": {
    "collapsed": false
   },
   "outputs": [
    {
     "ename": "LoadError",
     "evalue": "Something went wrong. Integrator stepped past tstops but the algorithm was dtchangeable. Please report this error.",
     "output_type": "error",
     "traceback": [
      "Something went wrong. Integrator stepped past tstops but the algorithm was dtchangeable. Please report this error.",
      "",
      " in handle_tstop! at /Users/thomasmoore/.julia/v0.5/OrdinaryDiffEq/src/integrators/integrator_utils.jl:309 [inlined]",
      " in solve!(::OrdinaryDiffEq.ODEIntegrator{OrdinaryDiffEq.Rosenbrock23{0,true,DiffEqBase.LinSolveFactorize{Base.LinAlg.#lufact!}},Array{Float64,1},Float64,Float64,Float64,Array{Array{Float64,1},1},DiffEqBase.ODESolution{Float64,2,Array{Array{Float64,1},1},Void,Void,Array{Float64,1},Array{Array{Array{Float64,1},1},1},DiffEqBase.ODEProblem{Array{Float64,1},Float64,true,#main#17{Float64,Float64,Int64,Float64},Void,UniformScaling{Int64}},OrdinaryDiffEq.Rosenbrock23{0,true,DiffEqBase.LinSolveFactorize{Base.LinAlg.#lufact!}},OrdinaryDiffEq.InterpolationData{#main#17{Float64,Float64,Int64,Float64},Array{Array{Float64,1},1},Array{Float64,1},Array{Array{Array{Float64,1},1},1},OrdinaryDiffEq.Rosenbrock23Cache{Array{Float64,1},Array{Float64,1},Array{Float64,1},Array{ForwardDiff.Dual{10,Float64},1},Array{Float64,1},Array{Float64,2},OrdinaryDiffEq.Rosenbrock23ConstantCache{Float64,Base.#identity,Base.#identity},OrdinaryDiffEq.TimeGradientWrapper{OrdinaryDiffEq.VectorF{#main#17{Float64,Float64,Int64,Float64},Tuple{Int64}},Array{Float64,1},Array{ForwardDiff.Dual{10,Float64},1}},OrdinaryDiffEq.UJacobianWrapper{OrdinaryDiffEq.VectorFReturn{#main#17{Float64,Float64,Int64,Float64},Tuple{Int64}},Float64},DiffEqBase.LinSolveFactorize{Base.LinAlg.#lufact!},ForwardDiff.JacobianConfig{10,Float64,Tuple{Array{ForwardDiff.Dual{10,Float64},1},Array{ForwardDiff.Dual{10,Float64},1}}}}}},Array{Float64,1},#main#17{Float64,Float64,Int64,Float64},Void,OrdinaryDiffEq.Rosenbrock23Cache{Array{Float64,1},Array{Float64,1},Array{Float64,1},Array{ForwardDiff.Dual{10,Float64},1},Array{Float64,1},Array{Float64,2},OrdinaryDiffEq.Rosenbrock23ConstantCache{Float64,Base.#identity,Base.#identity},OrdinaryDiffEq.TimeGradientWrapper{OrdinaryDiffEq.VectorF{#main#17{Float64,Float64,Int64,Float64},Tuple{Int64}},Array{Float64,1},Array{ForwardDiff.Dual{10,Float64},1}},OrdinaryDiffEq.UJacobianWrapper{OrdinaryDiffEq.VectorFReturn{#main#17{Float64,Float64,Int64,Float64},Tuple{Int64}},Float64},DiffEqBase.LinSolveFactorize{Base.LinAlg.#lufact!},ForwardDiff.JacobianConfig{10,Float64,Tuple{Array{ForwardDiff.Dual{10,Float64},1},Array{ForwardDiff.Dual{10,Float64},1}}}},OrdinaryDiffEq.DEOptions{Float64,Float64,Float64,Float64,DiffEqBase.#ODE_DEFAULT_NORM,DiffEqBase.CallbackSet{Tuple{},Tuple{}},DiffEqBase.#ODE_DEFAULT_ISOUTOFDOMAIN,DiffEqBase.#ODE_DEFAULT_PROG_MESSAGE,DiffEqBase.#ODE_DEFAULT_UNSTABLE_CHECK,DataStructures.BinaryHeap{Float64,DataStructures.LessThan},Void,Void}}) at /Users/thomasmoore/.julia/v0.5/OrdinaryDiffEq/src/solve.jl:314",
      " in #solve#83(::Array{Any,1}, ::Function, ::DiffEqBase.ODEProblem{Array{Float64,1},Float64,true,#main#17{Float64,Float64,Int64,Float64},Void,UniformScaling{Int64}}, ::OrdinaryDiffEq.Rosenbrock23{0,true,DiffEqBase.LinSolveFactorize{Base.LinAlg.#lufact!}}, ::Array{Any,1}, ::Array{Any,1}, ::Array{Any,1}, ::Type{Val{true}}) at /Users/thomasmoore/.julia/v0.5/OrdinaryDiffEq/src/solve.jl:7",
      " in solve(::DiffEqBase.ODEProblem{Array{Float64,1},Float64,true,#main#17{Float64,Float64,Int64,Float64},Void,UniformScaling{Int64}}, ::OrdinaryDiffEq.Rosenbrock23{0,true,DiffEqBase.LinSolveFactorize{Base.LinAlg.#lufact!}}) at /Users/thomasmoore/.julia/v0.5/OrdinaryDiffEq/src/solve.jl:6",
      " in DimensionlessLinearLiq(::Float64, ::Float64, ::Float64, ::Int64) at ./In[130]:91"
     ]
    }
   ],
   "source": [
    "ρ = ρrange[i]; ϕ = ϕrange[j]; α = 1.0; γ = 1e-3; ɛ = 0.5; ξ = 0.95; m = 100\n",
    "\n",
    "#Calculate ϕ̄\n",
    "ϕ̄ = ϕ*((1-ɛ)/(ɛ*ρ+(1-ɛ)))*((1-ɛ))^-2\n",
    "\n",
    "#Solve Systems\n",
    "tf = 10*max(ϕ,ϕ̄)^2/γ    #This is a reasonable estimate for the time our dimensionless system will take to solve, and perhaps could give clues as to a better dimensionless time\n",
    "solLiq = DimensionlessLinearLiq(ϕ,γ,tf,m)\n",
    "solSIP = DimensionlessLinearSIP(ϕ̄,γ,α,tf,m)\n",
    "\n",
    "#Calculate point at which 95% of gas has been absorbed in liquid via bisection method\n",
    "n_max_Liq = solLiq(tf)[m+2];  \n",
    "t_min = 0.0; t_max = tf; ξ_temp = 0.0; tguess = 1.0\n",
    "while abs(ξ_temp - ξ)/ξ > 0.001\n",
    "    tguess = (t_min+t_max)/2.0\n",
    "    ξ_temp = solLiq(tguess)[m+2]/n_max_Liq\n",
    "    if ξ_temp < ξ\n",
    "        t_min = tguess\n",
    "    else\n",
    "        t_max = tguess\n",
    "    end\n",
    "end\n",
    "tξ_Liq = tguess\n",
    "\n",
    "#Calculate point at which 95% of gas has been absorbed in SIP via bisection method\n",
    "n_max_SIP = solSIP(tf)[2m+1]\n",
    "t_min = 0.0; t_max = tf; ξ_temp = 0.0\n",
    "while abs(ξ_temp - ξ)/ξ > 0.001\n",
    "    tguess = (t_min+t_max)/2.0\n",
    "    ξ_temp = solSIP(tguess)[2m+1]/n_max_SIP\n",
    "    if ξ_temp < ξ\n",
    "        t_min = tguess\n",
    "    else\n",
    "        t_max = tguess\n",
    "    end\n",
    "end\n",
    "tξ_SIP = tguess\n",
    "\n",
    "#Test\n",
    "#println([solLiq(tξ_Liq)[m+2]/n_max_Liq,solSIP(tξ_SIP)[2m+1]/n_max_SIP])\n",
    "#plot(solLiq(tξ_Liq)[1:m])\n",
    "#plot!(solSIP(tξ_SIP)[1:m])\n",
    "\n",
    "tξ_Liq/tξ_SIP"
   ]
  },
  {
   "cell_type": "code",
   "execution_count": 543,
   "metadata": {
    "collapsed": false
   },
   "outputs": [
    {
     "data": {
      "text/html": [
       "<img src=\"data:image/png;base64,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\" />"
      ]
     },
     "execution_count": 543,
     "metadata": {},
     "output_type": "execute_result"
    }
   ],
   "source": [
    "plot(linspace(0,tξ_SIP*2,100),[solSIP(i)[2m+1] for i in linspace(0,tξ_SIP*2,100)])\n",
    "plot!(linspace(0,tξ_Liq*2,100),[solLiq(i)[m+2] for i in linspace(0,tξ_Liq*2,100)])"
   ]
  },
  {
   "cell_type": "code",
   "execution_count": 398,
   "metadata": {
    "collapsed": false
   },
   "outputs": [
    {
     "data": {
      "text/html": [
       "<img src=\"data:image/png;base64,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\" />"
      ]
     },
     "execution_count": 398,
     "metadata": {},
     "output_type": "execute_result"
    }
   ],
   "source": [
    "plot(solLiq(2000.0)[1:m])"
   ]
  },
  {
   "cell_type": "code",
   "execution_count": 369,
   "metadata": {
    "collapsed": false
   },
   "outputs": [
    {
     "data": {
      "text/html": [
       "2988.28125"
      ],
      "text/plain": [
       "2988.28125"
      ]
     },
     "execution_count": 369,
     "metadata": {},
     "output_type": "execute_result"
    }
   ],
   "source": [
    "tξ_SIP"
   ]
  },
  {
   "cell_type": "code",
   "execution_count": null,
   "metadata": {
    "collapsed": true
   },
   "outputs": [],
   "source": []
  },
  {
   "cell_type": "code",
   "execution_count": null,
   "metadata": {
    "collapsed": true
   },
   "outputs": [],
   "source": []
  },
  {
   "cell_type": "code",
   "execution_count": 565,
   "metadata": {
    "collapsed": false
   },
   "outputs": [
    {
     "data": {
      "text/html": [
       "7.666666666666667"
      ],
      "text/plain": [
       "7.666666666666667"
      ]
     },
     "execution_count": 565,
     "metadata": {},
     "output_type": "execute_result"
    }
   ],
   "source": [
    "ϕrange[j]"
   ]
  },
  {
   "cell_type": "code",
   "execution_count": 623,
   "metadata": {
    "collapsed": false
   },
   "outputs": [
    {
     "data": {
      "text/html": [
       "5"
      ],
      "text/plain": [
       "5"
      ]
     },
     "execution_count": 623,
     "metadata": {},
     "output_type": "execute_result"
    }
   ],
   "source": [
    "ρrange[i]"
   ]
  },
  {
   "cell_type": "code",
   "execution_count": 624,
   "metadata": {
    "collapsed": false
   },
   "outputs": [
    {
     "name": "stdout",
     "output_type": "stream",
     "text": [
      "1\n",
      "2\n",
      "3\n",
      "4\n",
      "5\n",
      "6\n",
      "7\n",
      "8\n",
      "9\n",
      "10\n",
      "11\n",
      "12\n",
      "13\n",
      "14\n",
      "15\n",
      "16\n",
      "17\n",
      "18\n",
      "19\n",
      "20\n",
      "21\n",
      "22\n",
      "23\n",
      "24\n",
      "25\n",
      "26\n",
      "27\n",
      "28\n",
      "29\n",
      "30\n",
      "31\n",
      "32\n",
      "33\n",
      "34\n",
      "35\n",
      "36\n",
      "37\n",
      "38\n",
      "39\n",
      "40\n",
      "41\n",
      "42\n",
      "43\n",
      "44\n",
      "45\n",
      "46\n",
      "47\n",
      "48\n",
      "49\n",
      "50\n",
      "51\n",
      "52\n",
      "53\n",
      "54\n",
      "55\n",
      "56\n",
      "57\n",
      "58\n",
      "59\n",
      "60\n",
      "61\n",
      "62\n",
      "63\n",
      "64\n",
      "65\n",
      "66\n",
      "67\n",
      "68\n",
      "69\n",
      "70\n",
      "71\n",
      "72\n",
      "73\n",
      "74\n",
      "75\n",
      "76\n",
      "77\n",
      "78\n",
      "79\n",
      "80\n",
      "81\n",
      "82\n",
      "83\n",
      "84\n",
      "85\n",
      "86\n",
      "87\n",
      "88\n",
      "89\n",
      "90\n",
      "91\n",
      "92\n",
      "93\n",
      "94\n",
      "95\n",
      "96\n",
      "97\n",
      "98\n",
      "99\n",
      "100\n",
      "1\n",
      "1\n",
      "2\n",
      "3\n",
      "4\n",
      "5\n",
      "6\n",
      "7\n",
      "8\n",
      "9\n",
      "10\n",
      "11\n",
      "12\n",
      "13\n",
      "14\n",
      "15\n",
      "16\n",
      "17\n",
      "18\n",
      "19\n",
      "20\n",
      "21\n",
      "22\n",
      "23\n",
      "24\n",
      "25\n",
      "26\n",
      "27\n",
      "28\n",
      "29\n",
      "30\n",
      "31\n",
      "32\n",
      "33\n",
      "34\n",
      "35\n",
      "36\n",
      "37\n",
      "38\n",
      "39\n",
      "40\n",
      "41\n",
      "42\n",
      "43\n",
      "44\n",
      "45\n",
      "46\n",
      "47\n",
      "48\n",
      "49\n",
      "50\n",
      "51\n",
      "52\n",
      "53\n",
      "54\n",
      "55\n",
      "56\n",
      "57\n",
      "58\n",
      "59\n",
      "60\n",
      "61\n",
      "62\n",
      "63\n",
      "64\n",
      "65\n",
      "66\n",
      "67\n",
      "68\n",
      "69\n",
      "70\n",
      "71\n",
      "72\n",
      "73\n",
      "74\n",
      "75\n",
      "76\n",
      "77\n",
      "78\n",
      "79\n",
      "80\n",
      "81\n",
      "82\n",
      "83\n",
      "84\n",
      "85\n",
      "86\n",
      "87\n",
      "88\n",
      "89\n",
      "90\n",
      "91\n",
      "92\n",
      "93\n",
      "94\n",
      "95\n",
      "96\n",
      "97\n",
      "98\n",
      "99\n",
      "100\n",
      "2\n",
      "1\n",
      "2\n",
      "3\n",
      "4\n",
      "5\n",
      "6\n",
      "7\n",
      "8\n",
      "9\n",
      "10\n",
      "11\n",
      "12\n",
      "13\n",
      "14\n",
      "15\n",
      "16\n",
      "17\n",
      "18\n",
      "19\n",
      "20\n",
      "21\n",
      "22\n",
      "23\n",
      "24\n",
      "25\n",
      "26\n",
      "27\n",
      "28\n",
      "29\n",
      "30\n",
      "31\n",
      "32\n",
      "33\n",
      "34\n",
      "35\n",
      "36\n",
      "37\n",
      "38\n",
      "39\n",
      "40\n",
      "41\n",
      "42\n",
      "43\n",
      "44\n",
      "45\n",
      "46\n",
      "47\n",
      "48\n",
      "49\n",
      "50\n",
      "51\n",
      "52\n",
      "53\n",
      "54\n",
      "55\n",
      "56\n",
      "57\n",
      "58\n",
      "59\n",
      "60\n",
      "61\n",
      "62\n",
      "63\n",
      "64\n",
      "65\n",
      "66\n",
      "67\n",
      "68\n",
      "69\n",
      "70\n",
      "71\n",
      "72\n",
      "73\n",
      "74\n",
      "75\n",
      "76\n",
      "77\n",
      "78\n",
      "79\n",
      "80\n",
      "81\n",
      "82\n",
      "83\n",
      "84\n",
      "85\n",
      "86\n",
      "87\n",
      "88\n",
      "89\n",
      "90\n",
      "91\n",
      "92\n",
      "93\n",
      "94\n",
      "95\n",
      "96\n",
      "97\n",
      "98\n",
      "99\n",
      "100\n",
      "3\n",
      "1\n",
      "2\n",
      "3\n",
      "4\n",
      "5\n",
      "6\n",
      "7\n",
      "8\n",
      "9\n",
      "10\n",
      "11\n",
      "12\n",
      "13\n",
      "14\n",
      "15\n",
      "16\n",
      "17\n",
      "18\n",
      "19\n",
      "20\n",
      "21\n",
      "22\n",
      "23\n",
      "24\n",
      "25\n",
      "26\n",
      "27\n",
      "28\n",
      "29\n",
      "30\n",
      "31\n",
      "32\n",
      "33\n",
      "34\n",
      "35\n",
      "36\n",
      "37\n",
      "38\n",
      "39\n",
      "40\n",
      "41\n",
      "42\n",
      "43\n",
      "44\n",
      "45\n",
      "46\n",
      "47\n",
      "48\n",
      "49\n",
      "50\n",
      "51\n",
      "52\n",
      "53\n",
      "54\n",
      "55\n",
      "56\n",
      "57\n",
      "58\n",
      "59\n",
      "60\n",
      "61\n",
      "62\n",
      "63\n",
      "64\n",
      "65\n",
      "66\n",
      "67\n",
      "68\n",
      "69\n",
      "70\n",
      "71\n",
      "72\n",
      "73\n",
      "74\n",
      "75\n",
      "76\n",
      "77\n",
      "78\n",
      "79\n",
      "80\n",
      "81\n",
      "82\n",
      "83\n",
      "84\n",
      "85\n",
      "86\n",
      "87\n",
      "88\n",
      "89\n",
      "90\n",
      "91\n",
      "92\n",
      "93\n",
      "94\n",
      "95\n",
      "96\n",
      "97\n",
      "98\n",
      "99\n",
      "100\n",
      "4\n",
      "1\n",
      "2\n",
      "3\n",
      "4\n",
      "5\n",
      "6\n",
      "7\n",
      "8\n",
      "9\n",
      "10\n",
      "11\n",
      "12\n",
      "13\n",
      "14\n",
      "15\n",
      "16\n",
      "17\n",
      "18\n",
      "19\n",
      "20\n",
      "21\n",
      "22\n",
      "23\n",
      "24\n",
      "25\n",
      "26\n",
      "27\n",
      "28\n",
      "29\n",
      "30\n",
      "31\n",
      "32\n",
      "33\n",
      "34\n",
      "35\n",
      "36\n",
      "37\n",
      "38\n",
      "39\n",
      "40\n",
      "41\n",
      "42\n",
      "43\n",
      "44\n",
      "45\n",
      "46\n",
      "47\n",
      "48\n",
      "49\n",
      "50\n",
      "51\n",
      "52\n",
      "53\n",
      "54\n",
      "55\n",
      "56\n",
      "57\n",
      "58\n",
      "59\n",
      "60\n",
      "61\n",
      "62\n",
      "63\n",
      "64\n",
      "65\n",
      "66\n",
      "67\n",
      "68\n",
      "69\n",
      "70\n",
      "71\n",
      "72\n",
      "73\n",
      "74\n",
      "75\n",
      "76\n",
      "77\n",
      "78\n",
      "79\n",
      "80\n",
      "81\n",
      "82\n",
      "83\n",
      "84\n",
      "85\n",
      "86\n",
      "87\n",
      "88\n",
      "89\n",
      "90\n",
      "91\n",
      "92\n",
      "93\n",
      "94\n",
      "95\n",
      "96\n",
      "97\n",
      "98\n",
      "99\n",
      "100\n",
      "5\n"
     ]
    }
   ],
   "source": [
    "α = 1.0; γ = 1e-3; ɛ = 0.5; ξ = 0.95; m = 50\n",
    "N = 100\n",
    "ρrange = [1.0, 2.0, 5.0, 10.0,100.0]; ϕrange = logspace(-1,2,N);\n",
    "storeratio = zeros(length(ρrange),length(ϕrange)); i = 0; j = 0\n",
    "for ρ in ρrange\n",
    "    j = 0; i = i + 1;\n",
    "    for ϕ in ϕrange\n",
    "        j = j + 1;\n",
    "        #Calculate ϕ̄\n",
    "        ϕ̄ = ϕ*((1-ɛ)/(ɛ*ρ+(1-ɛ)))*((1-ɛ))^-2\n",
    "\n",
    "        #Solve Systems\n",
    "        tf = 10*max(ϕ,ϕ̄)^2/γ    #This is a reasonable estimate for the time our dimensionless system will take to solve, and perhaps could give clues as to a better dimensionless time\n",
    "        solLiq = try DimensionlessLinearLiq(ϕ,γ,tf,m) catch; (try DimensionlessLinearLiq(ϕ*1.001,γ,tf,m) catch; DimensionlessLinearLiq(0.999*ϕ,γ,tf,m) end) end\n",
    "        solSIP = try DimensionlessLinearSIP(ϕ̄,γ,α,tf,m) catch; (try DimensionlessLinearSIP(ϕ̄*1.001,γ,α,tf,m) catch; DimensionlessLinearSIP(0.999*ϕ̄,γ,α,tf,m) end) end\n",
    "\n",
    "        #Calculate point at which 95% of gas has been absorbed in liquid via bisection method\n",
    "        n_max_Liq = solLiq(tf)[m+2];  \n",
    "        t_min = 0.0; t_max = tf; ξ_temp = 0.0; tguess = 1.0\n",
    "        while abs(ξ_temp - ξ)/ξ > 0.001\n",
    "            tguess = (t_min+t_max)/2.0\n",
    "            ξ_temp = solLiq(tguess)[m+2]/n_max_Liq\n",
    "            if ξ_temp < ξ\n",
    "                t_min = tguess\n",
    "            else\n",
    "                t_max = tguess\n",
    "            end\n",
    "        end\n",
    "        tξ_Liq = tguess\n",
    "\n",
    "        #Calculate point at which 95% of gas has been absorbed in SIP via bisection method\n",
    "        n_max_SIP = solSIP(tf)[2m+1]\n",
    "        t_min = 0.0; t_max = tf; ξ_temp = 0.0\n",
    "        while abs(ξ_temp - ξ)/ξ > 0.001\n",
    "            tguess = (t_min+t_max)/2.0\n",
    "            ξ_temp = solSIP(tguess)[2m+1]/n_max_SIP\n",
    "            if ξ_temp < ξ\n",
    "                t_min = tguess\n",
    "            else\n",
    "                t_max = tguess\n",
    "            end\n",
    "        end\n",
    "        tξ_SIP = tguess\n",
    "        storeratio[i,j] = tξ_Liq/tξ_SIP\n",
    "        println(j)\n",
    "    end\n",
    "    println(i)\n",
    "end"
   ]
  },
  {
   "cell_type": "code",
   "execution_count": 631,
   "metadata": {
    "collapsed": false
   },
   "outputs": [
    {
     "data": {
      "text/html": [
       "<img src=\"data:image/png;base64,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\" />"
      ]
     },
     "execution_count": 631,
     "metadata": {},
     "output_type": "execute_result"
    }
   ],
   "source": [
    "plot(ϕrange,[storeratio[1,j] for j in 1:N])\n",
    "for i = [2,3,4,5]\n",
    "    plot!(ϕrange,[storeratio[i,j] for j in 1:N])\n",
    "end\n",
    "xaxis!(\"ϕ\")\n",
    "yaxis!(\"tliq/tMECS\")"
   ]
  },
  {
   "cell_type": "code",
   "execution_count": 630,
   "metadata": {
    "collapsed": false
   },
   "outputs": [
    {
     "data": {
      "text/html": [
       "<img src=\"data:image/png;base64,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\" />"
      ]
     },
     "execution_count": 630,
     "metadata": {},
     "output_type": "execute_result"
    }
   ],
   "source": [
    "plot(log10(ϕrange),[storeratio[1,j] for j in 1:N])\n",
    "for i = [2,3,4]\n",
    "    plot!(log10(ϕrange),[storeratio[i,j] for j in 1:N])\n",
    "end\n",
    "xaxis!(\"ϕ\")\n",
    "yaxis!(\"tliq/tMECS\")"
   ]
  },
  {
   "cell_type": "code",
   "execution_count": 637,
   "metadata": {
    "collapsed": false
   },
   "outputs": [
    {
     "name": "stdout",
     "output_type": "stream",
     "text": [
      "1\n",
      "2\n",
      "3\n",
      "4\n",
      "5\n",
      "1\n",
      "1\n",
      "2\n",
      "3\n",
      "4\n",
      "5\n",
      "2\n",
      "1\n",
      "2\n",
      "3\n",
      "4\n",
      "5\n",
      "3\n",
      "1\n",
      "2\n",
      "3\n",
      "4\n",
      "5\n",
      "4\n",
      "1\n",
      "2\n",
      "3\n",
      "4\n",
      "5\n",
      "5\n",
      "1\n",
      "2\n",
      "3\n",
      "4\n",
      "5\n",
      "6\n",
      "1\n",
      "2\n",
      "3\n",
      "4\n",
      "5\n",
      "7\n",
      "1\n",
      "2\n",
      "3\n",
      "4\n",
      "5\n",
      "8\n",
      "1\n",
      "2\n",
      "3\n",
      "4\n",
      "5\n",
      "9\n",
      "1\n",
      "2\n",
      "3\n",
      "4\n",
      "5\n",
      "10\n",
      "1\n",
      "2\n",
      "3\n",
      "4\n",
      "5\n",
      "11\n",
      "1\n",
      "2\n",
      "3\n",
      "4\n",
      "5\n",
      "12\n",
      "1\n",
      "2\n",
      "3\n",
      "4\n",
      "5\n",
      "13\n",
      "1\n",
      "2\n",
      "3\n",
      "4\n",
      "5\n",
      "14\n",
      "1\n",
      "2\n",
      "3\n",
      "4\n",
      "5\n",
      "15\n",
      "1\n",
      "2\n",
      "3\n",
      "4\n",
      "5\n",
      "16\n",
      "1\n",
      "2\n",
      "3\n",
      "4\n",
      "5\n",
      "17\n",
      "1\n",
      "2\n",
      "3\n",
      "4\n",
      "5\n",
      "18\n",
      "1\n",
      "2\n",
      "3\n",
      "4\n",
      "5\n",
      "19\n",
      "1\n",
      "2\n",
      "3\n",
      "4\n",
      "5\n",
      "20\n",
      "1\n",
      "2\n",
      "3\n",
      "4\n",
      "5\n",
      "21\n",
      "1\n",
      "2\n",
      "3\n",
      "4\n",
      "5\n",
      "22\n",
      "1\n",
      "2\n",
      "3\n",
      "4\n",
      "5\n",
      "23\n",
      "1\n",
      "2\n",
      "3\n",
      "4\n",
      "5\n",
      "24\n",
      "1\n",
      "2\n",
      "3\n",
      "4\n",
      "5\n",
      "25\n",
      "1\n",
      "2\n",
      "3\n",
      "4\n",
      "5\n",
      "26\n",
      "1\n",
      "2\n",
      "3\n",
      "4\n",
      "5\n",
      "27\n",
      "1\n",
      "2\n",
      "3\n",
      "4\n",
      "5\n",
      "28\n",
      "1\n",
      "2\n",
      "3\n",
      "4\n",
      "5\n",
      "29\n",
      "1\n",
      "2\n",
      "3\n",
      "4\n",
      "5\n",
      "30\n",
      "1\n",
      "2\n",
      "3\n",
      "4\n",
      "5\n",
      "31\n",
      "1\n",
      "2\n",
      "3\n",
      "4\n",
      "5\n",
      "32\n",
      "1\n",
      "2\n",
      "3\n",
      "4\n",
      "5\n",
      "33\n",
      "1\n",
      "2\n",
      "3\n",
      "4\n",
      "5\n",
      "34\n",
      "1\n",
      "2\n",
      "3\n",
      "4\n",
      "5\n",
      "35\n",
      "1\n",
      "2\n",
      "3\n",
      "4\n",
      "5\n",
      "36\n",
      "1\n",
      "2\n",
      "3\n",
      "4\n",
      "5\n",
      "37\n",
      "1\n",
      "2\n",
      "3\n",
      "4\n",
      "5\n",
      "38\n",
      "1\n",
      "2\n",
      "3\n",
      "4\n",
      "5\n",
      "39\n",
      "1\n",
      "2\n",
      "3\n",
      "4\n",
      "5\n",
      "40\n",
      "1\n",
      "2\n",
      "3\n",
      "4\n",
      "5\n",
      "41\n",
      "1\n",
      "2\n",
      "3\n",
      "4\n",
      "5\n",
      "42\n",
      "1\n",
      "2\n",
      "3\n",
      "4\n",
      "5\n",
      "43\n",
      "1\n",
      "2\n",
      "3\n",
      "4\n",
      "5\n",
      "44\n",
      "1\n",
      "2\n",
      "3\n",
      "4\n",
      "5\n",
      "45\n",
      "1\n",
      "2\n",
      "3\n",
      "4\n",
      "5\n",
      "46\n",
      "1\n",
      "2\n",
      "3\n",
      "4\n",
      "5\n",
      "47\n",
      "1\n",
      "2\n",
      "3\n",
      "4\n",
      "5\n",
      "48\n",
      "1\n",
      "2\n",
      "3\n",
      "4\n",
      "5\n",
      "49\n",
      "1\n",
      "2\n",
      "3\n",
      "4\n",
      "5\n",
      "50\n"
     ]
    }
   ],
   "source": [
    "α = 1.0; γ = 1e-3; ɛ = 0.5; ξ = 0.95; m = 50\n",
    "N = 50\n",
    "ϕrange = [1.0, 2.0, 5.0, 10.0,20.0]; ρrange = logspace(0,1,N);\n",
    "storeratio = zeros(length(ρrange),length(ϕrange)); i = 0; j = 0\n",
    "for ρ in ρrange\n",
    "    j = 0; i = i + 1;\n",
    "    for ϕ in ϕrange\n",
    "        j = j + 1;\n",
    "        #Calculate ϕ̄\n",
    "        ϕ̄ = ϕ*((1-ɛ)/(ɛ*ρ+(1-ɛ)))*((1-ɛ))^-2\n",
    "\n",
    "        #Solve Systems\n",
    "        tf = 10*max(ϕ,ϕ̄)^2/γ    #This is a reasonable estimate for the time our dimensionless system will take to solve, and perhaps could give clues as to a better dimensionless time\n",
    "        solLiq = try DimensionlessLinearLiq(ϕ,γ,tf,m) catch; (try DimensionlessLinearLiq(ϕ*1.001,γ,tf,m) catch; DimensionlessLinearLiq(0.999*ϕ,γ,tf,m) end) end\n",
    "        solSIP = try DimensionlessLinearSIP(ϕ̄,γ,α,tf,m) catch; (try DimensionlessLinearSIP(ϕ̄*1.001,γ,α,tf,m) catch; DimensionlessLinearSIP(0.999*ϕ̄,γ,α,tf,m) end) end\n",
    "\n",
    "        #Calculate point at which 95% of gas has been absorbed in liquid via bisection method\n",
    "        n_max_Liq = solLiq(tf)[m+2];  \n",
    "        t_min = 0.0; t_max = tf; ξ_temp = 0.0; tguess = 1.0\n",
    "        while abs(ξ_temp - ξ)/ξ > 0.001\n",
    "            tguess = (t_min+t_max)/2.0\n",
    "            ξ_temp = solLiq(tguess)[m+2]/n_max_Liq\n",
    "            if ξ_temp < ξ\n",
    "                t_min = tguess\n",
    "            else\n",
    "                t_max = tguess\n",
    "            end\n",
    "        end\n",
    "        tξ_Liq = tguess\n",
    "\n",
    "        #Calculate point at which 95% of gas has been absorbed in SIP via bisection method\n",
    "        n_max_SIP = solSIP(tf)[2m+1]\n",
    "        t_min = 0.0; t_max = tf; ξ_temp = 0.0\n",
    "        while abs(ξ_temp - ξ)/ξ > 0.001\n",
    "            tguess = (t_min+t_max)/2.0\n",
    "            ξ_temp = solSIP(tguess)[2m+1]/n_max_SIP\n",
    "            if ξ_temp < ξ\n",
    "                t_min = tguess\n",
    "            else\n",
    "                t_max = tguess\n",
    "            end\n",
    "        end\n",
    "        tξ_SIP = tguess\n",
    "        storeratio[i,j] = tξ_Liq/tξ_SIP\n",
    "        println(j)\n",
    "    end\n",
    "    println(i)\n",
    "end"
   ]
  },
  {
   "cell_type": "code",
   "execution_count": 638,
   "metadata": {
    "collapsed": false
   },
   "outputs": [
    {
     "data": {
      "text/html": [
       "<img src=\"data:image/png;base64,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\" />"
      ]
     },
     "execution_count": 638,
     "metadata": {},
     "output_type": "execute_result"
    }
   ],
   "source": [
    "plot(ρrange,[storeratio[i,1] for i in 1:N])\n",
    "for j = [2,3,4,5]\n",
    "    plot!(ρrange,[storeratio[i,j] for i in 1:N])\n",
    "end\n",
    "xaxis!(\"P_Solid/P_Liq\")\n",
    "yaxis!(\"tliq/tMECS\")"
   ]
  },
  {
   "cell_type": "code",
   "execution_count": null,
   "metadata": {
    "collapsed": true
   },
   "outputs": [],
   "source": []
  },
  {
   "cell_type": "code",
   "execution_count": null,
   "metadata": {
    "collapsed": true
   },
   "outputs": [],
   "source": []
  },
  {
   "cell_type": "code",
   "execution_count": 496,
   "metadata": {
    "collapsed": false
   },
   "outputs": [
    {
     "data": {
      "text/html": [
       "<img src=\"data:image/png;base64,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\" />"
      ]
     },
     "execution_count": 496,
     "metadata": {},
     "output_type": "execute_result"
    }
   ],
   "source": [
    "x = linspace(0,10,20)\n",
    "y = sin(x)+2\n",
    "plot(y)\n",
    "title!(\"TITLE\")\n",
    "yaxis!(\"YLABEL\",:log10)"
   ]
  },
  {
   "cell_type": "code",
   "execution_count": 610,
   "metadata": {
    "collapsed": false
   },
   "outputs": [
    {
     "data": {
      "text/plain": [
       "DiffEqBase.ODESolution{Float64,2,Array{Array{Float64,1},1},Void,Void,Array{Float64,1},Array{Array{Array{Float64,1},1},1},DiffEqBase.ODEProblem{Array{Float64,1},Float64,true,#main#17{Float64,Float64,Int64,Float64},Void,UniformScaling{Int64}},OrdinaryDiffEq.Rosenbrock23{0,true,DiffEqBase.LinSolveFactorize{Base.LinAlg.#lufact!}},OrdinaryDiffEq.InterpolationData{#main#17{Float64,Float64,Int64,Float64},Array{Array{Float64,1},1},Array{Float64,1},Array{Array{Array{Float64,1},1},1},OrdinaryDiffEq.Rosenbrock23Cache{Array{Float64,1},Array{Float64,1},Array{Float64,1},Array{ForwardDiff.Dual{10,Float64},1},Array{Float64,1},Array{Float64,2},OrdinaryDiffEq.Rosenbrock23ConstantCache{Float64,Base.#identity,Base.#identity},OrdinaryDiffEq.TimeGradientWrapper{OrdinaryDiffEq.VectorF{#main#17{Float64,Float64,Int64,Float64},Tuple{Int64}},Array{Float64,1},Array{ForwardDiff.Dual{10,Float64},1}},OrdinaryDiffEq.UJacobianWrapper{OrdinaryDiffEq.VectorFReturn{#main#17{Float64,Float64,Int64,Float64},Tuple{Int64}},Float64},DiffEqBase.LinSolveFactorize{Base.LinAlg.#lufact!},ForwardDiff.JacobianConfig{10,Float64,Tuple{Array{ForwardDiff.Dual{10,Float64},1},Array{ForwardDiff.Dual{10,Float64},1}}}}}}(Array{Float64,1}[[0.0,0.0,0.0,0.0,0.0,0.0,0.0,0.0,0.0,0.0  …  0.0,0.0,0.0,0.0,0.0,0.0,0.0,0.0,1.0,0.0],[0.0,0.0,0.0,0.0,0.0,0.0,0.0,0.0,0.0,0.0  …  4.15065e-33,5.948e-29,8.36859e-25,1.14881e-20,1.52324e-16,1.91606e-12,2.20344e-8,0.000209918,1.0,3.11783e-6],[2.86558e-322,2.29849e-319,3.70491e-316,5.97134e-313,9.62323e-310,1.55069e-306,2.4985e-303,4.0252e-300,6.48406e-297,1.04437e-293  …  5.5508e-25,7.9175e-22,1.10672e-18,1.50499e-15,1.96694e-12,2.41575e-9,2.65708e-6,0.00230408,1.0,3.42482e-5],[8.15876e-274,2.19924e-271,1.18551e-268,6.38985e-266,3.44375e-263,1.85577e-260,9.99933e-258,5.38725e-255,2.90211e-252,1.56318e-249  …  8.05795e-21,3.75978e-18,1.70608e-15,7.44259e-13,3.06138e-10,1.14665e-7,3.65292e-5,0.00852714,1.0,0.000127044],[1.06097e-267,2.61805e-265,1.29183e-262,6.37322e-260,3.14365e-257,1.55035e-254,7.64444e-252,3.76857e-249,1.85746e-246,9.15327e-244  …  2.81156e-19,9.76312e-17,3.19768e-14,9.69748e-12,2.64799e-9,6.22684e-7,0.000116899,0.0152158,1.0,0.00022727],[1.19913e-239,1.52749e-237,3.89098e-235,9.91053e-233,2.52397e-230,6.42719e-228,1.63646e-225,4.16616e-223,1.0605e-220,2.69918e-218  …  3.30322e-17,6.45171e-15,1.18601e-12,2.00907e-10,3.04027e-8,3.92004e-6,0.000398986,0.0279894,1.0,0.000420121],[1.31895e-233,1.53479e-231,3.57113e-229,8.30785e-227,1.93236e-224,4.49367e-222,1.04478e-219,2.42862e-217,5.64417e-215,1.31143e-212  …  5.90011e-16,8.55854e-14,1.14635e-11,1.38644e-9,1.46683e-7,1.29553e-5,0.000887789,0.0415472,1.0,0.000626966],[1.12478e-214,8.34182e-213,1.23706e-210,1.83437e-208,2.71974e-206,4.03192e-204,5.97639e-202,8.8574e-200,1.31254e-197,1.94472e-195  …  1.54637e-14,1.50943e-12,1.35518e-10,1.0934e-8,7.67642e-7,4.47624e-5,0.00201804,0.0621817,1.0,0.000946264],[2.40782e-207,1.56448e-205,2.03247e-203,2.64016e-201,3.42895e-199,4.4526e-197,5.78079e-195,7.50376e-193,9.73838e-191,1.2636e-188  …  1.82881e-13,1.34368e-11,8.99372e-10,5.35847e-8,2.75315e-6,0.000116587,0.0037979,0.0845997,1.0,0.00129973],[1.97933e-193,9.28119e-192,8.70087e-190,8.15663e-188,7.64535e-186,7.16509e-184,6.71399e-182,6.29034e-180,5.8925e-178,5.51894e-176  …  2.31296e-12,1.24365e-10,6.07117e-9,2.62908e-7,9.78668e-6,0.00029956,0.0070512,0.114008,1.0,0.00177471]  …  [0.994527,0.994528,0.994529,0.994532,0.994536,0.994541,0.994548,0.994555,0.994564,0.994573  …  0.999211,0.999307,0.999404,0.999501,0.999599,0.999698,0.999798,0.999899,1.01516e-5,984.586],[0.998277,0.998277,0.998278,0.998279,0.99828,0.998282,0.998284,0.998286,0.998289,0.998292  …  0.999752,0.999782,0.999812,0.999843,0.999874,0.999905,0.999937,0.999968,3.17888e-6,984.596],[0.999741,0.999741,0.999742,0.999742,0.999742,0.999742,0.999742,0.999743,0.999743,0.999744  …  0.999963,0.999967,0.999972,0.999976,0.999981,0.999986,0.99999,0.999995,4.75881e-7,984.599],[0.999996,0.999996,0.999996,0.999996,0.999996,0.999996,0.999996,0.999996,0.999996,0.999996  …  0.999999,1.0,1.0,1.0,1.0,1.0,1.0,1.0,6.71222e-9,984.6],[1.0,1.0,1.0,1.0,1.0,1.0,1.0,1.0,1.0,1.0  …  1.0,1.0,1.0,1.0,1.0,1.0,1.0,1.0,-1.13919e-9,984.6],[1.0,1.0,1.0,1.0,1.0,1.0,1.0,1.0,1.0,1.0  …  1.0,1.0,1.0,1.0,1.0,1.0,1.0,1.0,1.60722e-10,984.6],[1.0,1.0,1.0,1.0,1.0,1.0,1.0,1.0,1.0,1.0  …  1.0,1.0,1.0,1.0,1.0,1.0,1.0,1.0,-9.29647e-12,984.6],[1.0,1.0,1.0,1.0,1.0,1.0,1.0,1.0,1.0,1.0  …  1.0,1.0,1.0,1.0,1.0,1.0,1.0,1.0,1.16709e-13,984.6],[1.0,1.0,1.0,1.0,1.0,1.0,1.0,1.0,1.0,1.0  …  1.0,1.0,1.0,1.0,1.0,1.0,1.0,1.0,-1.54935e-16,984.6],[1.0,1.0,1.0,1.0,1.0,1.0,1.0,1.0,1.0,1.0  …  1.0,1.0,1.0,1.0,1.0,1.0,1.0,1.0,2.89545e-20,984.6]],nothing,nothing,[0.0,1.54348e-5,0.000169783,0.000632441,0.00113651,0.00211933,0.00319273,0.00488983,0.00682725,0.00953192  …  58189.6,59287.7,60915.4,63234.1,68000.9,91360.8,1.65117e5,5.40395e5,4.16828e6,2.99958e7],Array{Array{Float64,1},1}[Array{Float64,1}[[0.0,0.0,0.0,0.0,0.0,0.0,0.0,0.0,0.0,0.0  …  0.0,0.0,0.0,0.0,0.0,0.0,0.0,0.0,0.0,0.0]],Array{Float64,1}[[0.0,0.0,0.0,0.0,0.0,0.0,0.0,0.0,0.0,0.0  …  4.52033e-29,7.35144e-25,1.19557e-20,1.94436e-16,3.16213e-12,5.1426e-8,0.000836344,13.6015,-4.9511e-6,0.202012],[0.0,0.0,0.0,0.0,0.0,0.0,0.0,0.0,0.0,0.0  …  2.68915e-28,3.85363e-24,5.4219e-20,7.44298e-16,9.86888e-12,1.24139e-7,0.00142758,13.6003,-4.95153e-6,0.202]],Array{Float64,1}[[2.58841e-320,2.10722e-317,3.43092e-314,5.58613e-311,9.09518e-308,1.48085e-304,2.41108e-301,3.92566e-298,6.39165e-295,1.04067e-291  …  6.31172e-22,1.02766e-18,1.67318e-15,2.72397e-12,4.43173e-9,7.17324e-6,0.011192,13.58,-4.95866e-6,0.201807],[1.84754e-318,1.48915e-315,2.40036e-312,3.86875e-309,6.23476e-306,1.00467e-302,1.61875e-299,2.60788e-296,4.20093e-293,6.76635e-290  …  3.59629e-21,5.12965e-18,7.17032e-15,9.75057e-12,1.27425e-8,1.56389e-5,0.0170721,13.5678,-4.96296e-6,0.20169]],Array{Float64,1}[[2.50405e-272,6.81801e-270,3.71278e-267,2.02182e-264,1.10099e-261,5.99552e-259,3.26489e-256,1.77792e-253,9.68176e-251,5.27226e-248  …  3.53813e-18,1.92087e-15,1.03787e-12,5.54088e-10,2.8724e-7,0.000138621,0.0559159,13.4869,-4.9915e-6,0.200916],[1.76345e-270,4.75348e-268,2.56238e-265,1.38111e-262,7.44339e-260,4.01111e-257,2.16127e-254,1.16441e-251,6.27267e-249,3.37868e-246  …  1.74154e-17,8.12475e-15,3.68515e-12,1.6054e-9,6.57442e-7,0.000242617,0.0732118,13.4506,-5.00433e-6,0.20057]],Array{Float64,1}[[3.86729e-266,9.66653e-264,4.83232e-261,2.41567e-258,1.20757e-255,6.03646e-253,3.01748e-250,1.50834e-247,7.53955e-245,3.76862e-242  …  2.19361e-16,8.43247e-14,3.06583e-11,1.03116e-8,3.09255e-6,0.000773869,0.141109,13.3081,-5.05495e-6,0.199206],[2.1048e-264,5.1938e-262,2.56279e-259,1.26435e-256,6.23652e-254,3.07566e-251,1.51654e-248,7.47625e-246,3.68492e-243,1.81587e-240  …  5.41784e-16,1.86226e-13,6.00526e-11,1.77618e-8,4.64588e-6,0.00100783,0.159441,13.2693,-5.06882e-6,0.198835]],Array{Float64,1}[[1.81074e-238,2.33084e-236,6.00048e-234,1.54478e-231,3.97691e-229,1.02382e-226,2.63575e-224,6.78555e-222,1.74689e-219,4.49722e-217  …  1.11585e-14,2.53552e-12,5.42367e-10,1.0617e-7,1.82033e-5,0.00254217,0.252835,13.0705,-5.14029e-6,0.196929],[1.22009e-236,1.55419e-234,3.959e-232,1.00838e-229,2.5681e-227,6.53955e-225,1.66507e-222,4.23899e-220,1.07904e-217,2.74637e-215  …  3.33235e-14,6.46515e-12,1.17421e-9,1.94552e-7,2.82399e-5,0.003355,0.287019,12.9969,-5.16704e-6,0.196222]],Array{Float64,1}[[2.35372e-232,2.7757e-230,6.54633e-228,1.54392e-225,3.6412e-223,8.5873e-221,2.02517e-218,4.77591e-216,1.12627e-213,2.65594e-211  …  2.58456e-13,4.06634e-11,5.86213e-9,7.51583e-7,8.19079e-5,0.00705225,0.4202,12.7083,-5.2725e-6,0.193448],[1.22876e-230,1.42985e-228,3.32694e-226,7.73978e-224,1.80023e-221,4.1864e-219,9.73342e-217,2.26256e-214,5.25824e-212,1.22176e-209  …  5.18894e-13,7.37228e-11,9.57478e-9,1.10447e-6,0.000108329,0.00841746,0.45538,12.6307,-5.30128e-6,0.192701]],Array{Float64,1}[[1.03687e-213,7.77463e-212,1.16581e-209,1.74822e-207,2.62158e-205,3.93124e-203,5.89518e-201,8.84025e-199,1.32566e-196,1.98792e-194  …  4.06908e-12,4.40454e-10,4.33418e-8,3.75768e-6,0.000274139,0.0156529,0.614801,12.2755,-5.43429e-6,0.189274],[6.62765e-212,4.91533e-210,7.28925e-208,1.08088e-205,1.60258e-203,2.37577e-201,3.52152e-199,5.21913e-197,7.73401e-195,1.14591e-192  …  8.76414e-12,8.38986e-10,7.30981e-8,5.62581e-6,0.000365894,0.018742,0.665987,12.1587,-5.4789e-6,0.188143]],Array{Float64,1}[[2.26465e-206,1.49034e-204,1.96133e-202,2.58131e-200,3.39726e-198,4.47112e-196,5.88441e-194,7.74442e-192,1.01923e-189,1.3414e-187  …  4.86172e-11,3.79465e-9,2.66072e-7,1.62406e-5,0.000824251,0.0323746,0.866232,11.6963,-5.65735e-6,0.18366],[1.2428e-204,8.07508e-203,1.04906e-200,1.36272e-198,1.76985e-196,2.29821e-194,2.98375e-192,3.87306e-190,5.02646e-188,6.52204e-186  …  8.64122e-11,6.15631e-9,3.94262e-7,2.20141e-5,0.00102482,0.0370721,0.918678,11.571,-5.70701e-6,0.18244]],Array{Float64,1}[[1.21487e-192,5.76276e-191,5.46595e-189,5.185e-187,4.9185e-185,4.66569e-183,4.42587e-181,4.19839e-179,3.98259e-177,3.77789e-175  …  4.39822e-10,2.52331e-8,1.29307e-6,5.73436e-5,0.00210263,0.0593867,1.13938,11.0344,-5.92287e-6,0.177202],[7.31819e-191,3.43155e-189,3.21698e-187,3.01576e-185,2.82673e-183,2.64916e-181,2.48237e-179,2.32574e-177,2.17864e-175,2.04053e-173  …  7.87559e-10,4.10136e-8,1.91218e-6,7.73933e-5,0.00260052,0.067651,1.20284,10.873,-5.99003e-6,0.175618]]  …  Array{Float64,1}[[1.14778e-5,1.14766e-5,1.1473e-5,1.14671e-5,1.14588e-5,1.1448e-5,1.14349e-5,1.14195e-5,1.14016e-5,1.13814e-5  …  1.66129e-6,1.45953e-6,1.25606e-6,1.05089e-6,8.44033e-7,6.35501e-7,4.25308e-7,2.1347e-7,-2.20038e-8,2.9568e-5],[9.71687e-6,9.71586e-6,9.71283e-6,9.70779e-6,9.70073e-6,9.69165e-6,9.68055e-6,9.66744e-6,9.65232e-6,9.63518e-6  …  1.40531e-6,1.23462e-6,1.06249e-6,8.88918e-7,7.1393e-7,5.37531e-7,3.59736e-7,1.80555e-7,-1.85149e-8,2.49174e-5]],Array{Float64,1}[[4.11576e-6,4.11533e-6,4.11405e-6,4.1119e-6,4.1089e-6,4.10504e-6,4.10032e-6,4.09475e-6,4.08832e-6,4.08103e-6  …  5.93352e-7,5.21249e-7,4.48545e-7,3.75246e-7,3.01356e-7,2.26882e-7,1.51827e-7,7.6198e-8,-7.667e-9,1.03769e-5],[3.41526e-6,3.4149e-6,3.41383e-6,3.41205e-6,3.40956e-6,3.40636e-6,3.40244e-6,3.39782e-6,3.39248e-6,3.38643e-6  …  4.92276e-7,4.32454e-7,3.72133e-7,3.11319e-7,2.50016e-7,1.88228e-7,1.2596e-7,6.32155e-8,-6.35019e-9,8.59874e-6]],Array{Float64,1}[[1.16438e-6,1.16425e-6,1.16389e-6,1.16328e-6,1.16243e-6,1.16134e-6,1.16e-6,1.15842e-6,1.1566e-6,1.15454e-6  …  1.67699e-7,1.47317e-7,1.26766e-7,1.06048e-7,8.51643e-8,6.4116e-8,4.29048e-8,2.15323e-8,-2.15172e-9,2.91819e-6],[8.99559e-7,8.99466e-7,8.99184e-7,8.98715e-7,8.98058e-7,8.97213e-7,8.96181e-7,8.94961e-7,8.93554e-7,8.9196e-7  …  1.29542e-7,1.13798e-7,9.79227e-8,8.19184e-8,6.57861e-8,4.95269e-8,3.3142e-8,1.66327e-8,-1.66053e-9,2.25266e-6]],Array{Float64,1}[[1.53947e-7,1.53931e-7,1.53883e-7,1.53803e-7,1.5369e-7,1.53546e-7,1.53369e-7,1.5316e-7,1.52919e-7,1.52646e-7  …  2.21602e-8,1.94667e-8,1.67509e-8,1.4013e-8,1.12533e-8,8.47198e-9,5.66917e-9,2.8451e-9,-2.83403e-10,3.84728e-7],[1.09937e-7,1.09925e-7,1.09891e-7,1.09833e-7,1.09753e-7,1.0965e-7,1.09523e-7,1.09374e-7,1.09202e-7,1.09007e-7  …  1.58251e-8,1.39016e-8,1.19622e-8,1.0007e-8,8.03627e-9,6.05003e-9,4.04848e-9,2.03175e-9,-2.02347e-10,2.74705e-7]],Array{Float64,1}[[1.51466e-9,1.51451e-9,1.51403e-9,1.51324e-9,1.51214e-9,1.51072e-9,1.50898e-9,1.50693e-9,1.50456e-9,1.50187e-9  …  2.18183e-10,1.91666e-10,1.64929e-10,1.37974e-10,1.10803e-10,8.34185e-11,5.58216e-11,2.80148e-11,-2.80123e-12,3.79833e-9],[8.91902e-10,8.91809e-10,8.9153e-10,8.91064e-10,8.90413e-10,8.89576e-10,8.88553e-10,8.87344e-10,8.85949e-10,8.84368e-10  …  1.2845e-10,1.12838e-10,9.70972e-11,8.1228e-11,6.52317e-11,4.91096e-11,3.28628e-11,1.64925e-11,-1.6471e-12,2.2342e-9]],Array{Float64,1}[[-7.86286e-11,-7.86204e-11,-7.85958e-11,-7.85547e-11,-7.84973e-11,-7.84235e-11,-7.83333e-11,-7.82267e-11,-7.81038e-11,-7.79645e-11  …  -1.13246e-11,-9.94826e-12,-8.56047e-12,-7.16139e-12,-5.7511e-12,-4.32971e-12,-2.89733e-12,-1.45406e-12,1.45269e-13,-1.97028e-10],[-3.01387e-11,-3.01355e-11,-3.01261e-11,-3.01104e-11,-3.00884e-11,-3.00601e-11,-3.00255e-11,-2.99847e-11,-2.99375e-11,-2.98841e-11  …  -4.34041e-12,-3.81287e-12,-3.28097e-12,-2.74474e-12,-2.20421e-12,-1.65944e-12,-1.11045e-12,-5.57291e-13,5.56474e-14,-7.54863e-11]],Array{Float64,1}[[3.85839e-12,3.85799e-12,3.85678e-12,3.85477e-12,3.85195e-12,3.84832e-12,3.8439e-12,3.83866e-12,3.83263e-12,3.82579e-12  …  5.55519e-13,4.87998e-13,4.1992e-13,3.51287e-13,2.82106e-13,2.12382e-13,1.42119e-13,7.13237e-14,-7.11069e-15,9.65034e-12],[1.25093e-12,1.2508e-12,1.25041e-12,1.24975e-12,1.24884e-12,1.24766e-12,1.24623e-12,1.24453e-12,1.24258e-12,1.24036e-12  …  1.80102e-13,1.58212e-13,1.3614e-13,1.13889e-13,9.14602e-14,6.88552e-14,4.60758e-14,2.31234e-14,-2.30512e-15,3.1285e-12]],Array{Float64,1}[[-4.55267e-14,-4.55219e-14,-4.55077e-14,-4.54839e-14,-4.54506e-14,-4.54079e-14,-4.53556e-14,-4.52939e-14,-4.52226e-14,-4.51419e-14  …  -6.55386e-15,-5.75725e-15,-4.95406e-15,-4.14435e-15,-3.32817e-15,-2.50559e-15,-1.67665e-15,-8.41436e-16,8.38153e-17,-1.13781e-13],[-1.36248e-14,-1.36234e-14,-1.36191e-14,-1.3612e-14,-1.3602e-14,-1.35892e-14,-1.35736e-14,-1.35551e-14,-1.35338e-14,-1.35096e-14  …  -1.96137e-15,-1.72297e-15,-1.4826e-15,-1.24028e-15,-9.96022e-16,-7.49848e-16,-5.01771e-16,-2.51817e-16,2.50833e-17,-3.4051e-14]],Array{Float64,1}[[5.96233e-17,5.96174e-17,5.95986e-17,5.95675e-17,5.95237e-17,5.9468e-17,5.93995e-17,5.93184e-17,5.92251e-17,5.91193e-17  …  8.58286e-18,7.53974e-18,6.48774e-18,5.4274e-18,4.3586e-18,3.28135e-18,2.19564e-18,1.10199e-18,-1.09731e-19,1.48975e-16],[1.7503e-17,1.75012e-17,1.74956e-17,1.74864e-17,1.74736e-17,1.74574e-17,1.74372e-17,1.74134e-17,1.73859e-17,1.7355e-17  …  2.51961e-18,2.21339e-18,1.90456e-18,1.59324e-18,1.27953e-18,9.63207e-19,6.44497e-19,3.23497e-19,-3.22126e-20,4.37327e-17]],Array{Float64,1}[[-1.11526e-20,-1.11526e-20,-1.10939e-20,-1.10645e-20,-1.10939e-20,-1.11526e-20,-1.10939e-20,-1.10645e-20,-1.10058e-20,-1.10645e-20  …  -1.61419e-21,-1.4381e-21,-1.23266e-21,-9.9786e-22,-8.21769e-22,-5.86974e-22,-3.81532e-22,-2.05442e-22,2.04786e-23,-2.78023e-20],[-3.27093e-21,-3.27093e-21,-3.25625e-21,-3.24158e-21,-3.25626e-21,-3.27093e-21,-3.25626e-21,-3.24159e-21,-3.22691e-21,-3.24159e-21  …  -4.6937e-22,-4.25374e-22,-3.66702e-22,-2.93354e-22,-2.34683e-22,-1.76012e-22,-1.17341e-22,-5.86703e-23,5.99995e-24,-8.14573e-21]]],DiffEqBase.ODEProblem{Array{Float64,1},Float64,true,#main#17{Float64,Float64,Int64,Float64},Void,UniformScaling{Int64}}(main,[0.0,0.0,0.0,0.0,0.0,0.0,0.0,0.0,0.0,0.0  …  0.0,0.0,0.0,0.0,0.0,0.0,0.0,0.0,1.0,0.0],(0.0,2.999576837329823e7),nothing,UniformScaling{Int64}\n",
       "1*I),OrdinaryDiffEq.Rosenbrock23{0,true,DiffEqBase.LinSolveFactorize{Base.LinAlg.#lufact!}}(DiffEqBase.LinSolveFactorize{Base.LinAlg.#lufact!}(lufact!,Base.LinAlg.LU{Float64,Array{Float64,2}}([2.05809e8 -2.05809e8 … 7.5647e6 0.0; -0.5 1.02904e8 … 1.1347e7 0.0; … ; 0.0 0.0 … -7.56445e6 1.0; -2.81919e-23 -1.69151e-22 … -0.00100017 0.00100017],[1,2,3,4,5,6,7,8,9,10  …  94,95,96,97,98,99,100,101,103,103],0)),:central),OrdinaryDiffEq.InterpolationData,true,0,:Success)"
      ]
     },
     "execution_count": 610,
     "metadata": {},
     "output_type": "execute_result"
    }
   ],
   "source": [
    "aa = try DimensionlessLinearLiq(ϕ,γ,tf,m) catch; DimensionlessLinearLiq(ϕ,γ,tf,m+1) end"
   ]
  },
  {
   "cell_type": "code",
   "execution_count": 621,
   "metadata": {
    "collapsed": false
   },
   "outputs": [
    {
     "ename": "LoadError",
     "evalue": "Something went wrong. Integrator stepped past tstops but the algorithm was dtchangeable. Please report this error.",
     "output_type": "error",
     "traceback": [
      "Something went wrong. Integrator stepped past tstops but the algorithm was dtchangeable. Please report this error.",
      "",
      " in handle_tstop! at /Users/thomasmoore/.julia/v0.5/OrdinaryDiffEq/src/integrators/integrator_utils.jl:309 [inlined]",
      " in solve!(::OrdinaryDiffEq.ODEIntegrator{OrdinaryDiffEq.Rosenbrock23{0,true,DiffEqBase.LinSolveFactorize{Base.LinAlg.#lufact!}},Array{Float64,1},Float64,Float64,Float64,Array{Array{Float64,1},1},DiffEqBase.ODESolution{Float64,2,Array{Array{Float64,1},1},Void,Void,Array{Float64,1},Array{Array{Array{Float64,1},1},1},DiffEqBase.ODEProblem{Array{Float64,1},Float64,true,#main#17{Float64,Float64,Int64,Float64},Void,UniformScaling{Int64}},OrdinaryDiffEq.Rosenbrock23{0,true,DiffEqBase.LinSolveFactorize{Base.LinAlg.#lufact!}},OrdinaryDiffEq.InterpolationData{#main#17{Float64,Float64,Int64,Float64},Array{Array{Float64,1},1},Array{Float64,1},Array{Array{Array{Float64,1},1},1},OrdinaryDiffEq.Rosenbrock23Cache{Array{Float64,1},Array{Float64,1},Array{Float64,1},Array{ForwardDiff.Dual{10,Float64},1},Array{Float64,1},Array{Float64,2},OrdinaryDiffEq.Rosenbrock23ConstantCache{Float64,Base.#identity,Base.#identity},OrdinaryDiffEq.TimeGradientWrapper{OrdinaryDiffEq.VectorF{#main#17{Float64,Float64,Int64,Float64},Tuple{Int64}},Array{Float64,1},Array{ForwardDiff.Dual{10,Float64},1}},OrdinaryDiffEq.UJacobianWrapper{OrdinaryDiffEq.VectorFReturn{#main#17{Float64,Float64,Int64,Float64},Tuple{Int64}},Float64},DiffEqBase.LinSolveFactorize{Base.LinAlg.#lufact!},ForwardDiff.JacobianConfig{10,Float64,Tuple{Array{ForwardDiff.Dual{10,Float64},1},Array{ForwardDiff.Dual{10,Float64},1}}}}}},Array{Float64,1},#main#17{Float64,Float64,Int64,Float64},Void,OrdinaryDiffEq.Rosenbrock23Cache{Array{Float64,1},Array{Float64,1},Array{Float64,1},Array{ForwardDiff.Dual{10,Float64},1},Array{Float64,1},Array{Float64,2},OrdinaryDiffEq.Rosenbrock23ConstantCache{Float64,Base.#identity,Base.#identity},OrdinaryDiffEq.TimeGradientWrapper{OrdinaryDiffEq.VectorF{#main#17{Float64,Float64,Int64,Float64},Tuple{Int64}},Array{Float64,1},Array{ForwardDiff.Dual{10,Float64},1}},OrdinaryDiffEq.UJacobianWrapper{OrdinaryDiffEq.VectorFReturn{#main#17{Float64,Float64,Int64,Float64},Tuple{Int64}},Float64},DiffEqBase.LinSolveFactorize{Base.LinAlg.#lufact!},ForwardDiff.JacobianConfig{10,Float64,Tuple{Array{ForwardDiff.Dual{10,Float64},1},Array{ForwardDiff.Dual{10,Float64},1}}}},OrdinaryDiffEq.DEOptions{Float64,Float64,Float64,Float64,DiffEqBase.#ODE_DEFAULT_NORM,DiffEqBase.CallbackSet{Tuple{},Tuple{}},DiffEqBase.#ODE_DEFAULT_ISOUTOFDOMAIN,DiffEqBase.#ODE_DEFAULT_PROG_MESSAGE,DiffEqBase.#ODE_DEFAULT_UNSTABLE_CHECK,DataStructures.BinaryHeap{Float64,DataStructures.LessThan},Void,Void}}) at /Users/thomasmoore/.julia/v0.5/OrdinaryDiffEq/src/solve.jl:314",
      " in #solve#83(::Array{Any,1}, ::Function, ::DiffEqBase.ODEProblem{Array{Float64,1},Float64,true,#main#17{Float64,Float64,Int64,Float64},Void,UniformScaling{Int64}}, ::OrdinaryDiffEq.Rosenbrock23{0,true,DiffEqBase.LinSolveFactorize{Base.LinAlg.#lufact!}}, ::Array{Any,1}, ::Array{Any,1}, ::Array{Any,1}, ::Type{Val{true}}) at /Users/thomasmoore/.julia/v0.5/OrdinaryDiffEq/src/solve.jl:7",
      " in solve(::DiffEqBase.ODEProblem{Array{Float64,1},Float64,true,#main#17{Float64,Float64,Int64,Float64},Void,UniformScaling{Int64}}, ::OrdinaryDiffEq.Rosenbrock23{0,true,DiffEqBase.LinSolveFactorize{Base.LinAlg.#lufact!}}) at /Users/thomasmoore/.julia/v0.5/OrdinaryDiffEq/src/solve.jl:6",
      " in DimensionlessLinearLiq(::Float64, ::Float64, ::Float64, ::Int64) at ./In[130]:91"
     ]
    }
   ],
   "source": [
    "DimensionlessLinearLiq(ϕ,γ,tf,m)"
   ]
  },
  {
   "cell_type": "code",
   "execution_count": null,
   "metadata": {
    "collapsed": true
   },
   "outputs": [],
   "source": []
  },
  {
   "cell_type": "code",
   "execution_count": null,
   "metadata": {
    "collapsed": true
   },
   "outputs": [],
   "source": []
  },
  {
   "cell_type": "markdown",
   "metadata": {},
   "source": [
    "## Testing Dimensionless Equations"
   ]
  },
  {
   "cell_type": "markdown",
   "metadata": {},
   "source": [
    "### alpha makes no difference"
   ]
  },
  {
   "cell_type": "code",
   "execution_count": 134,
   "metadata": {
    "collapsed": false
   },
   "outputs": [
    {
     "name": "stdout",
     "output_type": "stream",
     "text": [
      "  0.385264 seconds (274.85 k allocations: 37.539 MB, 1.27% gc time)\n"
     ]
    }
   ],
   "source": [
    "ϕ̄ = 17.0; γ = 0.001; α = 1; tf = 1e6; m = 50;\n",
    "@time sol1 = DimensionlessLinearSIP(ϕ̄,γ,α,tf,m);\n",
    "sol2 = DimensionlessLinearSIP(ϕ̄,γ,2α,tf,m);\n",
    "sol3 = DimensionlessLinearSIP(ϕ̄,γ,5α,tf,m);\n",
    "sol4 = DimensionlessLinearSIP(ϕ̄,γ,0.5α,tf,m);\n",
    "sol5 = DimensionlessLinearSIP(ϕ̄,γ,0.2α,tf,m);"
   ]
  },
  {
   "cell_type": "code",
   "execution_count": 135,
   "metadata": {
    "collapsed": false
   },
   "outputs": [
    {
     "data": {
      "text/html": [
       "<img src=\"data:image/png;base64,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\" />"
      ]
     },
     "execution_count": 135,
     "metadata": {},
     "output_type": "execute_result"
    }
   ],
   "source": [
    " plot(sol1(17000.0)[m+1:2m])\n",
    "plot!(sol2(17000.0)[m+1:2m])\n",
    "plot!(sol3(17000.0)[m+1:2m])\n",
    "plot!(sol4(17000.0)[m+1:2m])\n",
    "plot!(sol5(17000.0)[m+1:2m])"
   ]
  },
  {
   "cell_type": "code",
   "execution_count": 136,
   "metadata": {
    "collapsed": false
   },
   "outputs": [
    {
     "data": {
      "text/html": [
       "<img src=\"data:image/png;base64,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\" />"
      ]
     },
     "execution_count": 136,
     "metadata": {},
     "output_type": "execute_result"
    }
   ],
   "source": [
    "plot(sol1(1000.0)[1:m])\n",
    "plot!(sol2(1000.0)[1:m])\n",
    "plot!(sol3(1000.0)[1:m])\n",
    "plot!(sol4(1000.0)[1:m])\n",
    "plot!(sol5(1000.0)[1:m])"
   ]
  },
  {
   "cell_type": "code",
   "execution_count": null,
   "metadata": {
    "collapsed": true
   },
   "outputs": [],
   "source": []
  },
  {
   "cell_type": "code",
   "execution_count": 292,
   "metadata": {
    "collapsed": false
   },
   "outputs": [
    {
     "name": "stdout",
     "output_type": "stream",
     "text": [
      "  0.121696 seconds (68.36 k allocations: 8.870 MB, 3.39% gc time)\n",
      "  0.213123 seconds (140.23 k allocations: 19.236 MB, 1.44% gc time)\n"
     ]
    }
   ],
   "source": [
    "ϕ = .0010; ϕ̄ = ϕ/3; α = 1.0; γ = 0.001; α = 1; tf = 1e9; m = 50;\n",
    "@time lsol1 = DimensionlessLinearLiq(ϕ,γ,tf,m);\n",
    "@time sol1  = DimensionlessLinearSIP(ϕ̄,γ,α,tf,m);"
   ]
  },
  {
   "cell_type": "code",
   "execution_count": 293,
   "metadata": {
    "collapsed": false
   },
   "outputs": [
    {
     "data": {
      "text/html": [
       "<img src=\"data:image/png;base64,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\" />"
      ]
     },
     "execution_count": 293,
     "metadata": {},
     "output_type": "execute_result"
    }
   ],
   "source": [
    "plot(lsol1(10*max(ϕ̄,ϕ)^2/(γ))[1:m])\n",
    "plot!(sol1(10*max(ϕ̄,ϕ)^2/(γ))[1:m])\n",
    "plot!(sol1(10*max(ϕ̄,ϕ)^2/(γ))[m+1:2m])"
   ]
  },
  {
   "cell_type": "code",
   "execution_count": 278,
   "metadata": {
    "collapsed": false
   },
   "outputs": [
    {
     "data": {
      "text/html": [
       "11111.111111111113"
      ],
      "text/plain": [
       "11111.111111111113"
      ]
     },
     "execution_count": 278,
     "metadata": {},
     "output_type": "execute_result"
    }
   ],
   "source": [
    "ϕ̄^2/(γ)"
   ]
  },
  {
   "cell_type": "code",
   "execution_count": 242,
   "metadata": {
    "collapsed": false
   },
   "outputs": [
    {
     "data": {
      "text/html": [
       "0.001"
      ],
      "text/plain": [
       "0.001"
      ]
     },
     "execution_count": 242,
     "metadata": {},
     "output_type": "execute_result"
    }
   ],
   "source": [
    "γ"
   ]
  },
  {
   "cell_type": "code",
   "execution_count": null,
   "metadata": {
    "collapsed": true
   },
   "outputs": [],
   "source": []
  }
 ],
 "metadata": {
  "kernelspec": {
   "display_name": "Julia 0.5.1",
   "language": "julia",
   "name": "julia-0.5"
  },
  "language_info": {
   "file_extension": ".jl",
   "mimetype": "application/julia",
   "name": "julia",
   "version": "0.5.1"
  }
 },
 "nbformat": 4,
 "nbformat_minor": 2
}
