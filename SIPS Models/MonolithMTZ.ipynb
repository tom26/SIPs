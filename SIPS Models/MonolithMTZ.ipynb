{
 "cells": [
  {
   "cell_type": "markdown",
   "metadata": {},
   "source": [
    "# The Length of an MTZ Monlith"
   ]
  },
  {
   "cell_type": "markdown",
   "metadata": {},
   "source": [
    "The math here is described in some depth from page 19 of my notebook. We are assuming constant-pattern behaviour, which means we can modify the code in SIPS Model.jl by simply replacing $p(t)$ (the external gas partial pressure) with the function:\n",
    "\n",
    "$$\n",
    "p = \\frac{p_0}{\\bar{q}_0}\\frac{1}{\\delta}\\int_{0}^{\\delta} q(x) dx = \\frac{p_0}{\\bar{q}_0}\\frac{N}{\\delta}\n",
    "$$\n",
    "\n",
    "Here $p$ is the gas phase concentration of adsorbed gas (and $p_0$ is the inlet concentration), $\\bar{q}$ is the mean gas concentration inside the emsulion (and $\\bar{q}_0$ is the value at equilibrium with $p_0$ - see below.) $\\delta$ is the thickness of the wall on the inside of the emulsion. Apart from the function $g(\\cdot)$ and the specification of $p_0$, we need not add anything else to our model. However, we must be careful to make sure that our *reaction* model inside our particles, as described by $f(\\cdot)$, is consistent with our choice of $\\bar{q}_0$ for a given value of $p_0$. The simplest way to do this will be to call the time-dependent solution, LinearSIP, with all of the same parameters and $p(t)=p_0$, and then find $\\bar{q}_0$ from the solution at large $t_f$. You may realise this means we don't explicitly need the VLE data: instead it must be contained in the function $f$, which relates reaction rate to solid loading and partial pressure (well, $c$, but they're related via Henry's constant.) The simplest way to do this would be to make $f$ a reversible reaction, but for more complex systems (e.g. buffer systems) more subtle measures may be necessary. To start, I will consider the simplest system, in which the reaction is irreversible. We then have $\\bar{q}_0=\\text{Constant}$: an *extremely* favourable isotherm, which looks like a step function."
   ]
  },
  {
   "cell_type": "code",
   "execution_count": 5,
   "metadata": {
    "collapsed": false
   },
   "outputs": [
    {
     "name": "stderr",
     "output_type": "stream",
     "text": [
      "sys:1: MatplotlibDeprecationWarning: The set_axis_bgcolor function was deprecated in version 2.0. Use set_facecolor instead.\n",
      "WARNING: Method definition LinearSIP(Any, Any, Any, Any, Any, Any, Any, Any, Any, Any, Any, Any, Any) in module Main at In[1]:19 overwritten at In[5]:19.\n",
      "WARNING: Method definition MonolithMTZintime(Any, Any, Any, Any, Any, Any, Any, Any, Any, Any, Any, Any) in module Main at In[1]:76 overwritten at In[5]:76.\n"
     ]
    },
    {
     "data": {
      "text/plain": [
       "MonolithMTZintime (generic function with 1 method)"
      ]
     },
     "execution_count": 5,
     "metadata": {},
     "output_type": "execute_result"
    }
   ],
   "source": [
    "using DifferentialEquations\n",
    "using Plots\n",
    "\n",
    "#Function to model the absorption of gas into SIP material in linear coordinates via MOL approach.\n",
    "#Discussed on p. 8 of workbook.\n",
    "#Inputs: f - function for rate of change in reactive species concentration. \n",
    "#L - length of domain, m\n",
    "#tf - end time of simulation, s. \n",
    "#p - partial pressure of gas above SIP (this must be a function of time.), Pa.\n",
    "#c0 and w0 - initial CO2 and reactant concentration\n",
    "#k2 - second order rate constant, m3/mol.s\n",
    "#Ss and Sl - solubility of gas in solid and liquid phases, respectively, mol/m3.Pa\n",
    "#Ds and Dl - diffusivity of gas in solid and liquid phases, respectively, m2/s\n",
    "#ɛ - The solid fraction inside the particle.\n",
    "#m - The number of mesh points.\n",
    "function LinearSIP(f,L,tf,p,c0,w0,k2,Ss,Sl,Ds,Dl,ɛ,m)\n",
    "    \n",
    "    #Pertinent Mesh Values\n",
    "    h = L/m         #Distance between neighbouring grid points\n",
    "    \n",
    "    #Generic Ddash and kdash parameters\n",
    "    Ddash = (Ds*ɛ+Dl*(1-ɛ)*Sl/Ss) / (ɛ+(1-ɛ)*Sl/Ss)\n",
    "    kdash = (k2*Sl/Ss*(1-ɛ))      / (ɛ+(1-ɛ)*Sl/Ss)\n",
    "    \n",
    "    #Define DE Problem\n",
    "    function main(t,u,dudt)\n",
    "        #Extract values from u\n",
    "        c = u[1:m]\n",
    "        w = u[m+1:2m]\n",
    "        \n",
    "        #Calculate change of concentration due to diffusion and reaction\n",
    "        for i = 1:2m+1\n",
    "            if i == 1\n",
    "                dudt[i] = Ddash/h^2*(2c[2]-2c[1]) - kdash*c[1]*w[1]\n",
    "            elseif 2 <= i <= m-1\n",
    "                dudt[i] = Ddash/h^2*(c[i-1]-2c[i]+c[i+1]) - kdash*c[i]*w[i]\n",
    "            elseif i == m\n",
    "                dudt[i] = Ddash/h^2*(c[m-1]-2c[m] + Ss*p(t)) - kdash*c[m]*w[m] \n",
    "            elseif m+1 <= i <= 2m\n",
    "                dudt[i] = f(c[i-m],w[i-m])\n",
    "            elseif i == 2m+1\n",
    "                dudt[i] = ((3/2*Ss*p(t)-2*c[m]+1/2*c[m-1])/h)*(Ds*ɛ+Dl*(1-ɛ)*Sl/Ss)\n",
    "            end\n",
    "        end\n",
    "    end\n",
    "\n",
    "    #Initial Conditions and timespan\n",
    "    u0 = [c0*ones(m);w0*ones(m);0.0]\n",
    "    tspan = (0.0,tf)\n",
    "\n",
    "    #Define and solve problem\n",
    "    prob = ODEProblem(main,u0,tspan)\n",
    "    sol = solve(prob, Rosenbrock23());\n",
    "    return sol\n",
    "end\n",
    "\n",
    "\n",
    "#Function to model the Length of the MTZ of a Monolith coated with SIP This function returns the MTZ in the *time* domain - we then need to convert it to a space domain.\n",
    "#Discussed on p. 19 of workbook.\n",
    "#Inputs: f - function for rate of change in reactive species concentration. \n",
    "#δ - width of SIP in monolith, m\n",
    "#tf - end time of simulation, s. \n",
    "#w_initial - Initial concentration of reactive species in solvent, mol/m3 solvent\n",
    "#k2 - second order rate constant, m3/mol.s\n",
    "#Ss and Sl - solubility of gas in solid and liquid phases, respectively, mol/m3.Pa\n",
    "#Ds and Dl - diffusivity of gas in solid and liquid phases, respectively, m2/s\n",
    "#ɛ_p - The solid fraction inside the particle.\n",
    "#m - The number of mesh points.\n",
    "#p0 - The inlet partial pressure of gas.\n",
    "#w - width of SIP on wall\n",
    "#v - interstitial gas velocity (though monolith tubes), m/s\n",
    "#T - Temperature, K\n",
    "function MonolithMTZintime(f,δ,tf,w_initial,k2,Ss,Sl,Ds,Dl,ɛ_p,m,p_0)\n",
    "    \n",
    "    #Calculate qbar_0 from p_0, using LinearSIP\n",
    "    p_0func(t) = p_0   #Constant pressure function\n",
    "    c0 = 0.0;    #Unlike w_initial, this doesn't matter, as we're calculating equilibrium values.\n",
    "    constantp0sol = LinearSIP(f,δ,1e9,p_0func,c0,w_initial,k2,Ss,Sl,Ds,Dl,ɛ_p,m)\n",
    "    qbar_0 = constantp0sol(1e9)[2m+1]/δ\n",
    "    \n",
    "    \n",
    "    #Pertinent Mesh Values\n",
    "    h = δ/m         #Distance between neighbouring grid points\n",
    "    \n",
    "    #Generic Ddash and kdash parameters\n",
    "    Ddash = (Ds*ɛ_p+Dl*(1-ɛ_p)*Sl/Ss) / (ɛ_p+(1-ɛ_p)*Sl/Ss)\n",
    "    kdash = (k2*Sl/Ss*(1-ɛ_p))        / (ɛ_p+(1-ɛ_p)*Sl/Ss)\n",
    "    \n",
    "    #Define DE Problem\n",
    "    function main(t,u,dudt)\n",
    "        #Extract values from u\n",
    "        c = u[1:m]\n",
    "        w = u[m+1:2m]\n",
    "        N = u[2m+1]\n",
    "        \n",
    "        #Calculate new external pressure\n",
    "        p = p_0/qbar_0*N/δ\n",
    "        \n",
    "        #Calculate change of concentration due to diffusion and reaction\n",
    "        for i = 1:2m+1\n",
    "            if i == 1\n",
    "                dudt[i] = Ddash/h^2*(2c[2]-2c[1]) - kdash*c[1]*w[1]\n",
    "            elseif 2 <= i <= m-1\n",
    "                dudt[i] = Ddash/h^2*(c[i-1]-2c[i]+c[i+1]) - kdash*c[i]*w[i]\n",
    "            elseif i == m\n",
    "                dudt[i] = Ddash/h^2*(c[m-1]-2c[m] + Ss*p) - kdash*c[m]*w[m] \n",
    "            elseif m+1 <= i <= 2m\n",
    "                dudt[i] = f(c[i-m],w[i-m])\n",
    "            elseif i == 2m+1\n",
    "                dudt[i] = ((3/2*Ss*p-2*c[m]+1/2*c[m-1])/h)*(Ds*ɛ_p+Dl*(1-ɛ_p)*Sl/Ss)\n",
    "            end\n",
    "        end\n",
    "    end\n",
    "\n",
    "    #Initial Conditions and timespan\n",
    "    u0 = [1e-6*ones(m);w_initial*ones(m);1e-6]\n",
    "    tspan = (0.0,tf)\n",
    "\n",
    "    #Define and solve problem\n",
    "    prob = ODEProblem(main,u0,tspan)\n",
    "    sol = solve(prob, Rosenbrock23());\n",
    "    return [sol,qbar_0]\n",
    "end\n"
   ]
  },
  {
   "cell_type": "code",
   "execution_count": 6,
   "metadata": {
    "collapsed": false
   },
   "outputs": [
    {
     "name": "stdout",
     "output_type": "stream",
     "text": [
      "  8.461854 seconds (19.94 M allocations: 1.303 GB, 3.76% gc time)\n"
     ]
    },
    {
     "name": "stderr",
     "output_type": "stream",
     "text": [
      "WARNING: Method definition MTZinspace(Any) in module Main at In[3]:36 overwritten at In[6]:36.\n"
     ]
    }
   ],
   "source": [
    "#Example with reasonably realistic values.\n",
    "\n",
    "δ = 200e-6      #m\n",
    "k2 = 20.0       #m3/mol.s      Taken at infinite dilution from confirmation report.\n",
    "Ss = 5.67e-4    #mol/Pa.m3     From http://onlinelibrary.wiley.com/doi/10.1002/(SICI)1099-0488(20000201)38:3%3C415::AID-POLB8%3E3.0.CO;2-Z/full Good references at \"Gas permeability, diffusivity and solubility of nitrogen, helium, methane, carbon dioxide and formaldehyde in dense polymeric membranes using a new on-line permeation apparatus\"\n",
    "Sl = 2.88e-4    #mol/Pa.m3     From Vericella (2015) See also confirmation report\n",
    "Ds = 2.2e-9     #m2/s          From http://onlinelibrary.wiley.com/doi/10.1002/(SICI)1099-0488(20000201)38:3%3C415::AID-POLB8%3E3.0.CO;2-Z/full Good references at \"Gas permeability, diffusivity and solubility of nitrogen, helium, methane, carbon dioxide and formaldehyde in dense polymeric membranes using a new on-line permeation apparatus\"\n",
    "Dl = 1.78e-9    #m2/s          From Vericella (2015) See also confirmation report\n",
    "p_0 = 10130     #Pa            Consider 10% CO2 environment.\n",
    "tf = 15000.0      #s \n",
    "ɛ_p = 0.5       #              Voidage of SIPS material.\n",
    "\n",
    "#This function is a little subtle. See my workbook, after p. 8\n",
    "ftemp = function (c,w)\n",
    "   #Data for Function\n",
    "    Keq = 5.0                    #m3/mol   Calculate in more detail later. Sourced from http://clas.sa.ucsb.edu/staff/Resource%20Folder/Chem109ABC/Acid,%20Base%20Strength/Table%20of%20Acids%20w%20Kas%20and%20pKas.pdf\n",
    "    cKion = 6000                 #mol/m3. Based on 0.3mol/L solution of K2CO3\n",
    "    nco2dot = k2*c*Sl/Ss*w       #mol/m3.s    Rate of reaction of CO2\n",
    "    ξdot = 2*nco2dot/cKion       #1/s. Rate of change of loading\n",
    "    ξ = 1/(1+2Keq*w)             #loading\n",
    "    wdot = -ξdot/(2*Keq*ξ^2)     #mol/m3.s Rate of change of OH- concentration\n",
    "    return wdot\n",
    "end\n",
    "w_initial = 1e3;     #Initial OH- concentration, mol/m3\n",
    "m = 50\n",
    "\n",
    "@time (sol, qbar_0) = MonolithMTZintime(ftemp,δ,tf,w_initial,k2,Ss,Sl,Ds,Dl,ɛ_p,m,p_0)\n",
    "\n",
    "#Convert to length-scale\n",
    "w = 5*δ         #m             Width of monolith cell\n",
    "v = 0.5         #m/s           Superficial Gas Velocity\n",
    "T = 300         #K             Temperature of flue gas\n",
    "R = 8.314       #J/mol.K       Universal gas constant\n",
    "ɛ = (w-2δ)/(w+2δ)             #Bulk Voidage inside bed\n",
    "β = ɛ*v/(ɛ+(1-ɛ)*qbar_0/(p_0/(R*T)))    #Velocity of MTZ\n",
    "MTZinspace(z) = sol(z/β)[2m+1]/(δ*qbar_0)      #Function for q/qbar_0 in space (constant pattern)"
   ]
  },
  {
   "cell_type": "code",
   "execution_count": 7,
   "metadata": {
    "collapsed": false
   },
   "outputs": [
    {
     "data": {
      "text/html": [
       "<img src=\"data:image/png;base64,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\" />"
      ]
     },
     "execution_count": 7,
     "metadata": {},
     "output_type": "execute_result"
    }
   ],
   "source": [
    "plot(linspace(0,0.95*β*tf,100),[1-MTZinspace(z) for z in linspace(0,0.95*β*tf,100)], title=\"MTZ\", xlabel=\"z (m)\", ylabel=\"q/q0\")"
   ]
  },
  {
   "cell_type": "markdown",
   "metadata": {},
   "source": [
    "With a few kPa pressure drop."
   ]
  },
  {
   "cell_type": "code",
   "execution_count": 49,
   "metadata": {
    "collapsed": false
   },
   "outputs": [
    {
     "data": {
      "text/html": [
       "3729.859230715267"
      ],
      "text/plain": [
       "3729.859230715267"
      ]
     },
     "execution_count": 49,
     "metadata": {},
     "output_type": "execute_result"
    }
   ],
   "source": [
    "15/β"
   ]
  },
  {
   "cell_type": "markdown",
   "metadata": {
    "collapsed": true
   },
   "source": [
    "## 30 wt% K2CO3 "
   ]
  },
  {
   "cell_type": "markdown",
   "metadata": {},
   "source": [
    "Comments:\n",
    "\n",
    "- There is a lot of uncertainty over the Henry's law Constant (i.e. $S_l$) of concentrated K2CO3 solutions. "
   ]
  },
  {
   "cell_type": "markdown",
   "metadata": {
    "collapsed": true
   },
   "source": [
    "## Protic Ionic Liquids"
   ]
  },
  {
   "cell_type": "markdown",
   "metadata": {},
   "source": [
    "Comments\n",
    "\n",
    " - Data comes from\n",
    " \n",
    " \n",
    " "
   ]
  }
 ],
 "metadata": {
  "kernelspec": {
   "display_name": "Julia 0.5.1",
   "language": "julia",
   "name": "julia-0.5"
  },
  "language_info": {
   "file_extension": ".jl",
   "mimetype": "application/julia",
   "name": "julia",
   "version": "0.5.1"
  }
 },
 "nbformat": 4,
 "nbformat_minor": 2
}
