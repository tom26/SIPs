{
 "cells": [
  {
   "cell_type": "markdown",
   "metadata": {},
   "source": [
    "# Model for SIPs"
   ]
  },
  {
   "cell_type": "markdown",
   "metadata": {},
   "source": [
    "In which we implement the MOL model described on p. 8 of my workbook."
   ]
  },
  {
   "cell_type": "code",
   "execution_count": 1,
   "metadata": {
    "collapsed": false
   },
   "outputs": [
    {
     "data": {
      "text/plain": [
       "SphericalMECSNoShell (generic function with 1 method)"
      ]
     },
     "execution_count": 1,
     "metadata": {},
     "output_type": "execute_result"
    }
   ],
   "source": [
    "#Packages we are using\n",
    "using DifferentialEquations\n",
    "using Plots\n",
    "\n",
    "#Function to model the absorption of gas into SIP material in linear coordinates via MOL approach.\n",
    "#Discussed on p. 8 of workbook.\n",
    "#Inputs: f - function for rate of change in reactive species concentration. \n",
    "#L - length of domain, m\n",
    "#tf - end time of simulation, s. \n",
    "#p - partial pressure of gas above SIP (this must be a function of time.), Pa.\n",
    "#c0 and w0 - initial CO2 and reactant concentration\n",
    "#k2 - second order rate constant, m3/mol.s\n",
    "#Ss and Sl - solubility of gas in solid and liquid phases, respectively, mol/m3.Pa\n",
    "#Ds and Dl - diffusivity of gas in solid and liquid phases, respectively, m2/s\n",
    "#ɛ - The solid fraction inside the particle.\n",
    "#m - The number of mesh points.\n",
    "function LinearSIP(f,L,tf,p,c0,w0,k2,Ss,Sl,Ds,Dl,ɛ,m)\n",
    "    \n",
    "    #Pertinent Mesh Values\n",
    "    h = L/m         #Distance between neighbouring grid points\n",
    "    \n",
    "    #Generic Ddash and kdash parameters\n",
    "    Ddash = (Ds*ɛ+Dl*(1-ɛ)*Sl/Ss) / (ɛ+(1-ɛ)*Sl/Ss)\n",
    "    kdash = (k2*Sl/Ss*(1-ɛ))      / (ɛ+(1-ɛ)*Sl/Ss)\n",
    "    \n",
    "    #Define DE Problem\n",
    "    function main(t,u,dudt)\n",
    "        #Extract values from u\n",
    "        c = u[1:m]\n",
    "        w = u[m+1:2m]\n",
    "        \n",
    "        #Calculate change of concentration due to diffusion and reaction\n",
    "        for i = 1:2m+1\n",
    "            if i == 1\n",
    "                dudt[i] = Ddash/h^2*(2c[2]-2c[1]) - kdash*c[1]*w[1]\n",
    "            elseif 2 <= i <= m-1\n",
    "                dudt[i] = Ddash/h^2*(c[i-1]-2c[i]+c[i+1]) - kdash*c[i]*w[i]\n",
    "            elseif i == m\n",
    "                dudt[i] = Ddash/h^2*(c[m-1]-2c[m] + Ss*p(t)) - kdash*c[m]*w[m] \n",
    "            elseif m+1 <= i <= 2m\n",
    "                dudt[i] = f(c[i-m],w[i-m])\n",
    "            elseif i == 2m+1\n",
    "                dudt[i] = ((3/2*Ss*p(t)-2*c[m]+1/2*c[m-1])/h)*(Ds*ɛ+Dl*(1-ɛ)*Sl/Ss)\n",
    "            end\n",
    "        end\n",
    "    end\n",
    "\n",
    "    #Initial Conditions and timespan\n",
    "    u0 = [c0*ones(m);w0*ones(m);0.0]\n",
    "    tspan = (0.0,tf)\n",
    "\n",
    "    #Define and solve problem\n",
    "    prob = ODEProblem(main,u0,tspan)\n",
    "    sol = solve(prob, Rosenbrock23());\n",
    "    return sol\n",
    "end\n",
    "\n",
    "#Function to model the absorption of gas into SIP material in spherical coordinates via MOL approach.\n",
    "#Discussed on p. 8 of workbook.\n",
    "#Inputs: f - function for rate of change in reactive species concentration. \n",
    "#R - length of domain, m\n",
    "#tf - end time of simulation, s. \n",
    "#p - partial pressure of gas above SIP (this must be a function of time.), Pa.\n",
    "#c0 and w0 - initial CO2 and reactant concentration\n",
    "#k2 - second order rate constant, m3/mol.s\n",
    "#Ss and Sl - solubility of gas in solid and liquid phases, respectively, mol/m3.Pa\n",
    "#Ds and Dl - diffusivity of gas in solid and liquid phases, respectively, m2/s\n",
    "#ɛ - The solid fraction inside the particle.\n",
    "#m - The number of mesh points.\n",
    "function SphericalSIP(f,R,tf,p,c0,w0,k2,Ss,Sl,Ds,Dl,ɛ,m)\n",
    "    \n",
    "    #Pertinent Mesh Values\n",
    "    h = R/(m+1/2)         #Distance between neighbouring grid points\n",
    "    r(j) = h*(j-1/2)      #Radial distance of point j\n",
    "    \n",
    "    #Generic Ddash and kdash parameters\n",
    "    Ddash = (Ds*ɛ+Dl*(1-ɛ)*Sl/Ss) / (ɛ+(1-ɛ)*Sl/Ss)\n",
    "    kdash = (k2*Sl/Ss*(1-ɛ))      / (ɛ+(1-ɛ)*Sl/Ss)\n",
    "    \n",
    "    #Define DE Problem\n",
    "    function main(t,u,dudt)\n",
    "        #Extract values from u\n",
    "        c = u[1:m]\n",
    "        w = u[m+1:2m]\n",
    "        \n",
    "        #Calculate change of concentration due to diffusion and reaction\n",
    "        for i = 1:2m+1\n",
    "            if i == 1\n",
    "                dudt[1] = Ddash/(r(1)^2*h^2)*r(1+1/2)^2*(c[2] - c[1]) - kdash*c[1]*w[1]\n",
    "            elseif 2 <= i <= m-1\n",
    "                dudt[i] = Ddash/(r(i)^2*h^2)*(r(i+1/2)^2*c[i+1]  - (r(i+1/2)^2+r(i-1/2)^2)*c[i] + r(i-1/2)^2*c[i-1]) - kdash*c[i]*w[i]\n",
    "            elseif i == m\n",
    "                dudt[i] = Ddash/(r(m)^2*h^2)*(r(m+1/2)^2*Ss*p(t) - (r(m+1/2)^2+r(m-1/2)^2)*c[m] + r(m-1/2)^2*c[m-1]) - kdash*c[m]*w[m]\n",
    "            elseif m+1 <= i <= 2m\n",
    "                dudt[i] = f(c[i-m],w[i-m])  #Change in reactive species\n",
    "            elseif i == 2m+1\n",
    "                dudt[i] = 4π*R^2*((3/2*Ss*p(t)-2*c[m]+1/2*c[m-1])/h)*(Ds*ɛ+Dl*(1-ɛ)*Sl/Ss)\n",
    "            end\n",
    "        end\n",
    "    end\n",
    "\n",
    "    #Initial Conditions and timespan\n",
    "    u0 = [c0*ones(m);w0*ones(m);0.0]\n",
    "    tspan = (0.0,tf)\n",
    "\n",
    "    #Define and solve problem\n",
    "    prob = ODEProblem(main,u0,tspan)\n",
    "    sol = solve(prob, Rosenbrock23());\n",
    "    return sol\n",
    "end\n",
    "\n",
    "\n",
    "\n",
    "#THIS IS DODGY\n",
    "function SphericalMECSNoShell(f,R,tf,p,c0,w0,k2,Ss,Sl,Ds,Dl,ɛ,m)\n",
    "    \n",
    "    #Pertinent Mesh Values\n",
    "    h = R/(m+1/2)         #Distance between neighbouring grid points\n",
    "    r(j) = h*(j-1/2)      #Radial distance of point j\n",
    "    \n",
    "    #Generic Ddash and kdash parameters\n",
    "    #Ddash = (Ds*ɛ+Dl*(1-ɛ)*Sl/Ss) / (ɛ+(1-ɛ)*Sl/Ss)\n",
    "    #kdash = (k2*Sl/Ss*(1-ɛ))      / (ɛ+(1-ɛ)*Sl/Ss)\n",
    "    \n",
    "    Ddash = Dl\n",
    "    kdash = k2\n",
    "    \n",
    "    #Define DE Problem\n",
    "    function main(t,u,dudt)\n",
    "        #Extract values from u\n",
    "        c = u[1:m]\n",
    "        w = u[m+1:2m]\n",
    "        dwdt = (sum([f(c[i],w[i])*4/3*pi*((h*i)^3-(h*(i-1))^3) for i in 1:m-1]) + f(c[m],w[m])*4/3*pi*(R^3-(h*(m-1))^3))/(4/3*pi*R^3)\n",
    "#        dwdt = (sum([f(c[i],w[i])*4/3*pi*((h*i)^3-(h*(i-1))^3) for i in 1:m]))/(4/3*pi*R^3)\n",
    "        \n",
    "        #Calculate change of concentration due to diffusion and reaction\n",
    "        for i = 1:2m+1\n",
    "            if i == 1\n",
    "                dudt[1] = Ddash/(r(1)^2*h^2)*r(1+1/2)^2*(c[2] - c[1]) - kdash*c[1]*w[1]\n",
    "            elseif 2 <= i <= m-1\n",
    "                dudt[i] = Ddash/(r(i)^2*h^2)*(r(i+1/2)^2*c[i+1]  - (r(i+1/2)^2+r(i-1/2)^2)*c[i] + r(i-1/2)^2*c[i-1]) - kdash*c[i]*w[i]\n",
    "            elseif i == m\n",
    "                dudt[i] = Ddash/(r(m)^2*h^2)*(r(m+1/2)^2*Sl*p(t) - (r(m+1/2)^2+r(m-1/2)^2)*c[m] + r(m-1/2)^2*c[m-1]) - kdash*c[m]*w[m]\n",
    "            elseif m+1 <= i <= 2m\n",
    "                dudt[i] = dwdt  #Change in reactive species\n",
    "            elseif i == 2m+1\n",
    "                dudt[i] = 4π*R^2*((3/2*Sl*p(t)-2*c[m]+1/2*c[m-1])/h)*Dl\n",
    "            end\n",
    "        end\n",
    "    end\n",
    "\n",
    "    #Initial Conditions and timespan\n",
    "    u0 = [c0*ones(m);w0*ones(m);0.0]\n",
    "    tspan = (0.0,tf)\n",
    "\n",
    "    #Define and solve problem\n",
    "    prob = ODEProblem(main,u0,tspan)\n",
    "    sol = solve(prob, Rosenbrock23());\n",
    "    return sol\n",
    "end"
   ]
  },
  {
   "cell_type": "markdown",
   "metadata": {},
   "source": [
    "# Examples and Mass Conservation Tests"
   ]
  },
  {
   "cell_type": "code",
   "execution_count": 2,
   "metadata": {
    "collapsed": false
   },
   "outputs": [
    {
     "name": "stdout",
     "output_type": "stream",
     "text": [
      "  7.576764 seconds (8.30 M allocations: 354.590 MB, 1.81% gc time)\n",
      "  3.986618 seconds (3.19 M allocations: 137.221 MB, 1.14% gc time)\n"
     ]
    },
    {
     "name": "stderr",
     "output_type": "stream",
     "text": [
      "/Users/thomasmoore/.julia/v0.5/Conda/deps/usr/lib/python2.7/site-packages/matplotlib/__init__.py:1401: UserWarning:  This call to matplotlib.use() has no effect\n",
      "because the backend has already been chosen;\n",
      "matplotlib.use() must be called *before* pylab, matplotlib.pyplot,\n",
      "or matplotlib.backends is imported for the first time.\n",
      "\n",
      "  warnings.warn(_use_error_msg)\n"
     ]
    },
    {
     "data": {
      "text/plain": [
       "2-element Array{Float64,1}:\n",
       " 1.05  \n",
       " 1.0499"
      ]
     },
     "execution_count": 2,
     "metadata": {},
     "output_type": "execute_result"
    }
   ],
   "source": [
    "#Example usage\n",
    "\n",
    "L = 1.0; R = 1.0\n",
    "k2 = 10.0\n",
    "Ss = 1.0\n",
    "Sl = 0.1\n",
    "Ds = 1.0\n",
    "Dl = 0.0\n",
    "p(t) = 1.0\n",
    "tf = 3000.0\n",
    "ɛ = 0.5\n",
    "c0 = 0.0;\n",
    "w0 = 1.0;\n",
    "m = 50\n",
    "f(c,w) = -k2*Sl/Ss*c*w\n",
    "@time sollin =    LinearSIP(f,L,tf,p,c0,w0,k2,Ss,Sl,Ds,Dl,ɛ,m);\n",
    "@time solrad = SphericalSIP(f,R,tf,p,c0,w0,k2,Ss,Sl,Ds,Dl,ɛ,m);\n",
    "plot(solrad(.3)[1:2m])\n",
    "[sollin(tf)[2m+1], solrad(tf)[2m+1] / (4/3*pi*R^3)]\n"
   ]
  },
  {
   "cell_type": "code",
   "execution_count": 3,
   "metadata": {
    "collapsed": false
   },
   "outputs": [
    {
     "name": "stdout",
     "output_type": "stream",
     "text": [
      "  "
     ]
    },
    {
     "name": "stderr",
     "output_type": "stream",
     "text": [
      "WARNING: Method definition p(Any) in module Main at In[2]:9 overwritten at In[3]:9.\n"
     ]
    },
    {
     "name": "stdout",
     "output_type": "stream",
     "text": [
      "3.168738 seconds (5.37 M allocations: 331.294 MB, 2.37% gc time)\n",
      "  3.123077 seconds (5.42 M allocations: 331.250 MB, 2.13% gc time)\n"
     ]
    },
    {
     "data": {
      "text/plain": [
       "3-element Array{Float64,1}:\n",
       " 1.0499 \n",
       " 1.04987\n",
       " 1.05   "
      ]
     },
     "execution_count": 3,
     "metadata": {},
     "output_type": "execute_result"
    }
   ],
   "source": [
    "#Example usage\n",
    "\n",
    "L = 1.0; R = 1.0\n",
    "k2 = 10.0\n",
    "Ss = 1.0\n",
    "Sl = 0.1\n",
    "Ds = 1.0\n",
    "Dl = 0.0\n",
    "p(t) = 1.0\n",
    "tf = 3000.0\n",
    "ɛ = 0.5\n",
    "c0 = 0.0;\n",
    "w0 = 1.0e4;\n",
    "m = 50\n",
    "\n",
    "cKion = 2.0\n",
    "f2 = function (c,w)\n",
    "   #Data for Function\n",
    "    Keq = 1/(1.78e-4)*1e-3                    #m3/mol   Calculate in more detail later. Sourced from http://clas.sa.ucsb.edu/staff/Resource%20Folder/Chem109ABC/Acid,%20Base%20Strength/Table%20of%20Acids%20w%20Kas%20and%20pKas.pdf\n",
    "    #cKion = 1.0                  #mol/m3. Based on 0.3mol/L solution of K2CO3\n",
    "    nco2dot = k2*c*Sl/Ss*w             #mol/m3.s    Rate of reaction of CO2\n",
    "    ξdot = 2*nco2dot/cKion       #1/s. Rate of change of loading\n",
    "    ξ = 1/(1+2Keq*w)             #loading\n",
    "    wdot = -ξdot/(2*Keq*ξ^2)     #mol/m3.s Rate of change of OH- concentration\n",
    "    return wdot\n",
    "end\n",
    "\n",
    "\n",
    "#f(c,w) = -k2*Sl/Ss*c*w\n",
    "@time sollin =    LinearSIP(f2,L,tf,p,c0,w0,k2,Ss,Sl,Ds,Dl,ɛ,m);\n",
    "@time solrad = SphericalSIP(f2,R,tf,p,c0,w0,k2,Ss,Sl,Ds,Dl,ɛ,m);\n",
    "plot(solrad(.3)[1:2m])\n",
    "[sollin(tf)[2m+1], solrad(tf)[2m+1] / (4/3*pi*R^3), (Sl+cKion*0.5)*(1-ɛ)+Ss*ɛ]\n"
   ]
  },
  {
   "cell_type": "code",
   "execution_count": 4,
   "metadata": {
    "collapsed": false
   },
   "outputs": [
    {
     "name": "stdout",
     "output_type": "stream",
     "text": [
      "  "
     ]
    },
    {
     "name": "stderr",
     "output_type": "stream",
     "text": [
      "WARNING: Method definition p(Any) in module Main at In[3]:9 overwritten at In[4]:9.\n"
     ]
    },
    {
     "name": "stdout",
     "output_type": "stream",
     "text": [
      "3.868858 seconds (10.06 M allocations: 713.448 MB, 3.56% gc time)\n",
      "  4.113898 seconds (10.16 M allocations: 715.928 MB, 5.93% gc time)\n"
     ]
    }
   ],
   "source": [
    "#Example usage\n",
    "\n",
    "R = 0.005\n",
    "k2 = 8.67\n",
    "Ss = 5.67e-4\n",
    "Sl = 2.88e-4\n",
    "Ds = 2.2e-9\n",
    "Dl = 1.78e-9\n",
    "p(t) = 10000.0\n",
    "tf = 300000.0\n",
    "ɛ = 0.75\n",
    "c0 = 0.0;\n",
    "w0 = 1.0e4;\n",
    "m = 50\n",
    "\n",
    "cKion = 2.0\n",
    "f2 = function (c,w)\n",
    "   #Data for Function\n",
    "    Keq = 1/(1.78e-4)*1e-3                    #m3/mol   Calculate in more detail later. Sourced from http://clas.sa.ucsb.edu/staff/Resource%20Folder/Chem109ABC/Acid,%20Base%20Strength/Table%20of%20Acids%20w%20Kas%20and%20pKas.pdf\n",
    "    #cKion = 1.0                  #mol/m3. Based on 0.3mol/L solution of K2CO3\n",
    "    nco2dot = k2*c*Sl/Ss*w             #mol/m3.s    Rate of reaction of CO2\n",
    "    ξdot = 2*nco2dot/cKion       #1/s. Rate of change of loading\n",
    "    ξ = 1/(1+2Keq*w)             #loading\n",
    "    wdot = -ξdot/(2*Keq*ξ^2)     #mol/m3.s Rate of change of OH- concentration\n",
    "    return wdot\n",
    "end\n",
    "\n",
    "\n",
    "#f(c,w) = -k2*Sl/Ss*c*w\n",
    "@time sollin = LinearSIP(f2,R,tf,p,c0,w0,k2,Ss,Sl,Ds,Dl,ɛ,m);\n",
    "@time solrad = SphericalSIP(f2,R,tf,p,c0,w0,k2,Ss,Sl,Ds,Dl,ɛ,m);\n",
    "plot(solrad(.3)[1:2m])\n",
    "[sollin(tf)[2m+1]/R, solrad(tf)[2m+1] / (4/3*pi*R^3), (Sl*p(0.0)+cKion*0.5)*(1-ɛ)+Ss*ɛ*p(0.0)]"
   ]
  },
  {
   "cell_type": "code",
   "execution_count": 5,
   "metadata": {
    "collapsed": false
   },
   "outputs": [
    {
     "name": "stdout",
     "output_type": "stream",
     "text": [
      "  "
     ]
    },
    {
     "name": "stderr",
     "output_type": "stream",
     "text": [
      "WARNING: Method definition p(Any) in module Main at In[4]:9 overwritten at In[5]:10.\n"
     ]
    },
    {
     "name": "stdout",
     "output_type": "stream",
     "text": [
      "5.252290 seconds (18.20 M allocations: 1.337 GB, 5.14% gc time)\n"
     ]
    },
    {
     "data": {
      "text/plain": [
       "2-element Array{Float64,1}:\n",
       " 129.675\n",
       " 129.697"
      ]
     },
     "execution_count": 5,
     "metadata": {},
     "output_type": "execute_result"
    }
   ],
   "source": [
    "#Example usage\n",
    "\n",
    "\n",
    "R = 0.005       #Radius, m\n",
    "k2 = 8.67       #m3/mol.s      Taken at from Supp Matt of Vericella\n",
    "Ss = 5.67e-4    #mol/Pa.m3     From http://onlinelibrary.wiley.com/doi/10.1002/(SICI)1099-0488(20000201)38:3%3C415::AID-POLB8%3E3.0.CO;2-Z/full Good references at \"Gas permeability, diffusivity and solubility of nitrogen, helium, methane, carbon dioxide and formaldehyde in dense polymeric membranes using a new on-line permeation apparatus\"\n",
    "Sl = 2.88e-4    #mol/Pa.m3     From Vericella (2015) See also confirmation report\n",
    "Ds = 2.2e-9     #m2/s          From http://onlinelibrary.wiley.com/doi/10.1002/(SICI)1099-0488(20000201)38:3%3C415::AID-POLB8%3E3.0.CO;2-Z/full Good references at \"Gas permeability, diffusivity and solubility of nitrogen, helium, methane, carbon dioxide and formaldehyde in dense polymeric membranes using a new on-line permeation apparatus\"\n",
    "Dl = 1.78e-9    #m2/s          From Vericella (2015) See also confirmation report\n",
    "p(t) = 110000   #Pa            #Consider pure CO2 environment.\n",
    "tf = 1500000.0       #s \n",
    "ɛ  = 0.75\n",
    "c0 = 0.0;\n",
    "\n",
    "w0 = 1.0e4;\n",
    "m = 50\n",
    "cKion = 600.0\n",
    "\n",
    "f2 = function (c,w)\n",
    "   #Data for Function\n",
    "    Keq = 1/(1.78e-4)*1e-3                    #m3/mol   Calculate in more detail later. Sourced from http://clas.sa.ucsb.edu/staff/Resource%20Folder/Chem109ABC/Acid,%20Base%20Strength/Table%20of%20Acids%20w%20Kas%20and%20pKas.pdf\n",
    "    #cKion = 1.0                  #mol/m3. Based on 0.3mol/L solution of K2CO3\n",
    "    nco2dot = k2*c*Sl/Ss*w             #mol/m3.s    Rate of reaction of CO2\n",
    "    ξdot = 2*nco2dot/cKion       #1/s. Rate of change of loading\n",
    "    ξ = 1/(1+2Keq*w)             #loading\n",
    "    wdot = -ξdot/(2*Keq*ξ^2)     #mol/m3.s Rate of change of OH- concentration\n",
    "    return wdot\n",
    "end\n",
    "\n",
    "\n",
    "#f(c,w) = -k2*Sl/Ss*c*w\n",
    "#@time sollin =    LinearSIP(f2,L,tf,p,c0,w0,k2,Ss,Sl,Ds,Dl,ɛ,m);\n",
    "@time solrad = SphericalSIP(f2,R,tf,p,c0,w0,k2,Ss,Sl,Ds,Dl,ɛ,m);\n",
    "plot(solrad(.3)[1:2m])\n",
    "[solrad(tf)[2m+1] / (4/3*pi*R^3), (Sl*p(0.0)+cKion*0.5)*(1-ɛ)+Ss*ɛ*p(0.0)]"
   ]
  },
  {
   "cell_type": "code",
   "execution_count": null,
   "metadata": {
    "collapsed": true
   },
   "outputs": [],
   "source": []
  },
  {
   "cell_type": "code",
   "execution_count": null,
   "metadata": {
    "collapsed": true
   },
   "outputs": [],
   "source": []
  },
  {
   "cell_type": "code",
   "execution_count": null,
   "metadata": {
    "collapsed": true
   },
   "outputs": [],
   "source": []
  },
  {
   "cell_type": "code",
   "execution_count": null,
   "metadata": {
    "collapsed": true
   },
   "outputs": [],
   "source": []
  },
  {
   "cell_type": "code",
   "execution_count": null,
   "metadata": {
    "collapsed": true
   },
   "outputs": [],
   "source": []
  },
  {
   "cell_type": "code",
   "execution_count": null,
   "metadata": {
    "collapsed": true
   },
   "outputs": [],
   "source": []
  },
  {
   "cell_type": "code",
   "execution_count": null,
   "metadata": {
    "collapsed": true
   },
   "outputs": [],
   "source": []
  },
  {
   "cell_type": "code",
   "execution_count": null,
   "metadata": {
    "collapsed": true
   },
   "outputs": [],
   "source": []
  },
  {
   "cell_type": "markdown",
   "metadata": {},
   "source": [
    "# Compare with Experimental Parameters - Linear Run "
   ]
  },
  {
   "cell_type": "markdown",
   "metadata": {
    "collapsed": true
   },
   "source": [
    "We will not put in some realistic parameters to model flow into small SIPS particles."
   ]
  },
  {
   "cell_type": "code",
   "execution_count": 6,
   "metadata": {
    "collapsed": false
   },
   "outputs": [
    {
     "name": "stdout",
     "output_type": "stream",
     "text": [
      "  "
     ]
    },
    {
     "name": "stderr",
     "output_type": "stream",
     "text": [
      "WARNING: Method definition p(Any) in module Main at In[5]:10 overwritten at In[6]:9.\n"
     ]
    },
    {
     "name": "stdout",
     "output_type": "stream",
     "text": [
      "9.368192 seconds (52.10 M allocations: 4.230 GB, 8.71% gc time)\n"
     ]
    }
   ],
   "source": [
    "V = 5.5e-6     #Volume of emulsion, m3\n",
    "A = pi*.03^2   #Area of petri dish, m2\n",
    "L = V/A        #m\n",
    "k2 = 8.67       #m3/mol.s      Taken at from Supp Matt of Vericella\n",
    "Ss = 5.67e-4    #mol/Pa.m3     From http://onlinelibrary.wiley.com/doi/10.1002/(SICI)1099-0488(20000201)38:3%3C415::AID-POLB8%3E3.0.CO;2-Z/full Good references at \"Gas permeability, diffusivity and solubility of nitrogen, helium, methane, carbon dioxide and formaldehyde in dense polymeric membranes using a new on-line permeation apparatus\"\n",
    "Sl = 2.88e-4    #mol/Pa.m3     From Vericella (2015) See also confirmation report\n",
    "Ds = 2.2e-9     #m2/s          From http://onlinelibrary.wiley.com/doi/10.1002/(SICI)1099-0488(20000201)38:3%3C415::AID-POLB8%3E3.0.CO;2-Z/full Good references at \"Gas permeability, diffusivity and solubility of nitrogen, helium, methane, carbon dioxide and formaldehyde in dense polymeric membranes using a new on-line permeation apparatus\"\n",
    "Dl = 1.78e-9    #m2/s          From Vericella (2015) See also confirmation report\n",
    "p(t) = 140000   #Pa            #Consider pure CO2 environment.\n",
    "tf = 6000.0       #s \n",
    "ɛ  = 0.75\n",
    "c0 = 0.0;\n",
    "\n",
    "#This function is a little subtle. See my workbook, after p. 8\n",
    "f2 = function (c,w)\n",
    "   #Data for Function\n",
    "    Keq = 1/(1.78e-4)*1e-3                    #m3/mol   Calculate in more detail later. Sourced from http://clas.sa.ucsb.edu/staff/Resource%20Folder/Chem109ABC/Acid,%20Base%20Strength/Table%20of%20Acids%20w%20Kas%20and%20pKas.pdf\n",
    "    cKion = 600                  #mol/m3. Based on 0.3mol/L solution of K2CO3\n",
    "    nco2dot = k2*c*Sl/Ss*w             #mol/m3.s    Rate of reaction of CO2\n",
    "    ξdot = 2*nco2dot/cKion       #1/s. Rate of change of loading\n",
    "    ξ = 1/(1+2Keq*w)             #loading\n",
    "    wdot = -ξdot/(2*Keq*ξ^2)     #mol/m3.s Rate of change of OH- concentration\n",
    "    return wdot\n",
    "end\n",
    "\n",
    "ftemp = function (c,w)\n",
    "    wdot = -k2*c*Sl/Ss*w/60\n",
    "    return wdot\n",
    "end\n",
    "w0 = 1e3;     #Initial OH- concentration, mol/m3\n",
    "m = 100\n",
    "\n",
    "\n",
    "@time sol2 = LinearSIP(f2,L,tf,p,c0,w0,k2,Ss,Sl,Ds,Dl,ɛ,m);\n",
    "#@time sol = SphericalSIP(f2,R,tf,p,c0,w0,k2,Ss,Sl,Ds,Dl,ɛ,m);\n",
    "#plot(linspace(0,tf,100),[sol2(i)[2m+1] for i in linspace(0,tf,100)])\n",
    "#plot(sol(30)[m+1:2m])\n",
    "\n",
    "#Compare with Experiment\n",
    "tdata = [0, 0.25, 0.5, 1,1.5,2,2.5,3,3.5,4,4.5,5,5.5,6,6.5,7,7.5,8,8.5,9,9.5,10,10.5,11,11.5,12,12.5,13,13.5,14,14.5,15,15.5,16,16.5,17,17.5,18,18.5,19,19.5,20,21,22,23,25,30,35,40,45,50,55,60,70,80]  #Time in minutes\n",
    "pdata = [1.55,1.4430,1.4370,1.4317,1.4284,1.4257,1.4235,1.4213,1.4195,1.4179,1.4161,1.4145,1.4130,1.4117,1.4103,1.4092,1.4080,1.4070,1.4061,1.4051,1.4039,1.4031,1.4020,1.4010,1.4005,1.3996,1.3987,1.3980,1.3974,1.3968,1.3959,1.3953,1.3947,1.3940,1.3934,1.3928,1.3923,1.3917,1.3912,1.3906,1.3902,1.3896,1.3887,1.3877,1.3868,1.3853,1.3819,1.3792,1.3771,1.3755,1.3741,1.3727,1.3718,1.3700,1.3682]            #Pressure Data in bar\n",
    "#pleak = [.00018*tdata[i] for i in 1:length(tdata)]\n",
    "#pdata = pdata + pleak\n",
    "plot(tdata,pdata)\n",
    "V_container = 330e-6      #Volume of container, m3 \n",
    "T = 298                   #Temperature, K\n",
    "R = 8.314                 #J/K.mol\n",
    "DeltaN = [(pdata[2] - pdata[i])*1e5*V_container/(R*T) for i in 2:length(pdata)]\n",
    "\n",
    "#plot(tdata[2:end],DeltaN)\n",
    "\n",
    "#Compare this with Model - remember to adjust for small surface area:\n",
    "A = pi*.03^2\n",
    "#plot(tdata[2:end],DeltaN, line=:scatter, title=\"CO2 Absorbed\", ylabel=\"CO2 Absorbed (mol)\", xlabel=\"Time (min)\",lab=\"Experiment\")\n",
    "#plot!(linspace(0,tf,100)/60,[sol2(i)[2m+1] for i in linspace(0,tf,100)]*A, lab = \"Model\")"
   ]
  },
  {
   "cell_type": "code",
   "execution_count": 7,
   "metadata": {
    "collapsed": false
   },
   "outputs": [
    {
     "data": {
      "text/html": [
       "<img src=\"data:image/png;base64,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\" />"
      ]
     },
     "execution_count": 7,
     "metadata": {},
     "output_type": "execute_result"
    },
    {
     "name": "stderr",
     "output_type": "stream",
     "text": [
      "sys:1: MatplotlibDeprecationWarning: The set_axis_bgcolor function was deprecated in version 2.0. Use set_facecolor instead.\n"
     ]
    }
   ],
   "source": [
    "plot(tdata[2:end],DeltaN, line=:scatter, title=\"CO2 Absorbed\", ylabel=\"CO2 Absorbed (mol)\", xlabel=\"Time (min)\",lab=\"Experiment\")\n",
    "plot!(linspace(0,tf,100)/60,[sol2(i)[2m+1] for i in linspace(0,tf,100)]*A, lab = \"Model\")"
   ]
  },
  {
   "cell_type": "code",
   "execution_count": 8,
   "metadata": {
    "collapsed": false
   },
   "outputs": [
    {
     "name": "stdout",
     "output_type": "stream",
     "text": [
      "  "
     ]
    },
    {
     "name": "stderr",
     "output_type": "stream",
     "text": [
      "WARNING: Method definition p(Any) in module Main at In[6]:9 overwritten at In[8]:9.\n"
     ]
    },
    {
     "name": "stdout",
     "output_type": "stream",
     "text": [
      "9.238539 seconds (52.09 M allocations: 4.229 GB, 9.09% gc time)\n"
     ]
    }
   ],
   "source": [
    "V = 5.5e-6     #Volume of emulsion, m3\n",
    "A = pi*.03^2   #Area of petri dish, m2\n",
    "L = V/A        #m\n",
    "k2 = 8.67       #m3/mol.s      Taken at from Supp Matt of Vericella\n",
    "Ss = 5.67e-4    #mol/Pa.m3     From http://onlinelibrary.wiley.com/doi/10.1002/(SICI)1099-0488(20000201)38:3%3C415::AID-POLB8%3E3.0.CO;2-Z/full Good references at \"Gas permeability, diffusivity and solubility of nitrogen, helium, methane, carbon dioxide and formaldehyde in dense polymeric membranes using a new on-line permeation apparatus\"\n",
    "Sl = 2.88e-4    #mol/Pa.m3     From Vericella (2015) See also confirmation report\n",
    "Ds = 2.2e-9     #m2/s          From http://onlinelibrary.wiley.com/doi/10.1002/(SICI)1099-0488(20000201)38:3%3C415::AID-POLB8%3E3.0.CO;2-Z/full Good references at \"Gas permeability, diffusivity and solubility of nitrogen, helium, methane, carbon dioxide and formaldehyde in dense polymeric membranes using a new on-line permeation apparatus\"\n",
    "Dl = 1.78e-9    #m2/s          From Vericella (2015) See also confirmation report\n",
    "p(t) = 140000   #Pa            #Consider pure CO2 environment.\n",
    "tf = 6000.0       #s \n",
    "ɛ  = 0.75\n",
    "c0 = 0.0;\n",
    "\n",
    "#This function is a little subtle. See my workbook, after p. 8\n",
    "f2 = function (c,w)\n",
    "   #Data for Function\n",
    "    Keq = 1/(1.78e-4)*1e-3                    #m3/mol   Calculate in more detail later. Sourced from http://clas.sa.ucsb.edu/staff/Resource%20Folder/Chem109ABC/Acid,%20Base%20Strength/Table%20of%20Acids%20w%20Kas%20and%20pKas.pdf\n",
    "    cKion = 600                  #mol/m3. Based on 0.3mol/L solution of K2CO3\n",
    "    nco2dot = k2*c*Sl/Ss*w             #mol/m3.s    Rate of reaction of CO2\n",
    "    ξdot = 2*nco2dot/cKion       #1/s. Rate of change of loading\n",
    "    ξ = 1/(1+2Keq*w)             #loading\n",
    "    wdot = -ξdot/(2*Keq*ξ^2)     #mol/m3.s Rate of change of OH- concentration\n",
    "    return wdot\n",
    "end\n",
    "\n",
    "ftemp = function (c,w)\n",
    "    wdot = -k2*c*Sl/Ss*w/60\n",
    "    return wdot\n",
    "end\n",
    "w0 = 1e3;     #Initial OH- concentration, mol/m3\n",
    "m = 100\n",
    "\n",
    "\n",
    "@time sol2 = LinearSIP(f2,L,tf,p,c0,w0,k2,Ss,Sl,Ds,Dl,ɛ,m);\n",
    "#@time sol = SphericalSIP(f2,R,tf,p,c0,w0,k2,Ss,Sl,Ds,Dl,ɛ,m);\n",
    "#plot(linspace(0,tf,100),[sol2(i)[2m+1] for i in linspace(0,tf,100)])\n",
    "#plot(sol(30)[m+1:2m])\n",
    "\n",
    "#Compare with Experiment\n",
    "tdata = [0, 0.25, 0.5, 1,1.5,2,2.5,3,3.5,4,4.5,5,5.5,6,6.5,7,7.5,8,8.5,9,9.5,10,10.5,11,11.5,12,12.5,13,13.5,14,14.5,15,15.5,16,16.5,17,17.5,18,18.5,19,19.5,20,21,22,23,25,30,35,40,45,50,55,60,70,80]  #Time in minutes\n",
    "pdata = [1.55,1.4430,1.4370,1.4317,1.4284,1.4257,1.4235,1.4213,1.4195,1.4179,1.4161,1.4145,1.4130,1.4117,1.4103,1.4092,1.4080,1.4070,1.4061,1.4051,1.4039,1.4031,1.4020,1.4010,1.4005,1.3996,1.3987,1.3980,1.3974,1.3968,1.3959,1.3953,1.3947,1.3940,1.3934,1.3928,1.3923,1.3917,1.3912,1.3906,1.3902,1.3896,1.3887,1.3877,1.3868,1.3853,1.3819,1.3792,1.3771,1.3755,1.3741,1.3727,1.3718,1.3700,1.3682]            #Pressure Data in bar\n",
    "pleak = [.00018*tdata[i] for i in 1:length(tdata)]\n",
    "pdata = pdata + pleak\n",
    "plot(tdata,pdata)\n",
    "V_container = 330e-6      #Volume of container, m3 \n",
    "T = 298                   #Temperature, K\n",
    "R = 8.314                 #J/K.mol\n",
    "DeltaN = [(pdata[2] - pdata[i])*1e5*V_container/(R*T) for i in 2:length(pdata)]\n",
    "\n",
    "#plot(tdata[2:end],DeltaN)\n",
    "\n",
    "#Compare this with Model - remember to adjust for small surface area:\n",
    "A = pi*.03^2\n",
    "#plot(tdata[2:end],DeltaN, line=:scatter, title=\"CO2 Absorbed\", ylabel=\"CO2 Absorbed (mol)\", xlabel=\"Time (min)\",lab=\"Experiment\")\n",
    "#plot!(linspace(0,tf,100)/60,[sol2(i)[2m+1] for i in linspace(0,tf,100)]*A, lab = \"Model\")"
   ]
  },
  {
   "cell_type": "code",
   "execution_count": 9,
   "metadata": {
    "collapsed": false
   },
   "outputs": [
    {
     "data": {
      "text/html": [
       "<img src=\"data:image/png;base64,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\" />"
      ]
     },
     "execution_count": 9,
     "metadata": {},
     "output_type": "execute_result"
    }
   ],
   "source": [
    "plot(tdata[2:end],DeltaN, line=:scatter, title=\"CO2 Absorbed\", ylabel=\"CO2 Absorbed (mol)\", xlabel=\"Time (min)\",lab=\"Experiment\")\n",
    "plot!(linspace(0,tf,100)/60,[sol2(i)[2m+1] for i in linspace(0,tf,100)]*A, lab = \"Model\")"
   ]
  },
  {
   "cell_type": "markdown",
   "metadata": {},
   "source": [
    "# More Experimental Data - Spherical Run "
   ]
  },
  {
   "cell_type": "code",
   "execution_count": 10,
   "metadata": {
    "collapsed": false
   },
   "outputs": [
    {
     "name": "stdout",
     "output_type": "stream",
     "text": [
      "  "
     ]
    },
    {
     "name": "stderr",
     "output_type": "stream",
     "text": [
      "WARNING: Method definition p(Any) in module Main at In[8]:9 overwritten at In[10]:7.\n"
     ]
    },
    {
     "name": "stdout",
     "output_type": "stream",
     "text": [
      "7.795334 seconds (40.20 M allocations: 3.233 GB, 9.83% gc time)\n"
     ]
    }
   ],
   "source": [
    "R = 0.001       #Radius, m\n",
    "k2 = 8.67       #m3/mol.s      Taken at from Supp Matt of Vericella\n",
    "Ss = 5.67e-4    #mol/Pa.m3     From http://onlinelibrary.wiley.com/doi/10.1002/(SICI)1099-0488(20000201)38:3%3C415::AID-POLB8%3E3.0.CO;2-Z/full Good references at \"Gas permeability, diffusivity and solubility of nitrogen, helium, methane, carbon dioxide and formaldehyde in dense polymeric membranes using a new on-line permeation apparatus\"\n",
    "Sl = 2.88e-4    #mol/Pa.m3     From Vericella (2015) See also confirmation report\n",
    "Ds = 2.2e-9     #m2/s          From http://onlinelibrary.wiley.com/doi/10.1002/(SICI)1099-0488(20000201)38:3%3C415::AID-POLB8%3E3.0.CO;2-Z/full Good references at \"Gas permeability, diffusivity and solubility of nitrogen, helium, methane, carbon dioxide and formaldehyde in dense polymeric membranes using a new on-line permeation apparatus\"\n",
    "Dl = 1.78e-9    #m2/s          From Vericella (2015) See also confirmation report\n",
    "p(t) = 110000   #Pa            #Consider pure CO2 environment.\n",
    "tf = 6000.0       #s \n",
    "ɛ  = 0.75\n",
    "c0 = 0.0;\n",
    "\n",
    "#This function is a little subtle. See my workbook, after p. 8\n",
    "f2 = function (c,w)\n",
    "   #Data for Function\n",
    "    Keq = 1/(1.78e-4)*1e-3                    #m3/mol   Calculate in more detail later. Sourced from http://clas.sa.ucsb.edu/staff/Resource%20Folder/Chem109ABC/Acid,%20Base%20Strength/Table%20of%20Acids%20w%20Kas%20and%20pKas.pdf\n",
    "    cKion = 600                  #mol/m3. Based on 0.3mol/L solution of K2CO3\n",
    "    nco2dot = k2*c*Sl/Ss*w             #mol/m3.s    Rate of reaction of CO2\n",
    "    ξdot = 2*nco2dot/cKion       #1/s. Rate of change of loading\n",
    "    ξ = 1/(1+2Keq*w)             #loading\n",
    "    wdot = -ξdot/(2*Keq*ξ^2)     #mol/m3.s Rate of change of OH- concentration\n",
    "    return wdot\n",
    "end\n",
    "\n",
    "ftemp = function (c,w)\n",
    "    wdot = -k2*c*Sl/Ss*w/60\n",
    "    return wdot\n",
    "end\n",
    "w0 = 1e3;     #Initial OH- concentration, mol/m3\n",
    "m = 100\n",
    "\n",
    "\n",
    "@time sol2 = SphericalSIP(f2,R,tf,p,c0,w0,k2,Ss,Sl,Ds,Dl,ɛ,m);\n",
    "#@time sol = SphericalSIP(f2,R,tf,p,c0,w0,k2,Ss,Sl,Ds,Dl,ɛ,m);\n",
    "#plot(linspace(0,tf,100),[sol2(i)[2m+1] for i in linspace(0,tf,100)])\n",
    "#plot(sol(30)[m+1:2m])\n",
    "\n",
    "\n",
    "tdata = [0.5, 1,1.5, 2 ,2.5,3,3.5,4,4.5,5,5.5,6,6.5,7,7.5,8,8.5,9,9.5,10,15,20,25,30]\n",
    "pdata = [1.1047,1.1011,1.0993,1.0985,1.0979,1.0975,1.097,1.0969,1.0968,1.0966,1.0964,1.0963,1.0963,1.0963,1.096,1.096,1.0959,1.0959,1.0957,1.0957,1.0952,1.095,1.0949,1.095]\n",
    "\n",
    "#Compare with Experiment\n",
    "plot(tdata,pdata)\n",
    "V_container = 330e-6      #Volume of container, m3 \n",
    "T = 298                   #Temperature, K\n",
    "R_gas = 8.314                 #J/K.mol\n",
    "DeltaN = [(pdata[2] - pdata[i])*1e5*V_container/(R_gas*T) for i in 2:length(pdata)]\n",
    "\n",
    "#plot(tdata[2:end],DeltaN)\n",
    "\n",
    "#Compare this with Model - remember to adjust for small surface area:\n",
    "A = pi*.03^2\n",
    "#plot(tdata[2:end],DeltaN, line=:scatter, title=\"CO2 Absorbed\", ylabel=\"CO2 Absorbed (mol)\", xlabel=\"Time (min)\",lab=\"Experiment\")\n",
    "#plot!(linspace(0,tf,100)/60,[sol2(i)[2m+1] for i in linspace(0,tf,100)]*A, lab = \"Model\")"
   ]
  },
  {
   "cell_type": "code",
   "execution_count": 11,
   "metadata": {
    "collapsed": false
   },
   "outputs": [
    {
     "data": {
      "text/html": [
       "<img src=\"data:image/png;base64,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\" />"
      ]
     },
     "execution_count": 11,
     "metadata": {},
     "output_type": "execute_result"
    }
   ],
   "source": [
    "plot(tdata[2:end],DeltaN, line=:scatter, title=\"CO2 Absorbed\", ylabel=\"CO2 Absorbed (mol)\", xlabel=\"Time (min)\",lab=\"Experiment\")\n",
    "plot!(linspace(0,tf,100)/60,[sol2(i)[2m+1]*(1.18/(1e6*4/3*pi*R^3)) for i in linspace(0,tf,100)], lab = \"Model\")"
   ]
  },
  {
   "cell_type": "markdown",
   "metadata": {},
   "source": [
    "# Use 'Verified model' to compare MECS and SIPs Material "
   ]
  },
  {
   "cell_type": "code",
   "execution_count": 12,
   "metadata": {
    "collapsed": false
   },
   "outputs": [
    {
     "name": "stdout",
     "output_type": "stream",
     "text": [
      "  "
     ]
    },
    {
     "name": "stderr",
     "output_type": "stream",
     "text": [
      "WARNING: Method definition p(Any) in module Main at In[10]:7 overwritten at In[12]:7.\n"
     ]
    },
    {
     "name": "stdout",
     "output_type": "stream",
     "text": [
      "3.505461 seconds (7.26 M allocations: 509.265 MB, 3.32% gc time)\n",
      "  3.408091 seconds (6.11 M allocations: 392.744 MB, 2.86% gc time)\n"
     ]
    }
   ],
   "source": [
    "RSIP = 0.00005       #Radius, m\n",
    "k2 = 8.67       #m3/mol.s      Taken at from Supp Matt of Vericella\n",
    "Ss = 5.67e-4    #mol/Pa.m3     From http://onlinelibrary.wiley.com/doi/10.1002/(SICI)1099-0488(20000201)38:3%3C415::AID-POLB8%3E3.0.CO;2-Z/full Good references at \"Gas permeability, diffusivity and solubility of nitrogen, helium, methane, carbon dioxide and formaldehyde in dense polymeric membranes using a new on-line permeation apparatus\"\n",
    "Sl = 2.88e-4    #mol/Pa.m3     From Vericella (2015) See also confirmation report\n",
    "Ds = 2.2e-9     #m2/s          From http://onlinelibrary.wiley.com/doi/10.1002/(SICI)1099-0488(20000201)38:3%3C415::AID-POLB8%3E3.0.CO;2-Z/full Good references at \"Gas permeability, diffusivity and solubility of nitrogen, helium, methane, carbon dioxide and formaldehyde in dense polymeric membranes using a new on-line permeation apparatus\"\n",
    "Dl = 1.78e-9    #m2/s          From Vericella (2015) See also confirmation report\n",
    "p(t) = 110000   #Pa            #Consider pure CO2 environment.\n",
    "tf = 45.0       #s \n",
    "ɛ  = 0.5\n",
    "c0 = 0.0;\n",
    "RLiq = RSIP*(1-ɛ)^(1/3)\n",
    "\n",
    "#This function is a little subtle. See my workbook, after p. 8\n",
    "cKion = 600\n",
    "function fsolidSIPS(c,w)\n",
    "   #Data for Function\n",
    "    Keq = 1/(1.78e-4)*1e-3                    #m3/mol   Calculate in more detail later. Sourced from http://clas.sa.ucsb.edu/staff/Resource%20Folder/Chem109ABC/Acid,%20Base%20Strength/Table%20of%20Acids%20w%20Kas%20and%20pKas.pdf\n",
    "    #cKion = 600                 #mol/m3. Based on 0.3mol/L solution of K2CO3\n",
    "    nco2dot = k2*c*Sl/Ss*w             #mol/m3.s    Rate of reaction of CO2\n",
    "    ξdot = 2*nco2dot/cKion       #1/s. Rate of change of loading\n",
    "    ξ = 1/(1+2Keq*w)             #loading\n",
    "    wdot = -ξdot/(2*Keq*ξ^2)     #mol/m3.s Rate of change of OH- concentration\n",
    "    return wdot\n",
    "end\n",
    "function fsolidMECS(c,w)\n",
    "   #Data for Function\n",
    "    Keq = 1/(1.78e-4)*1e-3                    #m3/mol   Calculate in more detail later. Sourced from http://clas.sa.ucsb.edu/staff/Resource%20Folder/Chem109ABC/Acid,%20Base%20Strength/Table%20of%20Acids%20w%20Kas%20and%20pKas.pdf\n",
    "    #cKion = 600                  #mol/m3. Based on 0.3mol/L solution of K2CO3\n",
    "    nco2dot = k2*c*w             #mol/m3.s    Rate of reaction of CO2\n",
    "    ξdot = 2*nco2dot/cKion       #1/s. Rate of change of loading\n",
    "    ξ = 1/(1+2Keq*w)             #loading\n",
    "    wdot = -ξdot/(2*Keq*ξ^2)     #mol/m3.s Rate of change of OH- concentration\n",
    "    return wdot\n",
    "end\n",
    "\n",
    "w0 = 1e3;     #Initial OH- concentration, mol/m3\n",
    "m = 75\n",
    "\n",
    "\n",
    "@time solSIPS = SphericalSIP(fsolidSIPS,RSIP,tf,p,c0,w0,k2,Ss,Sl,Ds,Dl,ɛ,m);\n",
    "#println([((Sl+cKion*0.5)*(1-ɛ)+Ss*ɛ)*4/3*pi*RSIP^3, solSIPS(tf)[2m+1]])\n",
    "@time solMECS = SphericalMECSNoShell(fsolidMECS,RLiq,tf,p,c0,w0,k2,Ss,Sl,Ds,Dl,ɛ,m);\n",
    "#@time sol = SphericalSIP(f2,R,tf,p,c0,w0,k2,Ss,Sl,Ds,Dl,ɛ,m);\n",
    "#plot(linspace(0,tf,100),[sol2(i)[2m+1] for i in linspace(0,tf,100)])\n",
    "#plot(sol(30)[m+1:2m])"
   ]
  },
  {
   "cell_type": "code",
   "execution_count": 13,
   "metadata": {
    "collapsed": false
   },
   "outputs": [
    {
     "name": "stdout",
     "output_type": "stream",
     "text": [
      "Assympototes\n",
      "[1.02382e-10,1.03162e-10,8.60422e-11,8.68336e-11]\n"
     ]
    },
    {
     "data": {
      "text/html": [
       "<img src=\"data:image/png;base64,iVBORw0KGgoAAAANSUhEUgAAAlgAAAGQCAYAAAByNR6YAAAABHNCSVQICAgIfAhkiAAAAAlwSFlzAAAPYQAAD2EBqD+naQAAIABJREFUeJzs3Xl8VNXdBvDn3pnJPtlDSEICZAPCohhwA0FQBEVEBVe0KNaliBtqqy9tFaui6NvqK2oLRcSliuBWQUUsCFRAUFFkMxEICSSBrLMkme3e3/vHJCORsEiWyUye7+czn7ucO+eemwPh4dwzdxQRERARERFRm1H93QAiIiKiYMOARURERNTGjP5uAHnpuo7S0lKYzWYoiuLv5hAREdFJEhHYbDakpqZCVb1jVwxYnURpaSnS09P93QwiIiI6RSUlJejRowcABqxOw2w2AwB27tyJtLQ0P7eGfg2r1Yr09HSUlJQgOjra382hk8R+C0zst5MnInDpQL0HqHcDDR6gTgMaPOLd1/hqOGJfgwdo0L3Leo94tz2Ao7Eeh0fQoAGOxuMcjeXaKXxcLtwIhBqAMBUIM3jXQw1AiEFBmMG7L6SxLKSpXFUQ0viekCPfowKhBqVx6d0O8e331hmiHLH/F8eYVLTq7lHTn8umf8sBBqxOo6ljzWYzf2kEqOjoaPZdAGK/BaZg6zenJrC7AZsbsLsBu1tg9wA2F2D3eLfrPE1l3ledRxqXaCzzHlPvAeoa959s8AkzABHGn1/hBiDcqCDSCISHAkmN5eFGpbEMPy+NQLhBQbjRW8+R+8OOCEuuehuyM9JQWX4Q8THBOR3myGtiwCIiIjoFHl1gdQFWNxqXx962ucS7bCyzuQW2xm2bG3Drxz+XQQGiTI0vIxBpAqKMCiJNQGwIkBYJRBpVRDaWRTYGpcjGY47cjmg8pilMhRkAtQPCjlUH4LS3erQoUDBgERFRl+TwCGpcQI0TqHUJap1Arav5uqVx29K4bjlivc5z7LoVANEhQLQJMJsAc4iCaJN3X0oEYDapMJu85VEmwGxSYPatA1Emxbce2XgrLVBDicvlwv79+2GxWAAABQUFiIqK8nOrfj1VVZGSktLsNuDx+AJWYWEhpk6disrKSsTExODVV19F//79j3rD8uXL8cADD0DTNAwcOBCvvvqqb5j2q6++wm233YaGhgb06NEDr7/+um8+0fHqP3z4MH7zm99gz549CA0NxUsvvYQRI0YAAOrr63HLLbdgy5YtUFUVTz75JCZPngzA+8m7e+65Bx9//DEURcG9996LGTNm+Nr6+OOPY9GiRQCAa6+9Fk888YSvbOHChXjqqaeg6zpGjx6Nl156CSaT6YTXOHnyZGzYsAFlZWWoqalBbGysr86T/RkSEVHb0MUbeKocQLVTUO1E4+uIdYc3SFU7gRqnoMYJ1LgAp9ZynUYFiA31jgzFhCiNSyA1AogJURHTuB0TovjWveFJ8QWqKFPgBqK2dODAAVx//fWor6+HrutITEzEbbfd5vukXSC64oor8PDDD5/wGpSmJ7mPHj0av/nNb3DTTTdh2bJlePrpp7Fly5ZmB9vtdmRlZWHt2rXo27cvZsyYgfDwcDzzzDPQdR25ublYsGABRo0ahWeffRZfffUVli5dihPVP23aNGRkZODRRx/Fli1bcMUVV2Dfvn0wmUx47LHHsHfvXrz66qvYt28fzjrrLOzatQsJCQl47bXXsHjxYnz22WewWCwYPHgwPv74Y/Tv3x/r1q3D7373O2zevBlGoxHDhg3D7NmzMX78eOzbtw/Dhg3Dt99+i+TkZEycOBFjx47FnXfeedxrBIDPP/8cgwYNQnJy8lEB62R+hsditVoRExPT7BMIFBia+s5isQTVnJBgx37rfHTxhp8KB1DpEFQ6vOtVjetVTkG53YNP129G9ulnocalosYF6C3MMwpRgfhQ7ysuVGlc/rweG+Jdjwvxhqm4EMW7DPXOIWI4aj1d13HHHXegvLwcjz32GEwmE3bt2oV+/frBYDD4u3m/mtvtxtatW/HCCy/g8ssvx6xZs3xlLf4+ERE5dOiQmM1mcbvdIiKi67okJydLYWGhHOmdd96RsWPH+rZ37NghaWlpIiKyefNm6dOnj6/MarVKaGioNDQ0nLD+yMhIKSsr87136NChsmrVKhERycvLk40bN/rKrrrqKlmwYIGIiFxyySXy1ltv+coefPBBmTVrloiITJ8+XebMmeMre/HFF2XKlCkiIjJ37ly5/fbbfWUrVqyQYcOGnfAajwRAampqfNsn+zM8FovFIgCkpKTkpI6nzqOp7ywWi7+bQr8C+6396bouNQ5dfqzRZX2ZJu/u1eTlHR559GuPTP+vR65a5ZbzP3JL3jsuSXrNJeoCl2B+85cy3yUJi12Su8Ql537olouXNwimLpAZa+vkya0e+cdOTZbt1WT1QU2+r9SlxKZLnVsXXdf9ffld3qFDhyQ/P18+/fRTERHxeDyyZcsW8Xg8fm5Z6yxevFjy8/PFarX69rX0+8QIeJ/bkJKSAqPRe8dQURRkZGSguLgY2dnZvoRWXFyMnj17+rZ79eqFsrIyeDyeo8qaPg1XWlqKmpqaY9YfFxcHt9uN7t27N6u3uLj4mOc8XtmmTZt8ZcOHD29W9vbbb59SnU3X2NT+lpzsz7CJ0+mE0+n0bVutVgCAzWbzrVNgaOov9ltgYb+dunoPUO5QcLhBwSEHcNih4FDj63Djq6Jxv1NvPhJkUARJoUBiqCAxTJAYKugb5d1OaNyXEAJfWawJMBxxJ8ZqtSL90lvxh8fHtTzyqAOeesDWzj8DOrEDBw5A13WkpKRA0zRomveebNMyUA0aNAi6rqOwsND373tLv0c4yd1P5syZg9mzZx+1Py8vzw+tobbAB8UGJvbbEUxhQGwaEJsCxKYCMSne9ZjUxmUKENMdCP9FsPG4AGsZYDkEWA8D1kNHvA4DtsO+/VpDLcpFUN7KprLfAkNiYiIKCgrgcrl8+7Zt2+bHFrVeUVERSkpKkJ+ff9zjjID3D+qRozQiguLiYmRkZDQ7OCMjA6tWrWp2kqZRm4yMDOzfv99XZrPZYLFYkJqaiqioqGPWn5CQAKPRiPLyct8oVlFRke/cTfWmpKT4yi666KJmZeecc84x33dkW48s27NnzzHLjnWNx3OyP8MmDz/8MGbOnOnbbnpIGR80Gnj44MPA1NX6zeoGDtYrOFivoLRBQWm9goONy7IG774aV/PRpkijICXc+0oOE3QPEySHA8lhLiQ37ksOE8SFAIqSBCCp/a+ji/VbICsoKMBtt92Gfv36oW/fvtA0Ddu2bcOgQYM63RysoqIiTJs2Dd999x169+6Nb7755pjHhoeHIz09HZ988glyc3MB/Pznspmme4UjR46URYsWiYjI0qVLJT8//6j7jlarVZKSkmTXrl0iInLnnXfK/fffLyIimqZJZmamrF69WkREnnnmGZk0aZLvvcerf+rUqfLII4+IiHcuV2pqqrhcLhEReeSRR2Tq1KkiIrJ3715JSkqSiooKERFZtGiRjB49Wjwej1RVVUlGRoZs27ZNRETWrFkjeXl5YrfbxeFwSH5+vnz00UciIrJnzx5JSUmRsrIy0XVdJkyYIC+88MIJr/FI+MUcrJP9GR4L52AFLs7lCUzB1G9uTZf9Nu88pzcKNXniW4/cvs4jl3zilgFLXRLz6tHzmrq/7pIh77nl8pVuufO/Hnlyq0deK9DkPwc02VWji9XZOecwBVO/Bbtdu3ZJfn6+79/TzjwHq6qqStavXy/Lly+X00477bjH/vK6RI4zBwsA/vGPf+Cmm27Ck08+iejoaN/jDf785z8jNTUVd9xxB8xmM/75z3/i8ssvh8fjwYABA7B48WIA3udDvPHGG7j99tvhcDiQmpqK119/HSeqHwCefvpp3HjjjcjJyUFISAjeeOMN3yMTHnzwQUybNg1ZWVkwGAyYN28eEhMTAQA33ngjtmzZgpycHCiKgpkzZ2LgwIEAgPPPPx/XXHONb/uaa67BpZdeCgDIzMzE7NmzMWzYMN+xt99+OwAc9xoBYPz48fj+++8BAP3790dOTg6++OKLE14jEdGp0nTBgTpgr01QZAP22wVFNkGRHdhvE5TUNX9id3wokBEFZEQpGJmiIj3Su94jEkiPUpAa4f3qEKKu5tlnn0VBQQHmz58PAKitrUV2djYKCgowfPhw37/nbcH3mAbyLz6mIXDx4/6BqbP1m8Ul2GsF9ljF+7J5t/fZBMV2wHPEb+qUCKBnlIJeZqBXlIKeUUBPs4KeUQoyorwPqQxWna3f6Nh2796NG264AW+88YbvFuFHm3YgLTuvzW8RxoYAmdEn/nNfW1uL3NxcFBQUIDY2Fn/729+wfft2LFy4EADwxRdf4N5778V33313zDp+eV1Ay38uOcmdiKiD1DoFhVZBoQX4ySr4ySL4yQoUWr3PeWoSbQKyor3/YFyZqCLTDPQ2K+ht9oapMGPwBigKXpUOwaSdfaHvFADHeQz+KTAoQPkNRiSGHf/vRmxsLCZPnoxXXnkF9913H15++WUsWbKkTdvShAGLiKgNuTTBHivwo0Wwu1ZQYBEUWIACi6DiiBDVLRzIjlaQEwNcnK4iO1pBVjSQFe19ECYfdEnBJjFMwbt5u9ttBOtE4arJ3Xffjcsuuwz9+vVDUlISBg8e3KZtacKARUR0Ciwuwa4awW4LsKtGsKvWG6j22n6eDxVtAnJjFPSJBcakqciNUZAboyA7xvs1K0RdTY9QFwYnKjD4cQ5g3759kZmZidtuuw1z585tt/MwYBERHYfFJdhRI9hZA+yoEd+rtP7nY3pGAf1iFYzPUNE3FugTo6BvrILkcI5EEXVGt956K2bMmOH7buP6+nrk5ubC6XTCYrGgR48euPHGGzFnzpxTPgcDFhERALcu2F0LbKsW/FAt2F4t+KHGO8EcAFQFyDID/eMU3JSrIi9OQV6sgtwYIDKIJ5UTBaM1a9Zg+vTpvicWRERE4MCBA216DgYsIupyqh2CLw+pwIX34I6vTNhpdWNnLeDWveXpkcDAeAXXZakYEKdgQLyCvjGcXE4U6EpLSzF69GjEx8dj5cqV7XouBiwiCmqldYJvKgXfVgq2Vnlf3lGpUODy2fjRqmJokoLf9lVwWryCgfEKYkMZpIiCUWpqKnbv3t0h52LAIqKgUVYv2FLhDVTfNC7LG7xlCaHA4EQF12SqOD1BQU5YHc7MiMea2ho+T4mI2hwDFhEFJKvLG6Y2V3iXWyq8TzsHgKQwID9RwS19VOQnKshPUpAe2XzCudUqgOh+aj0RBTsGLCLq9HQR7KoBNh4WbDqs46vDgh01gAAwm4AhiQqmZHtv9Q1tIUwREXU0Biwi6nTq3N6RqS/LBRsOCzYeEtS6vJ/kGxAHnJusYuZABWd1U9A3FlAZpoiok2HAIiK/q3II/lsuWN/4+rZS4BEgJgQ4p5uC+weqODdZwZndlKD+nj0i8o/Vq1fjoYcegt1uh6IoGD9+PJ566imoqnrKdTJgEVGHq2gQrC3zvr4o07G9xru/RyRwXncFN+eqGN5dRV4cR6eIqP3FxcXh7bffRmZmJhwOBy688EK89tpruOmmm065TgYsImp3NU7BF6WC1aWCNWU6djQGquxoYGSKggcHqRiR4v0iY86dIqL28uyzz6KgoADz588HANTW1iI7OxsFBQWIj48HAISFheH0009HUVFRq87FgEVEba7B473l9/lBb6j6tkqgC5AVDYxKUfDw6SpGdlfQI4phiog6zm9/+1vk5uZi7ty5iI2NxaJFizBx4kRfuAKA8vJyLFu2DMuXL2/VuRiwiKjVRLyf6vvsgI6VBwTrygUODegeDlyQpmB6ngGjUxX0NDNQEXVlBls13Ad+gtaKuU0tUcOjYExMOeFxsbGxmDx5Ml555RXcd999ePnll7FkyRJfudVqxYQJE/D73/8eQ4YMaVWbGLCI6JRYXd4Rqo9LdHx6QHCwDggzeG/5PTFExdge3jlUvOVHRACg2y1I/PffUCnS9pWrKlIeewuGqJgTHnr33XfjsssuQ79+/ZCUlITBgwcDAGw2G8aNG4eJEydi5syZrW4SAxYRnbQfawUfFetYUey9BegRoG8scE2minE9FJzXXeH39RFRi9SoGFRedh/6ZfZs1afzWqw7POqkwhUA9O3bF5mZmbjtttswd+5cAIDdbse4ceMwbtw4/PGPf2yTNjFgEdExeXRvkPqoWPDRfh2FViDcAIxOVfD8uSou7qGidzQDFRGdHM0cD1OPbBgMBr+249Zbb8WMGTMwefJkAMDzzz+PzZs3o66uDu+99x4A4KqrrsKsWbNO+RwMWETUTL1HsLJE8MF+HR8VC2qcQEoEcGmGgv89W8UFaQoiOEpFRAFszZo1mD59OkwmEwBg1qxZrQpTLWHAIiLUOr2jVO/t805Sb9CA/nHA9H4qJvZSkJ+o8HlURBTwSktLMXr0aMTHx2PlypXtei4GLKIuqtYp+HC/YOleHZ8dFLh14OxuCh7NV3FFLxU5MQxURBRcUlNTsXv37g45FwMWURdid3tD1Vs/eUOVRweGJSt49iwVk3qrSItkqCIiagsMWERBzqkJVh4Q/OsnHf/e7739NyxZwf82hqpUhioiojbHgEUUhEQEXx0WvFYoeHuvjhonMCgeeOQMFddmqXzgJxG1u6ZHMbjdbj+3pG05HA4AgNF4/AjFgEUURPbbBK8X6nit0PtIhbRI4Pa+KqZkqxgQz1BFRB0nNTUVISEhWLBgAW699VaoqoqioiKEh4f7/TENp0LTNBw4cADz5s1DREQEMjIyjns8AxZRgHN4BO8XCV4p0PGfg4IIIzCpt4KXh6s4P0WBQWWwIqKOFxUVhb/+9a+YOXMmNmzYAF3XUVJSgvT09DZ/0GhHys/Px9///neEhIQc9zgGLKIA9V2VYOFuHW/u8d4CHJ6s4JWRBkzurSDKxFBFRP539tln47PPPkNpaSmsViuGDh2KTz75BFFRUf5u2q+mqiri4uKQkJBwUgGRAYsogNR7BEv2CP6+S8fmCkH3cOC2viqm5arIjWWoIqLOJyoqCrm5ubBarQCA3NxcREdH+7lV7Y8BiygA7KrxhqrFhTosLmBsDwXvjzFgfIYCE28BEhF1OgxYRJ2Upgs+LhH83w4dnx8UJIUBv+un4ta+KjL5/X9ERJ0aAxZRJ1PrFCwq0DFvh469NuCsbgreHGXApN4KQg0MVkREgYABi6iTKLIJnt+u458/6nBqwNWZCv41WsVZ3QL30zZERF0VAxaRn31doeN/f9CxdK8gJgS4d4CK6XkqUiI4WkVEFKgYsIj8QESw6qBgznc6vigTZJqB589RcVOuikg+YoGIKOAxYBF1IF0EHxQJnvxOxzeVgiGJCpZeYMAVvfhAUCKiYMKARdQBPLrgrT2COd9p2FULjEpR8NnFBlyYpkBRGKyIiIINAxZRO9Iag9Vj32ootAKXZihYOELFOcmcuE5EFMwYsIjagaYLluz1BqsfLcBlPRUsucCAwYkcrSIi6goYsIjakDTOsZr1tfdW4KUZ3mdY5ScxWBERdSUMWERt5L+HVfxljYZNhwVj0hS8OlLFmXyGFRFRl8SARdRK22sV4K4PMH5NKPITgVWXGHBhGoMVEVFXxoBFdIrK6gV/3KJhUUEo0C0Hi85x4Tf9I6DyU4FERF0e/5tN9Cs1eARPbNWQs8SDD/YLnh7sBh49DVdmaAxXREQEgCNYRCdNRPDOXsHvN2sorQNm9Ffx5zNUGJwN+L3m8XfziIioE2HAIjoJO6oFd27QsLZMcFlPBasuNiA31jtaZXX6uXFERAQRATxuiMcN0bxL37bH493WmrbdgObx7tea1r3HQfNAGl/wuFteb3xv07FWe91R7WHAIjoOq0sw+1sdz2/XkRUNrLzYgIt68M46EdGRRMQbNtwuiMcFcTl/Xnd7X25LLS7OTob7+/WoMxl8+8Xj8oYbt3eJxqXvvZ5fhCW3q4UA5Q1JrWIwQjEYAKMJisEExWAEjEYoqhGK0eRdN3hfaFqaTFBDw2Ewhh1VHQMWUQtEBG/vEdz/lQaLC/jLEBUzB6oINXCOFREFDm/wcUOcTuguB6Tp5XZCnI1LlxN649Jb5vLtb7bdtM/tOmJ/U5kLEP2E7Zk//nQ0vPsCGgDAYIJiNEExhXhfjeswmqAYf96nhkU0BpzGYxvf59s2mnwvNK0bfrFtNP0cjJqO9a0bvW1pxRxak9UK3P5os30MWES/UGQT3PFfDSsPCK7speBv5xiQEcVgRUTtSzQN4qyH7nRAnPUQpwO6swHS+NKdDd5g42zwhiWnd11cjiPKvAHqyDAF/cTBBwCUkFAoprDGZQgUU2jjunepRsZAiQ35eV/TMc3WQ454hR4RnEJhdzjROzsXRQdLER0XD0UN7rsBDFhEjTRd8MIOHbO+1pEQCiwfa8D4jOD+BUBErSO6DnE1QHfUQxrqvEtHPXRn49Lxi6Wz4YjyxtDk9O6H23X8kykqlNAwKKHhUEPCvOsh4VBCwryjPNHxvn0/l3sDkxrStN4YoJqWJm8ZTCHt/sXzqtWKWqfbG7qCPFwBDFhEAIBtVYLfrtfwdYXgzjwVTw5VYQ7hqBVRsBNdgzTUQ2+wH/GqgzQuW9puClJ6Qx3EWQ+IHLN+JTQcSlgE1KZlWASU0AgYI7tDCQuHGhoBJSzi55AUGu47VgkNgxoS7tvXESGI2g4DFnVpHl3w1Hc6Zn+rIzcG+PIyA85JDv7/WREFG3E5odfboNVbodfZoNc3vhrXpcHeuM8OvaFxWW+HOI7+9FcTJSwCangU1PBIKOFRUMMiYIxP9q2r4ZFQwiKhhkU2HhvpDUlhEd59oWFQVEMH/hSoM2HAoi5rV41g6loN31QKHj5NxZ/O4CR2os5APC5odgv0pledFXqdFVqdFY6aCrx08SDULXoMDc566I2BStwtPC9FUaCER0INN0ONiIIaYYYaGQ1jUlrjdhTU8ChvYGpcb3op4REMR9QqDFjU5egieO4HHf/ztY5eUcCGyww4i1/KTNRuRNOg22sbQ1MtNFsNdFstdLsFmr3WF6SaQpU464+uxGiCISoGEhaF2LAQKJHRCEnrBTUiGmpkNNRIs3c9wgxDpHfJkET+xIBFXUqxXXDjGg3rygX3DlDxxFAVEUaOWhH9WqLr3tEjaw00Ww00SzV0Ww00a7U3NDXu12210OssR71fCQmDao6FISoWalQMjN0zENq4rkbGQI2KhsG3HuOdlK0osFqtuP7hGFhe/Q+io6P9cOVEJ4cBi7qMZXt13Lpeg9kErBlvwPmpHLUi+iURgTTYoVmqmr+sVdAs1dAsVdCt1dBsNUc92FEJi4QhOg6qOQ4GcxxM3TOgRsfDYI717msKUOZY7yfXiIIYAxYFvXqP4L6NOubv1jG5t4L55xkQF8pRK+p6RMR7K662AlptZfOlpcq7bqk6aj6TGhkDQ0w81OgEmLr3hKHPYBhiEmAwx3kDVHQ8DOY4KCGhfroyos6HAYuC2rYqwbWrPSiyAQvOM+CWPgo/5kxBS3c5oNVUQKs+BE9tBbSaw97t2gp4ag5Dq60EPO6f32AwwRCbAENMIgyxiTCl58AQmwRDTLx3X0wCDNFxUIwh/rsoogDFgEVBa+FuHXdu0NAnBvjmCiP6xTFYUWATtwue6kPwVJVDqy6Hp/oQtKrGZc1h6PYj5jopqndkKS4JhrhuCE/PgTE2yRugYhNhiEvyPpm7CzzwkcgfGLAo6Dg8ghkbNCz8UXBbXxXPn6MijBPZKQA03cLzVJbCU1nqDU9V5fBUlcFTVQ7dUvXzwaoBhvhuMMYnw5SWifABZ8MQlwxjfDcY4rrBEJvo/e41IvIL/u2joFJkE0z63IOdNcArIwy4uQ//d06di4hAt1Z7Q1RFKTwVB39eryqDOBt8x6rmOBgTU2BM6I7QnNNhTOgOY3wyDAndYYhJ4CMIiDoxBiwKGp+W6JiyRkNMCLDhMiMGJ3LUivxHd9TDc/gAPIcPwF1x0LtecRCeioM/hyhFgSE2CcakVIT06ouIIaNhTEyBITEFxoQU79ejEFFAYsCigCcieHabjj9s1nFxuoI3RvFTgtQxvLf0auEuL4anfD/ch0rgOVwCz6ED0CyVvuPU6DgYk3ogJD0HEWecD2NSGoxJqTAmpEAxcQI5UTBiwKKA5tQEt6/XsLhQ8D+nq/jLEBUqPyVI7UCz1cJdVgR3WZE3TJXvh/tQMaTe7j3AYIQxKRWm5AxEnHkhjMnpMHVLh7FbGtSwSH82nYj8wDdBpbCwEOeeey5yc3MxdOhQ7Nixo8U3LF++HH379kVOTg6uvPJKWK1WX9lXX32F0047Dbm5uRg9ejQOHjzoKzte/YcPH8a4ceOQk5ODAQMGYN26db6y+vp6XHfddcjOzkZubi6WLVvmK9N1HXfddReysrKQnZ2NefPmNWvr448/jqysLGRlZWHWrFnNyhYuXIicnBxkZWXh1ltvhdv980eXT/UaP/74Y5xxxhk4/fTTMWDAACxevPg4P3pqrcMNggtWaHh7r+CNUQY8MdTAcEWtpjsdcO3/EXUbP0Htey+j4sU/oHTWNSj707WofOkhWD5aCFdxAQzxyTCPmoyEaX9C8sMLkDb3Q3R/aD4Sbv4jYsbfhMghFyAkI5fhiqirkkajRo2SRYsWiYjI0qVLZciQIfJLNptNunXrJrt27RIRkTvvvFMeeOABERHRNE2ysrJk9erVIiLyzDPPyOTJk33vPV79N998szzyyCMiIrJ582ZJS0sTl8slIiKzZ8+WqVOniojI3r17JSkpSSorK0VEZPHixTJ69GjxeDxSVVUlGRkZsn37dhERWbt2reTl5YndbheHwyH5+fmyfPlyXz0pKSlSVlYmuq7LhAkTZN68ea26Rl3XJS4uTr7//nsREdm3b5+EhoaK1Wo96ufYEovFIgCkpKTkpI7v6r6v1KXnv1yS/LpLNh3S/NqWpr6zWCx+bQf9OrW1tZISFSaVm1eLZeWbUvnKX6TsLzdLyb3jpOSesVJy78VSWFLyAAAgAElEQVRS9sQtUvnKX8TyyetS/916cR0qEd3j8XfTuzT+fQtcwdx3LV0bREQOHTokZrNZ3G63iHjDQnJyshQWFjar4J133pGxY8f6tnfs2CFpaWki4g1Gffr08ZVZrVYJDQ2VhoaGE9YfGRkpZWVlvvcOHTpUVq1aJSIieXl5snHjRl/ZVVddJQsWLBARkUsuuUTeeustX9mDDz4os2bNEhGR6dOny5w5c3xlL774okyZMkVERObOnSu33367r2zFihUybNiwVl2jrusSHx8va9euFRGR77//XlJTU8XpdMrJYMA6eZ8WaxK1yCWnv+uSYpvu7+YE9S+NYKFrmrjKi6Xu69VS8+ECOfziH+TAQ5O8QeqesXLgoUly+IUHpebdl8W+aaU4iwtEdzr83WxqAf++Ba5g7ruWrs0IACUlJUhJSYHR6J2SpSgKMjIyUFxcjOzsbN9oV3FxMXr27Onb7tWrF8rKyuDxeI4qM5vNiI6ORmlpKWpqao5Zf1xcHNxuN7p3796s3uLi4mOe83hlmzZt8pUNHz68Wdnbb799SnWezDVmZmZiyZIluPLKKxEZGYmamhq89957CAlpeQKr0+mE0/nz11E03Ya02WzNbklSc2/tM2DGFhMuTNHxyjkuROqAv39cTf3FfuscRNeh1xyCfnAPtNK90A7ugVa2D3A5AABKTCIMKb0gg0dj2kOP4pXlqxCV1sv3hH+t8eVwOAGH89gnIr/g37fAFcx919I1cZJ7G/F4PHj88cfx3nvvYcSIEdiyZQsuu+wy/PDDD0hMTDzq+Dlz5mD27NlH7c/Ly+uI5gamcQ8CVz4BrF+IT9+cgVRd83eLmklPT/d3E7qkxIgQnJ4cg9OTYzC4ewwGJccgNswEANhvqce2Q1ZsO2zB9sNWbK+wodbhbvb+9P6n+6PZ1Er8+xa4ukrfGQHvxTaN0hiNRogIiouLkZGR0ezgjIwMrFq1yrddVFTkG5nKyMjA/v37fWU2mw0WiwWpqamIioo6Zv0JCQkwGo0oLy/3jWIVFRX5zt1Ub0pKiq/soosualZ2zjnnHPN9R7b1yLI9e/Ycs+xUrvG7775DaWkpRowYAQAYOnQoevToga1bt2LMmDFH/eAffvhhzJw507dttVqRnp6OnTt3Ii0t7dg91gVpOvDQVhPm/2TEQ/3deOjq66HMu97fzfJp6ruSkhJER0f7uzlBTTwe6IeK4CkpgFZSAK2kEFJbAQBQImNg6JENQ48cGFIzoaZlYWCEGQMBTGmhLvZbYGK/Ba5g7ruma2um6V7hyJEjm01Cz8/PP+oeo9VqlaSkpGYTwO+//34R8U4Az8zMbDYBfNKkSb73Hq/+qVOnNpvknpqa6pvk/sgjjxw1yb2iokJERBYtWnTUJPdt27aJiMiaNWuOmuT+0UcfiYjInj17jprk/sILL7TqGsvLyyUqKkp27twpIiKFhYUSFxcn+/fvP8GdWy/OwWqZw6PL5FVuURe45B87/TuZ/ViCeV6Bv3nsFqn/YaPU/nuhHHp+ppQ8MME7b+r+S+XQc/dJzfv/kLqta8VdfUh0/dfNx2O/BSb2W+AK5r475iR3EZHdu3fL2WefLTk5OZKfn+8LKn/605/k5Zdf9r3hww8/lD59+khWVpZMnDhRamtrfWUbNmyQgQMHSk5OjowcOVKKi4vlRPWLeMPJmDFjJDs7W/Ly8nwBRkTEbrfL1VdfLZmZmZKTkyNLlizxlXk8Hpk+fbr07t1bMjMz5bnnnmt2wbNnz5bevXtL79695aGHHmpWNn/+fMnMzJTMzEyZNm2aL9C15hr/9a9/yYABA2TQoEEyYMAAefPNN4/bIUdiwDpavVuXcR+7JWyhSz7Y1znDlUhw/9LoaO6qcrFvXiXVb/1Nyp74rW8S+sE/Xy+Vix4X65r3xLFvl+juk/vwyPGw3wIT+y1wBXPftXRtiohIxw2i0bFYrVbExMSgpKQEPXr08Hdz/K7OLZiwUsNXFYKPLjJgdFrn/U7Bpr6zWCxBN+zdnkQEnspSOH/aBtdP2+Dcsx1a4+0+Y0ovhPbuj5DMPIT27g9DfLJvEnpbYb8FJvZb4Armvmvp2jjJnTodq0twyacatlULVl5swPDunTdc0a/jqSqHs/B7OH/6Hs7Cbd6vk1FUmHpkIXzwCIRmDkBIZn8YIoPrly8RdT0MWNSp1DgF4z7RUGARrLrEgLO6MVwFMq3O6g1UBVvhKNgKrbIMUBSYemQj/IyRCM0ehNCsAXzaOREFHQYs6jSqHYILP/ag2A6sHm/E4ER+7U2gEU2Da/8uOHZ9Dcfub+A+8BMgAmO3HgjrOwRhuYMRmj0QaoTZ300lImpXDFjUKVhcgrGfaCipA7641IgB8QxXgcJTWwHHrq/h3PU1HAVbIY56qJHRCM0djKjhExCaOxjGuCR/N5OIqEMxYJHf1bkF4z/V8JNVGK4CgG+UaucWOHZugbt0L6CoCOnVF+ZRkxDWbwhMPbKhqAZ/N5WIyG8YsMivHB7BxM80fF8t+PwSA05LYLjqjHRHHRy7v4Fj+1dw7NwMvd4GNTIGYf2GwHzh1Qjrkw81krf9iIiaMGCR37g0weTPNWw4JPj0Yk5o72w0SxUaftiAhh82wvnTNkDzwJTSC5HDxiOs/1kIycjlKBUR0TEwYJFfeHTB9Ws0rDooWD7WgBEpDFedgaeqHA3bvkTDti/hKtoFKApCswYh5rLfInzA2TAmdD9xJURExIBFHU9EcNcGHR8UCd4bY8CYHgxX/uSpLEP9d+vR8N0676f+jCaE9c1H3HUzEd7/bN76IyI6BQxY1OGe/l7H33fpWDjCgMt6Mlz5g6fmMBq2rkP9d+vgLi6AYgpFWP8zYR59FcLyhkINi/B3E4mIAhoDFnWof/2k4+EtOv58hoppfRiuOpJWZ0XDd+tR/80auPZu945U5Q2F+fxJCOt/JtTQcH83kYgoaDBgUYdZU6rjprUabspV8OgZDFcdQdwuNGzfhPqv/wPH7m8A0RGaOxhxUx5A+MBz+AR1IqJ2woBFHWJ7teCKVRrOT1Ew/zxDm39xL/1MROAq2oX6zatQv3UdxFGHkJ59ETvxVoQPHgGDOc7fTSQiCnoMWNTuyusFl3zqQc8oYNmFBphUhqv24KmtQP3mz1G/5XN4Kg7CENcNUSMuQ8SQC2Dq1sPfzSMi6lIYsKhdOTXBlas0eAT4eJwR0SEMV21JNA8cO7egbtOncOzcAsVkQvhp5yH26rsRmjUQispbsURE/sCARe3q7g06vqkUrJtgQFokw1Vb8VSVo27jJ6jb/Bl0aw1MGbmIvWoGIs4YyXlVRESdAAMWtZt/7NIwf7eOV0bwKe1tQXQdjt3foO7L5XDs3AwlNAIRQ0Yj8pyLEZKW6e/mERHRERiwqF38t1zHjC91zMhTcTMfx9Aqer0NdZtWwv7lCmhVZTClZSHu6rsRfsYoqKFh/m4eERG1gAGL2twBu2DS5xqGdVfw13MYrk6V+1AJ7Os+RP2WVRBNR8Tg8xB54+8R0rMvP4VJRNTJMWBRm3J4vI9jCDMASy/gJwZ/LRGBc/c3sK19H87d30CNjoN59NWIHHYJH69ARBRAGLCoTT3wlY4fagQbLjMiKZzh6mSJx436b7+Abc278JQVwZSeg7gpDyBi8AgoxhB/N4+IiH4lBixqM+/v0/HiTh0vDVNxRiLD1cnQG+pQt/Fj2Nd+CM1SibD+ZyFu8p0IyRzA24BERAGMAYvaRLFdcMt6DVf0UnBHP867OhHNboF97fuwr/83xO1GxJBRMI+aBFP3nv5uGhERtQEGLGo1jy64frUGswlYOIJfg3M8mqUKti/eQ92XywEoiBw2Hubzr4QhJsHfTSMiojbEgEWt9ti3OjYdFqy91IC4UIarlmi1lbB+vgR1mz6FYgxB1PmTEDXychgio/3dNCIiagcMWNQqa0p1PL5Vx1+GqBjWnbcGf0mz1cD2+Tuwf7kcakgYoi+6HlHnXQY1nE9bJyIKZgxYdMoqHYIb1mg4P0XBQ6cxXB1Jq7PCvnoZ7Os/BFQDoi+8FlHnX86vsSEi6iIYsOiU3b1BQ4MGvDHKAAOfdwUA0J0O2Ne+D9vqpYCuI2rkFTCPmgQ1wuzvphERUQdiwKJT8kGRjrf2CN4YZUAqv8QZBkWB6+vPUf7FMuh1VkQNnwDzmGtgiIr1d9OIiMgPGLDoV6t2CO74r4YJGQquz+ra4UpE4N65GZ/fcC4cHy1ARP4oRF/8GxgTuvu7aURE5EcMWPSr3btRg1MD/j68az+SwXVgD2rf/ztce37AQZsDp816CXF9Bvm7WURE1AkwYNGvsqJYx+s/CRaN7Lq3BjVbDawrFqPuq5UwdktHxI3/gxuGjIRlcS9/N42IiDoJBiw6abVOwW3rNVycrmBqTtcLV+Jxw77uA1hXvgXFYEDslb9D5LmXwFZX7++mERFRJ8OARSft/k0a7G5gfhe8Nego/B61y16Ep+IAooZdiuhxN0KN5CcDiYioZQxYdFL+c1DHKwWCBecZ0COq64QrzVYDy4cLUP/1aoT0zkO3B+YhJDXT380iIqJOjgGLTsitC+7aoOG87gpu6dM1wpXoOuo2rIBl+atQDAbEXTcTEUMvhKLygapERHRiDFh0Qi9s1/GjBXhrdNe4NeguL0bNkufg2rcTkWePQ/SEafzOQCIi+lUYsOi4yuoFj36rY3o/FaclBHe4Es0D23/egXXlWzDGd0PSXc8gNGugv5tFREQBiAGLjuuhzRpCDcBjQ4L71piruAA1b/8N7vL9MI+ajOixU6CEhPq7WUREFKAYsOiYNhzS8Vqhd2J7XGhwjl6Jxw3rZ/+CbdUSmFJ7o9vM/0NIj2x/N4uIiAIcAxa1SNMFM77UMCRRwbQgndjuLitC9ZvPwF1ahOixU2Aecw0UA/9KEBFR6/FfE2rRP3/UsbUK2DRRhRpkE9tF12D/4n1YViyGMSkF3e57DiHpOf5uFhERBREGLDpKtUPwP1t03Jyr4KxuwTX3ylNzGNVvPAPX3u2IGnkFYsbfBMUU4u9mERFRkGHAoqM89b0Olw7MGWrwd1PaVMO2Dah++69QQ8KROP0phOWc5u8mERFRkGLAomZK6wQv7NDxh9NUJEcEx61Bcbtg+fc/YV//b4QNPBfx197Hr7khIqJ2xYBFzTy+VUeEEZg5MDhuDboPH0D14jlwlxcjdtJ0RA6f0CUelkpERP7FgEU+e62CBbt1PDlURXRI4IeQ+u/WoeZff4UhJsE7kb1Hlr+bREREXQQDFvk8+o2GpHDgzv6BPXolmgbL8ldgX/MuwgePRNy190INDfd3s4iIqAthwCIAwI5qwRs/CV4cpiLCGLijV5qtFtWLn4Rz73bEXH47okZezluCRETU4RiwCADw52809DIDt/QJ3NErZ9FuVL/6OETTkHTn0/weQSIi8hsGLMKWCh3vFQkWjzQgxBCYoz11mz9HzZLnEZKejYSbZsEQm+jvJhERURfGgEX44xYd/WKBKdmBF65E12Fd8Sps/3kHEWePRdzkGVCMJn83i4iIujgGrC5ufZmOzw4K3r3QAIMaWAFLdzpQ/eZcOH7YiJiJtyLq/Cs534qIiDoFBqwubu42HQPigCt6BVYw8dRWoOqfj8Jz+CASbnkE4QPO9neTiIiIfBiwurBdNYLlxYJXRxoCauTHdWAPKuf/CYpqQNI9f0VIWqa/m0RERNQMA1YX9tcfNKRGANdlBU64chR+j6qFs2FMSkPirbNhiI73d5OIiIiOwoDVRZXXC14rFDyWrwbMJwfrv1uP6tfnIjR7IBJu/iPUsAh/N4mIiKhFDFhd1LwdOkIMwO39AuO5V/b/Lkftuy8ifPBIxF9/Pz8pSEREnRoDVhdU5xa8tEvHrX1UxIZ27tErEYH10zdgW/kmokZcjpjLb4OiBkYoJCKirosBqwtaVKDD6gLuGdC5g4qIwPL+P2Bf9wGiL70Z5guuDqjJ+ERE1HUxYHUxHl3w1x90XJ2poKe584YV0XXULnsRdRtWIHbyDEQNv9TfTSIiIjppDFhdzPtFgn02YOkFBn835ZhE11Cz5HnUb16FuGvvQ+TZY/3dJCIiol+FAasLERE8s03HqBQF+Umdc/RKNA01b/0v6r/5AnFTHkDkkAv83SQiIqJfjQGrC/nykGBLhWDF2M45eiWaB9Wvz0XDtv8i/jcPIWLwCH83iYiI6JQwYHUhC3bryIoGxqV3vtEr0XVU/+t/0bDtSyTcNAvhg4b5u0lERESnzPcxssLCQpx77rnIzc3F0KFDsWPHjhbfsHz5cvTt2xc5OTm48sorYbVafWVfffUVTjvtNOTm5mL06NE4ePCgr+x49R8+fBjjxo1DTk4OBgwYgHXr1vnK6uvrcd111yE7Oxu5ublYtmyZr0zXddx1113IyspCdnY25s2b16ytjz/+OLKyspCVlYVZs2Y1K1u4cCFycnKQlZWFW2+9FW63u9XX6HQ6MWPGDOTk5GDgwIG44YYbjvOj71gWl2DpXsG0XBVqJ/sknoigdtk8NHy7FvG/+QPDFRERBT5pNGrUKFm0aJGIiCxdulSGDBkiv2Sz2aRbt26ya9cuERG588475YEHHhAREU3TJCsrS1avXi0iIs8884xMnjzZ997j1X/zzTfLI488IiIimzdvlrS0NHG5XCIiMnv2bJk6daqIiOzdu1eSkpKksrJSREQWL14so0ePFo/HI1VVVZKRkSHbt28XEZG1a9dKXl6e2O12cTgckp+fL8uXL/fVk5KSImVlZaLrukyYMEHmzZvX6mu89957ZcaMGaLruoiIlJWVHfUzPBaLxSIApKSk5KTf82v8fadH1AUuOWDX26X+U6XrutR8MF9K7hkr9k0r/d2cU9LUdxaLxd9NoV+B/RaY2G+BK5j7rqVrg4jIoUOHxGw2i9vtFhHvP3rJyclSWFjYrIJ33nlHxo4d69vesWOHpKWliYg3GPXp08dXZrVaJTQ0VBoaGk5Yf2RkZLMwMnToUFm1apWIiOTl5cnGjRt9ZVdddZUsWLBAREQuueQSeeutt3xlDz74oMyaNUtERKZPny5z5szxlb344osyZcoUERGZO3eu3H777b6yFStWyLBhw1p1jXa7Xcxm8yn/wWnvgHXm+24Z/4m7XepuDcsnb0jJPWPFtvYDfzfllAXzL41gxn4LTOy3wBXMfdfStRkBoKSkBCkpKTAavVOyFEVBRkYGiouLkZ2d7RvtKi4uRs+ePX3bvXr1QllZGTwez1FlZrMZ0dHRKC0tRU1NzTHrj4uLg9vtRvfu3ZvVW1xcfMxzHq9s06ZNvrLhw4c3K3v77bdPqc6TuUa73Y74+Hg8+eST+PzzzxEeHo5HH30UF1zQ8qfgnE4nnE6nb7vpNqTNZmt2S7It7KxVsLkiDK8Pc8Jq1du07tZwblgO56evI/SCa6GfPqrNr7ujNLU7UNvfVbHfAhP7LXAFc9+1dE2c5N5GPB4P9u/fj7y8PDz11FPYunUrxowZgx07diA5Ofmo4+fMmYPZs2cftT8vL6/tG3f1M8CZ1+HGQb0BzX3i4zvAlX1T8PzYQZi3ZS+efv5mADf7u0mtlp6e7u8m0ClgvwUm9lvg6ip9ZwS8F9s0SmM0GiEiKC4uRkZGRrODMzIysGrVKt92UVGRb2QqIyMD+/fv95XZbDZYLBakpqYiKirqmPUnJCTAaDSivLzcN4pVVFTkO3dTvSkpKb6yiy66qFnZOeecc8z3HdnWI8v27NlzzLJTucbo6GioqoopU6YAAAYPHozevXvjhx9+aDFgPfzww5g5c6Zv22q1Ij09HTt37kRaWtqxe+xXcmlAn3+H4freHjxRXdlm9baGZ88PqH/9SZhOH4GHZy/B/3SySfe/VlPflZSUIDo62t/NoZPEfgtM7LfAFcx913RtzTTdKxw5cmSzSej5+flH3WO0Wq2SlJTUbAL4/fffLyLeCeCZmZnNJoBPmjTJ997j1T916tRmk9xTU1N9k9wfeeSRoya5V1RUiIjIokWLjprkvm3bNhERWbNmzVGT3D/66CMREdmzZ89Rk9xfeOGFVl/jmDFjZMWKFb62JiQkyIEDB45z1/Zn7TUHa+keTTDfJTuqO8fkdlfpPjnwhyvk8EsPi+7pfHPCTkUwzysIZuy3wMR+C1zB3HfHnOQuIrJ79245++yzJScnR/Lz831B5U9/+pO8/PLLvjd8+OGH0qdPH8nKypKJEydKbW2tr2zDhg0ycOBAycnJkZEjR0pxcbGcqH4RkfLychkzZoxkZ2dLXl6eL8CIiNjtdrn66qslMzNTcnJyZMmSJb4yj8cj06dPl969e0tmZqY899xzzS549uzZ0rt3b+ndu7c89NBDzcrmz58vmZmZkpmZKdOmTfMFutZc4549e+T888+XAQMGyKBBg2TZsmXH7ZAjtVfAGvexW87+oHMEGU9tpZQ+coOUP/070Rrs/m5OmwnmXxrBjP0WmNhvgSuY+66la1NERDpuEI2OxWq1IiYmBiUlJejRo0eb1FliF/R8y4P55xnw277qid/QjnRHPSpeeBB6nQXd7n0OhthEv7anLTX1ncViCbph72DGfgtM7LfAFcx919K1+fdfXWpXiwt0hBuBqzP9O8dJNA1Vrz4JT1UZEm/7S1CFKyIiopYwYAUpXQSvFOi4OlNBdIh/A5blwwVwFmxFws1/hCm1t1/bQkRE1BEYsILUujLBPhtwSx//dnHdls9hX/cBYq+4HWF9zvBrW4iIiDoKA1aQWrpPkBEFDEv23+iVq6QQNe/8HyLOHIPI4RP81g4iIqKOxoAVhHQRfLhfxxW9VCh+esaUZq9F1St/gal7T8RddZff2kFEROQPDFhB6OsKwcE64PKe/gk1onlQ/eqTELcLCdP+DMUU4pd2EBER+QsDVhB6v0iQEAoM7+6fgGX58J9w7t2BhJtnwRiX5Jc2EBER+RMDVhB6v0jHZT0VGNWOD1j13671TWoPzRrY4ecnIiLqDBiwgsyuGsGPFuCKXh3ftZ6qctS88zzCB4/kpHYiIurSGLCCzAf7dUQagQvTOnb0SjQPql97CmpkNOKuvpuT2omIqEtjwAoy7xcJxqUrCDd2bMCxfvwaXCWFiL/xIajhkR16biIios6GASuIHLALtlRIh98edPz4LWyrlyL6kqkI7dW3Q89NRETUGTFgBZEP9uswKsD49I4bvdJstah+8xmE5g6GefTkDjsvERFRZ8aAFUTeLxKMTlUQG9oxAUt0HdVvPgvogvgpD0BR+ceJiIgIYMAKGtUOwdoyweW9Om70qu7L5XDu/hrxUx6AITq+w85LRETU2TFgBYnlxQJNgIk9O6ZLPVXlsHz0CiLPHY+wfkM65JxERESBggErSLxfpOPsbgpSI9t/BEtEULPkeaiR0Yi57JZ2Px8REVGgYcAKAvUewcoDgis66PZg3aZP4SzYirhr7oEaFtEh5yQiIgokDFhBYNUBQYMGXN4Btwc9NRWwfLAAEWddhLC++e1+PiIiokDEgBUEvigT9IoCcmPbdwRLRFD7zv9BCQtH7MTb2vVcREREgYwBKwisK9cxIqX9bw/Wb/kcjl1bEHf13VAjotr9fERERIGKASvAWVyC76qA87q3b1dq1mrUvv8PRAy5AOH9z2rXcxEREQU6BqwAt+GQQBdgRPf2HcGy/HshFIMBsVfc0a7nISIiCgYMWAFuXZkgORzIiWm/czj37kD91/9BzKU3Q400t9+JiIiIggQDVoBbXy4Y0V2BorTPCJboGmrffQmmjFxEnHlRu5yDiIgo2DBgBbAGj2BzhbTrBPe6DZ/AfXAP4ibdye8aJCIiOkn8FzOAfXVY4Nbbb4K7VmeF9ePFiDjrIoT07NMu5yAiIgpGDFgBbF25IDYEGBDXPvVbVyyG6DpiLp3WPicgIiIKUgxYAWxdmWB4dwUGte1vEbpKClG38WNEX3wjDObYNq+fiIgomDFgBSi3Lth4WNrl8Qwigtr3Xoaxe09EDZ/Q5vUTEREFOwasAPVtpaDeg3aZ4N6wdS1c+3Yi9srfQTEY2rx+IiKiYMeAFaDWlQkijMAZiW0bsETzwPrxawjrfxbCck5r07qJiIi6CgasALWuXHBONwWmNp5/Vbd5FTyVpYgeP7VN6yUiIupKGLACkKaL9wGjbXx7UNwu2D59E+FnnI+Q1Mw2rZuIiKgrYcAKQNtrAIur7b9/0P7lcmi2akRffGOb1ktERNTVMGAFoPXlOkwqcFa3tgtYuqMetlVLEHnWWJiS0tqsXiIioq6IASsArSsTDE1SEG5su4Bl/+J96M56mMde32Z1EhERdVUMWAFGRLCuvG2ff6XVWWFb8y6ihk+AMTapzeolIiLqqhiwAkyhBTjU0LbPv7L95x0AAvOFV7dZnURERF0ZA1aA2XBYAADnJrdNwNIsVbCv/zeizr8Shih+JQ4REVFbYMAKMLtqBD2jgJiQtglYti/eg2IwwXz+lW1SHxERETFgBZzdFkHf2LYJV3pDHeo2fIKoYeOhhke2SZ1ERETEgBVwdte2XcCq2/gxxONG1IiJbVIfEREReTFgBRC3LthrBfrGtL4u8bhhW/sBIoaMgiEmofUVEhERkQ8DVgDZYwU8AvRpgxGs+m/WQLdUwTxqchu0jIiIiI7EgBVAdtd6P0HY2luEIgLbmncR1v8smLpntEXTiIiI6AgMWAFkd60g2gR0D29dPY5dW+Ap3w/zaI5eERERtQcGrADyo0XQJ1aBorRuBMu+ehlMGX0QkjmgjVpGRERER2LACiC7a1s/wd1VXADnT9tgHj251UGNiIiIWsaAFSBEpE0e0WBbvQyGxBSEDzq3jVpGREREv8SAFSAqHECtq3UT3D2VZWj4/r8wn38lFNXQhq0jIiKiIzFgBYimTxD2iTn1gFW38RMoYRGIOBjFV/cAAB//SURBVHNMWzWLiIiIWsCAFSB21wKqAmSf4hws0Tyo27wKEUNGQw0Ja9vGERERUTMMWAFid60g0wyEGk5tBMuxYzN0Ww0izx7Xxi0jIiKiX2LAChA/tvJLnus2fQpTeg5C0jLbsFVERETUEgasALG7Vk55/pWntgKOXV8j8pyL27hVRET/3969B0dZ5nsC/3bSSQghQWQCJjGdpDsdMAeMZchsuJyKYHEpd11cFbdca4bBU0qJxcwcLzVaHItJrSun1LG0COUUHivLzFShIColzJypjLAw53C1jsoSxQlI0y10wkXoTkh30pfv/hHzbprcmmu/b/P9/BO7n7xPnic/K3zreZ63XxEZigKWBYSjxPHOK7+DsPtAC2xZWRh7d8M1HpmIiIgMRQHLAo4GAQKYesvlX8t4HBf3/Rm5dzUgY0zeNR+biIiIDKaAZQFX85DnnrYvEPu+A3kzdbhdRETkRlHAsoAjF4hbc4Afjbn8gHVx359hn+xAdvkd12FkIiIiMhQFLAs4coV3EMYuBhE6tAd59Qv13EEREZEbSAHLAr65woc8d3+2AwAxtu7eaz4mERERGZ4ClsmRvKIVLJK4uO9fkTt9JjLHXcHpeBEREbliClgmd6ob6IoAUy4zYPWe+AZRv0ef3C4iIpICRsBqa2vDrFmzUFVVhbq6OrS2tg55wbZt2zB16lS43W48+OCDCAaDRtv+/ftRU1ODqqoqzJs3DydPnjTaRur/9OnTWLRoEdxuN6ZNm4bdu3cbbd3d3Xj00UdRWVmJqqoqfPDBB0ZbPB7HypUr4XK5UFlZiaampoSxvvzyy3C5XHC5XFi1alVC27vvvgu32w2Xy4UnnngCkUjkqufYr7m5GTabDR9//PGQv8PL8U3/HYSX+SGjoc93IaPgVuRU3XXVYxAREZHLxB/MnTuXzc3NJMnNmzdzxowZvFRnZycnTZrEr7/+miT59NNP87nnniNJxmIxulwu7tixgyT52muv8eGHHzauHan/ZcuWcfXq1STJAwcOsKSkhL29vSTJxsZGLl26lCT57bffsrCwkGfPniVJbtiwgfPmzWM0GuW5c+focDh4+PBhkuSuXbtYXV3Nrq4uhsNh1tbWctu2bUY/RUVF9Pv9jMfjvP/++9nU1HTVcyTJ48ePc+bMmayvr+dHH3006Hc4nEAgQAD0+XwJ769rjTLrX3rZG4sn3Vc8HuepX/+E329em/Q1cuX6axcIBFI9FLkMqps1qW7Wlc61G2puIMmOjg7m5+czEomQ7PsHevLkyWxra0voYNOmTVy4cKHxurW1lSUlJST7gtGUKVOMtmAwyJycHIZCoVH7z8vLo9/vN66tq6tjS0sLSbK6upp79+412pYsWcJ33nmHJHnfffdx48aNRtvzzz/PVatWkSRXrFjBNWvWGG3r1q3jY489RpJ89dVXuXz5cqNt+/btnD179lXNkewLYPfeey8/++wzNjQ0XJOAtfLfo7xjU2/S/ZBkz4lv6PvFQoa++fyyrpMrk85/NNKZ6mZNqpt1pXPthpqbHQB8Ph+Kiopgt9sBADabDQ6HA16vF5WVlcZql9frRVlZmfG6vLwcfr8f0Wh0UFt+fj4KCgpw6tQpnD9/ftj+J0yYgEgkgttuuy2hX6/XO+zPHKlt3759RtucOXMS2t57770r6jOZOTqdTrzxxhuYPXs2amtrh10x7NfT04Oenh7jdf82ZGdnZ8KW5OGz2XDlAcFgaNQ++4UP7oBtbD56CsvQO6AvuT766xXU79pSVDdrUt2sK51rN9Sc7CkYR1o6fPgwtmzZknB+bCRr1qxBY2PjoPerq6sv+cY24MD7GP+f/ynpsfyfn87BwVPn8fyttyZ9jVy90tLSVA9BroDqZk2qm3XdLLWzA32T7V+lsdvtIAmv1wuHw5HwzQ6HAy0tLcZrj8djrEw5HA6cOHHCaOvs7EQgEEBxcTHGjRs3bP8TJ06E3W5He3u7sYrl8XiMn93fb1FRkdG2YMGChLaZM2cOe93AsQ5sO3bs2LBtVzLH5uZmeDweuN1uAEB7ezuefPJJ+P1+PPXUU4N+8S+++CKeeeYZ43UwGERpaSm++uorlJSUAAAuRoHiLbl4e/Uv8T/+98phSpgo1uHFxXXPYdrK/4knt9yd1DVydfpr5/P5UFBQkOrhSJJUN2tS3awrnWvXP7cE/XuFDQ0NCYfQa2trB+0xBoNBFhYWJhwAf/bZZ0n2nT9yOp0JB8Afeugh49qR+l+6dGnCIffi4mLjkPvq1asHHXI/c+YMSbK5uXnQIfdDhw6RJHfu3DnokPsnn3xCkjx27NigQ+5r16696jkOdC3OYP3HmTixvpf7OmLJ9/On3/O7X/03xiM9SV8jVyedzxWkM9XNmlQ360rn2g17yJ0kjxw5wvr6errdbtbW1hpB5aWXXuLbb79tXLB161ZOmTKFLpeLixcv5oULF4y2PXv2cPr06XS73WxoaKDX6+Vo/ZNke3s758+fz8rKSlZXVxsBhiS7urr4yCOP0Ol00u128/333zfaotEoV6xYwYqKCjqdTr755psJE25sbGRFRQUrKir4wgsvJLStX7+eTqeTTqeTjz/+uBHormaOA12LgLXxaIxY38vz4eTvIGz/5+U897t/Tvr75eql8x+NdKa6WZPqZl3pXLuh5mYjyRu3iCbDCQaDGD9+PHw+H26//XYAwLrWGP5xXxy9/5CVVB+RMyfR8b/+AROX/RNya+aMfoFcE/21CwQCabfsnc5UN2tS3awrnWs31Nz0Se4mFooBuZmX8f1f/jts2TnIuWPG9RuUiIiIjEoBy8RCUSD3Mu7zDB36N4y5ow4Z2WOu36BERERkVApYJnY5K1jR86cR8f4NuXfOvr6DEhERkVEpYJnY5axghQ7tATKzMObvfnx9ByUiIiKjUsAyscsKWF/+G8ZMvRsZY/Ku76BERERkVApYJhaKEbmZtlG/Lxb8Hr3HW7U9KCIiYhIKWCaW7ApW+KsDAGwYM63+uo9JRERERqeAZWLJHnLvafsSWaWVyMxLr88VERERsSoFLBNLZgWLJMJHDyGn8s4bMygREREZlQKWiSWzghU9cxLxwDnkVNbcmEGJiIjIqBSwTCwUJXLtIx9y72n7EsjIQI7z727QqERERGQ0ClgmlswKVs/RQ8gurULGmLE3ZlAiIiIyKgUsExvtDBZJ9Oj8lYiIiOkoYJnYaCtY0Q4f4p3nkePW+SsREREzUcAysdFWsHqOfglkZCK7QuevREREzEQBy8RGD1iHkF02BRk5Y27coERERGRUClgmFY0TUWLYR+Xo/JWIiIh5KWCZVCja93W4Faxo+wnEuwI6fyUiImJCClgmFYr1fR3ukHtP25dAZhayy++4cYMSERGRpChgmdRoK1jG+atsnb8SERExGwUskxppBYvxeN/5K20PioiImJIClkmNtIIV8XsQ7+7UAXcRERGTUsAyqVCMAIa+i7Cn7UvAnoUcnb8SERExJQUskxppBavn6CHklN8BW1b2jR2UiIiIJEUBy6SGC1iMx9Bz7P8ip1Lnr0RERMxKAcukhjvkHjn5LRjqQo5b569ERETMSgHLpIZbwer1fA1k2pFdNuXGD0pERESSooBlUqEYYQOQfUmFIqeOI2tyKWx2nb8SERExKwUsk+p/0LPNlngXYcTvQVZReUrGJCIiIslRwDKpUGzw+SuSiPhPwF5UkZpBiYiISFIUsEyqfwVroNj3HWBPN7KKy1MyJhEREUmOApZJDbWCFfF7AABZWsESERExNQUskwoPsYIV8XtgG5OHzFt+lJIxiYiISHIUsEwqFCNy7ZcccD91HFnF5YMOvouIiIi5KGCZVCg69BahtgdFRETMTwHLpEKxxC1CRiOInv5OH9EgIiJiAQpYJnXpClb09HdAPKaAJSIiYgEKWCZ16QrW/7+DsCwl4xEREZHkKWCZ1KUrWJFTx5F5y4+QMTY/dYMSERGRpChgmdSldxHqgLuIiIh1KGCZ1KAVLL8Hdp2/EhERsQQFLJMaeAYrHrqI2PnTekSOiIiIRShgmdTAFSw9IkdERMRaFLBMauDDniN+D5CRgazJt6dySCIiIpIkBSwTIvnDFmHfIfeI/zjsk26HzZ6d4pGJiIhIMhSwTKgn1vfV2CI8pTsIRURErEQBy4RC/QHL3rea1fcRDeWpHJKIiIhcBgUsEwpF+77mZgKxwFkw1KU7CEVERCxEAcuEBq5gRU55AOgOQhEREStRwDKhgStY0XYPbDm5yJwwKbWDEhERkaQpYJlQKEYAfXcRRk55kHVbGWwZKpWIiIhV6F9tExq4gqUD7iIiItajgGVCRsCyxRDp8OoZhCIiIhajgGVC/YfccwIngWgEWcU64C4iImIlClgm1L+ClXX6RN9XrWCJiIhYigKWCfWvYGVe/B62rBxkjhuf2gGJiIjIZVHAMqFQlMjOABC+CFvu2FQPR0RERC6TApYJ9T3oGYiHu5GRo4AlIiJiNQpYJhSK9n1EA0MXYcvNS/VwRERE5DIpYJlQwgrWGAUsERERq1HAMqH+Fax4+CIytIIlIiJiOQpYJhSK9j0mh6GLsOkMloiIiOUoYJlQKMYfVrC6tYIlIiJiQQpYJtS3gtW3RWgboxUsERERqzECVltbG2bNmoWqqirU1dWhtbV1yAu2bduGqVOnwu1248EHH0QwGDTa9u/fj5qaGlRVVWHevHk4efKk0TZS/6dPn8aiRYvgdrsxbdo07N6922jr7u7Go48+isrKSlRVVeGDDz4w2uLxOFauXAmXy4XKyko0NTUljPXll1+Gy+WCy+XCqlWrEtreffdduN1uuFwuPPHEE4hEIlc1x3A4jAceeABVVVWoqanB/PnzcfTo0VF+/UMLxYAxmQC1giUiImJN/MHcuXPZ3NxMkty8eTNnzJjBS3V2dnLSpEn8+uuvSZJPP/00n3vuOZJkLBajy+Xijh07SJKvvfYaH374YePakfpftmwZV69eTZI8cOAAS0pK2NvbS5JsbGzk0qVLSZLffvstCwsLefbsWZLkhg0bOG/ePEajUZ47d44Oh4OHDx8mSe7atYvV1dXs6upiOBxmbW0tt23bZvRTVFREv9/PeDzO+++/n01NTVc1x1AoxO3btzMej5Mk165dy4aGhkG/w+EEAgECoM/n473bIvzvLWH6frGQXXv/lHQfkhr9tQsEAqkeilwG1c2aVDfrSufaDTU3kGRHRwfz8/MZiURIkvF4nJMnT2ZbW1tCB5s2beLChQuN162trSwpKSHZF4ymTJlitAWDQebk5DAUCo3af15eHv1+v3FtXV0dW1paSJLV1dXcu3ev0bZkyRK+8847JMn77ruPGzduNNqef/55rlq1iiS5YsUKrlmzxmhbt24dH3vsMZLkq6++yuXLlxtt27dv5+zZs69qjpc6ePAgy8rKBr0/nIEBa9bWCJf/+Tx9v1jIi5/vTroPSY10/qORzlQ3a1LdrCudazfU3OwA4PP5UFRUBLvdDgCw2WxwOBzwer2orKw0Vru8Xi/KysqM1+Xl5fD7/YhGo4Pa8vPzUVBQgFOnTuH8+fPD9j9hwgREIhHcdtttCf16vd5hf+ZIbfv27TPa5syZk9D23nvvXVGfyczR6XQmrAy+9dZbWLx4MYbT09ODnp4e43X/NmRnZye6egqRlxEAAITjNkQHbFGK+fTXLqg6WYrqZk2qm3Wlc+2GmpM9BeNIe6+88gqOHj2KTz/9dNjvWbNmDRobGwe9X11dDTQeQu+RzfjHScC99/0XfNERuJ7DlWuktLQ01UOQK6C6WZPqZl03S+3sQN9k+1dp7HY7SMLr9cLhcCR8s8PhQEtLi/Ha4/EYK1MOhwMnTpww2jo7OxEIBFBcXIxx48YN2//EiRNht9vR3t5urGJ5PB7jZ/f3W1RUZLQtWLAgoW3mzJnDXjdwrAPbjh07Nmzblcyx3+uvv44PP/wQf/nLXzB27PB3AL744ot45plnjNfBYBClpaX46quvsOg/nHhi+n8Fdh3Ajj37kPmj4mH7kdTrr53P50NBQUGqhyNJUt2sSXWzrnSuXf/cEvTvFTY0NCQcQq+trR20xxgMBllYWJhwAPzZZ58l2XcA3Ol0JhwAf+ihh4xrR+p/6dKlCYfci4uLjUPuq1evHnTI/cyZMyTJ5ubmQYfcDx06RJLcuXPnoEPun3zyCUny2LFjgw65r1279qrn+Jvf/IZ33303v//++5E3a4cw8AzWpN/3snnrHvp+sZDRC2cvuy+5sdL5XEE6U92sSXWzrnSu3bCH3EnyyJEjrK+vp9vtZm1trRFUXnrpJb799tvGBVu3buWUKVPocrm4ePFiXrhwwWjbs2cPp0+fTrfbzYaGBnq9Xo7WP0m2t7dz/vz5rKysZHV1tRFgSLKrq4uPPPIInU4n3W4333//faMtGo1yxYoVrKiooNPp5Jtvvpkw4cbGRlZUVLCiooIvvPBCQtv69evpdDrpdDr5+OOPG4HuSufo8/kIgE6nkzU1NaypqeGPf/zjUYvSb2DAym/u5eYPW+j7xULGegYfoBdzSec/GulMdbMm1c260rl2Q83NRpI3bA1NhhUMBjF+/Hj4fD5U/OtkbB3/R9y5dz1KfrMNNpst1cOTEfTXLhAIpN2ydzpT3axJdbOudK7dUHPTJ7mbTDQORAnkRkPIyM1TuBIREbEgBSyTCcf7vo6J6jE5IiIiVqWAZTLhWN/XnEg3MsboMTkiIiJWpIBlMuFY35ZgTkQrWCIiIlalgGUy/StYWb160LOIiIhVKWCZTH/Asvde1BahiIiIRSlgmUz/FmFmb7e2CEVERCxKActk+u8izOi5qC1CERERi1LAMpn+LUJbWHcRioiIWJUClsmEYwBIoEdbhCIiIlalgGUy4agNY+NhgHFkKGCJiIhYkgKWyYRjQEG8GwBg0xksERERS1LAMplwDCi0XQQAncESERGxKAUskwnHbZiIvhUs3UUoIiJiTQpYJhOOARP5wxahVrBEREQsSQHLZMIxYAL7twh1yF1ERMSKFLBMJhyzYQK7AZsNtpzcVA9HREREroAClsmEYsAt7IYtJxe2DJVHRETEivQvuMn0xID8uD7FXURExMoUsEwmHLehIH5Rn+IuIiJiYQpYJhOOAeNi3fqIBhEREQtTwDKZcAwYF72oLUIRERELU8AymXDMhtyYHvQsIiJiZQpYJhOOAWOj2iIUERGxMgUskwnHgDERrWCJiIhYmQKWyYTjNuREdAZLRETEyhSwTCYcA7IjF7VFKCIiYmEKWCYTj0SQGY9qi1BERMTCFLBMxh4JAYC2CEVERCxMActk8mPdAKAVLBEREQtTwDKZfPYFLJ3BEhERsS4FLJPJ+2EFS1uEIiIi1qWAZTIF8b4zWDatYImIiFiWApbJjDNWsHQGS0RExKoUsExmXLwbtOfAlmlP9VBERETkCilgmcy4WDeg1SsRERFLU8Aymfx4N6AD7iIiIpamgGUy4+Ihnb8SERGxOAUskxkXv4hM3UEoIiJiaQpYJpMfC8GeqxUsERERK1PAMpn8eLc+xV1ERMTiFLBMpiAe0qe4i4iIWJwClsmMi3frQc8iIiIWp4BlMuNi2iIUERGxOgUsk8mN92iLUERExOIUsExID3oWERGxNgUsE9IHjYqIiFibApYJaYtQRETE2hSwTEh3EYqIiFibApYJ6S5CERERa1PAMiFtEYqIiFibApbJxGwZQFZ2qochIiIiV0EBy2R6s8bCZrOlehgiIiJyFRSwTKY3KzfVQxAREZGrpIBlMpEs3UEoIiJidQpYJhPTCpaIiIjlKWCZTDxbK1giIiJWp4BlMvFsrWCJiIhYnQKWyTBHK1giIiJWp4BlNjlawRIREbE6BSyTyVDAEhERsTwFLJOxjVHAEhERsToFLJPJ1AqWiIiI5SlgmYw9V4fcRURErE4By2SycsakeggiIiJylYyA1dbWhlmzZqGqqgp1dXVobW0d8oJt27Zh6tSpcLvdePDBBxEMBo22/fv3o6amBlVVVZg3bx5OnjxptI3U/+nTp7Fo0SK43W5MmzYNu3fvNtq6u7vx6KOPorKyElVVVfjggw+Mtng8jpUrV8LlcqGyshJNTU0JY3355ZfhcrngcrmwatWqhLZ3330XbrcbLpcLTzzxBCKRyHWdY7KyxmqLUERExPL4g7lz57K5uZkkuXnzZs6YMYOX6uzs5KRJk/j111+TJJ9++mk+99xzJMlYLEaXy8UdO3aQJF977TU+/PDDxrUj9b9s2TKuXr2aJHngwAGWlJSwt7eXJNnY2MilS5eSJL/99lsWFhby7NmzJMkNGzZw3rx5jEajPHfuHB0OBw8fPkyS3LVrF6urq9nV1cVwOMza2lpu27bN6KeoqIh+v5/xeJz3338/m5qaruscRxMIBAiArZ9/kfQ1Yg79tQsEAqkeilwG1c2aVDfrSufaDTU3kGRHRwfz8/MZiURIkvF4nJMnT2ZbW1tCB5s2beLChQuN162trSwpKSHZF4ymTJlitAWDQebk5DAUCo3af15eHv1+v3FtXV0dW1paSJLV1dXcu3ev0bZkyRK+8847JMn77ruPGzduNNqef/55rlq1iiS5YsUKrlmzxmhbt24dH3vsMZLkq6++yuXLlxtt27dv5+zZs6/rHEfTX5xjf/tbUt8v5pHOfzTSmepmTaqbdaVz7Yaamx0AfD4fioqKYLfbAQA2mw0OhwNerxeVlZXGapfX60VZWZnxury8HH6/H9FodFBbfn4+CgoKcOrUKZw/f37Y/idMmIBIJILbbrstoV+v1zvszxypbd++fUbbnDlzEtree++9K+rzauc48HfYr6enBz09PcbrQCAAADj7/ffI/u67Qd8v5tXZ2QkAOHnyZMJ2spib6mZNqpt1pXPt+udG0njPnqrB3OzWrFmDxsbGQe//p/r6FIxGroXq6upUD0GugOpmTaqbdaVz7To7OzF+/HgAPwSs0tJSY5XGbreDJLxeLxwOR8KFDocDLS0txmuPx2Os2jgcDpw4cSLhhwQCARQXF2PcuHHD9j9x4kTY7Xa0t7cbq1gej8f42f39FhUVGW0LFixIaJs5c+aw1w0c68C2Y8eODdt2rec4lBdffBHPPPOM8frChQsoKyuD1+s1iiPWEAwGUVpaCp/Ph4KCglQPR5KkulmT6mZd6Vw7kujs7ERxcXHCmyTJhoaGhAPatbW1g/YYg8EgCwsLEw6AP/vssyT7DoA7nc6EA+APPfSQce1I/S9dujThkHtxcbFxyH316tWDDrmfOXOGJNnc3DzokPuhQ4dIkjt37hx0yP2TTz4hSR47dmzQIfe1a9de1zmOJp33ptOdamdNqps1qW7WdbPVzghYR44cYX19Pd1uN2tra42g8tJLL/Htt982Lti6dSunTJlCl8vFxYsX88KFC0bbnj17OH36dLrdbjY0NNDr9XK0/kmyvb2d8+fPZ2VlJaurq40AQ5JdXV185JFH6HQ66Xa7+f777xtt0WiUK1asYEVFBZ1OJ998882EyTU2NrKiooIVFRV84YUXEtrWr19Pp9NJp9PJxx9/3Ah012uOo7nZ/sdLJ6qdNalu1qS6WdfNVjsbOeBElqRMMBjE+PHjEQgE0m7pNN2pdtakulmT6mZdN1vtMn/961//OtWDkD6ZmZm45557jDsRxTpUO2tS3axJdbOum6l2WsESERERucb0LEIRERGRa0wBS0REROQaU8ASERERucYUsEygra0Ns2bNQlVVFerq6tDa2prqIckwfv7zn6O8vBw2mw1ffPGF8f7p06exaNEiuN1uTJs2Dbt3707hKOVS4XAYDzzwAKqqqlBTU4P58+fj6NGjAFQ7s1uwYAHuvPNO3HXXXfj7v/97fP755wBUN6tobm6GzWbDxx9/DOAmq1tqPyVCSHLu3LkJH1A6Y8aM1A5IhrVr1y76fD6WlZXx888/N95ftmxZwofllpSUJHy2mqRWKBTi9u3bGY/HSZJr165lQ0MDSdXO7M6fP2/894cffsg777yTpOpmBcePH+fMmTNZX1/Pjz76iOTNVTcFrBTr6Ohgfn4+I5EISTIej3Py5Mlsa2tL8chkJJcGrLy8PPr9fuN1XV0dW1paUjE0ScLBgwdZVlZGUrWzkubmZtbU1JBU3cwuFovx3nvv5WeffcaGhgYjYN1MdUv/D6IwOZ/PZzzrEABsNhscDge8Xi8qKytTPDpJxrlz5xCJRIxnaQJAeXk5vF5vCkclI3nrrbewePFi1c4ifvrTn2Lnzp0AgD/+8Y+qmwW88cYbmD17Nmpra433bra6KWCJyE3llVdewdGjR/Hpp58iFAqlejiShN/97ncAgA0bNuBXv/oVfv/736d4RDKSw4cPY8uWLel9vioJOuSeYqWlpfD7/YhGowD6nsjt9XrhcDhSPDJJ1sSJE2G329He3m685/F4VEMTev311/Hhhx/iT3/6E8aOHavaWczSpUuNlSzVzbz++te/wuPxwO12o7y8HPv27cOTTz6JTZs23VR1U8BKsUmTJuHuu+/GH/7wBwDAli1bcPvtt2t70GKWLFmC3/72twCAgwcP4uTJk2hoaEjxqGSgN954Axs3bkRLSwtuueUW433VzrwuXLiAU6dOGa8//vhjTJw4EbfeeqvqZmJPPfUU/H4/PB4PPB4P6uvrsX79ejz11FM3Vd30qBwT+Oabb/Czn/0M586dQ0FBAZqbmzF9+vRUD0uGsHz5cmzfvh3t7e2YOHEi8vPzcfToUXR0dOAnP/kJjh8/juzsbDQ1NWHu3LmpHq784LvvvkNpaSmcTify8/MBADk5Odi/f79qZ2InTpzAkiVLEAqFkJGRgcLCQrz++uu46667VDcLueeee/DLX/4SDzzwwE1VNwUsERERkWtMW4QiIiIi19j/A5EeTwvS5SVuAAAAAElFTkSuQmCC\" />"
      ]
     },
     "execution_count": 13,
     "metadata": {},
     "output_type": "execute_result"
    }
   ],
   "source": [
    "plot(linspace(0,tf,100),[solSIPS(i)[2m+1] for i in linspace(0,tf,100)])\n",
    "println(\"Assympototes\")\n",
    "println([solSIPS(tf)[2m+1] , (4/3*pi*RSIP^3)*((Sl*p(0.0)+cKion*0.5)*(1-ɛ)+Ss*ɛ*p(0.0)), solMECS(tf)[2m+1], (4/3*pi*RLiq^3)*(Sl*p(0.0)+cKion*0.5) ])\n",
    "plot!(linspace(0,tf,100),[solMECS(i)[2m+1] for i in linspace(0,tf,100)])"
   ]
  },
  {
   "cell_type": "code",
   "execution_count": 14,
   "metadata": {
    "collapsed": false
   },
   "outputs": [
    {
     "name": "stdout",
     "output_type": "stream",
     "text": [
      "  2.335655 seconds (13.92 M allocations: 1.185 GB, 11.41% gc time)\n",
      "  0.582064 seconds (3.64 M allocations: 312.974 MB, 11.86% gc time)\n"
     ]
    }
   ],
   "source": [
    "#Bigger Particle\n",
    "tf = 350\n",
    "RSIP = 0.00025\n",
    "RLiq = RSIP*(1-ɛ)^(1/3)\n",
    "@time solSIPS = SphericalSIP(fsolidSIPS,RSIP,tf,p,c0,w0,k2,Ss,Sl,Ds,Dl,ɛ,m);\n",
    "#println([((Sl+cKion*0.5)*(1-ɛ)+Ss*ɛ)*4/3*pi*RSIP^3, solSIPS(tf)[2m+1]])\n",
    "@time solMECS = SphericalMECSNoShell(fsolidMECS,RLiq,tf,p,c0,w0,k2,Ss,Sl,Ds,Dl,ɛ,m);\n",
    "#@time sol = SphericalSIP(f2,R,tf,p,c0,w0,k2,Ss,Sl,Ds,Dl,ɛ,m);\n",
    "#plot(linspace(0,tf,100),[sol2(i)[2m+1] for i in linspace(0,tf,100)])\n",
    "#plot(sol(30)[m+1:2m])"
   ]
  },
  {
   "cell_type": "code",
   "execution_count": 15,
   "metadata": {
    "collapsed": false
   },
   "outputs": [
    {
     "name": "stdout",
     "output_type": "stream",
     "text": [
      "Assympototes\n",
      "[1.28939e-8,1.28953e-8,1.08584e-8,1.08542e-8]\n"
     ]
    },
    {
     "data": {
      "text/html": [
       "<img src=\"data:image/png;base64,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\" />"
      ]
     },
     "execution_count": 15,
     "metadata": {},
     "output_type": "execute_result"
    }
   ],
   "source": [
    "plot(linspace(0,tf,100),[solSIPS(i)[2m+1] for i in linspace(0,tf,100)])\n",
    "println(\"Assympototes\")\n",
    "println([solSIPS(tf)[2m+1] , (4/3*pi*RSIP^3)*((Sl*p(0.0)+cKion*0.5)*(1-ɛ)+Ss*ɛ*p(0.0)), solMECS(tf)[2m+1], (4/3*pi*RLiq^3)*(Sl*p(0.0)+cKion*0.5) ])\n",
    "plot!(linspace(0,tf,100),[solMECS(i)[2m+1] for i in linspace(0,tf,100)])"
   ]
  },
  {
   "cell_type": "code",
   "execution_count": null,
   "metadata": {
    "collapsed": true
   },
   "outputs": [],
   "source": []
  },
  {
   "cell_type": "code",
   "execution_count": null,
   "metadata": {
    "collapsed": true
   },
   "outputs": [],
   "source": []
  },
  {
   "cell_type": "code",
   "execution_count": null,
   "metadata": {
    "collapsed": true
   },
   "outputs": [],
   "source": []
  },
  {
   "cell_type": "code",
   "execution_count": null,
   "metadata": {
    "collapsed": true
   },
   "outputs": [],
   "source": []
  },
  {
   "cell_type": "code",
   "execution_count": null,
   "metadata": {
    "collapsed": true
   },
   "outputs": [],
   "source": []
  },
  {
   "cell_type": "code",
   "execution_count": null,
   "metadata": {
    "collapsed": true
   },
   "outputs": [],
   "source": []
  },
  {
   "cell_type": "code",
   "execution_count": null,
   "metadata": {
    "collapsed": true
   },
   "outputs": [],
   "source": []
  },
  {
   "cell_type": "code",
   "execution_count": null,
   "metadata": {
    "collapsed": true
   },
   "outputs": [],
   "source": []
  },
  {
   "cell_type": "code",
   "execution_count": null,
   "metadata": {
    "collapsed": true
   },
   "outputs": [],
   "source": []
  },
  {
   "cell_type": "code",
   "execution_count": null,
   "metadata": {
    "collapsed": true
   },
   "outputs": [],
   "source": []
  },
  {
   "cell_type": "code",
   "execution_count": null,
   "metadata": {
    "collapsed": true
   },
   "outputs": [],
   "source": []
  },
  {
   "cell_type": "code",
   "execution_count": null,
   "metadata": {
    "collapsed": true
   },
   "outputs": [],
   "source": []
  },
  {
   "cell_type": "code",
   "execution_count": 16,
   "metadata": {
    "collapsed": false
   },
   "outputs": [
    {
     "data": {
      "text/html": [
       "1.2895256095281854e-8"
      ],
      "text/plain": [
       "1.2895256095281854e-8"
      ]
     },
     "execution_count": 16,
     "metadata": {},
     "output_type": "execute_result"
    }
   ],
   "source": [
    "4/3*π*RSIP^3*((300+Sl*p(0))*(1-ɛ) + Ss*p(0)*ɛ)"
   ]
  },
  {
   "cell_type": "code",
   "execution_count": 17,
   "metadata": {
    "collapsed": false
   },
   "outputs": [
    {
     "data": {
      "text/html": [
       "5.3147274018980415"
      ],
      "text/plain": [
       "5.3147274018980415"
      ]
     },
     "execution_count": 17,
     "metadata": {},
     "output_type": "execute_result"
    }
   ],
   "source": [
    "4/3*π*RSIP^3*(1e3+Sl*p(0)*(1-ɛ) + Ss*p(0)*ɛ) / solSIPS(tf)[2m+1] "
   ]
  },
  {
   "cell_type": "code",
   "execution_count": 18,
   "metadata": {
    "collapsed": false
   },
   "outputs": [
    {
     "data": {
      "text/html": [
       "1.0858361424533844e-8"
      ],
      "text/plain": [
       "1.0858361424533844e-8"
      ]
     },
     "execution_count": 18,
     "metadata": {},
     "output_type": "execute_result"
    }
   ],
   "source": [
    "solMECS(tf)[2m+1]"
   ]
  },
  {
   "cell_type": "code",
   "execution_count": 19,
   "metadata": {
    "collapsed": false
   },
   "outputs": [
    {
     "data": {
      "text/html": [
       "1.0858361424533844e-8"
      ],
      "text/plain": [
       "1.0858361424533844e-8"
      ]
     },
     "execution_count": 19,
     "metadata": {},
     "output_type": "execute_result"
    }
   ],
   "source": [
    "solMECS(tf)[2m+1]"
   ]
  },
  {
   "cell_type": "code",
   "execution_count": null,
   "metadata": {
    "collapsed": true
   },
   "outputs": [],
   "source": []
  },
  {
   "cell_type": "code",
   "execution_count": null,
   "metadata": {
    "collapsed": true
   },
   "outputs": [],
   "source": []
  },
  {
   "cell_type": "code",
   "execution_count": null,
   "metadata": {
    "collapsed": true
   },
   "outputs": [],
   "source": []
  },
  {
   "cell_type": "code",
   "execution_count": null,
   "metadata": {
    "collapsed": true
   },
   "outputs": [],
   "source": []
  },
  {
   "cell_type": "code",
   "execution_count": null,
   "metadata": {
    "collapsed": true
   },
   "outputs": [],
   "source": []
  },
  {
   "cell_type": "code",
   "execution_count": 20,
   "metadata": {
    "collapsed": false
   },
   "outputs": [
    {
     "data": {
      "text/plain": [
       "SphericalMECSTake2 (generic function with 1 method)"
      ]
     },
     "execution_count": 20,
     "metadata": {},
     "output_type": "execute_result"
    }
   ],
   "source": [
    "function SphericalMECSTake2(f,R,tf,p,c0,w0,k2,Ss,Sl,Ds,Dl,ɛ,m,Dactive)\n",
    "    \n",
    "    #Pertinent Mesh Values\n",
    "    h = R/(m+1/2)         #Distance between neighbouring grid points\n",
    "    r(j) = h*(j-1/2)      #Radial distance of point j\n",
    "    \n",
    "    #Generic Ddash and kdash parameters\n",
    "    #Ddash = (Ds*ɛ+Dl*(1-ɛ)*Sl/Ss) / (ɛ+(1-ɛ)*Sl/Ss)\n",
    "    #kdash = (k2*Sl/Ss*(1-ɛ))      / (ɛ+(1-ɛ)*Sl/Ss)\n",
    "    \n",
    "    #Define DE Problem\n",
    "    function main(t,u,dudt)\n",
    "        #Extract values from u\n",
    "        c = u[1:m]\n",
    "        w = u[m+1:2m]\n",
    "        \n",
    "        #Calculate change of concentration due to diffusion and reaction\n",
    "        for i = 1:2m+1\n",
    "            if i == 1\n",
    "                dudt[1] = Dl/(r(1)^2*h^2)*r(1+1/2)^2*(c[2] - c[1]) - k2*c[1]*w[1]\n",
    "            elseif 2 <= i <= m-1\n",
    "                dudt[i] = Dl/(r(i)^2*h^2)*(r(i+1/2)^2*c[i+1]  - (r(i+1/2)^2+r(i-1/2)^2)*c[i] + r(i-1/2)^2*c[i-1]) - k2*c[i]*w[i]\n",
    "            elseif i == m\n",
    "                dudt[m] = Dl/(r(m)^2*h^2)*(r(m+1/2)^2*Sl*p(t) - (r(m+1/2)^2+r(m-1/2)^2)*c[m] + r(m-1/2)^2*c[m-1]) - k2*c[m]*w[m]\n",
    "            elseif i == m+1\n",
    "                dudt[i] = Dactive/(r(1)^2*h^2)*r(1+1/2)^2*(w[2] - w[1]) + f(c[i-m],w[i-m])\n",
    "            elseif m+2 <= i <= 2m-1\n",
    "                dudt[i] = Dactive/(r(i)^2*h^2)*(r(i+1/2)^2*w[i+1-m]  - (r(i+1/2)^2+r(i-1/2)^2)*w[i-m] + r(i-1/2)^2*w[i-1-m]) + f(c[i-m],w[i-m])\n",
    "            elseif i == 2m\n",
    "                dudt[i] = Dactive/(r(m)^2*h^2)*(r(m+1/2)^2*w[m-1] - (r(m+1/2)^2+r(m-1/2)^2)*w[m] + r(m-1/2)^2*w[m-1]) + f(c[i-m],w[i-m])\n",
    "            elseif i == 2m+1\n",
    "                dudt[i] = 4π*R^2*((3/2*Sl*p(t)-2*c[m]+1/2*c[m-1])/h)*Dl\n",
    "            end\n",
    "        end\n",
    "    end\n",
    "\n",
    "    #Initial Conditions and timespan\n",
    "    u0 = [c0*ones(m);w0*ones(m);0.0]\n",
    "    tspan = (0.0,tf)\n",
    "\n",
    "    #Define and solve problem\n",
    "    prob = ODEProblem(main,u0,tspan)\n",
    "    sol = solve(prob, Rosenbrock23());\n",
    "    return sol\n",
    "end"
   ]
  },
  {
   "cell_type": "code",
   "execution_count": 21,
   "metadata": {
    "collapsed": false
   },
   "outputs": [
    {
     "data": {
      "text/plain": [
       "SphericalMECSTake3 (generic function with 1 method)"
      ]
     },
     "execution_count": 21,
     "metadata": {},
     "output_type": "execute_result"
    }
   ],
   "source": [
    "function SphericalMECSTake3(f,R,tf,p,c0,w0,k2,Ss,Sl,Ds,Dl,ɛ,m,Dactive)\n",
    "    \n",
    "    #Pertinent Mesh Values\n",
    "    h = R/(m+1/2)         #Distance between neighbouring grid points\n",
    "    r(j) = h*(j-1/2)      #Radial distance of point j\n",
    "    \n",
    "    #Generic Ddash and kdash parameters\n",
    "    #Ddash = (Ds*ɛ+Dl*(1-ɛ)*Sl/Ss) / (ɛ+(1-ɛ)*Sl/Ss)\n",
    "    #kdash = (k2*Sl/Ss*(1-ɛ))      / (ɛ+(1-ɛ)*Sl/Ss)\n",
    "    \n",
    "    #Define DE Problem\n",
    "    function main(t,u,dudt)\n",
    "        #Extract values from u\n",
    "        c = u[1:m]\n",
    "        w = u[m+1:2m]\n",
    "        \n",
    "        #Calculate change of concentration due to diffusion and reaction\n",
    "        for i = 1:2m+1\n",
    "            if i == 1\n",
    "                dudt[1] = Dl/(r(1)^2*h^2)*r(1+1/2)^2*(c[2] - c[1]) - k2*c[1]*w[1]\n",
    "            elseif 2 <= i <= m-1\n",
    "                dudt[i] = Dl/(r(i)^2*h^2)*(r(i+1/2)^2*c[i+1]  - (r(i+1/2)^2+r(i-1/2)^2)*c[i] + r(i-1/2)^2*c[i-1]) - k2*c[i]*w[i]\n",
    "            elseif i == m\n",
    "                dudt[m] = Dl/(r(m)^2*h^2)*(r(m+1/2)^2*Sl*p(t) - (r(m+1/2)^2+r(m-1/2)^2)*c[m] + r(m-1/2)^2*c[m-1]) - k2*c[m]*w[m]\n",
    "            elseif i == m+1\n",
    "                dudt[i] = f(c[i-m],w[i-m])\n",
    "            elseif m+2 <= i <= 2m-1\n",
    "                dudt[i] = f(c[i-m],w[i-m])\n",
    "            elseif i == 2m\n",
    "                dudt[i] =  f(c[i-m],w[i-m])\n",
    "            elseif i == 2m+1\n",
    "                dudt[i] = 4π*R^2*((3/2*Sl*p(t)-2*c[m]+1/2*c[m-1])/h)*Dl\n",
    "            end\n",
    "        end\n",
    "    end\n",
    "\n",
    "    #Initial Conditions and timespan\n",
    "    u0 = [c0*ones(m);w0*ones(m);0.0]\n",
    "    tspan = (0.0,tf)\n",
    "\n",
    "    #Define and solve problem\n",
    "    prob = ODEProblem(main,u0,tspan)\n",
    "    sol = solve(prob, Rosenbrock23());\n",
    "    return sol\n",
    "end"
   ]
  },
  {
   "cell_type": "code",
   "execution_count": null,
   "metadata": {
    "collapsed": true
   },
   "outputs": [],
   "source": []
  },
  {
   "cell_type": "code",
   "execution_count": null,
   "metadata": {
    "collapsed": true
   },
   "outputs": [],
   "source": []
  },
  {
   "cell_type": "code",
   "execution_count": null,
   "metadata": {
    "collapsed": true
   },
   "outputs": [],
   "source": []
  },
  {
   "cell_type": "code",
   "execution_count": null,
   "metadata": {
    "collapsed": true
   },
   "outputs": [],
   "source": []
  },
  {
   "cell_type": "code",
   "execution_count": null,
   "metadata": {
    "collapsed": true
   },
   "outputs": [],
   "source": []
  },
  {
   "cell_type": "code",
   "execution_count": null,
   "metadata": {
    "collapsed": false
   },
   "outputs": [],
   "source": []
  },
  {
   "cell_type": "code",
   "execution_count": null,
   "metadata": {
    "collapsed": true
   },
   "outputs": [],
   "source": []
  },
  {
   "cell_type": "code",
   "execution_count": null,
   "metadata": {
    "collapsed": true
   },
   "outputs": [],
   "source": []
  },
  {
   "cell_type": "code",
   "execution_count": null,
   "metadata": {
    "collapsed": true
   },
   "outputs": [],
   "source": []
  },
  {
   "cell_type": "code",
   "execution_count": null,
   "metadata": {
    "collapsed": true
   },
   "outputs": [],
   "source": []
  },
  {
   "cell_type": "code",
   "execution_count": null,
   "metadata": {
    "collapsed": true
   },
   "outputs": [],
   "source": []
  },
  {
   "cell_type": "code",
   "execution_count": null,
   "metadata": {
    "collapsed": true
   },
   "outputs": [],
   "source": []
  },
  {
   "cell_type": "code",
   "execution_count": 22,
   "metadata": {
    "collapsed": false
   },
   "outputs": [
    {
     "data": {
      "text/plain": [
       "23-element Array{Float64,1}:\n",
       " 0.0       \n",
       " 2.39751e-5\n",
       " 3.46307e-5\n",
       " 4.26224e-5\n",
       " 4.79502e-5\n",
       " 5.46099e-5\n",
       " 5.59419e-5\n",
       " 5.72738e-5\n",
       " 5.99377e-5\n",
       " 6.26016e-5\n",
       " 6.39336e-5\n",
       " 6.39336e-5\n",
       " 6.39336e-5\n",
       " 6.79294e-5\n",
       " 6.79294e-5\n",
       " 6.92614e-5\n",
       " 6.92614e-5\n",
       " 7.19253e-5\n",
       " 7.19253e-5\n",
       " 7.8585e-5 \n",
       " 8.12489e-5\n",
       " 8.25808e-5\n",
       " 8.12489e-5"
      ]
     },
     "execution_count": 22,
     "metadata": {},
     "output_type": "execute_result"
    }
   ],
   "source": [
    "DeltaN"
   ]
  },
  {
   "cell_type": "code",
   "execution_count": 23,
   "metadata": {
    "collapsed": false
   },
   "outputs": [
    {
     "ename": "LoadError",
     "evalue": "UndefVarError: DeltaN_new not defined",
     "output_type": "error",
     "traceback": [
      "UndefVarError: DeltaN_new not defined",
      ""
     ]
    }
   ],
   "source": [
    "DeltaN_new"
   ]
  },
  {
   "cell_type": "code",
   "execution_count": 24,
   "metadata": {
    "collapsed": false
   },
   "outputs": [
    {
     "data": {
      "text/html": [
       "<img src=\"data:image/png;base64,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\" />"
      ]
     },
     "execution_count": 24,
     "metadata": {},
     "output_type": "execute_result"
    }
   ],
   "source": [
    "plot(linspace(0,L,m),sol2(1000)[m+1:2m])"
   ]
  },
  {
   "cell_type": "code",
   "execution_count": 25,
   "metadata": {
    "collapsed": false
   },
   "outputs": [
    {
     "data": {
      "text/html": [
       "0.0019452270822342764"
      ],
      "text/plain": [
       "0.0019452270822342764"
      ]
     },
     "execution_count": 25,
     "metadata": {},
     "output_type": "execute_result"
    }
   ],
   "source": [
    "L"
   ]
  },
  {
   "cell_type": "code",
   "execution_count": 26,
   "metadata": {
    "collapsed": false
   },
   "outputs": [
    {
     "data": {
      "text/html": [
       "<img src=\"data:image/png;base64,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\" />"
      ]
     },
     "execution_count": 26,
     "metadata": {},
     "output_type": "execute_result"
    }
   ],
   "source": [
    "plot(linspace(0,100,100),[sol2(i)[2m+1] for i in linspace(0,100,100)])"
   ]
  },
  {
   "cell_type": "code",
   "execution_count": 27,
   "metadata": {
    "collapsed": false
   },
   "outputs": [
    {
     "data": {
      "text/html": [
       "0.19642857142857142"
      ],
      "text/plain": [
       "0.19642857142857142"
      ]
     },
     "execution_count": 27,
     "metadata": {},
     "output_type": "execute_result"
    }
   ],
   "source": [
    "5.5/28"
   ]
  },
  {
   "cell_type": "code",
   "execution_count": 28,
   "metadata": {
    "collapsed": false
   },
   "outputs": [
    {
     "data": {
      "text/html": [
       "<img src=\"data:image/png;base64,iVBORw0KGgoAAAANSUhEUgAAAlgAAAGQCAYAAAByNR6YAAAABHNCSVQICAgIfAhkiAAAAAlwSFlzAAAPYQAAD2EBqD+naQAAIABJREFUeJzt3XmcjeX/x/H3ObNhNtnGMMNYxxaDaKKsY20jW4kMhUooQiVhWiiyVIQk8aUUkqKSpVBEyvcnssVYZixf29iaMcv9+0NzcswMxpy575nj9Xw8zsOc+76u+3zOYU7vruu+r9tmGIYhAHATP/zwg5o2baqRI0dq1KhRVpdzTdHR0fr444+1f/9+hYWFmfrasbGxKleunHr06KHZs2eb+trArcBudQEAzLFlyxY9/vjjqlSpknx9fVWwYEFVqFBB3bt31/fff59pn8TERE2ePFn33HOPihYtKh8fH4WEhKhz585avXp1pn3i4uI0adIktWzZUmXKlJG3t7dKliypDh066Jdffrnp+i9cuKCAgADZbDb169fvpo8DAGYgYAFuLi0tTYMGDdIdd9yhOXPmqHz58nryySc1cOBA1atXT998841atmypV1991anf3r17VatWLT377LOKj49X586dNWjQIDVs2FDLly9X8+bN1bdvX6WkpDj1e/fdd/Xcc89p3759atmypQYPHqy7775bX375pRo0aKAFCxbc1Pv47LPPdO7cOdlsNs2fP1+JiYk3/ZkAQG7ztLoAALnr5Zdf1sSJExUREaGFCxeqQoUKTvsTExM1ZcoU/e9//3NsS0hIUOvWrfXXX39pxIgRGjlypDw8PBz74+Pj1a5dO82YMUOBgYF66623HPvq16+vH374QY0bN3Z6nXXr1ql58+Z66qmn1K5dO/n4+GTrfXz44Yfy9PTUM888o0mTJmnx4sXq2rVrto4BAKYxALitPXv2GB4eHkbRokWNo0ePXrNtYmKi4+fhw4cbkoxHH300y/ZHjx41ihQpYtjtdmPPnj03VE/Lli0NScbmzZtv7A38Y+fOnYYk47777jMOHDhg2Gw2o1mzZpm2XbNmjSHJGDlypLFu3TqjcePGhp+fnxEYGGg89NBDmda6e/duIzo62ggLCzO8vb2N2267zahZs6YxcOBAIy0tzaltbGys0atXL6NUqVKGl5eXUbp0aaNXr17GgQMHMhy3cePGhiTj77//NoYPH26UL1/e8PT0NEaOHGkYhmH06NHDkGT89ddfxptvvmlUrFjR8PHxMcLCwozRo0cbly5dyvQ9/vjjj8Z9991nFC1a1PD29jYqVqxoDB8+3Lhw4UKGtikpKcbYsWONChUqGD4+PkaFChWMN954w/jrr78MSUaPHj2u8+kDuBlMEQJubPbs2UpNTVXfvn0VFBR0zbZXjih99NFHkqQRI0Zk2T4oKEi9e/dWWlraDZ8k7eXlJUny9Mze4PmHH34oSXrsscdUpkwZNWnSRGvWrNH+/fuz7LNx40Y1b95cgYGB6t+/vxo3bqwvvvhCDRo00L59+xzt4uPjVb9+fc2bN08RERF67rnn9Oijjyo4OFhTp05Vamqqo+3u3btVr149zZo1S3Xr1tXgwYNVu3ZtzZo1S3fccYd2796daS0dOnTQ7Nmz1bRpUw0cOFDlypVz2v/ss8/qzTffVFRUlPr37y8fHx+NHDlSjzzySIZjvf/++2rSpIl++ukn3XvvvRowYIBCQkL0+uuvq0WLFrp06ZJT+z59+uiFF15QWlqa+vXrp1atWmnChAkaOHDg9T94ADfP6oQHIPc0adLEkGSsXLnyhvvExsYakozSpUtft+2KFSsMSVmOJl3pwIEDho+PjxEcHGykpKTccD3JyclGUFCQUbhwYePvv/82DMMwZs2aZUgyXn755Qzt00ewJBnTpk1z2jdt2jTHSFi6d955x5BkTJo0KcOxTp486fS8adOmhiRj+vTpTtunTJmS6eeQPoIVERGR4ViG8e8IVvHixY1Dhw45ticlJRmNGjUyJBkLFy50bN++fbvh6elp1KpVyzhx4oTTscaMGWNIMsaPH5/hs6hVq5Zx/vx5x/bDhw8bxYoVYwQLyEWMYAFu7OjRo5KkkJCQbPcJDQ29btv0NkeOHLlmu+TkZHXv3l1JSUl68803nc7nup6vv/5ax44dU6dOnVSgQAFJUseOHVWoUCHNnj1baWlpmfarXLmyevfu7bStd+/eqlSpkpYtW+Z0zpkkFSxYMMMxihQp4vj54MGDWrNmjapVq5bhuE8++aSqVKmi1atX69ChQxmOM3r0aKdjXW3gwIFOf0fe3t56/fXXJclpdHD69OlKSUnRu+++q6JFizodY+jQoSpevLg++eQTx7Y5c+ZIkl555RX5+vo6tpcuXZoRLCCXcZI7gFyVlpam6OhorV27Vr1791b37t2z1X/mzJmSLk8PpvP391e7du00f/58fffdd2rTpk2Gfg0bNpTd7vz/kHa7XQ0bNtSePXv03//+V1FRUbr//vv14osvql+/flq1apVat26txo0bq3z58k59t27dKklq3LixbDZbhuM2atRIO3fu1NatWzOE0/r161/zPd5zzz0Ztt11113y9PTU77//7ti2ceNGSdJ3332nVatWZejj5eWlnTt3Op7/97//zfL4mW0D4DoELMCNlSxZUjt37lRcXJzCw8NvuI+kTEdirpbeJjg4ONP9aWlp6tWrl+bPn69u3bpp2rRpN1j5ZfHx8fr2229Vvnx53X333U77HnvsMc2fP1+zZs3KNGBldc5Z+vaEhARJUlhYmDZu3KhRo0Zp+fLl+uyzzyRJVapUUUxMjDp16iRJOnv27DWPm/4ZpLe7kVqutd/Dw0NFixZ11ClJp06dkiTH6Nb1JCQkyG63q1ixYtmuCUDOMEUIuLGGDRtKUqajHVkpW7asSpUqpbi4OO3ateuabdOPe9ddd2XYl5aWpp49e+rjjz/WI488otmzZ2cYUbqe9JP09+3bJ5vN5vRo3bq1JGnp0qU6ceJEhr7Hjh3L9Jjp2wMDAx3batSooYULF+rUqVPasGGDXnnlFR09elRdunTRTz/9JEkKCAi45nHTp1bT213p6hGvG6k1NTVVJ0+edKoz/dhnz56VYRhZPtIFBgYqLS0tW58PANcgYAFuLDo6Wh4eHpoxY0aGc46ulpSU5NRPuvZIyfHjxzVz5kzZ7XZH+3Tp4WrOnDnq0qWL5s6dm63zriTJMAzNmjXLUc/jjz+e4dGgQQNdunRJc+fOzdD/p59+ynB+Vlpamn7++WfZbDbVqlUrQx8vLy9FRkZq9OjReuedd2QYhr7++mtJUkREhCRp7dq1TiEmvda1a9c6tcuOdevWZdi2YcMGpaSkqHbt2o5td955p6R/pwqvJ/09Znb8zLYBcCGLTq4HYJIXX3zRkGTUrVvX2LdvX4b9f//9tzFu3Dhj2LBhjm2nT582ypUrZ0gyRo8eneGqvyNHjhiRkZGGJGPIkCFO+1JTUx1Xx3Xq1MlITk6+qbrTr4Br1KhRlm3S18eqXr16hn66wasIf/31VyMhISHDsceNG2dIMkaNGuXYln4V4cyZMzM9blZXEWYlu1cRbtu2zfD09DTCw8MzXXfr9OnTxm+//eZ4vnr1aq4iBCzCOViAm3vttdeUmJioiRMnKjw8XM2aNVONGjXk5eWl/fv3a+XKlTp58qRee+01R5/ChQvr22+/1b333quRI0dqzpw5atWqlQIDA7Vv3z4tW7ZM58+fV+/evfXGG284vV5MTIw+/vhj+fn5qXLlyk7HTdeuXbvrjvSkr33Vs2fPLNuEh4erQYMG+vnnn/XLL784RngkqVWrVhowYICWL1+u6tWra/v27frqq69UrFgxTZ482dFu7ty5mj59uho1aqQKFSooICBAO3bs0PLly1WkSBGn13///fd19913q3fv3vrqq69UrVo1bd++XUuXLlXx4sX1/vvvX/M9ZSUyMlK1atVSly5d5Ovrq6+++kq7du3SQw89pA4dOjja1ahRQ1OnTtVTTz2l8PBwtW3bVhUqVNC5c+e0b98+/fjjj4qOjnac69a0aVP17NlTH330kW6//Xa1b99eSUlJWrBggSIjIx2jcwBygdUJD4A5Nm/ebPTq1cuoWLGiUbBgQceK4V27djW+//77TPtcvHjRmDBhgtGgQQOjcOHChpeXl1GqVCmjY8eOWa6tlT4qc63HRx99dM1az5w5YxQsWNDw9fU1zp07d822H3zwgSHJ6N27t2EYma/k7uvrawQEBBjt27fPsJL7xo0bjb59+xo1atQwChcubBQsWNCoVKmS8cwzz2Q6ShQbG2v07NnTCA4ONjw9PY3g4GCjZ8+eRmxsbIa2NzqC9ddffxljx441KlasaHh7extly5Y1Ro0aZSQlJWXab9OmTcbDDz/sWE2+WLFiRp06dYwXXnjB+PPPP53apqSkGGPGjDHKly9veHt7G+XLlzfeeOMNY+/evYxgAbnIZhhXnUwAAACAHOEkdwAAABcjYAEAALgYAQsAAMDFCFgAAAAuRsACAABwMQIWAACAixGwAAAAXCxPruSelpam+Ph4+fv7X/cmqQAAAFYyDEPnzp1TqVKlHDe1z5MBKz4+XqGhoVaXAQAAcMMOHTqkkJAQSXk0YPn7+0u6XGhAQEC2+589e1ahoaE33R8A3BnfkYBrpf9OpecXKY8GrPRpwYCAgBz98ue0PwC4M74jAde68rQmTnIHAABwsTw5ggUAwK3s0qVLOnDggFJTU60uBf+w2+0KDg52mga8FgIWAAB5yOHDh9W1a1ddvHjR6lKQifbt2+vFF190XC2YFQIWAAB5RFpammJiYlS4cGG98847KlCggNUl4R/Jycn6/fff9e6770qShg8ffs32BCwAAPKIEydO6LffftPrr7+uiIgIq8vBVW6//XZJ0jvvvKMBAwZcc7rQLU9yT/5zk3rWKqNLv66UkXLJ6nIAALghZ86ckSTHWkrIe2rXri1JOnLkyDXbuWXASlr9mWKaVFXi0hlK3PW71eUAAHBD0tLSJEkeHh4WV4KseHl5Sfr37yorbhmw/PqNV9l3vpPsdqWeOWF1OQAA5GthYWEKDw9XRESE47Ft2zZTXrtt27batWuXKa8lSZMmTdLRo0dzfBy3PQcrzZBsfrcp9cz/rC4FAIB8b8GCBaaeF5Y+QrR8+XLTXlO6HLCaNGmikiVL5ug4bjmClc4eUESpCSetLgMAgFy3ePFi1apdVwUL+apW7bpavHhxrr7erl27FBISon379kmSxo8fr9atWystLU2zZ89Ws2bN9MADD6hatWpq1KiRYmNjHX3Hjx+v+vXrq06dOmrdurUOHDggSRo1apQ6dOigVq1aqUaNGjpy5IjCwsK0detWSVKTJk00ePBgNWrUSGXKlNGIESO0fPly3X333QoLC9OECRMcr7Fnzx7de++9qlevnmrWrKn33nvPsc9ms+mNN95Q/fr1Va5cOX300UeSpJiYGMXHx6tLly6KiIhwvO7NcNsRLEmSdwEZl5KsrgIAgFy1ePFidejQQbbqLWTcN0rbdnyvDh06aNGiRXrooYdc8hpdunRRwYIFHc83bNigcePGqXPnzho/frymTJmiTZs2OdaH+umnn7R161ZVrVpVb731lvr06aMVK1Zo/vz52rVrlzZs2CAPDw/NnTtXTz/9tJYtW+Y47u+//66goKBM6zhw4IDWrFmjs2fPKiwsTKdPn9a6desUHx+v8PBw9erVS/7+/nrkkUf0n//8R1WqVNHFixcVGRmpO++8U/Xq1ZMk+fj4aNOmTdq5c6fq1aun7t2765VXXtGsWbNcMlrn3gELAIBbwOhXX78crgZ8LdlsMqIGyjb5XsW89obLAlZmoeORRx7RmjVr1KpVK61atUrFixd37GvQoIGqVq0qSerTp49efvllpaamasmSJdq8ebPq1q0rSRlWq2/btm2W4UqSOnbsKA8PD912220qX7687rvvPtlsNpUuXVrFixdXbGysvL29tX37dj388MOOfufOndOOHTscAevRRx+VJFWpUkWenp46evSoS6/evAUClmF1AQAA5Krdu3bKuG+UlH6zYZtNRvWW2vX1qFx93ZSUFP3xxx8qUqSI4uLibqiPYRh68cUX1adPn0z3+/n5XbP/lYuvenh4ZHiekpIiLy8vFSlS5JpTfJn1cyW3PgdLV9zVGgAAd1U5vIpsO76XjH8GFQxDtu0rFP7PCFJueeGFFxQeHq5169bp+eef1969ex37NmzYoJ07d0qSZs6cqaZNm8rDw0Pt2rXTtGnTdOrUKUn/rpDuSuHh4QoICHCcWyVJe/fudbzmtQQEBCghISHHNdwCI1gAALi3kSOGXz4Ha/K9Mqq3lG37Chk7VmqkC090v/ocrFdffVXffvutNm3apEKFCmnChAnq3Lmzfv75Z0mXpwiHDRumvXv3qmjRopozZ46ky1NzJ0+eVNOmTSVdHgXr1auXYwFPV/D09NTXX3+tZ599VhMnTlRqaqqKFSum+fPnX7fvgAED1Lt3bxUqVEizZ8++6XOxbIZh5Lk5tLNnzyowMFAJCQkKCAi46f7x7wyRt1+AivZ8OReqBID8Kaffscg9O3fuVLdu3RwnZ2fH4sWLFfPaG9q180+FV6mqkSOGq3379rlU6bXNnj1bS5Ys0ZIlSyx5/dyU2d9RZr9Tbj6CxRQhAODW8NBDD7nshHbknHufgwUAAEwXHR3tlqNX2UHAAgAAcDH3DljMEAIAAAu4d8ACAACwAAELAADAxdw8YNn+XXQNAADclLCwMJUoUULJycmObWvWrJHNZtOzzz6brWM9//zzGjVq1HXbRUdHa9KkSdktNc9w84AFAABcoUyZMlq6dKnj+Ycffqg77rjDworyNgIWAAC4rp49e2rWrFmSpISEBG3cuFGtW7eWdPmGzUOGDFGNGjVUo0YN9e/fX5cuXZIkHTlyRK1atVK1atUUFRWlw4cPO46ZnJysF154QfXr11dERIQ6d+6s06dPm//mcoFbLzRqs9lkcLNnAEA+lnLiiNL+Pp8rx7YX9JNnseAbatuwYUNNnTpV8fHxWrp0qTp16iQPDw9J0owZM7R582Zt2bJFHh4eeuCBBzRx4kQNGzZMAwYMUP369fXdd98pLi5OERERjhXQx40bJ19fX23atEnS5dvvvPzyy5oyZUquvF8zuXXAAgAgP0s9n6Cjrz8uGWm58wJ2u4JjPpGHX+ANNe/evbvjNjjz5s3TvHnzJEkrV65UdHS0fHx8JEm9e/fWlClTNGzYMK1atUrjx4+XJJUuXVoPPPCA43hLlixRQkKCFi1aJEm6dOmSwsLCXPgGrUPAAgAgj/LwC1TJ4R/m6gjWjYYrSXrsscdUp04dVa5cWZUqVcqync2W9UKUV+4zDEPvvvuuWrZsecM15BfuH7CYIQQA5GM3OoVnhlKlSmnMmDEZbkQdFRWlOXPmqGvXrrLb7Zo5c6YjNEVFRWnWrFkaPXq0jhw5oqVLl+rpp5+WJLVr104TJ07U3XffrUKFCunixYvav3+/qlevbvp7czX3D1gAAMBlevbsmWFbnz599Ndff6lOnTqSpCZNmjiWb5g8ebKio6NVrVo1lS5dWs2aNXP0GzZsmJKSknTnnXc6RraGDRtGwAIAAO4vNjY20+1Xrmc1fvx4x7lWVwoODtZ3332XaX9PT0/FxMQoJiYmw77Zs2ffTKl5hnsv02BjoVEAAGA+9w5YAAAAFiBgAQAAuNgtELCYIgQAAOa6BQIWAAD5g91++T/LV95UGXlLYmKipMsn6F8LVxECAJBHlCpVSt7e3vrggw/Uu3dveXl5WV0S/pGamqrDhw/rvffeU6FChVSmTJlrtnf/gMVVhACAfMLPz08TJkzQoEGD9PPPP1tdDjJRt25dTZs2Td7e3tds594B6xpL9QMAkBdFRkZqxYoVio+PV1paLt2DENlmt9t12223qWjRoo6p3Gtx74AFAEA+5Ofnp8qVK1tdBnKAk9wBAABczL0DFlOEAADAAu4dsAAAACzg/gGLqwgBAIDJ3D9gAQAAmIyABQAA4GK3QMBiihAAAJjLvQMWVxECAAALuHfAAgAAsID7ByxmCAEAgMncPGAxRQgAAMzn5gELAADAfG4fsAwWGgUAACZz74DFDCEAALCAewcsAAAAC9wCAYspQgAAYC43D1jMEQIAAPO5ecACAAAwn/sHLK4iBAAAJnPvgMW9CAEAgAXcO2ABAABYgIAFAADgYgQsAAAAFyNgAQAAuJj7ByyuIgQAACZz74DFVYQAAMAC7h2wAAAALHALBCymCAEAgLncPGAxRQgAAMzn5gELAADAfO4fsJghBAAAJnPvgMUMIQAAsIB7BywAAAAL3AIBizlCAABgLjcPWMwRAgAA87l5wAIAADCf+wcs7kUIAABM5t4Bi3sRAgAAC7h3wAIAALCA2wcsgylCAABgMrcOWEwQAgAAK7h1wAIAALACAQsAAMDF3DtgcRUhAACwgHsHLAAAAAu4f8DiKkIAAGAyNw9YTBECAADzuXnAAgAAMN8tELCYIgQAAObyTP8hNTVVy5cv1/fff69ffvlFR44c0d9//62iRYsqPDxc99xzjzp06KBy5cpZWW/2MEMIAAAsYD9//rxGjx6t0qVLq2PHjlq/fr2qVaumLl26qG/fvoqKilJqaqrGjx+vSpUqKSoqSj/99JPVdQMAAORZnuXKlVONGjU0btw4tWvXTv7+/lk2/u233/TJJ5/o/vvv12uvvaann37axFJvElcRAgAAk3l++eWXatCgwQ01rlOnjurUqaNXXnlFBw8ezOXSXIE5QgAAYD77jYarK/n7+6t69eq5UA4AAED+dwtcRQgAAGAuT39/f9lu8J59NptNCQkJN9Q2MTFRDz/8sHbs2KGCBQuqRIkSev/991WxYsWc1Js93IsQAABYwHPw4ME3HLCyq0+fPmrTpo1sNpvee+89PfHEE/rhhx9y5bUAAADyCs9Ro0blyoELFCigtm3bOp5HRkZq/PjxufJa18RVhAAAwGSemW00DEO7d+/WqVOnVKRIEVWuXDnHo1yTJ0/Wgw8+mOm+pKQkJSUlOZ6fPXvW6c/sSu+XnJwsj9TUmz4OALijnH7HAnCW6e+ScZUpU6YYQUFBht1uN2w2m2G3242SJUsaU6dOvbrpDXv99deNyMhI48KFC5nuHzlypKHL97Rx6WN8VHXji071c+XYPHjw4MGDBw8eVz4SEhIc2cZmGP/Ooc2YMUNPPvmkHnnkEXXp0kVBQUE6duyYFixYoE8//VTTp0/XE088oewYP368Pv30U61cuVKFCxfOtE1mI1ihoaE6dOiQAgICsvV6Tv0/iJFHwv/k2/u1bB8DANxVTr9jAThL/51KSEhw/E45TRFOnDhRAwYM0KRJk5w6PvDAAypevLjGjx+frYA1YcIEffLJJ9cMV5Lk4+MjHx+fDNsDAgJy9Mvv5e0tm93OFwgAZCKn37EAsua0Dtb+/ft13333Zdrw3nvvVWxs7A0f+PDhwxo8eLDOnDmjpk2bKiIiQnfeeWeOigUAAMgPnEawgoODtWHDBkVFRWVouHHjRgUHB9/wgUNCQmRwBR8AALgFOQWsxx9/XDExMUpKSlLHjh0VFBSk48eP6/PPP9e4ceP0yiuvWFXnTWKhUQAAYD6ngDV8+HCdPn1a48aN05gxY/5t5Omp/v37a/jw4aYXCAAAkN84BSybzaa3335bL730kn755RedPn1aRYoUUf369VW0aFGragQAAMhXMl1otGjRok6rsOdbNnEeGAAAMF2GgHXx4kWtWrVKhw4dUmJiotM+m82m5557zrTiAAAA8iOngPXjjz+qQ4cOOnXqVKaNCVgAAADX57QOVr9+/VSzZk1t27ZNSUlJSktLc3qkpqZaVedNsuny6vUAAADmcRrBOnDggCZNmqTq1atbVQ8AAEC+5zSC1bBhQ+3atcuqWgAAANyC0wjW9OnT1alTJ3l7e6t58+aZ3j+wSJEiphWXYzabxFWEAADAZE4Bq3Dhwipbtqz69u0rmy3zVdDz33lYAAAA5nIKWN27d9f69es1ePBgVa5cWd7e3lbVBQAAkG85BaxVq1Zp+vTp6tatm1X1AAAA5HtOJ7mXLl1agYGBVtUCAADgFpwCVkxMjMaMGaPTp09bVQ8AAEC+5zRFOG/ePB08eFBly5ZVREREhqsIbTabvvzyS1MLzBGuIgQAABZwCljnz59XpUqVHM/PnTtnekEAAAD5nVPAWrNmjVV1AAAAuA379ZvkZ9yLEAAAmM/+/vvvKykpKVudtm3bptWrV+dSSQAAAPmbffbs2Spbtqyee+45/fzzz0pOTs60YXx8vD788ENFRUWpQYMGXGkIAACQBc9ffvlFX3zxhSZPnqx33nlHXl5eqly5sooXLy4fHx+dOXNG+/fv1/Hjx1WkSBH16NFD//nPf1SyZEmra78+ZggBAIAFPCWpffv2at++vWJjY7Vy5Ur9+uuvOnLkiBITE1W2bFm1bNlSDRs2VJMmTeTl5WV1zQAAAHma01WEYWFheuKJJ/TEE09YVQ8AAEC+5/5XEbLQKAAAMJmbBywAAADzEbAAAABczL0Dlo3LCAEAgPncO2ABAABYgIAFAADgYp7NmjXLVof8dIscmySDqwgBAIDJPAMCAmSz2RwbNm/erKNHj6pWrVoKCgrSsWPH9N///lfBwcGqV6+ehaUCAADkD55LlixxPJkzZ4527dqlH3/8URUqVHBs37t3rx544AE9+OCDVtQIAACQrzidg/Xqq6/q1VdfdQpXklSxYkWNHj1ar776qqnF5ZjNxjWEAADAdE4B6/Dhw07ThVey2WyKi4szpSgAAID8zClg1a9fXy+//LL27dvn1Gjfvn0aMWKE7rzzTlOLAwAAyI+cbvY8ffp0tWjRQuHh4apRo4ZKlCih48eP648//lBQUJAWL15sVZ03iXsRAgAA8zmNYFWpUkV79+7Vu+++q9q1a8tut6t27dp69913tXfvXlWtWtWqOgEAAPINz6s3+Pj46Mknn9STTz5pRT0AAAD5XobHHoFUAAAeH0lEQVSAJUl//vmnfv31Vx06dEi9evVSyZIltXfvXgUFBcnf39/sGm+eTeJehAAAwGxOAevixYt64okntGDBAtntdqWlpal169YqWbKkXnzxRZUrV05vvfWWVbUCAADkC07nYD3//PNavXq1vvnmG509e9bpNjNt27bVt99+a3qBAAAA+Y3TCNbChQs1btw4tWzZUqmpqU4Nw8LCFBsba2ZtLmBjhhAAAJjOaQTr/PnzCg4OzrThhQsXTCkIAAAgv3MKWDVr1tSiRYsybbhs2TLdcccdphQFAACQnzlNEY4YMUIPPvigLl68qE6dOslms2nTpk365JNPNGvWLC1fvtyqOm+OjYVGAQCA+ZxGsO699159+umnWr9+vdq1ayfDMPT0009rwYIFmjdvnpo3b25VnQAAAPlGhnWwOnbsqI4dO2r37t06ceKEihQpoipVqlhRGwAAQL6U6UKjklS5cmVVrlzZzFpyCVOEAADAXParN2zfvl2PPvqoKlasKF9fX1WsWFHdunXT9u3bragPAAAg33EawVq2bJkeeughhYSEqF27dgoKCtKxY8e0ZMkS1alTR4sXL9a9995rVa0AAAD5glPAGjJkiFq3bq0vvvhCdvu/g1vjxo3Tgw8+qCFDhuSvgMVVhAAAwAJOU4T79+/XU0895RSuJMlut6tfv37av3+/qcUBAADkRxkWGs0qRO3fv181atQwpSgAAID8zGmKcMqUKXr44YdVqFAhtWvXToGBgUpISNAXX3yht99+W5988olVdd4km9UFAACAW5Cnv7+/bLZ/g8ilS5fUq1cv9erVS15eXkpOTpYkeXl5qXnz5jp79qxVtQIAAOQLnoMHD3YKWAAAAMgZz1GjRkmSDMPQ6dOn5evrKx8fH0uLchmbuIoQAACYznGSe3JyskqUKKGVK1daWQ8AAEC+5whY3t7eCgkJUWpqqpX1AAAA5HtOyzT069dPEyZMUGJiolX1uJhNBvciBAAAJnNapuHgwYPavXu3ypQpoyZNmigoKMjpBHibzabJkyebXiQAAEB+4hSwvv76a/n4+MjHx0ebN2/O0JiABQAAcH1OAcvtboVjs4kZQgAAYDb79ZsAAAAgOzyv3hAXF6dJkyZp/fr1OnXqlIoUKaJ77rlHAwcOVOnSpa2oEQAAIF9xGsH6448/dPvtt2vatGkKDg5Ws2bNFBwcrGnTpqlmzZravn27VXXmAHOEAADAXE4jWM8//7wqVKigFStW6LbbbnNsP336tFq2bKnnn39e33zzjelFAgAA5CdOI1jr16/Xyy+/7BSuJOm2227T8OHDtX79elOLAwAAyI+cApanp6eSkpIybZiUlCQPDw9TinIZm417EQIAANM5BayoqCgNHz5cu3fvdmq0Z88ejRgxQi1atDC1OAAAgPzIKWBNmDBBKSkpqlatmiIiItSqVSvVrl1bVatWVUpKiiZMmGBVnQAAAPmGU8AqU6aMtm3bpgkTJqhy5cpKS0tT5cqVNXHiRP3f//2fQkNDrarzJjFFCAAAzJdhHSw/Pz8NGDBAAwYMsKIeAACAfM8pYJ07d05JSUkqVqyYY9u8efP0559/qlmzZmrWrJnpBQIAAOQ3TlOE3bp104gRIxzPY2Ji1L17d02bNk0tW7bUZ599ZnqBOWKzugAAAHArcgpYmzdvVsuWLSVJhmFoypQpeumll3TixAkNGDBA48aNs6RIAACA/MQpYJ06dcoxPbhlyxadOHFCvXr1kiQ98MAD2rVrl/kVAgAA5DNOASsoKEg7duyQJC1btkxhYWEqX768JOnChQvy9MxwTnwexxwhAAAwn1Ni6ty5s4YOHaqVK1dq+fLlGjZsmGPf77//rkqVKpleYI6xTAMAADCZU8AaM2aM/P39tXnzZj3//PN64YUXHPu2bNmizp07m14gAABAfuMUsDw9PfXKK69k2vCLL74wpSCXsjFFCAAAzJfpSVW7d+/Wpk2bdOTIEQUHB6tevXoKDw83uzYXYYoQAACYyylgnT9/Xn369NFnn32mtLQ0FShQQImJibLb7erUqZM++OAD+fn5WVUrAABAvuB0FWH//v319ddf64MPPlBCQoIuXryohIQEzZgxQ8uWLVP//v2tqhMAACDfcApYixYt0ptvvqmePXvK399fkuTv769evXpp7NixWrx4sSVF5ggzhAAAwGROAatAgQIqV65cpg3Lly8vLy8vU4oCAADIz5wCVs+ePfX+++/LuGrtKMMwNHXqVPXs2dPU4nLKxlWEAADAAp4TJkxwPClatKi2bNmiSpUq6f7771eJEiV0/PhxffXVV0pKStI999xjYak3x2COEAAAmMxms9luOIHYbDalpqbmZj2SpLNnzyowMFAJCQkKCAi46f7Hl8xU8m+rVWr0vFyoEgDyp5x+xwJwltnvlGdaWprFZeUmpggBAID57Ndvctm5c+c0e/bsXCwll3AvQgAAYLJrBqzk5GQtWbJEnTp1UlBQkB5//HGz6gIAAMi3Mr1Vzg8//KB58+Zp8eLFOnPmjEqUKKGnnnpKPXr0MLu+nGGGEAAAWMARsLZu3ap58+bp008/VXx8vHx9fdWqVSstXrxYCxYsUKNGjaysMweYIgQAAOayv/7666pevbrq1q2rd955R3Xq1NH8+fN17NgxffDBBxnWxAIAAMC1eY4YMUI2m01RUVGaPXu2goODHTsvXbpkYWmuwBwhAAAwn71///4qUaKEvv/+e1WtWlW9evXSypUr3Wfkyk3eBgAAyD/skydPVlxcnL799lu1a9dOixYtUqtWrVSqVCkNGTJENpuNW84AAABkg12S7Ha7WrZsqdmzZ+v48eP69NNPFRkZqTlz5sgwDEVHRysmJkb79++3ut7sIRgCAAALZFgHy8fHR506ddIXX3yhY8eOacaMGQoLC1NMTIwqVqxoRY054y5TnQAAIN/IdB2sdIGBgXriiSf0xBNPKC4uTgsWLDCrLgAAgHzrhm+VU7p0aQ0aNCg3awEAAHALNxywsmvAgAEKCwuTzWbT1q1bc+tlbgBThAAAwFy5FrA6duyo9evXq2zZsrn1EgAAAHnSNc/Byok8cWsdriIEAAAWyLWAlR1JSUlKSkpyPD979qzTn9mV3i8pKUm2tLSbPg4AuKOcfscCcJbZ71KeCFhjxozR6NGjM2wPDQ3N0XHHjh2r3rXDFBIYmKPjAIA7yul3LICs2QzDMHbt2qWpU6cqPj5e1apVU9++fVWqVCmnhn/++af69eun1atXZ+sFwsLCtGTJEkVERGTZJrMRrNDQUB06dEgBAQHZe0dX9l84XbYt38v/hQ+zfQwAcFc5/Y4F4Cz9dyohIcHxO+X5xx9/KDIyUgUKFFDFihX1zTffaOLEiZo6daq6devm1PnHH3/MlcJ8fHzk4+OTYXtAQECOfvl9fAoo2WbjCwQAMpHT71gAWbO/9NJLqlu3rg4cOKCNGzcqLi5ODz/8sHr06JHptN2N6tu3r0JCQnT48GG1atUqf64CDwAAcBM8N23apJkzZ8rX11fS5dXbZ8yYobvuukt9+/ZVfHy83n///WwfePr06a6uNfu4iBAAAFjA8++//1aBAgUy7OjZs6dKliypTp066dixY3r22WctKM8FuBchAAAwmb1SpUpat25dpjvbtGmjlStXav369XrsscdMLg0AACB/srdt21YzZ85UYmJipg0iIyO1du1aGflyJIg5QgAAYD7PIUOGqEuXLtcMUNWqVdNvv/2mHTt2mFiaaxjcixAAAJjM09/fX9WrV79uw+LFi6tx48YmlAQAAJC/OVZyv3Tpkj7//HOtXbtWhw8fliSFhISocePG6tixo7y9vS0r8qZxL0IAAGABT0lav369unbtqri4OBmGocKFC0uSzpw5ow8++EAvvfSS5s2bp4YNG1pa7E1hhhAAAJjMvnPnTrVp00b+/v6aO3euEhISdOrUKZ06dUpnz57VvHnz5OfnpzZt2mjXrl1W1wsAAJDn2WNiYlSpUiX9+uuv6tq1q/z9/R07/fz89Mgjj2jTpk2qXLmyYmJiLCwVAAAgf7CvXr1aQ4YMUcGCBbNsVKhQIQ0ePFirVq0ysTQXyZfLSwAAgPzMfubMGYWEhFy3YUhIiM6cOWNCSQAAAPmbPSQkRFu3br1uw99///2GgliewlWEAADAAvb27dvrtdde0549e7JstHfvXo0ZM0YdOnQwsTRXYYoQAACYy3P48OH68ssvVatWLfXo0UP33XefypQpI0k6ePCgli1bpo8//lihoaF66aWXLC4XAAAg7/MsXLiw1q1bp6eeekozZszQjBkzMjRq166dpk6dqsDAQAtKzAmmCAEAgPk8JSkoKEiLFy/WwYMHtXbtWsXFxUmSSpcurUaNGjlGtPIlZggBAIDJPK98UqZMGXXr1s2qWgAAANyCfc+ePapbt66WL1+eZaNvvvlGdevW1b59+0wszQWYIQQAABawv/322/Lz81Pbtm2zbNSmTRsFBARo/PjxJpbmKswRAgAAc9lXrFihXr16Xbdhr1699N1335lQEgAAQP5mj4uLU4UKFa7bsFy5co6T3/MP5ggBAID57H5+fvrf//533YYnTpyQr6+vCSW5GPciBAAAJrPfcccdWrBgwXUbfvrpp7rjjjtMKAkAACB/s/fr10+fffaZRo8erdTU1AwN0tLSFBMTo88//1zPPPOMBSXmAPciBAAAFvB84IEHNHToUI0ePVrTp09X8+bNVaZMGdlsNh08eFCrVq3S0aNHNWTIEN1///1W13sTmCIEAADm8pSksWPHqlGjRnr77be1cOFCJSUlSZIKFCighg0baubMmWrTpo2lhQIAAOQXjpXc27Ztq7Zt2yo1NVUnT56UJBUtWlQeHh6WFZdjzBACAAALeF69wcPDQyVKlLCiltzBDCEAADCZ3eoCAAAA3I1bBywbc4QAAMACbh2wJMlgjhAAAJjM7QMWAACA2dw7YLHQKAAAsIB7ByyJexECAADTuX/AAgAAMBkBCwAAwMXcP2AxQwgAAEzm/gELAADAZO4dsLiKEAAAWMC9A5Yk5ggBAIDZboGABQAAYC43D1hMEQIAAPO5ecASC40CAADTuX/AAgAAMJl7ByxmCAEAgAXcO2BJ4ipCAABgtlsgYAEAAJjLzQMWc4QAAMB8bh6wAAAAzOf+AYtTsAAAgMncO2BxL0IAAGAB9w5YAAAAFrgFAhZzhAAAwFy3QMACAAAwFwELAADAxdw/YHGzZwAAYDL3DlhcRQgAACzg3gELAADAAgQsAAAAF3PzgMUUIQAAMJ+bBywAAADz3RIBy+BKQgAAYCL3DljMEAIAAAu4d8ACAACwwK0RsJgiBAAAJnLzgMUcIQAAMJ+bBywAAADz3SIBiylCAABgHvcOWNyLEAAAWMC9AxYAAIAFbo2AxQwhAAAw0a0RsAAAAExEwAIAAHCxWyRgMUcIAADM494Bi6sIAQCABdw7YAEAAFjg1ghY3IsQAACYyM0DFlOEAADAfG4esAAAAMx3iwQspggBAIB53DtgMUMIAAAs4N4BCwAAwAK3RsBihhAAAJjIrQOWjTlCAABgAbcOWAAAAFa4NQIWC40CAAATuXfA4l6EAADAAu4dsAAAACxwSwQsg8sIAQCAiW6JgAUAAGAmAhYAAICL3RoBixlCAABgIvcOWFxFCAAALODeAQsAAMACbh6w/hnBMtKsLQMAANxS3DtgeXpJkoyUSxYXAgAAbiVuHbBsXt6SJCOZgAUAAMzj1gFLXj6SJONSksWFAACAW4lbByzHCNalRIsrAQAAtxK3DlhiihAAAFjArQOWLX2KMJkpQgAAYB63DljyTJ8iJGABAADzuHXAYgQLAABYIVcD1p49e9SgQQNVrlxZ9erV0/bt23Pz5TLyYgQLAACYL1cDVt++fdWnTx/t3r1bw4YNU3R0dG6+nMPSpUslu4eKBQXpUmqann2mn8LKlVdY+YoqWMhXtWrX1dChQ1Wrdl0VLOTrtC+rn2+0j7sfOy/UcLPHXrx4sePfyOLFix19rtyX1fbr7cvKzfRxNWqghqtraHBPI8lmV4N7Gt3Sn4PVNViNz+CyXPscjFxy7Ngxw9/f30hOTjYMwzDS0tKMoKAgY8+ePdftm5CQYEgyEhISsv26ixYtMiQZKn27IclYFt3SmBd9nxHo42moanNDnd4yFFrTkGTYqkUZuqv75fZVm2f98432cfdj54UabvLYtuotDEnGokWLHP9GbNVbOO0bMmRIptuv1WfRokXX/beYnT6uRg3UkHkNUf/UEHWLfw7W1WA1PoPLXPU5ZJZbbIZhGDlKaFnYsmWLunbtql27djm21a9fX2PHjlWzZs2c2iYlJSkp6d9pvLNnzyo0NFSHDh1SQEBAtl63wT2NtCOluIzzJyW/Yro/epjePfyWPGw2pciuRLuPUhIvyJBNaQUDZVw8I0M2qVBhGRdOSTa7VOg26cLJf3+2STp/MvN92Wz3UUh3vTdjguRXVBq4TLLZpNfulHyLSM8ul16P/HfflT/faLub6ZOfarjZYxuGbJPbqrrXSRmGoR2pxWUMcN7nHfuLLpWLzLD9Wn2qe53UT2t/zPrfYjb7uBo1UAM15M0arMZncJmrPof03JKQkODILZ65VXR2jBkzRqNHj86wPTQ0NPsHs9mljmOlL0dJDz6irwo30tY3OymibS8Vrn6PfNIuyXPJy7JXj5ItpKFsP8fIVrWZFNpA+vk1p5+V/rMk/XTF85+z+PkG2q3zry0d3SU9OOryX6bk/Dyrn2+0XW4eOy/UcLPHttlkVG+lPxa+cPl5x7EZ9iX9uUaq1jJbff5Y+IICAwOv/W8xO31cjRqogRryZg1W4zO4LBc/h1wLWKGhoTpy5IhSUlLk6ekpwzB08OBBlSlTJkPbF198UYMGDXI8z/EI1vYVMkqGS9u/l6IG6pBvmA5t+a909xv//Md3jHRulxQ5UYofL53dI0VOkuInZP6zzXb5ecJuF7SrJJUMl7avkKIGXu5TMlz647vLz6/cdzPtcvPYeaGGmz22Yci2/TtVr1nz8mjUjhUyrtrnXbCQLmWy/Vp9qtesee0RrGz2cTVqoAZqyJs1WI3P4DJXfQ7pucWJyyYyM9G4cWPjo48+MgzDMD7//HOjbt26N9TPNedg1bj8Z5Vm/56PU6Xp5fN2Qv45b+fKc3WqNM365xvt4+7Hzgs13OSxbdUun2uyePHif+fcq0U57Rs6dGim26/VZ/Hixdf9t5idPq5GDdSQeQ3/nJtYrfkt/jlYV4PV+Awuc9XnkFluydWAtXPnTiMyMtKoVKmSUbduXeP//u//bqhfTgKWYRjG3LlzDdk9DU9vb6OAr7/h5VPAKFuuvBFWvqJRoGAho1btusbQoUONWrXrGgUKFnLal9XPN9rH3Y+dF2q42WNf+QuzaNEiR58r92W1/Xr7snIzfVyNGqjh6hpq1IowZLMbNWpF3NKfg9U1WI3P4DJXfA6mnuSeE2fPnlVgYKDTyWJm9gcAd8Z3JOBamf1OufVK7gAAAFYgYAEAALgYAQsAAMDF8sQ6WFdLPy3s7NmzN9U/vd/N9gcAd8Z3JOBa6b9LV57WnidPcj98+PDNLTIKAABgkUOHDikkJERSHg1YaWlpio+Pl7+/v2zpq6tmQ04WKgUAd8d3JOBahmHo3LlzKlWqlOz2y2df5ckpQrvd7kiAOREQEMCXBwBkge9IwHWuvrUOJ7kDAAC4GAELAADAxdwyYPn4+GjkyJHy8fGxuhQAyHP4jgRyX548yR0AACA/c8sRLAAAACsRsAAAAFyMgAUAAOBibhew9uzZowYNGqhy5cqqV6+etm/fbnVJAGCZsLAwhYeHKyIiQhEREVqwYIEk6fjx42rdurUqVaqkGjVqaO3atRZXCriXPLnQaE707dtXffr0UXR0tBYuXKjo6Ght3rzZ6rIAwDILFixQRESE07YXXnhBkZGR+vbbb7V582a1b99e+/fvl5eXl0VVAu7FrUawjh8/rl9//VXdunWTJHXo0EGHDh3S3r17La4MAPKWzz77TE8++aQkqV69eipVqpR+/PFHi6sC3IdbBaxDhw4pODhYnp6XB+ZsNpvKlCmjgwcPWlwZAFine/fuuv322/X444/rf//7n06ePKnk5GSVLFnS0SYsLIzvSsCF3CpgAQCcrV27Vtu2bdNvv/2mYsWKqUePHlaXBNwS3CpghYaG6siRI0pJSZF0+e7WBw8eVJkyZSyuDACskf795+XlpWeffVbr1q1T0aJF5enpqaNHjzraxcbG8l0JuJBbBawSJUqoTp06+s9//iNJWrRokUJCQlSxYkWLKwMA8124cEFnzpxxPP/kk09Uu3ZtSVKnTp00bdo0SdLmzZsVFxenxo0bW1In4I7c7lY5u3btUnR0tE6ePKmAgAB99NFHuv32260uCwBMt2/fPnXo0EGpqakyDEPly5fX5MmTFRYWpmPHjql79+7av3+/vL299d5776lp06ZWlwy4DbcLWAAAAFZzqylCAACAvICABQAA4GIELAAAABcjYAEAALgYAQsAAMDFCFgAAAAuRsACAABwMQIWAJew2WzXfcyePVs//PCDbDabfv31V6tLVmJiokJDQ7Vs2TKXHM9ms2n8+PHZ6hMbGytfX1/Fxsa6pAYAeQMLjQJwiY0bNzo9v+uuu9S/f3917drVsa1ChQry8fHRjh07dPvtt8vX19fsMp1MnDhRH330kf7v//7PJcfbuHGjypYtq+Dg4Gz1S78B88cff+ySOgBYj4AFIFfYbDaNGzdOzz//vNWlZCr91jEDBgzQc889Z2kta9euVVRUlOLi4lS8eHFLawHgGkwRAjBVZlOENptNb775poYPH64SJUqocOHCGjp0qAzD0KpVqxQRESE/Pz81b95chw4dcjpeUlKSXnrpJZUtW1Y+Pj6qWrWq5s+ff906fvzxR8XGxqpjx45O28PCwvTMM89o0qRJCg0Nlb+/v6Kjo5WUlKStW7eqYcOG8vX1Vf369bVt2zanvldPETZp0kT33XefFi5cqPDwcPn5+alZs2b666+/nPrdfffdKlq06A3VDSB/8LS6AACQpPfee09NmjTR3Llz9csvv2jkyJFKTU3V999/r+HDh8vb21sDBgzQ448/rhUrVjj6de7cWevXr9fIkSNVtWpVLV++XN26ddNtt92mNm3aZPl6K1euVGhoqEJDQzPs+/LLL1WjRg1Nnz5d+/bt06BBg+Tt7a0NGzZo0KBBCgoK0rBhw9SpUyft2LFDdnvW/6+6detWjRs3TmPHjlVqaqoGDRqkbt26acOGDY42drtdkZGR+v777zVw4MCb/AQB5CUELAB5QqlSpTR37lxJUqtWrbR06VJNnDhR27dvV9WqVSVJcXFx6t+/v86cOaPChQtrzZo1Wrp0qb777ju1bNlSktSiRQsdOXJEI0eOvGbA2rx5s2rWrJnl/i+//FLe3t6SLo+6ffDBB/rmm2/UunVrSVJaWpruv/9+bdu2TbVq1cryOGfOnNHvv//umPo7f/68evbsqcOHDyskJMTRrlatWpoyZcqNfFQA8gGmCAHkCS1atHB6XrlyZZUqVcoRrtK3SdLhw4clSStWrFCRIkXUrFkzpaSkOB4tWrTQ77//rtTU1Cxf78iRI1me79S4cWNHuEp/XbvdrmbNmmWo5eopy6tFREQ4vU61atWc3kO6YsWK6cSJE0pOTr7m8QDkD4xgAcgTChcu7PTc29s7023S5eUVJOnEiRM6deqUvLy8Mj3mkSNHnEaJrpSYmCgfH58brqVgwYJOoevqWrJyvfeQLr2WxMTELN8PgPyDgAUg3ypSpIiKFy+u5cuXZ7q/RIkS1+x75syZ3Cot286cOSNvb2/5+/tbXQoAFyBgAci3oqKi9NZbb8nb2/ua51NlJjw8XDt37sylyrIvNjbWMe0IIP8jYAHIt1q0aKH7779frVu31tChQ1WzZk1duHBB27dv1969ezVz5sws+zZs2FCfffaZkpOT88SU3K+//qp77rnH6jIAuAgnuQPI1xYuXKgnn3xSU6dOVZs2bRzLODRu3Pia/R588EGlpKTohx9+MKfQazh+/Li2bNmSYU0uAPkXK7kDuGV16NBBgYGBmjVrlqV1TJkyRRMnTtSePXtks9ksrQWAaxCwANyy0ldm37dvn4KCgiypIS0tTVWqVNHLL7+sxx57zJIaALiex6hRo0ZZXQQAWKFkyZIqUaKEChUqpFKlSllSQ1xcnGw2m55++mlGrwA38v9svnOfP/veQwAAAABJRU5ErkJggg==\" />"
      ]
     },
     "execution_count": 28,
     "metadata": {},
     "output_type": "execute_result"
    }
   ],
   "source": [
    "tdata = [0, 0.25, 0.5, 1,1.5,2,2.5,3,3.5,4,4.5,5,5.5,6,6.5,7,7.5,8,8.5,9,9.5,10,10.5,11,11.5,12,12.5,13,13.5,14,14.5,15,15.5,16,16.5,17,17.5,18,18.5,19,19.5,20,21,22,23,25,30,35,40,45,50,55,60,70,80]  #Time in minutes\n",
    "pdata = [1.55,1.4430,1.4370,1.4317,1.4284,1.4257,1.4235,1.4213,1.4195,1.4179,1.4161,1.4145,1.4130,1.4117,1.4103,1.4092,1.4080,1.4070,1.4061,1.4051,1.4039,1.4031,1.4020,1.4010,1.4005,1.3996,1.3987,1.3980,1.3974,1.3968,1.3959,1.3953,1.3947,1.3940,1.3934,1.3928,1.3923,1.3917,1.3912,1.3906,1.3902,1.3896,1.3887,1.3877,1.3868,1.3853,1.3819,1.3792,1.3771,1.3755,1.3741,1.3727,1.3718,1.3700,1.3682]            #Pressure Data in bar\n",
    "pleak = [.00018*tdata[i] for i in 1:length(tdata)]\n",
    "pdata = pdata + pleak\n",
    "plot(tdata,pdata)\n",
    "V_container = 330e-6      #Volume of container, m3 \n",
    "T = 298                   #Temperature, K\n",
    "R = 8.314                 #J/K.mol\n",
    "DeltaN = [(pdata[2] - pdata[i])*1e5*V_container/(R*T) for i in 2:length(pdata)]\n",
    "\n",
    "#plot(tdata[2:end],DeltaN)\n",
    "\n",
    "#Compare this with Model - remember to adjust for small surface area:\n",
    "A = pi*.03^2\n",
    "plot(tdata[2:end],DeltaN, line=:scatter, title=\"CO2 Absorbed\", ylabel=\"CO2 Absorbed (mol)\", xlabel=\"Time (min)\",lab=\"Experiment\")\n",
    "plot!(linspace(0,tf,100)/60,[sol2(i)[2m+1] for i in linspace(0,tf,100)]*A, lab = \"Model\")"
   ]
  },
  {
   "cell_type": "code",
   "execution_count": 29,
   "metadata": {
    "collapsed": false
   },
   "outputs": [
    {
     "data": {
      "text/plain": [
       "55-element Array{Float64,1}:\n",
       " 0.0    \n",
       " 4.5e-5 \n",
       " 9.0e-5 \n",
       " 0.00018\n",
       " 0.00027\n",
       " 0.00036\n",
       " 0.00045\n",
       " 0.00054\n",
       " 0.00063\n",
       " 0.00072\n",
       " 0.00081\n",
       " 0.0009 \n",
       " 0.00099\n",
       " ⋮      \n",
       " 0.00396\n",
       " 0.00414\n",
       " 0.0045 \n",
       " 0.0054 \n",
       " 0.0063 \n",
       " 0.0072 \n",
       " 0.0081 \n",
       " 0.009  \n",
       " 0.0099 \n",
       " 0.0108 \n",
       " 0.0126 \n",
       " 0.0144 "
      ]
     },
     "execution_count": 29,
     "metadata": {},
     "output_type": "execute_result"
    }
   ],
   "source": [
    "pleak = [.00018*tdata[i] for i in 1:length(tdata)]"
   ]
  },
  {
   "cell_type": "code",
   "execution_count": 30,
   "metadata": {
    "collapsed": false
   },
   "outputs": [
    {
     "name": "stdout",
     "output_type": "stream",
     "text": [
      "  0.241717 seconds (801.78 k allocations: 51.704 MB, 8.78% gc time)\n"
     ]
    },
    {
     "name": "stderr",
     "output_type": "stream",
     "text": [
      "WARNING: Method definition p(Any) in module Main at In[12]:7 overwritten at In[30]:9.\n",
      "WARNING: Method definition f(Any, Any) in module Main at In[2]:15 overwritten at In[30]:15.\n"
     ]
    },
    {
     "name": "stdout",
     "output_type": "stream",
     "text": [
      "  "
     ]
    },
    {
     "name": "stderr",
     "output_type": "stream",
     "text": [
      "WARNING: Method definition p(Any) in module Main at In[30]:9 overwritten at In[30]:35.\n",
      "WARNING: Method definition f(Any, Any) in module Main at In[30]:15 overwritten at In[30]:41.\n"
     ]
    },
    {
     "name": "stdout",
     "output_type": "stream",
     "text": [
      "0.139646 seconds (717.88 k allocations: 46.311 MB, 8.52% gc time)\n"
     ]
    }
   ],
   "source": [
    "#Analytic Test - Linear Case\n",
    "\n",
    "L = 0.3;\n",
    "k2 = 10.0\n",
    "Ss = 1.0\n",
    "Sl = 1.0\n",
    "Ds = 1.0\n",
    "Dl = 10.0\n",
    "p(t) = 1.0\n",
    "tf = 30.0\n",
    "ɛ=0.0\n",
    "c0 = 0.0;\n",
    "w0 = 1.0;\n",
    "m = 50\n",
    "f(c,w) = 0.0\n",
    "@time sol = LinearSIP(f,L,tf,p,c0,w0,k2,Ss,Sl,Ds,Dl,ɛ,m);\n",
    "#@time sol = SphericalSIP(f,R,tf,p,c0,w0,k2,Ss,Sl,Ds,Dl,ɛ,m);\n",
    "\n",
    "#Assymptotic Analytical Solution\n",
    "x = linspace(0,L,m+1)[1:m]\n",
    "solassymptote = cosh(x*sqrt(k2/Dl))/cosh(L*sqrt(k2/Dl))\n",
    "\n",
    "plot(sol(2.0)[1:m])\n",
    "plot!(sol(3.0)[1:m])\n",
    "plot!(x,solassymptote)\n",
    "\n",
    "#Analytic Test - Spherical Case\n",
    "\n",
    "R = 0.3; \n",
    "k2 = 10.0\n",
    "Ss = 1.0\n",
    "Sl = 1.0\n",
    "Ds = 1.0\n",
    "Dl = 0.1\n",
    "p(t) = 1.0\n",
    "tf = 30.0\n",
    "ɛ=0.0\n",
    "c0 = 0.0;\n",
    "w0 = 1.0;\n",
    "m = 50\n",
    "f(c,w) = 0.0\n",
    "#@time sol = LinearSIP(f,L,tf,p,c0,w0,k2,Ss,Sl,Ds,Dl,ɛ,m);\n",
    "@time sol = SphericalSIP(f,R,tf,p,c0,w0,k2,Ss,Sl,Ds,Dl,ɛ,m);\n",
    "\n",
    "#Assymptotic Analytical Solution\n",
    "r = linspace(0.5*(R/(m+0.5)),R,m+1)[1:m]\n",
    "solassymptoteradial = sinh(r*sqrt(k2/Dl))./(r/R*sinh(R*sqrt(k2/Dl)))\n",
    "\n",
    "plot(sol(3.5)[1:m])\n",
    "plot!(sol(.1)[1:m])\n",
    "plot!(solassymptoteradial)"
   ]
  },
  {
   "cell_type": "code",
   "execution_count": 31,
   "metadata": {
    "collapsed": false
   },
   "outputs": [
    {
     "data": {
      "text/html": [
       "<img src=\"data:image/png;base64,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\" />"
      ]
     },
     "execution_count": 31,
     "metadata": {},
     "output_type": "execute_result"
    }
   ],
   "source": [
    "plot(sol(3.5)[1:m])\n",
    "plot!(sol(.1)[1:m])\n",
    "plot!(solassymptoteradial)"
   ]
  },
  {
   "cell_type": "code",
   "execution_count": null,
   "metadata": {
    "collapsed": true
   },
   "outputs": [],
   "source": []
  },
  {
   "cell_type": "code",
   "execution_count": null,
   "metadata": {
    "collapsed": true
   },
   "outputs": [],
   "source": []
  },
  {
   "cell_type": "code",
   "execution_count": null,
   "metadata": {
    "collapsed": true
   },
   "outputs": [],
   "source": []
  },
  {
   "cell_type": "code",
   "execution_count": null,
   "metadata": {
    "collapsed": true
   },
   "outputs": [],
   "source": []
  },
  {
   "cell_type": "code",
   "execution_count": null,
   "metadata": {
    "collapsed": true
   },
   "outputs": [],
   "source": []
  },
  {
   "cell_type": "code",
   "execution_count": null,
   "metadata": {
    "collapsed": true
   },
   "outputs": [],
   "source": []
  },
  {
   "cell_type": "code",
   "execution_count": null,
   "metadata": {
    "collapsed": true
   },
   "outputs": [],
   "source": []
  },
  {
   "cell_type": "code",
   "execution_count": null,
   "metadata": {
    "collapsed": true
   },
   "outputs": [],
   "source": []
  },
  {
   "cell_type": "code",
   "execution_count": null,
   "metadata": {
    "collapsed": true
   },
   "outputs": [],
   "source": []
  },
  {
   "cell_type": "code",
   "execution_count": null,
   "metadata": {
    "collapsed": true
   },
   "outputs": [],
   "source": []
  },
  {
   "cell_type": "code",
   "execution_count": null,
   "metadata": {
    "collapsed": true
   },
   "outputs": [],
   "source": []
  },
  {
   "cell_type": "code",
   "execution_count": null,
   "metadata": {
    "collapsed": true
   },
   "outputs": [],
   "source": []
  },
  {
   "cell_type": "code",
   "execution_count": null,
   "metadata": {
    "collapsed": true
   },
   "outputs": [],
   "source": []
  },
  {
   "cell_type": "code",
   "execution_count": null,
   "metadata": {
    "collapsed": true
   },
   "outputs": [],
   "source": []
  },
  {
   "cell_type": "code",
   "execution_count": null,
   "metadata": {
    "collapsed": true
   },
   "outputs": [],
   "source": []
  },
  {
   "cell_type": "code",
   "execution_count": null,
   "metadata": {
    "collapsed": true
   },
   "outputs": [],
   "source": []
  },
  {
   "cell_type": "code",
   "execution_count": null,
   "metadata": {
    "collapsed": true
   },
   "outputs": [],
   "source": []
  },
  {
   "cell_type": "code",
   "execution_count": null,
   "metadata": {
    "collapsed": true
   },
   "outputs": [],
   "source": []
  },
  {
   "cell_type": "code",
   "execution_count": null,
   "metadata": {
    "collapsed": true
   },
   "outputs": [],
   "source": []
  },
  {
   "cell_type": "code",
   "execution_count": null,
   "metadata": {
    "collapsed": true
   },
   "outputs": [],
   "source": []
  },
  {
   "cell_type": "code",
   "execution_count": null,
   "metadata": {
    "collapsed": true
   },
   "outputs": [],
   "source": []
  },
  {
   "cell_type": "markdown",
   "metadata": {},
   "source": [
    "## Junk"
   ]
  },
  {
   "cell_type": "code",
   "execution_count": 32,
   "metadata": {
    "collapsed": false
   },
   "outputs": [
    {
     "name": "stderr",
     "output_type": "stream",
     "text": [
      "WARNING: Method definition p(Any) in module Main at In[30]:35 overwritten at In[32]:5.\n",
      "WARNING: Method definition f(Any, Any) in module Main at In[30]:41 overwritten at In[32]:6.\n"
     ]
    }
   ],
   "source": [
    "#Calculate Mesh Parameters\n",
    "L = 1.0\n",
    "kdash = 10.0\n",
    "Ss = 1.0\n",
    "p(t) = 1.0\n",
    "f(c,w) = -.01*kdash*c*w\n",
    "tf = 10000.0\n",
    "Ddash = 0.01\n",
    "\n",
    "m = 50          #Number of mesh points\n",
    "h = L/m         #Distance between neighbouring grid points\n",
    "\n",
    "#Define Matrix A\n",
    "DDash = 1.0\n",
    "A = Ddash/h^2*(-2*diagm(ones(m))+diagm([2;ones(m-2)],1)+diagm(ones(m-1),-1))\n",
    "\n",
    "#Define DE Problem\n",
    "maintemp = function (t,u,dudt)\n",
    "    #Extract values\n",
    "    c = u[1:m]\n",
    "    w = u[m+1:2m]\n",
    "    #Diffusion term\n",
    "    cdotDiff = A*c \n",
    "    #Reaction Terms\n",
    "    for i = 1:m-1\n",
    "        dudt[i] = cdotDiff[i] - kdash*c[i]*w[i]\n",
    "    end\n",
    "    dudt[m] = cdotDiff[m] - kdash*c[m]*w[m] + Ddash/h^2*Ss*p(t)\n",
    "    for i = m+1:2m\n",
    "        dudt[i] = f(c[i-m],w[i-m])\n",
    "    end\n",
    "end\n",
    "\n",
    "c0 = zeros(m)\n",
    "w0 = ones(m)\n",
    "u0 = [c0;w0]\n",
    "tspan = (0.0,tf)\n",
    "prob = ODEProblem(maintemp,u0,tspan)\n",
    "sol = solve(prob, Rosenbrock23());"
   ]
  },
  {
   "cell_type": "code",
   "execution_count": 33,
   "metadata": {
    "collapsed": false
   },
   "outputs": [
    {
     "data": {
      "text/html": [
       "<img src=\"data:image/png;base64,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\" />"
      ]
     },
     "execution_count": 33,
     "metadata": {},
     "output_type": "execute_result"
    }
   ],
   "source": [
    "plot!(sol(0.0)[1:2m])\n",
    "for i = 1:9\n",
    "    plot!(sol(1000*i)[1:2m])\n",
    "end\n",
    "plot!(sol(10000)[1:2m])"
   ]
  },
  {
   "cell_type": "code",
   "execution_count": 34,
   "metadata": {
    "collapsed": false
   },
   "outputs": [
    {
     "ename": "LoadError",
     "evalue": "DimensionMismatch(\"dimensions must match\")",
     "output_type": "error",
     "traceback": [
      "DimensionMismatch(\"dimensions must match\")",
      "",
      " in promote_shape(::Tuple{Base.OneTo{Int64},Base.OneTo{Int64}}, ::Tuple{Base.OneTo{Int64},Base.OneTo{Int64}}) at ./operators.jl:406",
      " in promote_shape(::Array{Float64,2}, ::Array{Float64,2}) at ./operators.jl:397",
      " in _elementwise(::Base.#+, ::Type{Float64}, ::Array{Float64,2}, ::Array{Float64,2}) at ./arraymath.jl:71",
      " in +(::Array{Float64,2}, ::Array{Float64,2}, ::Array{Float64,2}) at ./operators.jl:138"
     ]
    }
   ],
   "source": [
    "Ddash/h^2*(-2*diagm(ones(m))+diagm([2;ones(m-1)],1)+diagm(ones(m-1),-1))"
   ]
  },
  {
   "cell_type": "code",
   "execution_count": 35,
   "metadata": {
    "collapsed": false
   },
   "outputs": [
    {
     "data": {
      "text/plain": [
       "50-element Array{Float64,1}:\n",
       " 2.0\n",
       " 1.0\n",
       " 1.0\n",
       " 1.0\n",
       " 1.0\n",
       " 1.0\n",
       " 1.0\n",
       " 1.0\n",
       " 1.0\n",
       " 1.0\n",
       " 1.0\n",
       " 1.0\n",
       " 1.0\n",
       " ⋮  \n",
       " 1.0\n",
       " 1.0\n",
       " 1.0\n",
       " 1.0\n",
       " 1.0\n",
       " 1.0\n",
       " 1.0\n",
       " 1.0\n",
       " 1.0\n",
       " 1.0\n",
       " 1.0\n",
       " 1.0"
      ]
     },
     "execution_count": 35,
     "metadata": {},
     "output_type": "execute_result"
    }
   ],
   "source": [
    "[2;ones(m-1)]"
   ]
  },
  {
   "cell_type": "code",
   "execution_count": 36,
   "metadata": {
    "collapsed": false
   },
   "outputs": [
    {
     "data": {
      "text/plain": [
       "LinearSIPOLD (generic function with 1 method)"
      ]
     },
     "execution_count": 36,
     "metadata": {},
     "output_type": "execute_result"
    }
   ],
   "source": [
    "#Packages we are using\n",
    "using DifferentialEquations\n",
    "using Plots\n",
    "\n",
    "#Function to model the absorption of gas into SIP material in linear coordinates via MOL approach.\n",
    "#Discussed on p. 8 of workbook.\n",
    "#Inputs: f - function for rate of change in reactive species concentration. \n",
    "#L - length of domain, m\n",
    "#tf - end time of simulation, s. \n",
    "#p - partial pressure of gas above SIP (this must be a function of time.), Pa.\n",
    "#c0 and w0 - initial CO2 and reactant concentration\n",
    "#k2 - second order rate constant, m3/mol.s\n",
    "#Ss and Sl - solubility of gas in solid and liquid phases, respectively, mol/m3.Pa\n",
    "#Ds and Dl - diffusivity of gas in solid and liquid phases, respectively, m2/s\n",
    "#ɛ - The solid fraction inside the particle.\n",
    "\n",
    "function LinearSIPOLD(f,L,tf,p,c0,w0,k2,Ss,Sl,Ds,Dl,ɛ)\n",
    "    \n",
    "    #Pertinent Mesh Values\n",
    "    m = 50          #Number of mesh points\n",
    "    h = L/m         #Distance between neighbouring grid points\n",
    "    \n",
    "    #Generic Ddash and kdash parameters\n",
    "    DDash = (Ds*ɛ+Dl*(1-ɛ)*Sl/Ss) / (ɛ+(1-ɛ)*Ss/Sl)\n",
    "    kdash = (k2*Sl/Ss*(1-ɛ))      / (ɛ+(1-ɛ)*Ss/Sl)\n",
    "    \n",
    "    #Define Matrix A\n",
    "    A = Ddash/h^2*(-2*diagm(ones(m))+diagm([2;ones(m-2)],1)+diagm(ones(m-1),-1))\n",
    "\n",
    "    #Define DE Problem\n",
    "    maintemp = function (t,u,dudt)\n",
    "        #Extract values from u\n",
    "        c = u[1:m]\n",
    "        w = u[m+1:2m]\n",
    "        \n",
    "        #Calculate change of concentration due to diffusion\n",
    "        cdotDiff = A*c \n",
    "        \n",
    "        #Add in reaction terms\n",
    "        for i = 1:m-1\n",
    "            dudt[i] = cdotDiff[i] - kdash*c[i]*w[i]\n",
    "        end\n",
    "        dudt[m] = cdotDiff[m] - kdash*c[m]*w[m] + Ddash/h^2*Ss*p(t)\n",
    "        for i = m+1:2m\n",
    "            dudt[i] = f(c[i-m],w[i-m])\n",
    "        end\n",
    "    end\n",
    "\n",
    "    #Initial Conditions and timespan\n",
    "    u0 = [c0*ones(m);w0*ones(m)]\n",
    "    tspan = (0.0,tf)\n",
    "\n",
    "    #Define and solve problem\n",
    "    prob = ODEProblem(maintemp,u0,tspan)\n",
    "    sol = solve(prob, ImplicitEuler(),dt=1/2^4);\n",
    "    return sol\n",
    "end"
   ]
  },
  {
   "cell_type": "code",
   "execution_count": 37,
   "metadata": {
    "collapsed": false
   },
   "outputs": [
    {
     "name": "stderr",
     "output_type": "stream",
     "text": [
      "WARNING: Method definition p(Any) in module Main at In[32]:5 overwritten at In[37]:9.\n"
     ]
    },
    {
     "ename": "LoadError",
     "evalue": "UndefVarError: MonolithMTZintime not defined",
     "output_type": "error",
     "traceback": [
      "UndefVarError: MonolithMTZintime not defined",
      ""
     ]
    }
   ],
   "source": [
    "#Example with reasonably realistic values.\n",
    "\n",
    "L = 6e-2        #m\n",
    "k2 = 20.0       #m3/mol.s      Taken at infinite dilution from confirmation report.\n",
    "Ss = 5.67e-4    #mol/Pa.m3     From http://onlinelibrary.wiley.com/doi/10.1002/(SICI)1099-0488(20000201)38:3%3C415::AID-POLB8%3E3.0.CO;2-Z/full Good references at \"Gas permeability, diffusivity and solubility of nitrogen, helium, methane, carbon dioxide and formaldehyde in dense polymeric membranes using a new on-line permeation apparatus\"\n",
    "Sl = 2.88e-4    #mol/Pa.m3     From Vericella (2015) See also confirmation report\n",
    "Ds = 2.2e-9     #m2/s          From http://onlinelibrary.wiley.com/doi/10.1002/(SICI)1099-0488(20000201)38:3%3C415::AID-POLB8%3E3.0.CO;2-Z/full Good references at \"Gas permeability, diffusivity and solubility of nitrogen, helium, methane, carbon dioxide and formaldehyde in dense polymeric membranes using a new on-line permeation apparatus\"\n",
    "Dl = 1.78e-9    #m2/s          From Vericella (2015) See also confirmation report\n",
    "p(t) = 101300     #Pa            Consider 10% CO2 environment.\n",
    "tf = 9000.0      #s \n",
    "ɛ_p = 0.5       #              Voidage of SIPS material.\n",
    "\n",
    "#This function is a little subtle. See my workbook, after p. 8\n",
    "ftemp = function (c,w)\n",
    "   #Data for Function\n",
    "    Keq = 5.0                    #m3/mol   Calculate in more detail later. Sourced from http://clas.sa.ucsb.edu/staff/Resource%20Folder/Chem109ABC/Acid,%20Base%20Strength/Table%20of%20Acids%20w%20Kas%20and%20pKas.pdf\n",
    "    cKion = 6000                 #mol/m3. Based on 0.3mol/L solution of K2CO3\n",
    "    nco2dot = k2*c*Sl/Ss*w       #mol/m3.s    Rate of reaction of CO2\n",
    "    ξdot = 2*nco2dot/cKion       #1/s. Rate of change of loading\n",
    "    ξ = 1/(1+2Keq*w)             #loading\n",
    "    wdot = -ξdot/(2*Keq*ξ^2)     #mol/m3.s Rate of change of OH- concentration\n",
    "    return wdot\n",
    "end\n",
    "w_initial = 1e-1;     #Initial OH- concentration, mol/m3\n",
    "m = 50\n",
    "\n",
    "@time (sol, qbar_0) = MonolithMTZintime(ftemp,δ,tf,w_initial,k2,Ss,Sl,Ds,Dl,ɛ_p,m,p_0)\n",
    "@time sol                   = LinearSIP(ftemp,L,tf,p,c0,w0,k2,Ss,Sl,Ds,Dl,ɛ,m)\n",
    "#Convert to length-scale\n",
    "w = 5*δ         #m             Width of monolith cell\n",
    "v = 1         #m/s           Superficial Gas Velocity\n",
    "T = 300         #K             Temperature of flue gas\n",
    "R = 8.314       #J/mol.K       Universal gas constant\n",
    "ɛ = (w-2δ)/(w+2δ)             #Bulk Voidage inside bed\n",
    "β = ɛ*v/(ɛ+(1-ɛ)*qbar_0/(p_0/(R*T)))    #Velocity of MTZ\n",
    "MTZinspace(z) = sol(z/β)[2m+1]/(δ*qbar_0)      #Function for q/qbar_0 in space (constant pattern)"
   ]
  }
 ],
 "metadata": {
  "kernelspec": {
   "display_name": "Julia 0.5.1",
   "language": "julia",
   "name": "julia-0.5"
  },
  "language_info": {
   "file_extension": ".jl",
   "mimetype": "application/julia",
   "name": "julia",
   "version": "0.5.1"
  }
 },
 "nbformat": 4,
 "nbformat_minor": 2
}
